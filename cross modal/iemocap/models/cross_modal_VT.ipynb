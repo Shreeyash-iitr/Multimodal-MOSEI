{
  "nbformat": 4,
  "nbformat_minor": 0,
  "metadata": {
    "colab": {
      "name": "cross_modal_VT.ipynb",
      "version": "0.3.2",
      "provenance": []
    },
    "kernelspec": {
      "name": "python3",
      "display_name": "Python 3"
    },
    "accelerator": "GPU"
  },
  "cells": [
    {
      "cell_type": "code",
      "metadata": {
        "id": "bTFwZg6ZzwGp",
        "colab_type": "code",
        "colab": {
          "base_uri": "https://localhost:8080/",
          "height": 208
        },
        "outputId": "931a214f-04e9-430a-fd53-9a58b56a745b"
      },
      "source": [
        "!wget \"http://immortal.multicomp.cs.cmu.edu/raw_datasets/old_processed_data/iemocap/data.zip\""
      ],
      "execution_count": 1,
      "outputs": [
        {
          "output_type": "stream",
          "text": [
            "--2019-07-15 08:46:27--  http://immortal.multicomp.cs.cmu.edu/raw_datasets/old_processed_data/iemocap/data.zip\n",
            "Resolving immortal.multicomp.cs.cmu.edu (immortal.multicomp.cs.cmu.edu)... 128.2.211.216\n",
            "Connecting to immortal.multicomp.cs.cmu.edu (immortal.multicomp.cs.cmu.edu)|128.2.211.216|:80... connected.\n",
            "HTTP request sent, awaiting response... 200 OK\n",
            "Length: 311438653 (297M) [application/zip]\n",
            "Saving to: ‘data.zip’\n",
            "\n",
            "data.zip            100%[===================>] 297.01M  29.8MB/s    in 10s     \n",
            "\n",
            "2019-07-15 08:46:42 (29.1 MB/s) - ‘data.zip’ saved [311438653/311438653]\n",
            "\n"
          ],
          "name": "stdout"
        }
      ]
    },
    {
      "cell_type": "code",
      "metadata": {
        "id": "NkCsJSNoz4fc",
        "colab_type": "code",
        "colab": {
          "base_uri": "https://localhost:8080/",
          "height": 260
        },
        "outputId": "1b8915d5-1569-4243-fa0f-2b8f09f0430c"
      },
      "source": [
        "!unzip -P \"hello_iemocap_2008\" data.zip"
      ],
      "execution_count": 2,
      "outputs": [
        {
          "output_type": "stream",
          "text": [
            "Archive:  data.zip\n",
            "   creating: data/\n",
            "  inflating: data/facet_valid.p      \n",
            "  inflating: data/facet_test.p       \n",
            "  inflating: data/covarep_test.p     \n",
            "  inflating: data/facet_train.p      \n",
            "  inflating: data/text_train.p       \n",
            "  inflating: data/y_test.p           \n",
            "  inflating: data/text_test.p        \n",
            "  inflating: data/text_valid.p       \n",
            "  inflating: data/covarep_valid.p    \n",
            "  inflating: data/y_valid.p          \n",
            "  inflating: data/y_train.p          \n",
            "  inflating: data/covarep_train.p    \n"
          ],
          "name": "stdout"
        }
      ]
    },
    {
      "cell_type": "code",
      "metadata": {
        "id": "8MUqOc6uz6Tb",
        "colab_type": "code",
        "colab": {
          "base_uri": "https://localhost:8080/",
          "height": 35
        },
        "outputId": "0749449b-8645-4072-c260-7298ef5c2f91"
      },
      "source": [
        "import pandas as pd\n",
        "import numpy as np\n",
        "import h5py\n",
        "import torchvision\n",
        "import torchsummary\n",
        "from torch.autograd import Variable\n",
        "import torch\n",
        "from sklearn.decomposition import PCA\n",
        "import torch.nn as nn\n",
        "import torch.nn.functional as F\n",
        "from torchsummary import summary\n",
        "from keras.models import load_model\n",
        "import numpy as np\n",
        "import matplotlib.pyplot as plt\n",
        "import seaborn as sn\n",
        "import pandas as pd\n",
        "from random import sample\n",
        "from sklearn.model_selection import train_test_split\n",
        "from sklearn.metrics import confusion_matrix, f1_score, classification_report\n",
        "from sklearn.utils.multiclass import unique_labels\n",
        "import keras\n",
        "import tensorflow as tf\n",
        "from time import time\n",
        "import scipy\n",
        "import matplotlib.pyplot as plt\n",
        "from keras import layers\n",
        "from google.colab import files\t\n",
        "from keras.models import load_model\n",
        "from keras.models import Model,Sequential,Model\n",
        "from keras.layers import *\n",
        "from keras.callbacks import TensorBoard\n",
        "import matplotlib.pyplot as plt\n",
        "from keras import callbacks\n",
        "from keras.callbacks import *\n",
        "%matplotlib inline"
      ],
      "execution_count": 3,
      "outputs": [
        {
          "output_type": "stream",
          "text": [
            "Using TensorFlow backend.\n"
          ],
          "name": "stderr"
        }
      ]
    },
    {
      "cell_type": "code",
      "metadata": {
        "id": "WfsI-PRmz-gj",
        "colab_type": "code",
        "colab": {
          "base_uri": "https://localhost:8080/",
          "height": 87
        },
        "outputId": "255082e2-c032-4eba-f127-51c0b62d97c3"
      },
      "source": [
        "import pickle\n",
        "\n",
        "Train_video = pickle.load(open(\"data/facet_train.p\",'rb'),encoding='latin1')\n",
        "Test_video = pickle.load(open(\"data/facet_test.p\",'rb'),encoding='latin1')\n",
        "Valid_video = pickle.load(open(\"data/facet_valid.p\",'rb'),encoding='latin1')\n",
        "\n",
        "Train_text = pickle.load(open(\"data/text_train.p\",'rb'),encoding='latin1')\n",
        "Test_text = pickle.load(open(\"data/text_test.p\",'rb'),encoding='latin1')\n",
        "Valid_text = pickle.load(open(\"data/text_valid.p\",'rb'),encoding='latin1')\n",
        "\n",
        "Train_audio = pickle.load(open(\"data/covarep_train.p\",'rb'),encoding='latin1')\n",
        "Test_audio = pickle.load(open(\"data/covarep_test.p\",'rb'),encoding='latin1')\n",
        "Valid_audio = pickle.load(open(\"data/covarep_valid.p\",'rb'),encoding='latin1')\n",
        "\n",
        "Y_train =  pickle.load(open(\"data/y_train.p\",'rb'),encoding='latin1')\n",
        "Y_test =  pickle.load(open(\"data/y_test.p\",'rb'),encoding='latin1')\n",
        "Y_valid =  pickle.load(open(\"data/y_valid.p\",'rb'),encoding='latin1')\n",
        "\n",
        "Y_train = Y_train[:,1:-1]  # selecting only emotion label and ignoring others and unknown\n",
        "Y_test = Y_test[:,1:-1]    # regarding 11 features:\n",
        "Y_valid = Y_valid[:,1:-1]  # Other Anger Excited Fear Sad Surprised Frustrated Happy Neutral Disgust (unknown)\n",
        "\n",
        "Y_train = Y_train[:,[0,1,3,5,6,7]]\n",
        "Y_test = Y_test[:,[0,1,3,5,6,7]]\n",
        "Y_valid = Y_valid[:,[0,1,3,5,6,7]]\n",
        "target_names = ['Anger','Excited','Sad','Frustrated','Happy','Neutral']\n",
        "map = {0:\"Anger\",1:\"Excited\",2:\"Fear\",3:\"Sad\",4:\"Surprised\",5:\"Frustrated\",6:\"Happy\",7:\"Neutral\",8:\"Disgust\"}\n",
        "\n",
        "\n",
        "print(Train_video.shape,Test_video.shape,Valid_video.shape)\n",
        "print(Train_text.shape,Test_text.shape,Valid_text.shape)\n",
        "print(Train_audio.shape,Test_audio.shape,Valid_audio.shape)\n",
        "print(Y_train.shape,Y_test.shape,Y_valid.shape)"
      ],
      "execution_count": 4,
      "outputs": [
        {
          "output_type": "stream",
          "text": [
            "(6373, 21, 35) (1807, 21, 35) (1775, 21, 35)\n",
            "(6373, 21, 300) (1807, 21, 300) (1775, 21, 300)\n",
            "(6373, 21, 74) (1807, 21, 74) (1775, 21, 74)\n",
            "(6373, 6) (1807, 6) (1775, 6)\n"
          ],
          "name": "stdout"
        }
      ]
    },
    {
      "cell_type": "code",
      "metadata": {
        "id": "orM7g34S0A8p",
        "colab_type": "code",
        "colab": {
          "base_uri": "https://localhost:8080/",
          "height": 35
        },
        "outputId": "a57bcee4-3b78-40a2-ca69-90165b560714"
      },
      "source": [
        "concat_audio = np.concatenate((Train_audio,Valid_audio),axis=0)\n",
        "concat_text = np.concatenate((Train_text,Valid_text),axis=0)\n",
        "concat_video = np.concatenate((Train_video,Valid_video),axis=0)\n",
        "\n",
        "Y_concat = np.concatenate((Y_train,Y_valid),axis=0)\n",
        "print(concat_audio.shape,concat_text.shape)"
      ],
      "execution_count": 5,
      "outputs": [
        {
          "output_type": "stream",
          "text": [
            "(8148, 21, 74) (8148, 21, 300)\n"
          ],
          "name": "stdout"
        }
      ]
    },
    {
      "cell_type": "code",
      "metadata": {
        "id": "T7I14Rdx0C4a",
        "colab_type": "code",
        "colab": {}
      },
      "source": [
        "concat_audio = torch.from_numpy(concat_audio).float().cuda()\n",
        "concat_text = torch.from_numpy(concat_text).float().cuda()\n",
        "concat_video = torch.from_numpy(concat_video).float().cuda()"
      ],
      "execution_count": 0,
      "outputs": []
    },
    {
      "cell_type": "code",
      "metadata": {
        "id": "dsa5PbCo0GB8",
        "colab_type": "code",
        "colab": {
          "base_uri": "https://localhost:8080/",
          "height": 139
        },
        "outputId": "4709a4c2-9394-4004-e607-fcd51e9e9631"
      },
      "source": [
        "class Text(nn.Module):\n",
        "    def __init__(self):\n",
        "        super(Text,self).__init__()\n",
        "        self.lstm1 = nn.LSTM(300,256,batch_first=True)\n",
        "        self.lstm2 = nn.LSTM(256,128,batch_first=True)\n",
        "        self.lstm3 = nn.LSTM(128,64,batch_first=True)\n",
        "        self.lstm4 = nn.LSTM(64,64,batch_first=True)\n",
        "        self.dense = nn.Linear(64,64)\n",
        "    def forward(self,data):\n",
        "        x,hc = self.lstm1(data)\n",
        "        x,hc = self.lstm2(x)\n",
        "        x,hc = self.lstm3(x)\n",
        "        x,hc = self.lstm4(x) \n",
        "        h,c = hc\n",
        "        x = F.relu(self.dense(h.squeeze()))\n",
        "        x = self.dense(x)\n",
        "        return x\n",
        "\n",
        "model_text = Text().cuda()\n",
        "print(model_text)\n",
        "\n",
        "# inputs = concat_text.cuda()\n",
        "# y=model(inputs)\n",
        "# print(y.size())\n"
      ],
      "execution_count": 11,
      "outputs": [
        {
          "output_type": "stream",
          "text": [
            "Text(\n",
            "  (lstm1): LSTM(300, 256, batch_first=True)\n",
            "  (lstm2): LSTM(256, 128, batch_first=True)\n",
            "  (lstm3): LSTM(128, 64, batch_first=True)\n",
            "  (lstm4): LSTM(64, 64, batch_first=True)\n",
            "  (dense): Linear(in_features=64, out_features=64, bias=True)\n",
            ")\n"
          ],
          "name": "stdout"
        }
      ]
    },
    {
      "cell_type": "code",
      "metadata": {
        "id": "__rCLdQN0L9e",
        "colab_type": "code",
        "colab": {
          "base_uri": "https://localhost:8080/",
          "height": 104
        },
        "outputId": "46788dc3-f966-4f88-9439-942f07fd71b2"
      },
      "source": [
        "class Video(nn.Module):\n",
        "    def __init__(self):\n",
        "        super(Video,self).__init__()\n",
        "        self.lstm1 = nn.LSTM(35,64,batch_first=True)\n",
        "        self.lstm2 = nn.LSTM(64,64,batch_first=True)\n",
        "        self.dense = nn.Linear(64,64)\n",
        "    def forward(self,data):\n",
        "        x,hc = self.lstm1(data)\n",
        "        x,hc = self.lstm2(x)\n",
        "        h,c = hc\n",
        "        x = F.relu(self.dense(h.squeeze()))\n",
        "        x = self.dense(x)\n",
        "        return x\n",
        "\n",
        "model_video = Video().cuda()\n",
        "print(model_video)\n",
        "\n",
        "# inputs = concat_text.cuda()\n",
        "# y=model(inputs)\n",
        "# print(y.size())"
      ],
      "execution_count": 12,
      "outputs": [
        {
          "output_type": "stream",
          "text": [
            "Video(\n",
            "  (lstm1): LSTM(35, 64, batch_first=True)\n",
            "  (lstm2): LSTM(64, 64, batch_first=True)\n",
            "  (dense): Linear(in_features=64, out_features=64, bias=True)\n",
            ")\n"
          ],
          "name": "stdout"
        }
      ]
    },
    {
      "cell_type": "code",
      "metadata": {
        "id": "tx88scg-0O7H",
        "colab_type": "code",
        "colab": {
          "base_uri": "https://localhost:8080/",
          "height": 725
        },
        "outputId": "245c8ded-2177-46cd-bc3c-1220efb0b2c4"
      },
      "source": [
        "loss = []\n",
        "cross_modal = []\n",
        "diversity = []\n",
        "fig_size = plt.rcParams[\"figure.figsize\"]\n",
        "fig_size[0] = 10\n",
        "fig_size[1] = 6\n",
        "plt.rcParams[\"figure.figsize\"] = fig_size\n",
        "distance = nn.CosineEmbeddingLoss()\n",
        "iterations = 20000\n",
        "optimizer_text = torch.optim.SGD(model_text.parameters(),weight_decay=0.0005,momentum=0.9,lr=0.01)\n",
        "optimizer_video = torch.optim.SGD(model_video.parameters(),weight_decay=0.0005,momentum=0.9,lr=0.01)\n",
        "\n",
        "for iteration in range(iterations):\n",
        "    \n",
        "\n",
        "    i,j = sample(range(0,8148),2)\n",
        "    \n",
        "    ti = torch.unsqueeze(concat_text[i],0).cuda()\n",
        "    tj = torch.unsqueeze(concat_text[j],0).cuda()\n",
        "    \n",
        "    vi = torch.unsqueeze(concat_video[i],0).cuda()\n",
        "    vj = torch.unsqueeze(concat_video[j],0).cuda()\n",
        "    \n",
        "    optimizer_text.zero_grad()\n",
        "    optimizer_video.zero_grad()\n",
        "    \n",
        "    xi = model_text(ti)\n",
        "    xj = model_text(tj)\n",
        "    \n",
        "    yi = model_video(vi)\n",
        "    yj = model_video(vj)\n",
        "    \n",
        "    xi = torch.unsqueeze(xi,0)\n",
        "    xj = torch.unsqueeze(xj,0)\n",
        "    \n",
        "    yi = torch.unsqueeze(yi,0)\n",
        "    yj = torch.unsqueeze(yj,0)\n",
        "\n",
        "    \n",
        "    cross_modal_loss = 0.5*(distance(xi,yi,torch.ones(1).cuda()) + distance(xj,yj,torch.ones(1).cuda()))\n",
        "    diversity_loss = -0.5*(distance(xi,xj,torch.ones(1).cuda()) + distance(yi,yj,torch.ones(1).cuda()))\n",
        "    \n",
        "    \n",
        "    total_loss = cross_modal_loss + diversity_loss\n",
        "    loss.append(total_loss)\n",
        "    cross_modal.append(cross_modal_loss)\n",
        "    diversity.append(diversity_loss)\n",
        "    \n",
        "    total_loss.backward()\n",
        "    optimizer_text.step()\n",
        "    optimizer_video.step()\n",
        "    \n",
        "    if(iteration%1000 == 0):\n",
        "        print(\"iteration :\",iteration,\" loss :\",total_loss.item())\n",
        "    \n",
        "plt.plot(loss[20:],'r',cross_modal[20:],'b',diversity[20:],'g')\n",
        "plt.show()"
      ],
      "execution_count": 13,
      "outputs": [
        {
          "output_type": "stream",
          "text": [
            "iteration : 0  loss : 0.9483983516693115\n",
            "iteration : 1000  loss : 2.086162567138672e-07\n",
            "iteration : 2000  loss : -3.814697265625e-06\n",
            "iteration : 3000  loss : 2.9802322387695312e-08\n",
            "iteration : 4000  loss : 7.152557373046875e-07\n",
            "iteration : 5000  loss : 1.1920928955078125e-07\n",
            "iteration : 6000  loss : -8.046627044677734e-07\n",
            "iteration : 7000  loss : -2.9802322387695312e-08\n",
            "iteration : 8000  loss : 4.76837158203125e-07\n",
            "iteration : 9000  loss : 0.0\n",
            "iteration : 10000  loss : 2.980232238769531e-07\n",
            "iteration : 11000  loss : 8.940696716308594e-08\n",
            "iteration : 12000  loss : 8.940696716308594e-08\n",
            "iteration : 13000  loss : 2.9802322387695312e-08\n",
            "iteration : 14000  loss : 2.9802322387695312e-08\n",
            "iteration : 15000  loss : 5.960464477539063e-08\n",
            "iteration : 16000  loss : 8.344650268554688e-07\n",
            "iteration : 17000  loss : -5.960464477539063e-08\n",
            "iteration : 18000  loss : 0.0\n",
            "iteration : 19000  loss : 1.1920928955078125e-07\n"
          ],
          "name": "stdout"
        },
        {
          "output_type": "display_data",
          "data": {
            "image/png": "[encoded data removed]",
            "text/plain": [
              "<Figure size 720x432 with 1 Axes>"
            ]
          },
          "metadata": {
            "tags": []
          }
        }
      ]
    },
    {
      "cell_type": "code",
      "metadata": {
        "id": "BVjwN94L0kiz",
        "colab_type": "code",
        "colab": {
          "base_uri": "https://localhost:8080/",
          "height": 379
        },
        "outputId": "69f0ae7e-d75f-425b-9ae6-0ec315982e66"
      },
      "source": [
        "plt.plot(loss[50:],'r',cross_modal[50:],'b',diversity[50:],'g')\n",
        "plt.show()"
      ],
      "execution_count": 20,
      "outputs": [
        {
          "output_type": "display_data",
          "data": {
            "image/png": "[encoded data removed]",
            "text/plain": [
              "<Figure size 720x432 with 1 Axes>"
            ]
          },
          "metadata": {
            "tags": []
          }
        }
      ]
    },
    {
      "cell_type": "code",
      "metadata": {
        "id": "OxawuH8l-Rem",
        "colab_type": "code",
        "colab": {}
      },
      "source": [
        "new_train_text = []\n",
        "new_test_text = []\n",
        "new_valid_text = []\n",
        "for i in range(Train_text.shape[0]):\n",
        "    new_train_text.append(model_text(torch.unsqueeze(torch.from_numpy(Train_text[i]).float().cuda(),0)).cpu().detach().numpy())\n",
        "for i in range(Test_text.shape[0]):\n",
        "    new_test_text.append(model_text(torch.unsqueeze(torch.from_numpy(Test_text[i]).float().cuda(),0)).cpu().detach().numpy())    \n",
        "for i in range(Valid_text.shape[0]):\n",
        "    new_valid_text.append(model_text(torch.unsqueeze(torch.from_numpy(Valid_text[i]).float().cuda(),0)).cpu().detach().numpy())\n",
        "    \n",
        "new_train_text = np.array(new_train_text)\n",
        "new_test_text = np.array(new_test_text)\n",
        "new_valid_text = np.array(new_valid_text)"
      ],
      "execution_count": 0,
      "outputs": []
    },
    {
      "cell_type": "code",
      "metadata": {
        "id": "OSrpMkumH4Z8",
        "colab_type": "code",
        "colab": {}
      },
      "source": [
        "new_train_video = []\n",
        "new_test_video = []\n",
        "new_valid_video = []\n",
        "for i in range(Train_video.shape[0]):\n",
        "    new_train_video.append(model_video(torch.unsqueeze(torch.from_numpy(Train_video[i]).float().cuda(),0)).cpu().detach().numpy())\n",
        "for i in range(Test_video.shape[0]):\n",
        "    new_test_video.append(model_video(torch.unsqueeze(torch.from_numpy(Test_video[i]).float().cuda(),0)).cpu().detach().numpy())    \n",
        "for i in range(Valid_video.shape[0]):\n",
        "    new_valid_video.append(model_video(torch.unsqueeze(torch.from_numpy(Valid_video[i]).float().cuda(),0)).cpu().detach().numpy())\n",
        "    \n",
        "new_train_video = np.array(new_train_video)\n",
        "new_test_video = np.array(new_test_video)\n",
        "new_valid_video = np.array(new_valid_video)"
      ],
      "execution_count": 0,
      "outputs": []
    },
    {
      "cell_type": "code",
      "metadata": {
        "id": "01g-gMtCH8sb",
        "colab_type": "code",
        "colab": {
          "base_uri": "https://localhost:8080/",
          "height": 35
        },
        "outputId": "9fc8a471-6c15-45dc-bea2-2cd43c4c90ad"
      },
      "source": [
        "new_concat_train = np.concatenate((new_train_video,new_train_text),axis=-1)\n",
        "new_concat_valid = np.concatenate((new_valid_video,new_valid_text),axis=-1)\n",
        "new_concat_test = np.concatenate((new_test_video,new_test_text),axis=-1)\n",
        "print(new_concat_train.shape)"
      ],
      "execution_count": 23,
      "outputs": [
        {
          "output_type": "stream",
          "text": [
            "(6373, 128)\n"
          ],
          "name": "stdout"
        }
      ]
    },
    {
      "cell_type": "code",
      "metadata": {
        "id": "p1iEovQTIGlc",
        "colab_type": "code",
        "colab": {
          "base_uri": "https://localhost:8080/",
          "height": 1000
        },
        "outputId": "056a735b-c905-4db0-d864-7795ea2911bf"
      },
      "source": [
        "i = Input(shape=(128,))\n",
        "x = Dense(64,activation='relu')(i)\n",
        "o = Dense(6,activation='softmax')(x)\n",
        "model = Model(i,o)\n",
        "model.compile('adam','categorical_crossentropy',metrics=['accuracy'])\n",
        "print(model.summary())\n",
        "es = EarlyStopping(monitor='val_acc',mode='max' ,patience=5, min_delta=0.0001,verbose=1)\n",
        "reduce_lr = ReduceLROnPlateau(monitor='val_acc', factor=0.2,patience=2,min_lr=0.00001)\n",
        "model.fit(new_concat_train,Y_train,128,epochs=100,validation_data=(new_concat_valid,Y_valid),callbacks=[es,reduce_lr])\n",
        "print(model.evaluate(new_concat_test,Y_test))\n",
        "\n",
        "\n",
        "print(\"###############################################################\")\n",
        "y_pred = np.argmax(model.predict(new_concat_test),axis=1)\n",
        "y_true = np.argmax(Y_test,axis=1)\n",
        "cm = confusion_matrix(y_true,y_pred)\n",
        "np.save(\"cm_audio.npy\",cm)\n",
        "df = pd.DataFrame(cm)\n",
        "plt.figure(figsize = (10,7),)\n",
        "print(\"UNIMODAL AUDIO RESULTS\")\n",
        "print(classification_report(y_true,y_pred,target_names=target_names))\n",
        "sn.heatmap(cm, annot=True,xticklabels=True,yticklabels=True)"
      ],
      "execution_count": 24,
      "outputs": [
        {
          "output_type": "stream",
          "text": [
            "WARNING: Logging before flag parsing goes to stderr.\n",
            "W0715 10:15:22.679722 139664392554368 deprecation_wrapper.py:119] From /usr/local/lib/python3.6/dist-packages/keras/backend/tensorflow_backend.py:74: The name tf.get_default_graph is deprecated. Please use tf.compat.v1.get_default_graph instead.\n",
            "\n",
            "W0715 10:15:22.716089 139664392554368 deprecation_wrapper.py:119] From /usr/local/lib/python3.6/dist-packages/keras/backend/tensorflow_backend.py:517: The name tf.placeholder is deprecated. Please use tf.compat.v1.placeholder instead.\n",
            "\n",
            "W0715 10:15:22.727122 139664392554368 deprecation_wrapper.py:119] From /usr/local/lib/python3.6/dist-packages/keras/backend/tensorflow_backend.py:4138: The name tf.random_uniform is deprecated. Please use tf.random.uniform instead.\n",
            "\n",
            "W0715 10:15:22.796236 139664392554368 deprecation_wrapper.py:119] From /usr/local/lib/python3.6/dist-packages/keras/optimizers.py:790: The name tf.train.Optimizer is deprecated. Please use tf.compat.v1.train.Optimizer instead.\n",
            "\n",
            "W0715 10:15:22.857666 139664392554368 deprecation_wrapper.py:119] From /usr/local/lib/python3.6/dist-packages/keras/backend/tensorflow_backend.py:3295: The name tf.log is deprecated. Please use tf.math.log instead.\n",
            "\n",
            "W0715 10:15:23.101485 139664392554368 deprecation.py:323] From /usr/local/lib/python3.6/dist-packages/tensorflow/python/ops/math_grad.py:1250: add_dispatch_support.<locals>.wrapper (from tensorflow.python.ops.array_ops) is deprecated and will be removed in a future version.\n",
            "Instructions for updating:\n",
            "Use tf.where in 2.0, which has the same broadcast rule as np.where\n"
          ],
          "name": "stderr"
        },
        {
          "output_type": "stream",
          "text": [
            "_________________________________________________________________\n",
            "Layer (type)                 Output Shape              Param #   \n",
            "=================================================================\n",
            "input_1 (InputLayer)         (None, 128)               0         \n",
            "_________________________________________________________________\n",
            "dense_1 (Dense)              (None, 64)                8256      \n",
            "_________________________________________________________________\n",
            "dense_2 (Dense)              (None, 6)                 390       \n",
            "=================================================================\n",
            "Total params: 8,646\n",
            "Trainable params: 8,646\n",
            "Non-trainable params: 0\n",
            "_________________________________________________________________\n",
            "None\n"
          ],
          "name": "stdout"
        },
        {
          "output_type": "stream",
          "text": [
            "W0715 10:15:23.208043 139664392554368 deprecation_wrapper.py:119] From /usr/local/lib/python3.6/dist-packages/keras/backend/tensorflow_backend.py:986: The name tf.assign_add is deprecated. Please use tf.compat.v1.assign_add instead.\n",
            "\n"
          ],
          "name": "stderr"
        },
        {
          "output_type": "stream",
          "text": [
            "Train on 6373 samples, validate on 1775 samples\n",
            "Epoch 1/100\n",
            "6373/6373 [==============================] - 2s 256us/step - loss: 1.2692 - acc: 0.1880 - val_loss: 1.2941 - val_acc: 0.1797\n",
            "Epoch 2/100\n",
            "6373/6373 [==============================] - 0s 63us/step - loss: 1.2574 - acc: 0.1938 - val_loss: 1.2913 - val_acc: 0.1797\n",
            "Epoch 3/100\n",
            "6373/6373 [==============================] - 0s 69us/step - loss: 1.2577 - acc: 0.1938 - val_loss: 1.2896 - val_acc: 0.1797\n",
            "Epoch 4/100\n",
            "6373/6373 [==============================] - 0s 74us/step - loss: 1.2571 - acc: 0.1938 - val_loss: 1.2907 - val_acc: 0.1797\n",
            "Epoch 5/100\n",
            "6373/6373 [==============================] - 0s 63us/step - loss: 1.2568 - acc: 0.1938 - val_loss: 1.2918 - val_acc: 0.1797\n",
            "Epoch 6/100\n",
            "6373/6373 [==============================] - 0s 62us/step - loss: 1.2566 - acc: 0.1938 - val_loss: 1.2917 - val_acc: 0.1797\n",
            "Epoch 00006: early stopping\n",
            "1807/1807 [==============================] - 0s 99us/step\n",
            "[1.3176419325935689, 0.15384615384615385]\n",
            "###############################################################\n",
            "UNIMODAL AUDIO RESULTS\n",
            "              precision    recall  f1-score   support\n",
            "\n",
            "       Anger       0.00      0.00      0.00       677\n",
            "     Excited       0.00      0.00      0.00       141\n",
            "         Sad       0.00      0.00      0.00       193\n",
            "  Frustrated       0.15      1.00      0.27       278\n",
            "       Happy       0.00      0.00      0.00       135\n",
            "     Neutral       0.00      0.00      0.00       383\n",
            "\n",
            "    accuracy                           0.15      1807\n",
            "   macro avg       0.03      0.17      0.04      1807\n",
            "weighted avg       0.02      0.15      0.04      1807\n",
            "\n"
          ],
          "name": "stdout"
        },
        {
          "output_type": "stream",
          "text": [
            "/usr/local/lib/python3.6/dist-packages/sklearn/metrics/classification.py:1437: UndefinedMetricWarning: Precision and F-score are ill-defined and being set to 0.0 in labels with no predicted samples.\n",
            "  'precision', 'predicted', average, warn_for)\n"
          ],
          "name": "stderr"
        },
        {
          "output_type": "execute_result",
          "data": {
            "text/plain": [
              "<matplotlib.axes._subplots.AxesSubplot at 0x7f056df21518>"
            ]
          },
          "metadata": {
            "tags": []
          },
          "execution_count": 24
        },
        {
          "output_type": "display_data",
          "data": {
            "image/png": "[encoded data removed]",
            "text/plain": [
              "<Figure size 720x504 with 2 Axes>"
            ]
          },
          "metadata": {
            "tags": []
          }
        }
      ]
    },
    {
      "cell_type": "code",
      "metadata": {
        "id": "hRyhPNEoIM_g",
        "colab_type": "code",
        "colab": {}
      },
      "source": [
        ""
      ],
      "execution_count": 0,
      "outputs": []
    }
  ]
}
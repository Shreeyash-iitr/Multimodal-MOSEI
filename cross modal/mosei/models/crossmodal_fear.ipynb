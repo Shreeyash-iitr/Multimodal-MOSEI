{
  "nbformat": 4,
  "nbformat_minor": 0,
  "metadata": {
    "colab": {
      "name": "crossmodal_fear.ipynb",
      "version": "0.3.2",
      "provenance": []
    },
    "kernelspec": {
      "name": "python3",
      "display_name": "Python 3"
    },
    "accelerator": "GPU"
  },
  "cells": [
    {
      "cell_type": "code",
      "metadata": {
        "id": "jPKuTskLW-zl",
        "colab_type": "code",
        "colab": {
          "base_uri": "https://localhost:8080/",
          "height": 312
        },
        "outputId": "88cca2b8-dccd-4214-bde9-5b0c3fc6c2a2"
      },
      "source": [
        "!nvidia-smi"
      ],
      "execution_count": 1,
      "outputs": [
        {
          "output_type": "stream",
          "text": [
            "Tue Jul 16 05:59:12 2019       \n",
            "+-----------------------------------------------------------------------------+\n",
            "| NVIDIA-SMI 418.67       Driver Version: 410.79       CUDA Version: 10.0     |\n",
            "|-------------------------------+----------------------+----------------------+\n",
            "| GPU  Name        Persistence-M| Bus-Id        Disp.A | Volatile Uncorr. ECC |\n",
            "| Fan  Temp  Perf  Pwr:Usage/Cap|         Memory-Usage | GPU-Util  Compute M. |\n",
            "|===============================+======================+======================|\n",
            "|   0  Tesla T4            Off  | 00000000:00:04.0 Off |                    0 |\n",
            "| N/A   55C    P8    17W /  70W |      0MiB / 15079MiB |      0%      Default |\n",
            "+-------------------------------+----------------------+----------------------+\n",
            "                                                                               \n",
            "+-----------------------------------------------------------------------------+\n",
            "| Processes:                                                       GPU Memory |\n",
            "|  GPU       PID   Type   Process name                             Usage      |\n",
            "|=============================================================================|\n",
            "|  No running processes found                                                 |\n",
            "+-----------------------------------------------------------------------------+\n"
          ],
          "name": "stdout"
        }
      ]
    },
    {
      "cell_type": "code",
      "metadata": {
        "id": "3TQ2j4lEXKZI",
        "colab_type": "code",
        "colab": {
          "base_uri": "https://localhost:8080/",
          "height": 156
        },
        "outputId": "caa0aff2-c54b-4918-f077-348db2950fb0"
      },
      "source": [
        "!git clone \"https://github.com/convman/Multimodal-MOSEI.git\""
      ],
      "execution_count": 2,
      "outputs": [
        {
          "output_type": "stream",
          "text": [
            "Cloning into 'Multimodal-MOSEI'...\n",
            "remote: Enumerating objects: 35, done.\u001b[K\n",
            "remote: Counting objects: 100% (35/35), done.\u001b[K\n",
            "remote: Compressing objects: 100% (34/34), done.\u001b[K\n",
            "remote: Total 501 (delta 3), reused 0 (delta 0), pack-reused 466\u001b[K\n",
            "Receiving objects: 100% (501/501), 901.82 MiB | 40.56 MiB/s, done.\n",
            "Resolving deltas: 100% (178/178), done.\n",
            "Checking out files: 100% (279/279), done.\n"
          ],
          "name": "stdout"
        }
      ]
    },
    {
      "cell_type": "code",
      "metadata": {
        "id": "bRwFdOIMXMs7",
        "colab_type": "code",
        "colab": {
          "base_uri": "https://localhost:8080/",
          "height": 35
        },
        "outputId": "5db1234e-79df-41e6-8d0b-89f94acb85ad"
      },
      "source": [
        "cd Multimodal-MOSEI/"
      ],
      "execution_count": 3,
      "outputs": [
        {
          "output_type": "stream",
          "text": [
            "/content/Multimodal-MOSEI\n"
          ],
          "name": "stdout"
        }
      ]
    },
    {
      "cell_type": "code",
      "metadata": {
        "id": "Byqnt2ssXPFC",
        "colab_type": "code",
        "colab": {
          "base_uri": "https://localhost:8080/",
          "height": 87
        },
        "outputId": "5e758ead-463b-4bc2-d7ac-6d202f5e05ef"
      },
      "source": [
        "ls"
      ],
      "execution_count": 4,
      "outputs": [
        {
          "output_type": "stream",
          "text": [
            "\u001b[0m\u001b[01;34m'cross modal'\u001b[0m/   LICENSE                       \u001b[01;34msentiment\u001b[0m/\n",
            " \u001b[01;34mdata\u001b[0m/          'MOSEI baseline results.png'   \u001b[01;34mSOF\u001b[0m/\n",
            " \u001b[01;34miemocap\u001b[0m/       \u001b[01;34m'multimodal baselines'\u001b[0m/       \u001b[01;34m'unimodal baselines'\u001b[0m/\n",
            "\u001b[01;34m'iemocap sdk'\u001b[0m/   README.md\n"
          ],
          "name": "stdout"
        }
      ]
    },
    {
      "cell_type": "code",
      "metadata": {
        "id": "M_gSVkBvXQdn",
        "colab_type": "code",
        "colab": {}
      },
      "source": [
        "!chmod +x data/dataset_download.sh\n",
        "!./data/dataset_download.sh"
      ],
      "execution_count": 0,
      "outputs": []
    },
    {
      "cell_type": "code",
      "metadata": {
        "id": "gYc1wNPeXTy_",
        "colab_type": "code",
        "colab": {
          "base_uri": "https://localhost:8080/",
          "height": 35
        },
        "outputId": "36ba1f7b-f394-431c-d8f5-616a6ad37785"
      },
      "source": [
        "import pandas as pd\n",
        "import numpy as np\n",
        "import h5py\n",
        "import torchvision\n",
        "import torchsummary\n",
        "from torch.autograd import Variable\n",
        "import torch\n",
        "from sklearn.decomposition import PCA\n",
        "import torch.nn as nn\n",
        "import torch.nn.functional as F\n",
        "from torchsummary import summary\n",
        "from keras.models import load_model\n",
        "import numpy as np\n",
        "import matplotlib.pyplot as plt\n",
        "import seaborn as sn\n",
        "import pandas as pd\n",
        "from random import sample\n",
        "from sklearn.model_selection import train_test_split\n",
        "from sklearn.metrics import confusion_matrix, f1_score, classification_report\n",
        "from sklearn.utils.multiclass import unique_labels\n",
        "import keras\n",
        "import tensorflow as tf\n",
        "from time import time\n",
        "import scipy\n",
        "import matplotlib.pyplot as plt\n",
        "from mpl_toolkits.mplot3d import Axes3D\n",
        "from keras import layers\n",
        "from google.colab import files\t\n",
        "from keras.models import load_model\n",
        "from keras.models import Model,Sequential,Model\n",
        "from keras.layers import *\n",
        "from keras.callbacks import TensorBoard\n",
        "import matplotlib.pyplot as plt\n",
        "from keras import callbacks\n",
        "from keras.callbacks import *\n",
        "%matplotlib inline"
      ],
      "execution_count": 6,
      "outputs": [
        {
          "output_type": "stream",
          "text": [
            "Using TensorFlow backend.\n"
          ],
          "name": "stderr"
        }
      ]
    },
    {
      "cell_type": "code",
      "metadata": {
        "id": "8COVAPwIXWYu",
        "colab_type": "code",
        "colab": {
          "base_uri": "https://localhost:8080/",
          "height": 35
        },
        "outputId": "d96a6368-3ee8-4cc8-bb17-0301026aa284"
      },
      "source": [
        "import pandas as pd\n",
        "import numpy as np\n",
        "import h5py\n",
        "\n",
        "Test_labels_fear = pd.read_csv(\"mosi2uni_Test_labels_fear.csv\",header=None)\n",
        "Train_labels_fear = pd.read_csv(\"mosi2uni_Train_labels_fear.csv\",header=None)\n",
        "\n",
        "video_train = h5py.File(\"video_train.h5\",\"r\")\n",
        "video_train = np.array(video_train.get('d1'))\n",
        "\n",
        "video_test = h5py.File(\"video_test.h5\",\"r\")\n",
        "video_test = np.array(video_test.get('d1'))\n",
        "\n",
        "audio_train = h5py.File(\"audio_train.h5\",\"r\")\n",
        "audio_train = np.array(audio_train.get('d1'))\n",
        "\n",
        "audio_test = h5py.File(\"audio_test.h5\",\"r\")\n",
        "audio_test = np.array(audio_test.get('d1'))\n",
        "\n",
        "text_train = h5py.File(\"text_train_emb.h5\",\"r\")\n",
        "text_train = np.array(text_train.get('d1'))\n",
        "\n",
        "text_test = h5py.File(\"text_test_emb.h5\",\"r\")\n",
        "text_test = np.array(text_test.get('d1'))\n",
        "\n",
        "\n",
        "print(video_train.shape, text_train.shape, audio_train.shape)"
      ],
      "execution_count": 9,
      "outputs": [
        {
          "output_type": "stream",
          "text": [
            "(15290, 20, 35) (15290, 20, 300) (15290, 20, 74)\n"
          ],
          "name": "stdout"
        }
      ]
    },
    {
      "cell_type": "code",
      "metadata": {
        "id": "VYD6kUZJYH4U",
        "colab_type": "code",
        "colab": {}
      },
      "source": [
        "Train_audio = torch.from_numpy(audio_train).float().cuda()\n",
        "Train_text = torch.from_numpy(text_train).float().cuda()"
      ],
      "execution_count": 0,
      "outputs": []
    },
    {
      "cell_type": "code",
      "metadata": {
        "id": "SCbGhlAAXYc7",
        "colab_type": "code",
        "colab": {}
      },
      "source": [
        "class Audio(nn.Module):\n",
        "    def __init__(self):\n",
        "        super(Audio,self).__init__()\n",
        "        self.lstm1 = nn.LSTM(74,256,batch_first=True)\n",
        "#         self.lstm2 = nn.LSTM(256,256,batch_first=True)\n",
        "        self.lstm3 = nn.LSTM(256,128,batch_first=True)\n",
        "#         self.lstm4 = nn.LSTM(128,128,batch_first=True)\n",
        "        self.lstm5 = nn.LSTM(128,64,batch_first=True)\n",
        "#         self.lstm6 = nn.LSTM(64,64,batch_first=True)\n",
        "        self.lstm7 = nn.LSTM(64,32,batch_first=True)\n",
        "#         self.lstm8 = nn.LSTM(32,32,batch_first=True)\n",
        "        self.dense = nn.Linear(32,32)\n",
        "    def forward(self,data):\n",
        "        x,hc = self.lstm1(data)\n",
        "#         x,hc = self.lstm2(x)\n",
        "        x,hc = self.lstm3(x)\n",
        "#         x,hc = self.lstm4(x)\n",
        "        x,hc = self.lstm5(x)\n",
        "#         x,hc = self.lstm6(x)\n",
        "        x,hc = self.lstm7(x)\n",
        "#         x,hc = self.lstm8(x)\n",
        "        h,c = hc\n",
        "        x = F.relu(self.dense(h.squeeze()))\n",
        "        x = self.dense(x)\n",
        "        return x"
      ],
      "execution_count": 0,
      "outputs": []
    },
    {
      "cell_type": "code",
      "metadata": {
        "id": "cCPeI4uGX9Jx",
        "colab_type": "code",
        "colab": {}
      },
      "source": [
        "class Text(nn.Module):\n",
        "    def __init__(self):\n",
        "        super(Text,self).__init__()\n",
        "        self.lstm1 = nn.LSTM(300,256,batch_first=True)\n",
        "#         self.lstm2 = nn.LSTM(256,256,batch_first=True)\n",
        "        self.lstm3 = nn.LSTM(256,128,batch_first=True)\n",
        "#         self.lstm4 = nn.LSTM(128,128,batch_first=True)\n",
        "        self.lstm5 = nn.LSTM(128,64,batch_first=True)\n",
        "#         self.lstm6 = nn.LSTM(64,64,batch_first=True)\n",
        "        self.lstm7 = nn.LSTM(64,32,batch_first=True)\n",
        "#         self.lstm8 = nn.LSTM(32,32,batch_first=True)\n",
        "        self.dense = nn.Linear(32,32)\n",
        "    def forward(self,data):\n",
        "        x,hc = self.lstm1(data)\n",
        "#         x,hc = self.lstm2(x)\n",
        "        x,hc = self.lstm3(x)\n",
        "#         x,hc = self.lstm4(x)\n",
        "        x,hc = self.lstm5(x)\n",
        "#         x,hc = self.lstm6(x)\n",
        "        x,hc = self.lstm7(x)\n",
        "#         x,hc = self.lstm8(x)\n",
        "        h,c = hc\n",
        "        x = F.relu(self.dense(h.squeeze()))\n",
        "        x = self.dense(x)\n",
        "        return x\n"
      ],
      "execution_count": 0,
      "outputs": []
    },
    {
      "cell_type": "code",
      "metadata": {
        "id": "Sj4eXLwFX_oM",
        "colab_type": "code",
        "colab": {
          "base_uri": "https://localhost:8080/",
          "height": 295
        },
        "outputId": "7902995b-0df7-4cf0-d6e4-5ae63e5c32b3"
      },
      "source": [
        "!nvidia-smi"
      ],
      "execution_count": 14,
      "outputs": [
        {
          "output_type": "stream",
          "text": [
            "Tue Jul 16 06:03:30 2019       \n",
            "+-----------------------------------------------------------------------------+\n",
            "| NVIDIA-SMI 418.67       Driver Version: 410.79       CUDA Version: 10.0     |\n",
            "|-------------------------------+----------------------+----------------------+\n",
            "| GPU  Name        Persistence-M| Bus-Id        Disp.A | Volatile Uncorr. ECC |\n",
            "| Fan  Temp  Perf  Pwr:Usage/Cap|         Memory-Usage | GPU-Util  Compute M. |\n",
            "|===============================+======================+======================|\n",
            "|   0  Tesla T4            Off  | 00000000:00:04.0 Off |                    0 |\n",
            "| N/A   46C    P0    28W /  70W |   1207MiB / 15079MiB |      0%      Default |\n",
            "+-------------------------------+----------------------+----------------------+\n",
            "                                                                               \n",
            "+-----------------------------------------------------------------------------+\n",
            "| Processes:                                                       GPU Memory |\n",
            "|  GPU       PID   Type   Process name                             Usage      |\n",
            "|=============================================================================|\n",
            "+-----------------------------------------------------------------------------+\n"
          ],
          "name": "stdout"
        }
      ]
    },
    {
      "cell_type": "code",
      "metadata": {
        "id": "rq9eG9YmYCjz",
        "colab_type": "code",
        "colab": {
          "base_uri": "https://localhost:8080/",
          "height": 552
        },
        "outputId": "9ed069ce-174d-47f4-aece-5a4b373386a3"
      },
      "source": [
        "model_text = Text().cuda()\n",
        "model_audio = Audio().cuda()\n",
        "\n",
        "loss = []\n",
        "cross_modal = []\n",
        "diversity = []\n",
        "fig_size = plt.rcParams[\"figure.figsize\"]\n",
        "fig_size[0] = 10\n",
        "fig_size[1] = 6\n",
        "plt.rcParams[\"figure.figsize\"] = fig_size\n",
        "distance = nn.CosineEmbeddingLoss()\n",
        "iterations = 1000\n",
        "optimizer_audio = torch.optim.SGD(model_audio.parameters(),weight_decay=0.0005,momentum=0.9,lr=0.01)\n",
        "optimizer_text = torch.optim.SGD(model_text.parameters(),weight_decay=0.0005,momentum=0.9,lr=0.01)\n",
        "# optimizer_video = torch.optim.SGD(model_video.parameters(),weight_decay=0.0005,momentum=0.9,lr=0.01)\n",
        "\n",
        "for iteration in range(iterations):\n",
        "    \n",
        "\n",
        "    i,j = sample(range(0,15290),2)\n",
        "    \n",
        "    ai = torch.unsqueeze(Train_audio[i],0).cuda()\n",
        "    aj = torch.unsqueeze(Train_audio[j],0).cuda()\n",
        "    \n",
        "    ti = torch.unsqueeze(Train_text[i],0).cuda()\n",
        "    tj = torch.unsqueeze(Train_text[j],0).cuda()\n",
        "    \n",
        "    optimizer_audio.zero_grad()\n",
        "    optimizer_text.zero_grad()\n",
        "    \n",
        "    xi = model_audio(ai)\n",
        "    xj = model_audio(aj)\n",
        "    \n",
        "    yi = model_text(ti)\n",
        "    yj = model_text(tj)\n",
        "    \n",
        "    xi = torch.unsqueeze(xi,0)\n",
        "    xj = torch.unsqueeze(xj,0)\n",
        "    \n",
        "    yi = torch.unsqueeze(yi,0)\n",
        "    yj = torch.unsqueeze(yj,0)\n",
        "\n",
        "    \n",
        "    cross_modal_loss1 = distance(xi,yi,torch.ones(1).cuda()) \n",
        "    cross_modal_loss2 = distance(xj,yj,torch.ones(1).cuda())\n",
        "    diversity_loss1 = -distance(xi,xj,torch.ones(1).cuda()) \n",
        "    diversity_loss2 = -distance(yi,yj,torch.ones(1).cuda())\n",
        "    \n",
        "    \n",
        "    total_loss = 0.5*(cross_modal_loss1 + cross_modal_loss2 + diversity_loss1 + diversity_loss2)\n",
        "    loss.append(total_loss.item())\n",
        "    cross_modal.append(cross_modal_loss1.item()+cross_modal_loss2.item())\n",
        "    diversity.append(diversity_loss1.item()+diversity_loss2.item())\n",
        "    \n",
        "    total_loss.backward()\n",
        "    optimizer_audio.step()\n",
        "    optimizer_text.step()\n",
        "    \n",
        "    if(iteration%100 == 0):\n",
        "        print(\"iteration :\",iteration,\" loss :\",total_loss.item())\n",
        "    \n",
        "#     del ai,aj,ti,tj,xi,xj,yi,yj\n",
        "#     del total_loss,cross_modal_loss1,cross_modal_loss2,diversity_loss1,diversity_loss2\n",
        "#     torch.cuda.empty_cache()\n",
        "    \n",
        "    \n",
        "    \n",
        "plt.plot(loss,'r',cross_modal,'b',diversity,'g')\n",
        "plt.show()"
      ],
      "execution_count": 15,
      "outputs": [
        {
          "output_type": "stream",
          "text": [
            "iteration : 0  loss : 1.1282165050506592\n",
            "iteration : 100  loss : 3.808736801147461e-05\n",
            "iteration : 200  loss : 1.290440559387207e-05\n",
            "iteration : 300  loss : -0.0001710653305053711\n",
            "iteration : 400  loss : 8.344650268554688e-07\n",
            "iteration : 500  loss : 0.0003046393394470215\n",
            "iteration : 600  loss : -0.00015047192573547363\n",
            "iteration : 700  loss : 0.00019869208335876465\n",
            "iteration : 800  loss : 6.312131881713867e-05\n",
            "iteration : 900  loss : 0.0001761019229888916\n"
          ],
          "name": "stdout"
        },
        {
          "output_type": "display_data",
          "data": {
            "image/png": "[encoded data removed]",
            "text/plain": [
              "<Figure size 720x432 with 1 Axes>"
            ]
          },
          "metadata": {
            "tags": []
          }
        }
      ]
    },
    {
      "cell_type": "code",
      "metadata": {
        "id": "ZvKyeOm6YZuc",
        "colab_type": "code",
        "colab": {
          "base_uri": "https://localhost:8080/",
          "height": 295
        },
        "outputId": "86de421a-1c8b-45cc-cb05-19a516433ec8"
      },
      "source": [
        "!nvidia-smi"
      ],
      "execution_count": 16,
      "outputs": [
        {
          "output_type": "stream",
          "text": [
            "Tue Jul 16 06:04:57 2019       \n",
            "+-----------------------------------------------------------------------------+\n",
            "| NVIDIA-SMI 418.67       Driver Version: 410.79       CUDA Version: 10.0     |\n",
            "|-------------------------------+----------------------+----------------------+\n",
            "| GPU  Name        Persistence-M| Bus-Id        Disp.A | Volatile Uncorr. ECC |\n",
            "| Fan  Temp  Perf  Pwr:Usage/Cap|         Memory-Usage | GPU-Util  Compute M. |\n",
            "|===============================+======================+======================|\n",
            "|   0  Tesla T4            Off  | 00000000:00:04.0 Off |                    0 |\n",
            "| N/A   53C    P0    29W /  70W |   1251MiB / 15079MiB |      0%      Default |\n",
            "+-------------------------------+----------------------+----------------------+\n",
            "                                                                               \n",
            "+-----------------------------------------------------------------------------+\n",
            "| Processes:                                                       GPU Memory |\n",
            "|  GPU       PID   Type   Process name                             Usage      |\n",
            "|=============================================================================|\n",
            "+-----------------------------------------------------------------------------+\n"
          ],
          "name": "stdout"
        }
      ]
    },
    {
      "cell_type": "code",
      "metadata": {
        "id": "0i4jE8SUYgfp",
        "colab_type": "code",
        "colab": {
          "base_uri": "https://localhost:8080/",
          "height": 379
        },
        "outputId": "aa4d862c-bc9a-44bd-c9bf-1456034ca0f7"
      },
      "source": [
        "plt.plot(loss[:100],'r',cross_modal[:100],'b',diversity[:100],'g')\n",
        "plt.show()"
      ],
      "execution_count": 17,
      "outputs": [
        {
          "output_type": "display_data",
          "data": {
            "image/png": "[encoded data removed]",
            "text/plain": [
              "<Figure size 720x432 with 1 Axes>"
            ]
          },
          "metadata": {
            "tags": []
          }
        }
      ]
    },
    {
      "cell_type": "code",
      "metadata": {
        "id": "sy98Mm8qYklL",
        "colab_type": "code",
        "colab": {}
      },
      "source": [
        "class classifier(nn.Module):\n",
        "    def __init__(self):\n",
        "        super(classifier,self).__init__()\n",
        "        self.dense1 = nn.Linear(32,32)\n",
        "        self.dense2 = nn.Linear(32,1)\n",
        "    def forward(self,data):\n",
        "        x = F.relu(self.dense1(data))\n",
        "#         x = F.relu(self.dense1(x))\n",
        "#         x = F.relu(self.dense1(x))\n",
        "        x = torch.sigmoid(self.dense2(x))\n",
        "        return x"
      ],
      "execution_count": 0,
      "outputs": []
    },
    {
      "cell_type": "code",
      "metadata": {
        "id": "7wC_8TjUYodj",
        "colab_type": "code",
        "colab": {}
      },
      "source": [
        "Train_labels_fear = torch.from_numpy(np.array(Train_labels_fear)).float().cuda()\n",
        "Test_labels_fear = torch.from_numpy(np.array(Test_labels_fear)).float().cuda()\n",
        "Test_audio = torch.from_numpy(audio_test).float().cuda()\n",
        "Test_text = torch.from_numpy(text_test).float().cuda()"
      ],
      "execution_count": 0,
      "outputs": []
    },
    {
      "cell_type": "code",
      "metadata": {
        "id": "slCXniCVYuzn",
        "colab_type": "code",
        "colab": {
          "base_uri": "https://localhost:8080/",
          "height": 295
        },
        "outputId": "5660435f-870e-46c5-84a0-40669f885d2d"
      },
      "source": [
        "!nvidia-smi"
      ],
      "execution_count": 20,
      "outputs": [
        {
          "output_type": "stream",
          "text": [
            "Tue Jul 16 06:06:05 2019       \n",
            "+-----------------------------------------------------------------------------+\n",
            "| NVIDIA-SMI 418.67       Driver Version: 410.79       CUDA Version: 10.0     |\n",
            "|-------------------------------+----------------------+----------------------+\n",
            "| GPU  Name        Persistence-M| Bus-Id        Disp.A | Volatile Uncorr. ECC |\n",
            "| Fan  Temp  Perf  Pwr:Usage/Cap|         Memory-Usage | GPU-Util  Compute M. |\n",
            "|===============================+======================+======================|\n",
            "|   0  Tesla T4            Off  | 00000000:00:04.0 Off |                    0 |\n",
            "| N/A   53C    P0    29W /  70W |   1391MiB / 15079MiB |      0%      Default |\n",
            "+-------------------------------+----------------------+----------------------+\n",
            "                                                                               \n",
            "+-----------------------------------------------------------------------------+\n",
            "| Processes:                                                       GPU Memory |\n",
            "|  GPU       PID   Type   Process name                             Usage      |\n",
            "|=============================================================================|\n",
            "+-----------------------------------------------------------------------------+\n"
          ],
          "name": "stdout"
        }
      ]
    },
    {
      "cell_type": "code",
      "metadata": {
        "id": "r5Co6WMIY6Db",
        "colab_type": "code",
        "colab": {}
      },
      "source": [
        "def accuracy(prediction,label):\n",
        "    prediction = (prediction>0.5)\n",
        "    acc = torch.sum(prediction==label.byte())\n",
        "    return 100*(acc.float()/label.size()[0]).item()"
      ],
      "execution_count": 0,
      "outputs": []
    },
    {
      "cell_type": "code",
      "metadata": {
        "id": "H4BIAq-xYxCf",
        "colab_type": "code",
        "colab": {
          "base_uri": "https://localhost:8080/",
          "height": 173
        },
        "outputId": "d7bfcabd-f261-4d62-8345-1c770b27bf62"
      },
      "source": [
        "model_classifier = classifier().cuda()\n",
        "w=list(model_classifier.parameters())\n",
        "print(model_audio(Test_audio))\n",
        "prediction = model_classifier(model_audio(Test_audio))\n",
        "print(accuracy(prediction, Test_labels_fear))"
      ],
      "execution_count": 27,
      "outputs": [
        {
          "output_type": "stream",
          "text": [
            "tensor([[-0.0229,  0.0307, -0.2595,  ...,  0.4247,  0.0066,  0.0080],\n",
            "        [-0.0228,  0.0304, -0.2600,  ...,  0.4251,  0.0070,  0.0081],\n",
            "        [-0.0226,  0.0315, -0.2597,  ...,  0.4254,  0.0078,  0.0081],\n",
            "        ...,\n",
            "        [-0.0184,  0.0284, -0.2469,  ...,  0.4102, -0.0048, -0.0008],\n",
            "        [-0.0223,  0.0314, -0.2579,  ...,  0.4211,  0.0059,  0.0063],\n",
            "        [-0.0228,  0.0309, -0.2605,  ...,  0.4253,  0.0080,  0.0082]],\n",
            "       device='cuda:0', grad_fn=<AddmmBackward>)\n",
            "93.1291401386261\n"
          ],
          "name": "stdout"
        }
      ]
    },
    {
      "cell_type": "code",
      "metadata": {
        "id": "r8q-eAK7ZH31",
        "colab_type": "code",
        "colab": {
          "base_uri": "https://localhost:8080/",
          "height": 173
        },
        "outputId": "5b3a44df-2031-4d73-ea54-7a5d8cbb1ed8"
      },
      "source": [
        "model_classifier = classifier().cuda()\n",
        "w=list(model_classifier.parameters())\n",
        "print(model_text(Test_text))\n",
        "prediction = model_classifier(model_text(Test_text))\n",
        "print(accuracy(prediction, Test_labels_fear))"
      ],
      "execution_count": 30,
      "outputs": [
        {
          "output_type": "stream",
          "text": [
            "tensor([[-0.0200,  0.0297, -0.2439,  ...,  0.4041,  0.0040,  0.0046],\n",
            "        [-0.0205,  0.0294, -0.2452,  ...,  0.4035,  0.0027,  0.0046],\n",
            "        [-0.0202,  0.0290, -0.2456,  ...,  0.4033,  0.0027,  0.0045],\n",
            "        ...,\n",
            "        [-0.0204,  0.0283, -0.2446,  ...,  0.4033,  0.0034,  0.0055],\n",
            "        [-0.0205,  0.0289, -0.2460,  ...,  0.4031,  0.0028,  0.0042],\n",
            "        [-0.0199,  0.0293, -0.2453,  ...,  0.4033,  0.0024,  0.0046]],\n",
            "       device='cuda:0', grad_fn=<AddmmBackward>)\n",
            "93.1291401386261\n"
          ],
          "name": "stdout"
        }
      ]
    },
    {
      "cell_type": "code",
      "metadata": {
        "id": "C3_b_Y9UZYtN",
        "colab_type": "code",
        "colab": {}
      },
      "source": [
        ""
      ],
      "execution_count": 0,
      "outputs": []
    }
  ]
}
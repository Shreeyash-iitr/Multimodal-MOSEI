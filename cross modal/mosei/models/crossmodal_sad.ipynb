{
  "nbformat": 4,
  "nbformat_minor": 0,
  "metadata": {
    "colab": {
      "name": "crossmodal_sad.ipynb",
      "version": "0.3.2",
      "provenance": []
    },
    "kernelspec": {
      "name": "python3",
      "display_name": "Python 3"
    },
    "accelerator": "GPU"
  },
  "cells": [
    {
      "cell_type": "code",
      "metadata": {
        "id": "AcpxOa_JxlOi",
        "colab_type": "code",
        "colab": {
          "base_uri": "https://localhost:8080/",
          "height": 295
        },
        "outputId": "3703878b-6b88-4d05-c59c-e894e77729d4"
      },
      "source": [
        "!nvidia-smi"
      ],
      "execution_count": 35,
      "outputs": [
        {
          "output_type": "stream",
          "text": [
            "Tue Jul 16 03:29:26 2019       \n",
            "+-----------------------------------------------------------------------------+\n",
            "| NVIDIA-SMI 418.67       Driver Version: 410.79       CUDA Version: 10.0     |\n",
            "|-------------------------------+----------------------+----------------------+\n",
            "| GPU  Name        Persistence-M| Bus-Id        Disp.A | Volatile Uncorr. ECC |\n",
            "| Fan  Temp  Perf  Pwr:Usage/Cap|         Memory-Usage | GPU-Util  Compute M. |\n",
            "|===============================+======================+======================|\n",
            "|   0  Tesla T4            Off  | 00000000:00:04.0 Off |                    0 |\n",
            "| N/A   53C    P0    28W /  70W |   1279MiB / 15079MiB |      0%      Default |\n",
            "+-------------------------------+----------------------+----------------------+\n",
            "                                                                               \n",
            "+-----------------------------------------------------------------------------+\n",
            "| Processes:                                                       GPU Memory |\n",
            "|  GPU       PID   Type   Process name                             Usage      |\n",
            "|=============================================================================|\n",
            "+-----------------------------------------------------------------------------+\n"
          ],
          "name": "stdout"
        }
      ]
    },
    {
      "cell_type": "code",
      "metadata": {
        "id": "ziwg4ilA_MBx",
        "colab_type": "code",
        "outputId": "749b3614-d120-4a33-bd7a-f689b377ff08",
        "colab": {
          "base_uri": "https://localhost:8080/",
          "height": 156
        }
      },
      "source": [
        "!git clone \"https://github.com/convman/Multimodal-MOSEI.git\""
      ],
      "execution_count": 2,
      "outputs": [
        {
          "output_type": "stream",
          "text": [
            "Cloning into 'Multimodal-MOSEI'...\n",
            "remote: Enumerating objects: 35, done.\u001b[K\n",
            "remote: Counting objects:   2% (1/35)   \u001b[K\rremote: Counting objects:   5% (2/35)   \u001b[K\rremote: Counting objects:   8% (3/35)   \u001b[K\rremote: Counting objects:  11% (4/35)   \u001b[K\rremote: Counting objects:  14% (5/35)   \u001b[K\rremote: Counting objects:  17% (6/35)   \u001b[K\rremote: Counting objects:  20% (7/35)   \u001b[K\rremote: Counting objects:  22% (8/35)   \u001b[K\rremote: Counting objects:  25% (9/35)   \u001b[K\rremote: Counting objects:  28% (10/35)   \u001b[K\rremote: Counting objects:  31% (11/35)   \u001b[K\rremote: Counting objects:  34% (12/35)   \u001b[K\rremote: Counting objects:  37% (13/35)   \u001b[K\rremote: Counting objects:  40% (14/35)   \u001b[K\rremote: Counting objects:  42% (15/35)   \u001b[K\rremote: Counting objects:  45% (16/35)   \u001b[K\rremote: Counting objects:  48% (17/35)   \u001b[K\rremote: Counting objects:  51% (18/35)   \u001b[K\rremote: Counting objects:  54% (19/35)   \u001b[K\rremote: Counting objects:  57% (20/35)   \u001b[K\rremote: Counting objects:  60% (21/35)   \u001b[K\rremote: Counting objects:  62% (22/35)   \u001b[K\rremote: Counting objects:  65% (23/35)   \u001b[K\rremote: Counting objects:  68% (24/35)   \u001b[K\rremote: Counting objects:  71% (25/35)   \u001b[K\rremote: Counting objects:  74% (26/35)   \u001b[K\rremote: Counting objects:  77% (27/35)   \u001b[K\rremote: Counting objects:  80% (28/35)   \u001b[K\rremote: Counting objects:  82% (29/35)   \u001b[K\rremote: Counting objects:  85% (30/35)   \u001b[K\rremote: Counting objects:  88% (31/35)   \u001b[K\rremote: Counting objects:  91% (32/35)   \u001b[K\rremote: Counting objects:  94% (33/35)   \u001b[K\rremote: Counting objects:  97% (34/35)   \u001b[K\rremote: Counting objects: 100% (35/35)   \u001b[K\rremote: Counting objects: 100% (35/35), done.\u001b[K\n",
            "remote: Compressing objects: 100% (34/34), done.\u001b[K\n",
            "remote: Total 501 (delta 3), reused 0 (delta 0), pack-reused 466\n",
            "Receiving objects: 100% (501/501), 901.82 MiB | 39.11 MiB/s, done.\n",
            "Resolving deltas: 100% (178/178), done.\n",
            "Checking out files: 100% (279/279), done.\n"
          ],
          "name": "stdout"
        }
      ]
    },
    {
      "cell_type": "code",
      "metadata": {
        "id": "qxnF3ccm_odR",
        "colab_type": "code",
        "outputId": "f3c00545-9b66-48d7-de4f-572154226bb8",
        "colab": {
          "base_uri": "https://localhost:8080/",
          "height": 35
        }
      },
      "source": [
        "cd Multimodal-MOSEI/"
      ],
      "execution_count": 1,
      "outputs": [
        {
          "output_type": "stream",
          "text": [
            "/content/Multimodal-MOSEI\n"
          ],
          "name": "stdout"
        }
      ]
    },
    {
      "cell_type": "code",
      "metadata": {
        "id": "AaQg9V_v_77D",
        "colab_type": "code",
        "outputId": "65ad6b06-8717-4da3-907c-0a531c6c7673",
        "colab": {
          "base_uri": "https://localhost:8080/",
          "height": 329
        }
      },
      "source": [
        "ls"
      ],
      "execution_count": 2,
      "outputs": [
        {
          "output_type": "stream",
          "text": [
            " audio_test.h5                       mosi2uni_Train_labels_5class.csv\n",
            " audio_train.h5                      mosi2uni_Train_labels_7class.csv\n",
            "\u001b[0m\u001b[01;34m'cross modal'\u001b[0m/                       mosi2uni_Train_labels_angry.csv\n",
            " \u001b[01;34mdata\u001b[0m/                               mosi2uni_Train_labels_disgust.csv\n",
            " \u001b[01;34miemocap\u001b[0m/                            mosi2uni_Train_labels_fear.csv\n",
            "\u001b[01;34m'iemocap sdk'\u001b[0m/                       mosi2uni_Train_labels_happy.csv\n",
            " LICENSE                             mosi2uni_Train_labels_sad.csv\n",
            "'MOSEI baseline results.png'         mosi2uni_Train_labels_surprise.csv\n",
            " mosi2uni_Test_labels_2class.csv    \u001b[01;34m'multimodal baselines'\u001b[0m/\n",
            " mosi2uni_Test_labels_5class.csv     README.md\n",
            " mosi2uni_Test_labels_7class.csv     \u001b[01;34msentiment\u001b[0m/\n",
            " mosi2uni_Test_labels_angry.csv      \u001b[01;34mSOF\u001b[0m/\n",
            " mosi2uni_Test_labels_disgust.csv    text_test_emb.h5\n",
            " mosi2uni_Test_labels_fear.csv       text_train_emb.h5\n",
            " mosi2uni_Test_labels_happy.csv     \u001b[01;34m'unimodal baselines'\u001b[0m/\n",
            " mosi2uni_Test_labels_sad.csv        video_test.h5\n",
            " mosi2uni_Test_labels_surprise.csv   video_train.h5\n",
            " mosi2uni_Train_labels_2class.csv\n"
          ],
          "name": "stdout"
        }
      ]
    },
    {
      "cell_type": "code",
      "metadata": {
        "id": "BHpZD4vz_rDr",
        "colab_type": "code",
        "colab": {}
      },
      "source": [
        "!chmod +x data/dataset_download.sh"
      ],
      "execution_count": 0,
      "outputs": []
    },
    {
      "cell_type": "code",
      "metadata": {
        "id": "SwyUxDOB_tEb",
        "colab_type": "code",
        "colab": {}
      },
      "source": [
        "!./data/dataset_download.sh"
      ],
      "execution_count": 0,
      "outputs": []
    },
    {
      "cell_type": "code",
      "metadata": {
        "id": "WiXtmQmC_whE",
        "colab_type": "code",
        "colab": {
          "base_uri": "https://localhost:8080/",
          "height": 35
        },
        "outputId": "4a0710fd-b0dd-4ce8-cee5-913f553f8f74"
      },
      "source": [
        "import pandas as pd\n",
        "import numpy as np\n",
        "import h5py\n",
        "import torchvision\n",
        "import torchsummary\n",
        "from torch.autograd import Variable\n",
        "import torch\n",
        "from sklearn.decomposition import PCA\n",
        "import torch.nn as nn\n",
        "import torch.nn.functional as F\n",
        "from torchsummary import summary\n",
        "from keras.models import load_model\n",
        "import numpy as np\n",
        "import matplotlib.pyplot as plt\n",
        "import seaborn as sn\n",
        "import pandas as pd\n",
        "from random import sample\n",
        "from sklearn.model_selection import train_test_split\n",
        "from sklearn.metrics import confusion_matrix, f1_score, classification_report\n",
        "from sklearn.utils.multiclass import unique_labels\n",
        "import keras\n",
        "import tensorflow as tf\n",
        "from time import time\n",
        "import scipy\n",
        "import matplotlib.pyplot as plt\n",
        "from mpl_toolkits.mplot3d import Axes3D\n",
        "from keras import layers\n",
        "from google.colab import files\t\n",
        "from keras.models import load_model\n",
        "from keras.models import Model,Sequential,Model\n",
        "from keras.layers import *\n",
        "from keras.callbacks import TensorBoard\n",
        "import matplotlib.pyplot as plt\n",
        "from keras import callbacks\n",
        "from keras.callbacks import *\n",
        "%matplotlib inline"
      ],
      "execution_count": 3,
      "outputs": [
        {
          "output_type": "stream",
          "text": [
            "Using TensorFlow backend.\n"
          ],
          "name": "stderr"
        }
      ]
    },
    {
      "cell_type": "code",
      "metadata": {
        "id": "txmilT3gAAPV",
        "colab_type": "code",
        "outputId": "15e05523-8eb1-4b3a-b710-24c87d1142b0",
        "colab": {
          "base_uri": "https://localhost:8080/",
          "height": 35
        }
      },
      "source": [
        "import pandas as pd\n",
        "import numpy as np\n",
        "import h5py\n",
        "\n",
        "Test_labels_sad = pd.read_csv(\"mosi2uni_Test_labels_sad.csv\",header=None)\n",
        "Train_labels_sad = pd.read_csv(\"mosi2uni_Train_labels_sad.csv\",header=None)\n",
        "\n",
        "video_train = h5py.File(\"video_train.h5\",\"r\")\n",
        "video_train = np.array(video_train.get('d1'))\n",
        "\n",
        "video_test = h5py.File(\"video_test.h5\",\"r\")\n",
        "video_test = np.array(video_test.get('d1'))\n",
        "\n",
        "audio_train = h5py.File(\"audio_train.h5\",\"r\")\n",
        "audio_train = np.array(audio_train.get('d1'))\n",
        "\n",
        "audio_test = h5py.File(\"audio_test.h5\",\"r\")\n",
        "audio_test = np.array(audio_test.get('d1'))\n",
        "\n",
        "text_train = h5py.File(\"text_train_emb.h5\",\"r\")\n",
        "text_train = np.array(text_train.get('d1'))\n",
        "\n",
        "text_test = h5py.File(\"text_test_emb.h5\",\"r\")\n",
        "text_test = np.array(text_test.get('d1'))\n",
        "\n",
        "\n",
        "print(video_train.shape, text_train.shape, audio_train.shape)"
      ],
      "execution_count": 4,
      "outputs": [
        {
          "output_type": "stream",
          "text": [
            "(15290, 20, 35) (15290, 20, 300) (15290, 20, 74)\n"
          ],
          "name": "stdout"
        }
      ]
    },
    {
      "cell_type": "code",
      "metadata": {
        "id": "CCZn7nB1AEmL",
        "colab_type": "code",
        "colab": {}
      },
      "source": [
        "# Train_video = torch.from_numpy(video_train).float().cuda()\n",
        "Train_audio = torch.from_numpy(audio_train).float().cuda()\n",
        "Train_text = torch.from_numpy(text_train).float().cuda()"
      ],
      "execution_count": 0,
      "outputs": []
    },
    {
      "cell_type": "code",
      "metadata": {
        "id": "Tw1pAiDeBVAH",
        "colab_type": "code",
        "colab": {}
      },
      "source": [
        "class Audio(nn.Module):\n",
        "    def __init__(self):\n",
        "        super(Audio,self).__init__()\n",
        "        self.lstm1 = nn.LSTM(74,256,batch_first=True)\n",
        "#         self.lstm2 = nn.LSTM(256,256,batch_first=True)\n",
        "        self.lstm3 = nn.LSTM(256,128,batch_first=True)\n",
        "#         self.lstm4 = nn.LSTM(128,128,batch_first=True)\n",
        "        self.lstm5 = nn.LSTM(128,64,batch_first=True)\n",
        "#         self.lstm6 = nn.LSTM(64,64,batch_first=True)\n",
        "        self.lstm7 = nn.LSTM(64,32,batch_first=True)\n",
        "#         self.lstm8 = nn.LSTM(32,32,batch_first=True)\n",
        "        self.dense = nn.Linear(32,32)\n",
        "    def forward(self,data):\n",
        "        x,hc = self.lstm1(data)\n",
        "#         x,hc = self.lstm2(x)\n",
        "        x,hc = self.lstm3(x)\n",
        "#         x,hc = self.lstm4(x)\n",
        "        x,hc = self.lstm5(x)\n",
        "#         x,hc = self.lstm6(x)\n",
        "        x,hc = self.lstm7(x)\n",
        "#         x,hc = self.lstm8(x)\n",
        "        h,c = hc\n",
        "        x = F.relu(self.dense(h.squeeze()))\n",
        "        x = self.dense(x)\n",
        "        return x\n",
        "\n",
        "# model_audio = Audio().cuda()\n",
        "# print(model_audio)\n",
        "\n",
        "# inputs = Train_audio.cuda()\n",
        "# y=model_audio(inputs)\n",
        "# print(y.size())"
      ],
      "execution_count": 0,
      "outputs": []
    },
    {
      "cell_type": "code",
      "metadata": {
        "id": "djOKuRMPGgOP",
        "colab_type": "code",
        "colab": {}
      },
      "source": [
        "class Text(nn.Module):\n",
        "    def __init__(self):\n",
        "        super(Text,self).__init__()\n",
        "        self.lstm1 = nn.LSTM(300,256,batch_first=True)\n",
        "#         self.lstm2 = nn.LSTM(256,256,batch_first=True)\n",
        "        self.lstm3 = nn.LSTM(256,128,batch_first=True)\n",
        "#         self.lstm4 = nn.LSTM(128,128,batch_first=True)\n",
        "        self.lstm5 = nn.LSTM(128,64,batch_first=True)\n",
        "#         self.lstm6 = nn.LSTM(64,64,batch_first=True)\n",
        "        self.lstm7 = nn.LSTM(64,32,batch_first=True)\n",
        "#         self.lstm8 = nn.LSTM(32,32,batch_first=True)\n",
        "        self.dense = nn.Linear(32,32)\n",
        "    def forward(self,data):\n",
        "        x,hc = self.lstm1(data)\n",
        "#         x,hc = self.lstm2(x)\n",
        "        x,hc = self.lstm3(x)\n",
        "#         x,hc = self.lstm4(x)\n",
        "        x,hc = self.lstm5(x)\n",
        "#         x,hc = self.lstm6(x)\n",
        "        x,hc = self.lstm7(x)\n",
        "#         x,hc = self.lstm8(x)\n",
        "        h,c = hc\n",
        "        x = F.relu(self.dense(h.squeeze()))\n",
        "        x = self.dense(x)\n",
        "        return x\n",
        "\n",
        "# print(model_text)\n",
        "\n",
        "# inputs = concat_audio.cuda()\n",
        "# y=model(inputs)\n",
        "# print(y.size())"
      ],
      "execution_count": 0,
      "outputs": []
    },
    {
      "cell_type": "code",
      "metadata": {
        "id": "yw_SDOjAHDYw",
        "colab_type": "code",
        "colab": {}
      },
      "source": [
        "class Video(nn.Module):\n",
        "    def __init__(self):\n",
        "        super(Video,self).__init__()\n",
        "        self.lstm1 = nn.LSTM(35,256,batch_first=True)\n",
        "        self.lstm2 = nn.LSTM(256,256,batch_first=True)\n",
        "        self.lstm3 = nn.LSTM(256,128,batch_first=True)\n",
        "        self.lstm4 = nn.LSTM(128,128,batch_first=True)\n",
        "        self.lstm5 = nn.LSTM(128,64,batch_first=True)\n",
        "        self.lstm6 = nn.LSTM(64,64,batch_first=True)\n",
        "        self.lstm7 = nn.LSTM(64,32,batch_first=True)\n",
        "        self.lstm8 = nn.LSTM(32,32,batch_first=True)\n",
        "        self.dense = nn.Linear(32,32)\n",
        "    def forward(self,data):\n",
        "        x,hc = self.lstm1(data)\n",
        "        x,hc = self.lstm2(x)\n",
        "        x,hc = self.lstm3(x)\n",
        "        x,hc = self.lstm4(x)\n",
        "        x,hc = self.lstm5(x)\n",
        "        x,hc = self.lstm6(x)\n",
        "        x,hc = self.lstm7(x)\n",
        "        x,hc = self.lstm8(x)\n",
        "        h,c = hc\n",
        "        x = F.relu(self.dense(h.squeeze()))\n",
        "        x = self.dense(x)\n",
        "        return x\n",
        "\n",
        "# model_video = Video().cuda()\n",
        "# print(model_video)\n"
      ],
      "execution_count": 0,
      "outputs": []
    },
    {
      "cell_type": "code",
      "metadata": {
        "id": "PWDerYum2Ju4",
        "colab_type": "code",
        "colab": {
          "base_uri": "https://localhost:8080/",
          "height": 295
        },
        "outputId": "a9e502ac-ea97-42ee-f68b-f42b08c812d9"
      },
      "source": [
        "!nvidia-smi"
      ],
      "execution_count": 100,
      "outputs": [
        {
          "output_type": "stream",
          "text": [
            "Tue Jul 16 05:15:57 2019       \n",
            "+-----------------------------------------------------------------------------+\n",
            "| NVIDIA-SMI 418.67       Driver Version: 410.79       CUDA Version: 10.0     |\n",
            "|-------------------------------+----------------------+----------------------+\n",
            "| GPU  Name        Persistence-M| Bus-Id        Disp.A | Volatile Uncorr. ECC |\n",
            "| Fan  Temp  Perf  Pwr:Usage/Cap|         Memory-Usage | GPU-Util  Compute M. |\n",
            "|===============================+======================+======================|\n",
            "|   0  Tesla T4            Off  | 00000000:00:04.0 Off |                    0 |\n",
            "| N/A   53C    P0    28W /  70W |   3759MiB / 15079MiB |      0%      Default |\n",
            "+-------------------------------+----------------------+----------------------+\n",
            "                                                                               \n",
            "+-----------------------------------------------------------------------------+\n",
            "| Processes:                                                       GPU Memory |\n",
            "|  GPU       PID   Type   Process name                             Usage      |\n",
            "|=============================================================================|\n",
            "+-----------------------------------------------------------------------------+\n"
          ],
          "name": "stdout"
        }
      ]
    },
    {
      "cell_type": "code",
      "metadata": {
        "id": "1tM1TSRnHhSl",
        "colab_type": "code",
        "outputId": "8e4fd00e-5f01-4bc3-855e-514d849b358c",
        "colab": {
          "base_uri": "https://localhost:8080/",
          "height": 552
        }
      },
      "source": [
        "model_text = Text().cuda()\n",
        "model_audio = Audio().cuda()\n",
        "\n",
        "loss = []\n",
        "cross_modal = []\n",
        "diversity = []\n",
        "fig_size = plt.rcParams[\"figure.figsize\"]\n",
        "fig_size[0] = 10\n",
        "fig_size[1] = 6\n",
        "plt.rcParams[\"figure.figsize\"] = fig_size\n",
        "distance = nn.CosineEmbeddingLoss()\n",
        "iterations = 1000\n",
        "optimizer_audio = torch.optim.SGD(model_audio.parameters(),weight_decay=0.0005,momentum=0.9,lr=0.01)\n",
        "optimizer_text = torch.optim.SGD(model_text.parameters(),weight_decay=0.0005,momentum=0.9,lr=0.01)\n",
        "# optimizer_video = torch.optim.SGD(model_video.parameters(),weight_decay=0.0005,momentum=0.9,lr=0.01)\n",
        "\n",
        "for iteration in range(iterations):\n",
        "    \n",
        "\n",
        "    i,j = sample(range(0,15290),2)\n",
        "    \n",
        "    ai = torch.unsqueeze(Train_audio[i],0).cuda()\n",
        "    aj = torch.unsqueeze(Train_audio[j],0).cuda()\n",
        "    \n",
        "    ti = torch.unsqueeze(Train_text[i],0).cuda()\n",
        "    tj = torch.unsqueeze(Train_text[j],0).cuda()\n",
        "    \n",
        "    optimizer_audio.zero_grad()\n",
        "    optimizer_text.zero_grad()\n",
        "    \n",
        "    xi = model_audio(ai)\n",
        "    xj = model_audio(aj)\n",
        "    \n",
        "    yi = model_text(ti)\n",
        "    yj = model_text(tj)\n",
        "    \n",
        "    xi = torch.unsqueeze(xi,0)\n",
        "    xj = torch.unsqueeze(xj,0)\n",
        "    \n",
        "    yi = torch.unsqueeze(yi,0)\n",
        "    yj = torch.unsqueeze(yj,0)\n",
        "\n",
        "    \n",
        "    cross_modal_loss1 = distance(xi,yi,torch.ones(1).cuda()) \n",
        "    cross_modal_loss2 = distance(xj,yj,torch.ones(1).cuda())\n",
        "    diversity_loss1 = -distance(xi,xj,torch.ones(1).cuda()) \n",
        "    diversity_loss2 = -distance(yi,yj,torch.ones(1).cuda())\n",
        "    \n",
        "    \n",
        "    total_loss = 0.5*(cross_modal_loss1 + cross_modal_loss2 + diversity_loss1 + diversity_loss2)\n",
        "    loss.append(total_loss.item())\n",
        "    cross_modal.append(cross_modal_loss1.item()+cross_modal_loss2.item())\n",
        "    diversity.append(diversity_loss1.item()+diversity_loss2.item())\n",
        "    \n",
        "    total_loss.backward()\n",
        "    optimizer_audio.step()\n",
        "    optimizer_text.step()\n",
        "    \n",
        "    if(iteration%100 == 0):\n",
        "        print(\"iteration :\",iteration,\" loss :\",total_loss.item())\n",
        "    \n",
        "    del ai,aj,ti,tj,xi,xj,yi,yj\n",
        "    del total_loss,cross_modal_loss1,cross_modal_loss2,diversity_loss1,diversity_loss2\n",
        "    torch.cuda.empty_cache()\n",
        "    \n",
        "    \n",
        "    \n",
        "plt.plot(loss,'r',cross_modal,'b',diversity,'g')\n",
        "plt.show()"
      ],
      "execution_count": 101,
      "outputs": [
        {
          "output_type": "stream",
          "text": [
            "iteration : 0  loss : 0.8896803855895996\n",
            "iteration : 100  loss : -0.0001964569091796875\n",
            "iteration : 200  loss : -0.0002581775188446045\n",
            "iteration : 300  loss : -7.781386375427246e-05\n",
            "iteration : 400  loss : -0.00017583370208740234\n",
            "iteration : 500  loss : -0.00011107325553894043\n",
            "iteration : 600  loss : 2.6702880859375e-05\n",
            "iteration : 700  loss : -0.00011429190635681152\n",
            "iteration : 800  loss : -0.00012794137001037598\n",
            "iteration : 900  loss : 2.7745962142944336e-05\n"
          ],
          "name": "stdout"
        },
        {
          "output_type": "display_data",
          "data": {
            "image/png": "[encoded data removed]",
            "text/plain": [
              "<Figure size 720x432 with 1 Axes>"
            ]
          },
          "metadata": {
            "tags": []
          }
        }
      ]
    },
    {
      "cell_type": "code",
      "metadata": {
        "id": "rHCjDj-x2rwv",
        "colab_type": "code",
        "colab": {
          "base_uri": "https://localhost:8080/",
          "height": 295
        },
        "outputId": "073ab18b-69a2-47a6-cc3a-63d38d0b73d0"
      },
      "source": [
        "!nvidia-smi"
      ],
      "execution_count": 102,
      "outputs": [
        {
          "output_type": "stream",
          "text": [
            "Tue Jul 16 05:17:13 2019       \n",
            "+-----------------------------------------------------------------------------+\n",
            "| NVIDIA-SMI 418.67       Driver Version: 410.79       CUDA Version: 10.0     |\n",
            "|-------------------------------+----------------------+----------------------+\n",
            "| GPU  Name        Persistence-M| Bus-Id        Disp.A | Volatile Uncorr. ECC |\n",
            "| Fan  Temp  Perf  Pwr:Usage/Cap|         Memory-Usage | GPU-Util  Compute M. |\n",
            "|===============================+======================+======================|\n",
            "|   0  Tesla T4            Off  | 00000000:00:04.0 Off |                    0 |\n",
            "| N/A   53C    P0    28W /  70W |   3679MiB / 15079MiB |      0%      Default |\n",
            "+-------------------------------+----------------------+----------------------+\n",
            "                                                                               \n",
            "+-----------------------------------------------------------------------------+\n",
            "| Processes:                                                       GPU Memory |\n",
            "|  GPU       PID   Type   Process name                             Usage      |\n",
            "|=============================================================================|\n",
            "+-----------------------------------------------------------------------------+\n"
          ],
          "name": "stdout"
        }
      ]
    },
    {
      "cell_type": "code",
      "metadata": {
        "id": "bKJD2fbOUsbx",
        "colab_type": "code",
        "outputId": "d491ae38-4967-435a-cf96-d1599c615d35",
        "colab": {
          "base_uri": "https://localhost:8080/",
          "height": 379
        }
      },
      "source": [
        "plt.plot(loss[:100],'r',cross_modal[:100],'b',diversity[:100],'g')\n",
        "plt.show()"
      ],
      "execution_count": 103,
      "outputs": [
        {
          "output_type": "display_data",
          "data": {
            "image/png": "[encoded data removed]",
            "text/plain": [
              "<Figure size 720x432 with 1 Axes>"
            ]
          },
          "metadata": {
            "tags": []
          }
        }
      ]
    },
    {
      "cell_type": "code",
      "metadata": {
        "id": "COnZhTBeVE1c",
        "colab_type": "code",
        "outputId": "015895a6-5a6f-4857-c414-d83d5fd48b10",
        "colab": {
          "base_uri": "https://localhost:8080/",
          "height": 35
        }
      },
      "source": [
        "Test_labels_sad.shape"
      ],
      "execution_count": 104,
      "outputs": [
        {
          "output_type": "execute_result",
          "data": {
            "text/plain": [
              "torch.Size([4832, 1])"
            ]
          },
          "metadata": {
            "tags": []
          },
          "execution_count": 104
        }
      ]
    },
    {
      "cell_type": "code",
      "metadata": {
        "id": "_h57U7ZIIwQl",
        "colab_type": "code",
        "colab": {}
      },
      "source": [
        "class classifier(nn.Module):\n",
        "    def __init__(self):\n",
        "        super(classifier,self).__init__()\n",
        "        self.dense1 = nn.Linear(32,32)\n",
        "        self.dense2 = nn.Linear(32,1)\n",
        "    def forward(self,data):\n",
        "        x = F.relu(self.dense1(data))\n",
        "#         x = F.relu(self.dense1(x))\n",
        "#         x = F.relu(self.dense1(x))\n",
        "        x = torch.sigmoid(self.dense2(x))\n",
        "        return x"
      ],
      "execution_count": 0,
      "outputs": []
    },
    {
      "cell_type": "code",
      "metadata": {
        "id": "OUXyadXkRfBH",
        "colab_type": "code",
        "colab": {}
      },
      "source": [
        "Train_labels_sad = torch.from_numpy(np.array(Train_labels_sad)).float().cuda()\n",
        "Test_labels_sad = torch.from_numpy(np.array(Test_labels_sad)).float().cuda()\n",
        "Test_audio = torch.from_numpy(audio_test).float().cuda()\n",
        "Test_text = torch.from_numpy(text_test).float().cuda()"
      ],
      "execution_count": 0,
      "outputs": []
    },
    {
      "cell_type": "code",
      "metadata": {
        "id": "CxZ9uicpA_sM",
        "colab_type": "code",
        "colab": {
          "base_uri": "https://localhost:8080/",
          "height": 295
        },
        "outputId": "fb77c17d-d86a-4f19-d4e1-debc08fcfa0d"
      },
      "source": [
        "!nvidia-smi"
      ],
      "execution_count": 106,
      "outputs": [
        {
          "output_type": "stream",
          "text": [
            "Tue Jul 16 05:17:34 2019       \n",
            "+-----------------------------------------------------------------------------+\n",
            "| NVIDIA-SMI 418.67       Driver Version: 410.79       CUDA Version: 10.0     |\n",
            "|-------------------------------+----------------------+----------------------+\n",
            "| GPU  Name        Persistence-M| Bus-Id        Disp.A | Volatile Uncorr. ECC |\n",
            "| Fan  Temp  Perf  Pwr:Usage/Cap|         Memory-Usage | GPU-Util  Compute M. |\n",
            "|===============================+======================+======================|\n",
            "|   0  Tesla T4            Off  | 00000000:00:04.0 Off |                    0 |\n",
            "| N/A   53C    P0    28W /  70W |   3679MiB / 15079MiB |      0%      Default |\n",
            "+-------------------------------+----------------------+----------------------+\n",
            "                                                                               \n",
            "+-----------------------------------------------------------------------------+\n",
            "| Processes:                                                       GPU Memory |\n",
            "|  GPU       PID   Type   Process name                             Usage      |\n",
            "|=============================================================================|\n",
            "+-----------------------------------------------------------------------------+\n"
          ],
          "name": "stdout"
        }
      ]
    },
    {
      "cell_type": "code",
      "metadata": {
        "id": "zSY2Kpq8Nmuc",
        "colab_type": "code",
        "outputId": "a31e28f7-1181-46de-dcf0-5665ea346894",
        "colab": {
          "base_uri": "https://localhost:8080/",
          "height": 1000
        }
      },
      "source": [
        "audio_loss = []\n",
        "model_classifier = classifier().cuda()\n",
        "w=list(model_classifier.parameters())\n",
        "print(w)\n",
        "loss_fn = nn.BCELoss()\n",
        "optimizer_classifier = torch.optim.Adam(model_classifier.parameters(),lr=0.01)\n",
        "epochs = 20\n",
        "model_audio.train()\n",
        "model_classifier.train()\n",
        "for epoch in range(epochs):\n",
        "    for i in range(119):\n",
        "#         i = sample(range(15160),1)\n",
        "#         i = i[0]\n",
        "        \n",
        "        optimizer_audio.zero_grad()\n",
        "        optimizer_classifier.zero_grad()\n",
        "        \n",
        "        logits = model_classifier(model_audio(Train_audio[i:i+128]))\n",
        "        \n",
        "        L = loss_fn(logits,Train_labels_sad[i:i+128])\n",
        "        L.backward()\n",
        "        audio_loss.append(L.item())\n",
        "        \n",
        "#         optimizer_audio.step()\n",
        "        optimizer_classifier.step()\n",
        "    print(\"Epoch :\",epoch+1,\" loss :\",L.item())\n",
        "        \n",
        "        \n",
        "plt.plot(audio_loss)\n",
        "plt.show()"
      ],
      "execution_count": 107,
      "outputs": [
        {
          "output_type": "stream",
          "text": [
            "[Parameter containing:\n",
            "tensor([[ 0.0812, -0.1120, -0.0900,  ...,  0.1047, -0.0169, -0.0317],\n",
            "        [-0.1729, -0.0565, -0.1097,  ...,  0.0071,  0.1092,  0.1261],\n",
            "        [-0.0043, -0.0762, -0.0145,  ..., -0.0413, -0.0495,  0.0748],\n",
            "        ...,\n",
            "        [-0.1257,  0.0622, -0.0078,  ...,  0.0554, -0.1739,  0.1111],\n",
            "        [-0.1599, -0.0481, -0.1417,  ..., -0.1043, -0.0703,  0.0082],\n",
            "        [-0.1079, -0.0695,  0.1465,  ...,  0.0639,  0.0670, -0.0174]],\n",
            "       device='cuda:0', requires_grad=True), Parameter containing:\n",
            "tensor([ 0.1413,  0.1532,  0.0187, -0.1623,  0.1106, -0.1003, -0.1063, -0.0016,\n",
            "        -0.0741,  0.0854,  0.1184, -0.0301, -0.0886, -0.0877, -0.0753, -0.0604,\n",
            "        -0.0896, -0.1593, -0.1537,  0.0220, -0.0829, -0.0742, -0.0328,  0.0317,\n",
            "         0.1745, -0.1035,  0.0268,  0.0469, -0.1172, -0.0568,  0.0190, -0.1731],\n",
            "       device='cuda:0', requires_grad=True), Parameter containing:\n",
            "tensor([[ 0.1631, -0.0572, -0.0466, -0.1576,  0.0814,  0.0896, -0.0431, -0.0802,\n",
            "          0.0592, -0.1163, -0.1155,  0.0585,  0.1201, -0.0265, -0.0949,  0.0112,\n",
            "         -0.0399, -0.0737, -0.0500, -0.0705, -0.1411,  0.1424, -0.0742, -0.1025,\n",
            "         -0.1486, -0.0235, -0.0766,  0.0649,  0.1293,  0.1251,  0.1363,  0.0699]],\n",
            "       device='cuda:0', requires_grad=True), Parameter containing:\n",
            "tensor([0.1327], device='cuda:0', requires_grad=True)]\n",
            "Epoch : 1  loss : 0.6017120480537415\n",
            "Epoch : 2  loss : 0.6013933420181274\n",
            "Epoch : 3  loss : 0.6015310883522034\n",
            "Epoch : 4  loss : 0.6018909215927124\n",
            "Epoch : 5  loss : 0.6025674939155579\n",
            "Epoch : 6  loss : 0.6035853028297424\n",
            "Epoch : 7  loss : 0.6048177480697632\n",
            "Epoch : 8  loss : 0.6060690879821777\n",
            "Epoch : 9  loss : 0.607475221157074\n",
            "Epoch : 10  loss : 0.6084490418434143\n",
            "Epoch : 11  loss : 0.6090682744979858\n",
            "Epoch : 12  loss : 0.6092413663864136\n",
            "Epoch : 13  loss : 0.609894335269928\n",
            "Epoch : 14  loss : 0.6101462841033936\n",
            "Epoch : 15  loss : 0.6102990508079529\n",
            "Epoch : 16  loss : 0.6103808879852295\n",
            "Epoch : 17  loss : 0.6104050874710083\n",
            "Epoch : 18  loss : 0.6103824377059937\n",
            "Epoch : 19  loss : 0.6103339195251465\n",
            "Epoch : 20  loss : 0.6102429032325745\n"
          ],
          "name": "stdout"
        },
        {
          "output_type": "display_data",
          "data": {
            "image/png": "[encoded data removed]",
            "text/plain": [
              "<Figure size 720x432 with 1 Axes>"
            ]
          },
          "metadata": {
            "tags": []
          }
        }
      ]
    },
    {
      "cell_type": "code",
      "metadata": {
        "id": "mhWC6giiIcuz",
        "colab_type": "code",
        "colab": {
          "base_uri": "https://localhost:8080/",
          "height": 364
        },
        "outputId": "5e39f6d5-570b-43e2-a644-bc23f3736d6f"
      },
      "source": [
        "w=list(model_classifier.parameters())\n",
        "print(w)"
      ],
      "execution_count": 114,
      "outputs": [
        {
          "output_type": "stream",
          "text": [
            "[Parameter containing:\n",
            "tensor([[ 0.0565, -0.0854, -0.0843,  ...,  0.1493, -0.0159, -0.0130],\n",
            "        [-0.0535, -0.0033, -0.0352,  ..., -0.0703,  0.1189, -0.0729],\n",
            "        [-0.0431, -0.0977,  0.0782,  ...,  0.1587,  0.0394, -0.1233],\n",
            "        ...,\n",
            "        [-0.1057, -0.0387, -0.0345,  ...,  0.1703, -0.1487,  0.1112],\n",
            "        [-0.0872, -0.0022, -0.0492,  ..., -0.0605,  0.1352,  0.1422],\n",
            "        [-0.1540, -0.0091, -0.1085,  ...,  0.0648, -0.0168, -0.0952]],\n",
            "       device='cuda:0', requires_grad=True), Parameter containing:\n",
            "tensor([ 0.0236,  0.0882,  0.0831, -0.1374,  0.0258, -0.0687,  0.0590, -0.0639,\n",
            "        -0.1580,  0.0846,  0.0363, -0.0313, -0.0091,  0.1031, -0.1573, -0.0325,\n",
            "         0.1259, -0.1011, -0.0691,  0.0705, -0.1494,  0.1487, -0.0211, -0.0442,\n",
            "        -0.0296, -0.0147, -0.1424, -0.1217,  0.0291,  0.1305, -0.0273, -0.1597],\n",
            "       device='cuda:0', requires_grad=True), Parameter containing:\n",
            "tensor([[ 0.0005,  0.0003,  0.1099,  0.1341,  0.0103,  0.0781,  0.0166,  0.0399,\n",
            "         -0.0039,  0.0113,  0.0006,  0.0657,  0.0406,  0.0005, -0.0790,  0.0982,\n",
            "          0.0376, -0.0023,  0.0949, -0.0014, -0.0700,  0.0004,  0.0502, -0.0123,\n",
            "         -0.0311, -0.0243, -0.0786, -0.0741, -0.0666, -0.0022,  0.0228,  0.0745]],\n",
            "       device='cuda:0', requires_grad=True), Parameter containing:\n",
            "tensor([-0.8561], device='cuda:0', requires_grad=True)]\n"
          ],
          "name": "stdout"
        }
      ]
    },
    {
      "cell_type": "code",
      "metadata": {
        "id": "tetlpcZ5Qjnv",
        "colab_type": "code",
        "colab": {
          "base_uri": "https://localhost:8080/",
          "height": 364
        },
        "outputId": "dd5a6dd1-63cb-413a-fe52-59be7be89243"
      },
      "source": [
        "model_classifier = classifier().cuda()\n",
        "w=list(model_classifier.parameters())\n",
        "print(w)"
      ],
      "execution_count": 118,
      "outputs": [
        {
          "output_type": "stream",
          "text": [
            "[Parameter containing:\n",
            "tensor([[-0.1445, -0.0249, -0.0013,  ...,  0.1737,  0.1105, -0.1739],\n",
            "        [ 0.1183, -0.0029,  0.1167,  ...,  0.1251, -0.0290,  0.0621],\n",
            "        [-0.1581,  0.0592, -0.0467,  ...,  0.1101, -0.0139, -0.0559],\n",
            "        ...,\n",
            "        [ 0.0445,  0.1613,  0.0853,  ...,  0.0128,  0.1439,  0.0200],\n",
            "        [ 0.0174, -0.1368,  0.0857,  ...,  0.1062, -0.0066,  0.0658],\n",
            "        [-0.1232, -0.0448,  0.0970,  ..., -0.0098, -0.0408,  0.1475]],\n",
            "       device='cuda:0', requires_grad=True), Parameter containing:\n",
            "tensor([ 0.1746, -0.1178,  0.1345, -0.1163,  0.0948, -0.1237,  0.0507,  0.0286,\n",
            "         0.1762,  0.1730, -0.0414,  0.0636,  0.0517, -0.0424,  0.0310,  0.1364,\n",
            "         0.1746, -0.0566,  0.0348,  0.0799,  0.0533, -0.1755,  0.0028, -0.0838,\n",
            "        -0.0911, -0.0923, -0.0209,  0.1239, -0.0295,  0.0780, -0.1573,  0.1189],\n",
            "       device='cuda:0', requires_grad=True), Parameter containing:\n",
            "tensor([[-0.1639, -0.0610, -0.0611, -0.0655, -0.0240, -0.0550, -0.0170,  0.1048,\n",
            "         -0.0316, -0.0107,  0.1055,  0.1653, -0.0212,  0.1217, -0.0854,  0.0779,\n",
            "          0.0654, -0.0293,  0.1712, -0.1615,  0.1034, -0.1372,  0.0626,  0.1110,\n",
            "          0.0396,  0.0811, -0.0815, -0.0826, -0.1350, -0.1664,  0.1304,  0.0765]],\n",
            "       device='cuda:0', requires_grad=True), Parameter containing:\n",
            "tensor([0.0234], device='cuda:0', requires_grad=True)]\n"
          ],
          "name": "stdout"
        }
      ]
    },
    {
      "cell_type": "code",
      "metadata": {
        "id": "dLtW3zxq3mo3",
        "colab_type": "code",
        "colab": {
          "base_uri": "https://localhost:8080/",
          "height": 295
        },
        "outputId": "30407928-95d7-47f3-c8c5-f89db20a2ef9"
      },
      "source": [
        "!nvidia-smi"
      ],
      "execution_count": 30,
      "outputs": [
        {
          "output_type": "stream",
          "text": [
            "Tue Jul 16 04:34:34 2019       \n",
            "+-----------------------------------------------------------------------------+\n",
            "| NVIDIA-SMI 418.67       Driver Version: 410.79       CUDA Version: 10.0     |\n",
            "|-------------------------------+----------------------+----------------------+\n",
            "| GPU  Name        Persistence-M| Bus-Id        Disp.A | Volatile Uncorr. ECC |\n",
            "| Fan  Temp  Perf  Pwr:Usage/Cap|         Memory-Usage | GPU-Util  Compute M. |\n",
            "|===============================+======================+======================|\n",
            "|   0  Tesla T4            Off  | 00000000:00:04.0 Off |                    0 |\n",
            "| N/A   54C    P0    28W /  70W |   1521MiB / 15079MiB |      0%      Default |\n",
            "+-------------------------------+----------------------+----------------------+\n",
            "                                                                               \n",
            "+-----------------------------------------------------------------------------+\n",
            "| Processes:                                                       GPU Memory |\n",
            "|  GPU       PID   Type   Process name                             Usage      |\n",
            "|=============================================================================|\n",
            "+-----------------------------------------------------------------------------+\n"
          ],
          "name": "stdout"
        }
      ]
    },
    {
      "cell_type": "code",
      "metadata": {
        "id": "iYaiqfFjThOh",
        "colab_type": "code",
        "colab": {
          "base_uri": "https://localhost:8080/",
          "height": 35
        },
        "outputId": "c55a228f-450f-4894-d1b2-e6a95e4686cf"
      },
      "source": [
        "model_audio.eval()\n",
        "model_classifier.eval()\n",
        "\n",
        "def accuracy(prediction,label):\n",
        "    prediction = (prediction>0.5)\n",
        "    acc = torch.sum(prediction==label.byte())\n",
        "    return 100*(acc.float()/label.size()[0])\n",
        "\n",
        "prediction = model_classifier(model_audio(Test_audio))\n",
        "print(accuracy(prediction, Test_labels_sad))"
      ],
      "execution_count": 119,
      "outputs": [
        {
          "output_type": "stream",
          "text": [
            "tensor(72.3924, device='cuda:0')\n"
          ],
          "name": "stdout"
        }
      ]
    },
    {
      "cell_type": "code",
      "metadata": {
        "id": "9Ntnnq0W5uPX",
        "colab_type": "code",
        "colab": {
          "base_uri": "https://localhost:8080/",
          "height": 1000
        },
        "outputId": "c30c0d73-e484-4622-c959-8bc307ef5c25"
      },
      "source": [
        "text_loss = []\n",
        "model_classifier = classifier().cuda()\n",
        "w=list(model_classifier.parameters())\n",
        "print(w)\n",
        "loss_fn = nn.BCELoss()\n",
        "optimizer_classifier = torch.optim.Adam(model_classifier.parameters(),lr=0.01)\n",
        "epochs = 20\n",
        "model_text.train()\n",
        "model_classifier.train()\n",
        "for epoch in range(epochs):\n",
        "    for i in range(119):\n",
        "#         i = sample(range(15160),1)\n",
        "#         i = i[0]\n",
        "        \n",
        "        optimizer_text.zero_grad()\n",
        "        optimizer_classifier.zero_grad()\n",
        "        \n",
        "        logits = model_classifier(model_text(Train_text[i:i+128]))\n",
        "        \n",
        "        L = loss_fn(logits,Train_labels_sad[i:i+128])\n",
        "        L.backward()\n",
        "        text_loss.append(L.item())\n",
        "        \n",
        "        optimizer_text.step()\n",
        "        optimizer_classifier.step()\n",
        "    print(\"Epoch :\",epoch+1,\" loss :\",L.item())\n",
        "        \n",
        "        \n",
        "plt.plot(text_loss)\n",
        "plt.show()"
      ],
      "execution_count": 146,
      "outputs": [
        {
          "output_type": "stream",
          "text": [
            "[Parameter containing:\n",
            "tensor([[-0.1456,  0.1235,  0.1234,  ...,  0.0776, -0.0578,  0.1463],\n",
            "        [-0.0123,  0.0796, -0.0527,  ..., -0.1101,  0.1333, -0.0764],\n",
            "        [-0.1012,  0.1737, -0.1260,  ..., -0.0882,  0.0849,  0.1051],\n",
            "        ...,\n",
            "        [ 0.0569, -0.0144, -0.0826,  ..., -0.1105, -0.1302,  0.1543],\n",
            "        [ 0.1625, -0.1463,  0.1180,  ..., -0.1322,  0.0056, -0.1301],\n",
            "        [-0.0352, -0.0051, -0.1249,  ..., -0.1222, -0.1417, -0.0174]],\n",
            "       device='cuda:0', requires_grad=True), Parameter containing:\n",
            "tensor([-0.0485, -0.0998,  0.0574,  0.0830, -0.0407, -0.0933,  0.0441, -0.0810,\n",
            "        -0.0530, -0.1421, -0.1334, -0.1288,  0.0135,  0.0488, -0.0868,  0.0266,\n",
            "         0.0234, -0.1020, -0.1750, -0.1104, -0.1187, -0.0097, -0.0720, -0.0219,\n",
            "        -0.0024,  0.0865, -0.0058,  0.0566, -0.1312,  0.1658, -0.0920, -0.0456],\n",
            "       device='cuda:0', requires_grad=True), Parameter containing:\n",
            "tensor([[ 0.0276, -0.1011,  0.0075,  0.0319,  0.1375,  0.1230,  0.0083,  0.0337,\n",
            "         -0.0516, -0.0309, -0.0378, -0.0056, -0.0770,  0.0624,  0.1482,  0.0166,\n",
            "         -0.1104,  0.0511,  0.0545,  0.0651, -0.1127,  0.1390, -0.1506,  0.0242,\n",
            "         -0.1619,  0.1297, -0.0850,  0.1408,  0.1760,  0.1204, -0.1453,  0.0231]],\n",
            "       device='cuda:0', requires_grad=True), Parameter containing:\n",
            "tensor([-0.0410], device='cuda:0', requires_grad=True)]\n",
            "Epoch : 1  loss : 0.6027475595474243\n",
            "Epoch : 2  loss : 0.6026276350021362\n",
            "Epoch : 3  loss : 0.602603018283844\n",
            "Epoch : 4  loss : 0.6026086807250977\n",
            "Epoch : 5  loss : 0.6026257276535034\n",
            "Epoch : 6  loss : 0.6026436686515808\n",
            "Epoch : 7  loss : 0.6026552319526672\n",
            "Epoch : 8  loss : 0.6026512980461121\n",
            "Epoch : 9  loss : 0.6026069521903992\n",
            "Epoch : 10  loss : 0.6024610996246338\n",
            "Epoch : 11  loss : 0.60212242603302\n",
            "Epoch : 12  loss : 0.6016130447387695\n",
            "Epoch : 13  loss : 0.6013128757476807\n",
            "Epoch : 14  loss : 0.6013697981834412\n",
            "Epoch : 15  loss : 0.6014754772186279\n",
            "Epoch : 16  loss : 0.6015159487724304\n",
            "Epoch : 17  loss : 0.6015394926071167\n",
            "Epoch : 18  loss : 0.6015521287918091\n",
            "Epoch : 19  loss : 0.6015578508377075\n",
            "Epoch : 20  loss : 0.6015591621398926\n"
          ],
          "name": "stdout"
        },
        {
          "output_type": "display_data",
          "data": {
            "image/png": "[encoded data removed]",
            "text/plain": [
              "<Figure size 720x432 with 1 Axes>"
            ]
          },
          "metadata": {
            "tags": []
          }
        }
      ]
    },
    {
      "cell_type": "code",
      "metadata": {
        "id": "CWda-ojYK1kK",
        "colab_type": "code",
        "colab": {
          "base_uri": "https://localhost:8080/",
          "height": 35
        },
        "outputId": "ade38e6b-bbdf-4c47-edc8-396329884217"
      },
      "source": [
        "prediction = model_classifier(model_text(Test_text))\n",
        "print(accuracy(prediction, Test_labels_sad))"
      ],
      "execution_count": 147,
      "outputs": [
        {
          "output_type": "stream",
          "text": [
            "tensor(72.3924, device='cuda:0')\n"
          ],
          "name": "stdout"
        }
      ]
    },
    {
      "cell_type": "code",
      "metadata": {
        "id": "V5WjFymGSZMw",
        "colab_type": "code",
        "colab": {
          "base_uri": "https://localhost:8080/",
          "height": 139
        },
        "outputId": "d208030f-6dcb-4d3f-c768-5985a929acb9"
      },
      "source": [
        "ta = model_classifier(model_audio(Test_audio))\n",
        "print(ta)"
      ],
      "execution_count": 148,
      "outputs": [
        {
          "output_type": "stream",
          "text": [
            "tensor([[0.2985],\n",
            "        [0.2985],\n",
            "        [0.2985],\n",
            "        ...,\n",
            "        [0.2985],\n",
            "        [0.2985],\n",
            "        [0.2985]], device='cuda:0', grad_fn=<SigmoidBackward>)\n"
          ],
          "name": "stdout"
        }
      ]
    },
    {
      "cell_type": "code",
      "metadata": {
        "id": "qMkGUSHcScy-",
        "colab_type": "code",
        "colab": {
          "base_uri": "https://localhost:8080/",
          "height": 52
        },
        "outputId": "1d595055-2222-4d01-a5e8-3dffd9e18abc"
      },
      "source": [
        "mc = classifier().cuda()\n",
        "tt = mc(model_text(Test_text))\n",
        "# for j in range(4832):\n",
        "#     print(tt[j].item())\n",
        "print(torch.sum(tt==tt[0]))\n",
        "print(accuracy(tt, Test_labels_sad))"
      ],
      "execution_count": 164,
      "outputs": [
        {
          "output_type": "stream",
          "text": [
            "tensor(21, device='cuda:0')\n",
            "tensor(72.3924, device='cuda:0')\n"
          ],
          "name": "stdout"
        }
      ]
    },
    {
      "cell_type": "code",
      "metadata": {
        "id": "6u1G7oFMSfgt",
        "colab_type": "code",
        "colab": {
          "base_uri": "https://localhost:8080/",
          "height": 156
        },
        "outputId": "3a7c8a02-2ca7-4941-f1f3-dffb551e029b"
      },
      "source": [
        "print(model_audio(Test_audio))"
      ],
      "execution_count": 167,
      "outputs": [
        {
          "output_type": "stream",
          "text": [
            "tensor([[ 0.1235, -0.4787,  0.2446,  ..., -0.1212, -0.0231, -0.0554],\n",
            "        [ 0.1236, -0.4782,  0.2444,  ..., -0.1209, -0.0233, -0.0554],\n",
            "        [ 0.1237, -0.4780,  0.2452,  ..., -0.1208, -0.0250, -0.0543],\n",
            "        ...,\n",
            "        [ 0.1357, -0.4848,  0.2536,  ..., -0.1264, -0.0324, -0.0465],\n",
            "        [ 0.1253, -0.4790,  0.2472,  ..., -0.1219, -0.0251, -0.0524],\n",
            "        [ 0.1231, -0.4779,  0.2450,  ..., -0.1206, -0.0241, -0.0545]],\n",
            "       device='cuda:0', grad_fn=<AddmmBackward>)\n"
          ],
          "name": "stdout"
        }
      ]
    },
    {
      "cell_type": "code",
      "metadata": {
        "id": "YO_JOw0cSg1L",
        "colab_type": "code",
        "colab": {
          "base_uri": "https://localhost:8080/",
          "height": 156
        },
        "outputId": "9e5b694a-3186-44f5-e30c-4e557c0fc38b"
      },
      "source": [
        "print(model_text(Test_text))"
      ],
      "execution_count": 168,
      "outputs": [
        {
          "output_type": "stream",
          "text": [
            "tensor([[ 0.0763, -0.2856,  0.1034,  ..., -0.0602,  0.0036, -0.0082],\n",
            "        [ 0.0763, -0.2858,  0.1036,  ..., -0.0602,  0.0036, -0.0083],\n",
            "        [ 0.0763, -0.2857,  0.1035,  ..., -0.0601,  0.0036, -0.0082],\n",
            "        ...,\n",
            "        [ 0.0762, -0.2855,  0.1034,  ..., -0.0605,  0.0038, -0.0085],\n",
            "        [ 0.0758, -0.2858,  0.1036,  ..., -0.0601,  0.0036, -0.0081],\n",
            "        [ 0.0759, -0.2860,  0.1037,  ..., -0.0598,  0.0034, -0.0081]],\n",
            "       device='cuda:0', grad_fn=<AddmmBackward>)\n"
          ],
          "name": "stdout"
        }
      ]
    },
    {
      "cell_type": "code",
      "metadata": {
        "id": "E85AmABySiLF",
        "colab_type": "code",
        "colab": {
          "base_uri": "https://localhost:8080/",
          "height": 35
        },
        "outputId": "57039da6-ebb1-4bcc-968e-5e8e88d2a6a5"
      },
      "source": [
        "print(ta.shape,tt.shape)"
      ],
      "execution_count": 138,
      "outputs": [
        {
          "output_type": "stream",
          "text": [
            "torch.Size([4832, 32]) torch.Size([4832, 32])\n"
          ],
          "name": "stdout"
        }
      ]
    },
    {
      "cell_type": "code",
      "metadata": {
        "id": "hca6wYPESmLH",
        "colab_type": "code",
        "colab": {}
      },
      "source": [
        ""
      ],
      "execution_count": 0,
      "outputs": []
    }
  ]
}
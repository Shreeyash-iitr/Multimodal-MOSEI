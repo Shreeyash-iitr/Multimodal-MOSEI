{
 "cells": [
  {
   "cell_type": "code",
   "execution_count": 0,
   "metadata": {
    "colab": {
     "base_uri": "https://localhost:8080/",
     "height": 156
    },
    "colab_type": "code",
    "id": "Em2qbBVzX3CC",
    "outputId": "cd9af9d2-9504-4e36-fc1e-4cac89315c96"
   },
   "outputs": [
    {
     "name": "stdout",
     "output_type": "stream",
     "text": [
      "--2019-07-05 10:47:03--  http://immortal.multicomp.cs.cmu.edu/raw_datasets/old_processed_data/iemocap/data.zip\n",
      "Resolving immortal.multicomp.cs.cmu.edu (immortal.multicomp.cs.cmu.edu)... 128.2.211.216\n",
      "Connecting to immortal.multicomp.cs.cmu.edu (immortal.multicomp.cs.cmu.edu)|128.2.211.216|:80... connected.\n",
      "HTTP request sent, awaiting response... 200 OK\n",
      "Length: 311438653 (297M) [application/zip]\n",
      "Saving to: ‘data.zip.1’\n",
      "\n",
      "data.zip.1            8%[>                   ]  24.33M  5.76MB/s    eta 62s    ^C\n"
     ]
    }
   ],
   "source": [
    "!wget \"http://immortal.multicomp.cs.cmu.edu/raw_datasets/old_processed_data/iemocap/data.zip\""
   ]
  },
  {
   "cell_type": "code",
   "execution_count": 0,
   "metadata": {
    "colab": {
     "base_uri": "https://localhost:8080/",
     "height": 52
    },
    "colab_type": "code",
    "id": "IJKVqYzwdF6k",
    "outputId": "32a6608d-e976-4945-9bc7-561a54c628f8"
   },
   "outputs": [
    {
     "name": "stdout",
     "output_type": "stream",
     "text": [
      "Archive:  data.zip\n",
      "replace data/facet_valid.p? [y]es, [n]o, [A]ll, [N]one, [r]ename: "
     ]
    }
   ],
   "source": [
    "!unzip -P \"hello_iemocap_2008\" data.zip"
   ]
  },
  {
   "cell_type": "code",
   "execution_count": 0,
   "metadata": {
    "colab": {
     "base_uri": "https://localhost:8080/",
     "height": 87
    },
    "colab_type": "code",
    "id": "Ub2vf5QGvr9l",
    "outputId": "c067e788-246f-443e-e952-d7386e250b89"
   },
   "outputs": [
    {
     "name": "stdout",
     "output_type": "stream",
     "text": [
      "cm_audio.npy         \u001b[0m\u001b[01;34mdata\u001b[0m/            late_fusion.h5     unimodal_visual.h5\n",
      "cm_early_fusion.npy  data.zip         \u001b[01;34msample_data\u001b[0m/\n",
      "cm_text.npy          data.zip.1       unimodal_audio.h5\n",
      "cm_video.npy         early_fusion.h5  unimodal_text.h5\n"
     ]
    }
   ],
   "source": [
    "ls"
   ]
  },
  {
   "cell_type": "code",
   "execution_count": 0,
   "metadata": {
    "colab": {
     "base_uri": "https://localhost:8080/",
     "height": 87
    },
    "colab_type": "code",
    "id": "JSFBZgdcdclH",
    "outputId": "f48bef45-bb44-4911-9a71-43832cf34f46"
   },
   "outputs": [
    {
     "name": "stdout",
     "output_type": "stream",
     "text": [
      "(6373, 21, 35) (1807, 21, 35) (1775, 21, 35)\n",
      "(6373, 21, 300) (1807, 21, 300) (1775, 21, 300)\n",
      "(6373, 21, 74) (1807, 21, 74) (1775, 21, 74)\n",
      "(6373, 9) (1807, 9) (1775, 9)\n"
     ]
    }
   ],
   "source": [
    "import pickle\n",
    "\n",
    "Train_video = pickle.load(open(\"data/facet_train.p\",'rb'),encoding='latin1')\n",
    "Test_video = pickle.load(open(\"data/facet_test.p\",'rb'),encoding='latin1')\n",
    "Valid_video = pickle.load(open(\"data/facet_valid.p\",'rb'),encoding='latin1')\n",
    "\n",
    "Train_text = pickle.load(open(\"data/text_train.p\",'rb'),encoding='latin1')\n",
    "Test_text = pickle.load(open(\"data/text_test.p\",'rb'),encoding='latin1')\n",
    "Valid_text = pickle.load(open(\"data/text_valid.p\",'rb'),encoding='latin1')\n",
    "\n",
    "Train_audio = pickle.load(open(\"data/covarep_train.p\",'rb'),encoding='latin1')\n",
    "Test_audio = pickle.load(open(\"data/covarep_test.p\",'rb'),encoding='latin1')\n",
    "Valid_audio = pickle.load(open(\"data/covarep_valid.p\",'rb'),encoding='latin1')\n",
    "\n",
    "Y_train =  pickle.load(open(\"data/y_train.p\",'rb'),encoding='latin1')\n",
    "Y_test =  pickle.load(open(\"data/y_test.p\",'rb'),encoding='latin1')\n",
    "Y_valid =  pickle.load(open(\"data/y_valid.p\",'rb'),encoding='latin1')\n",
    "\n",
    "Y_train = Y_train[:,1:-1]  # selecting only emotion label and ignoring others and unknown\n",
    "Y_test = Y_test[:,1:-1]    # regarding 11 features:\n",
    "Y_valid = Y_valid[:,1:-1]  # Other Anger Excited Fear Sad Surprised Frustrated Happy Neutral Disgust (unknown)\n",
    "\n",
    "print(Train_video.shape,Test_video.shape,Valid_video.shape)\n",
    "print(Train_text.shape,Test_text.shape,Valid_text.shape)\n",
    "print(Train_audio.shape,Test_audio.shape,Valid_audio.shape)\n",
    "print(Y_train.shape,Y_test.shape,Y_valid.shape)\n",
    "\n",
    "\n",
    "Y_train = Y_train[:,[0,1,3,5,6,7]]\n",
    "Y_test = Y_test[:,[0,1,3,5,6,7]]\n",
    "Y_valid = Y_valid[:,[0,1,3,5,6,7]]\n",
    "target_names = ['Anger','Excited','Sad','Frustrated','Happy','Neutral']\n",
    "map = {0:\"Anger\",1:\"Excited\",2:\"Fear\",3:\"Sad\",4:\"Surprised\",5:\"Frustrated\",6:\"Happy\",7:\"Neutral\",8:\"Disgust\"}"
   ]
  },
  {
   "cell_type": "code",
   "execution_count": 0,
   "metadata": {
    "colab": {
     "base_uri": "https://localhost:8080/",
     "height": 121
    },
    "colab_type": "code",
    "id": "md8oKCnA5iR0",
    "outputId": "7856d7d7-5f05-4fbd-beb3-f55fd4ccf4a8"
   },
   "outputs": [
    {
     "name": "stdout",
     "output_type": "stream",
     "text": [
      "0  :  735 136 227\n",
      "1  :  686 206 141\n",
      "2  :  690 188 193\n",
      "3  :  1235 319 278\n",
      "4  :  338 116 135\n",
      "5  :  954 358 383\n"
     ]
    }
   ],
   "source": [
    "for i in range(6):\n",
    "  print(i,\" : \",Y_train[:,i].sum(),Y_valid[:,i].sum(),Y_test[:,i].sum())"
   ]
  },
  {
   "cell_type": "code",
   "execution_count": 0,
   "metadata": {
    "colab": {
     "base_uri": "https://localhost:8080/",
     "height": 35
    },
    "colab_type": "code",
    "id": "jrzKnccgd-YH",
    "outputId": "aed691e6-1bbb-4b05-fcf5-99a0e56b075d"
   },
   "outputs": [
    {
     "name": "stderr",
     "output_type": "stream",
     "text": [
      "Using TensorFlow backend.\n"
     ]
    }
   ],
   "source": [
    "import pandas as pd\n",
    "import numpy as np\n",
    "import h5py\n",
    "from keras.models import load_model\n",
    "import numpy as np\n",
    "import matplotlib.pyplot as plt\n",
    "import seaborn as sn\n",
    "import pandas as pd\n",
    "from sklearn.model_selection import train_test_split\n",
    "from sklearn.metrics import confusion_matrix, f1_score, classification_report\n",
    "from sklearn.utils.multiclass import unique_labels\n",
    "import keras\n",
    "import tensorflow as tf\n",
    "from time import time\n",
    "import scipy\n",
    "from keras import layers\n",
    "from google.colab import files\t\n",
    "from keras.models import load_model\n",
    "from keras.models import Model,Sequential,Model\n",
    "from keras.layers import *\n",
    "from keras.callbacks import TensorBoard\n",
    "from keras import callbacks\n",
    "from keras.callbacks import *\n",
    "%matplotlib inline"
   ]
  },
  {
   "cell_type": "code",
   "execution_count": 0,
   "metadata": {
    "colab": {
     "base_uri": "https://localhost:8080/",
     "height": 1000
    },
    "colab_type": "code",
    "id": "5hfGvbVFhxvU",
    "outputId": "01b75f43-2f86-42b8-b2e6-7cdb0ec33344"
   },
   "outputs": [
    {
     "name": "stdout",
     "output_type": "stream",
     "text": [
      "_________________________________________________________________\n",
      "Layer (type)                 Output Shape              Param #   \n",
      "=================================================================\n",
      "input_30 (InputLayer)        (None, 21, 35)            0         \n",
      "_________________________________________________________________\n",
      "lstm_83 (LSTM)               (None, 21, 64)            25600     \n",
      "_________________________________________________________________\n",
      "lstm_84 (LSTM)               (None, 64)                33024     \n",
      "_________________________________________________________________\n",
      "dense_85 (Dense)             (None, 64)                4160      \n",
      "_________________________________________________________________\n",
      "dense_86 (Dense)             (None, 64)                4160      \n",
      "_________________________________________________________________\n",
      "dense_87 (Dense)             (None, 6)                 390       \n",
      "=================================================================\n",
      "Total params: 67,334\n",
      "Trainable params: 67,334\n",
      "Non-trainable params: 0\n",
      "_________________________________________________________________\n",
      "None\n",
      "Train on 6373 samples, validate on 1775 samples\n",
      "Epoch 1/100\n",
      "6373/6373 [==============================] - 21s 3ms/step - loss: 1.2517 - acc: 0.2046 - val_loss: 1.2807 - val_acc: 0.1893\n",
      "Epoch 2/100\n",
      "6373/6373 [==============================] - 5s 827us/step - loss: 1.1924 - acc: 0.2316 - val_loss: 1.2826 - val_acc: 0.1927\n",
      "Epoch 3/100\n",
      "6373/6373 [==============================] - 5s 828us/step - loss: 1.1598 - acc: 0.2547 - val_loss: 1.2899 - val_acc: 0.1955\n",
      "Epoch 4/100\n",
      "6373/6373 [==============================] - 5s 823us/step - loss: 1.1430 - acc: 0.2646 - val_loss: 1.2854 - val_acc: 0.1961\n",
      "Epoch 5/100\n",
      "6373/6373 [==============================] - 5s 817us/step - loss: 1.1289 - acc: 0.2647 - val_loss: 1.2629 - val_acc: 0.2237\n",
      "Epoch 6/100\n",
      "6373/6373 [==============================] - 5s 814us/step - loss: 1.1103 - acc: 0.2771 - val_loss: 1.2635 - val_acc: 0.2282\n",
      "Epoch 7/100\n",
      "6373/6373 [==============================] - 5s 817us/step - loss: 1.0967 - acc: 0.2848 - val_loss: 1.2730 - val_acc: 0.1966\n",
      "Epoch 8/100\n",
      "6373/6373 [==============================] - 5s 815us/step - loss: 1.0846 - acc: 0.2934 - val_loss: 1.2830 - val_acc: 0.2203\n",
      "Epoch 9/100\n",
      "6373/6373 [==============================] - 5s 830us/step - loss: 1.0596 - acc: 0.2975 - val_loss: 1.2844 - val_acc: 0.2237\n",
      "Epoch 10/100\n",
      "6373/6373 [==============================] - 5s 828us/step - loss: 1.0454 - acc: 0.3127 - val_loss: 1.2857 - val_acc: 0.2259\n",
      "Epoch 11/100\n",
      "6373/6373 [==============================] - 5s 817us/step - loss: 1.0365 - acc: 0.3160 - val_loss: 1.2868 - val_acc: 0.2242\n",
      "Epoch 00011: early stopping\n",
      "1807/1807 [==============================] - 2s 1ms/step\n",
      "[1.288217584533987, 0.2285556170736879]\n",
      "###############################################################\n",
      "UNIMODAL VISUAL RESULTS\n",
      "              precision    recall  f1-score   support\n",
      "\n",
      "       Anger       0.42      0.05      0.08       677\n",
      "     Excited       0.25      0.43      0.31       141\n",
      "         Sad       0.18      0.13      0.15       193\n",
      "  Frustrated       0.18      0.36      0.24       278\n",
      "       Happy       0.17      0.01      0.03       135\n",
      "     Neutral       0.25      0.50      0.33       383\n",
      "\n",
      "    accuracy                           0.23      1807\n",
      "   macro avg       0.24      0.25      0.19      1807\n",
      "weighted avg       0.29      0.23      0.18      1807\n",
      "\n"
     ]
    },
    {
     "data": {
      "text/plain": [
       "<matplotlib.axes._subplots.AxesSubplot at 0x7f3419f12f28>"
      ]
     },
     "execution_count": 86,
     "metadata": {
      "tags": []
     },
     "output_type": "execute_result"
    },
    {
     "data": {
      "image/png": "[encoded data removed]",
      "text/plain": [
       "<Figure size 720x504 with 2 Axes>"
      ]
     },
     "metadata": {
      "tags": []
     },
     "output_type": "display_data"
    }
   ],
   "source": [
    "i_v = Input(shape=(21,35))\n",
    "x = LSTM(units=64,return_sequences=True)(i_v)\n",
    "x = LSTM(units=64,return_sequences=False)(x)\n",
    "x = Dense(units=64,activation='relu')(x)\n",
    "x = Dense(units=64,activation='relu')(x)\n",
    "o_v = Dense(6,activation='softmax')(x)\n",
    "\n",
    "m_v = Model(i_v,o_v)\n",
    "m_v.compile('adam','categorical_crossentropy',metrics=['accuracy'])\n",
    "print(m_v.summary())\n",
    "es = EarlyStopping(monitor='val_acc',mode='max' ,patience=5, min_delta=0.0001,verbose=1)\n",
    "reduce_lr = ReduceLROnPlateau(monitor='val_acc', factor=0.2,patience=2,min_lr=0.00001)\n",
    "m_v.fit(Train_video,Y_train,128,epochs=100,validation_data=(Valid_video,Y_valid),callbacks=[es,reduce_lr])\n",
    "print(m_v.evaluate(Test_video,Y_test))\n",
    "\n",
    "\n",
    "print(\"###############################################################\")\n",
    "y_pred = np.argmax(m_v.predict(Test_video),axis=1)\n",
    "y_true = np.argmax(Y_test,axis=1)\n",
    "cm = confusion_matrix(y_true,y_pred)\n",
    "np.save(\"cm_video.npy\",cm)\n",
    "df = pd.DataFrame(cm)\n",
    "plt.figure(figsize = (10,7),)\n",
    "print(\"UNIMODAL VISUAL RESULTS\")\n",
    "print(classification_report(y_true,y_pred,target_names=target_names))\n",
    "sn.heatmap(cm, annot=True,xticklabels=True,yticklabels=True)"
   ]
  },
  {
   "cell_type": "code",
   "execution_count": 0,
   "metadata": {
    "colab": {
     "base_uri": "https://localhost:8080/",
     "height": 1000
    },
    "colab_type": "code",
    "id": "J5-sGXWBxKn6",
    "outputId": "3833f2b9-2ec0-47bf-8d9a-173f1a6ad444"
   },
   "outputs": [
    {
     "name": "stdout",
     "output_type": "stream",
     "text": [
      "_________________________________________________________________\n",
      "Layer (type)                 Output Shape              Param #   \n",
      "=================================================================\n",
      "input_31 (InputLayer)        (None, 21, 74)            0         \n",
      "_________________________________________________________________\n",
      "lstm_85 (LSTM)               (None, 21, 128)           103936    \n",
      "_________________________________________________________________\n",
      "lstm_86 (LSTM)               (None, 21, 64)            49408     \n",
      "_________________________________________________________________\n",
      "lstm_87 (LSTM)               (None, 64)                33024     \n",
      "_________________________________________________________________\n",
      "dense_88 (Dense)             (None, 64)                4160      \n",
      "_________________________________________________________________\n",
      "dense_89 (Dense)             (None, 64)                4160      \n",
      "_________________________________________________________________\n",
      "dense_90 (Dense)             (None, 6)                 390       \n",
      "=================================================================\n",
      "Total params: 195,078\n",
      "Trainable params: 195,078\n",
      "Non-trainable params: 0\n",
      "_________________________________________________________________\n",
      "None\n",
      "Train on 6373 samples, validate on 1775 samples\n",
      "Epoch 1/100\n",
      "6373/6373 [==============================] - 24s 4ms/step - loss: 1.2607 - acc: 0.1905 - val_loss: 1.2896 - val_acc: 0.1983\n",
      "Epoch 2/100\n",
      "6373/6373 [==============================] - 8s 1ms/step - loss: 1.2363 - acc: 0.2206 - val_loss: 1.2641 - val_acc: 0.2524\n",
      "Epoch 3/100\n",
      "6373/6373 [==============================] - 8s 1ms/step - loss: 1.2188 - acc: 0.2587 - val_loss: 1.2457 - val_acc: 0.1977\n",
      "Epoch 4/100\n",
      "6373/6373 [==============================] - 8s 1ms/step - loss: 1.1868 - acc: 0.2702 - val_loss: 1.2113 - val_acc: 0.2806\n",
      "Epoch 5/100\n",
      "6373/6373 [==============================] - 8s 1ms/step - loss: 1.1568 - acc: 0.2793 - val_loss: 1.1648 - val_acc: 0.2963\n",
      "Epoch 6/100\n",
      "6373/6373 [==============================] - 8s 1ms/step - loss: 1.1433 - acc: 0.2817 - val_loss: 1.1730 - val_acc: 0.2721\n",
      "Epoch 7/100\n",
      "6373/6373 [==============================] - 8s 1ms/step - loss: 1.1350 - acc: 0.2828 - val_loss: 1.2027 - val_acc: 0.2361\n",
      "Epoch 8/100\n",
      "6373/6373 [==============================] - 8s 1ms/step - loss: 1.1102 - acc: 0.2973 - val_loss: 1.1508 - val_acc: 0.2975\n",
      "Epoch 9/100\n",
      "6373/6373 [==============================] - 8s 1ms/step - loss: 1.0968 - acc: 0.3061 - val_loss: 1.1723 - val_acc: 0.2986\n",
      "Epoch 10/100\n",
      "6373/6373 [==============================] - 8s 1ms/step - loss: 1.0908 - acc: 0.3090 - val_loss: 1.1342 - val_acc: 0.2975\n",
      "Epoch 11/100\n",
      "6373/6373 [==============================] - 8s 1ms/step - loss: 1.0878 - acc: 0.3055 - val_loss: 1.1255 - val_acc: 0.3070\n",
      "Epoch 12/100\n",
      "6373/6373 [==============================] - 8s 1ms/step - loss: 1.0850 - acc: 0.3124 - val_loss: 1.1358 - val_acc: 0.2890\n",
      "Epoch 13/100\n",
      "6373/6373 [==============================] - 8s 1ms/step - loss: 1.0804 - acc: 0.3101 - val_loss: 1.1089 - val_acc: 0.3076\n",
      "Epoch 14/100\n",
      "6373/6373 [==============================] - 8s 1ms/step - loss: 1.0803 - acc: 0.3123 - val_loss: 1.1460 - val_acc: 0.2946\n",
      "Epoch 15/100\n",
      "6373/6373 [==============================] - 8s 1ms/step - loss: 1.0775 - acc: 0.3118 - val_loss: 1.1578 - val_acc: 0.2975\n",
      "Epoch 16/100\n",
      "6373/6373 [==============================] - 8s 1ms/step - loss: 1.0662 - acc: 0.3228 - val_loss: 1.1191 - val_acc: 0.3003\n",
      "Epoch 17/100\n",
      "6373/6373 [==============================] - 8s 1ms/step - loss: 1.0635 - acc: 0.3212 - val_loss: 1.1273 - val_acc: 0.3003\n",
      "Epoch 18/100\n",
      "6373/6373 [==============================] - 8s 1ms/step - loss: 1.0618 - acc: 0.3228 - val_loss: 1.1265 - val_acc: 0.3014\n",
      "Epoch 00018: early stopping\n",
      "1807/1807 [==============================] - 3s 2ms/step\n",
      "[1.1940287407023773, 0.30935251798561153]\n",
      "###############################################################\n",
      "UNIMODAL AUDIO RESULTS\n",
      "              precision    recall  f1-score   support\n",
      "\n",
      "       Anger       0.55      0.32      0.41       677\n",
      "     Excited       0.11      0.05      0.07       141\n",
      "         Sad       0.37      0.42      0.40       193\n",
      "  Frustrated       0.18      0.51      0.26       278\n",
      "       Happy       0.00      0.00      0.00       135\n",
      "     Neutral       0.34      0.28      0.31       383\n",
      "\n",
      "    accuracy                           0.31      1807\n",
      "   macro avg       0.26      0.27      0.24      1807\n",
      "weighted avg       0.35      0.31      0.31      1807\n",
      "\n"
     ]
    },
    {
     "name": "stderr",
     "output_type": "stream",
     "text": [
      "/usr/local/lib/python3.6/dist-packages/sklearn/metrics/classification.py:1437: UndefinedMetricWarning: Precision and F-score are ill-defined and being set to 0.0 in labels with no predicted samples.\n",
      "  'precision', 'predicted', average, warn_for)\n"
     ]
    },
    {
     "data": {
      "text/plain": [
       "<matplotlib.axes._subplots.AxesSubplot at 0x7f3417ea0278>"
      ]
     },
     "execution_count": 87,
     "metadata": {
      "tags": []
     },
     "output_type": "execute_result"
    },
    {
     "data": {
      "image/png": "[encoded data removed]",
      "text/plain": [
       "<Figure size 720x504 with 2 Axes>"
      ]
     },
     "metadata": {
      "tags": []
     },
     "output_type": "display_data"
    }
   ],
   "source": [
    "i_a = Input(shape=(21,74))\n",
    "x = LSTM(units=128,return_sequences=True)(i_a)\n",
    "x = LSTM(units=64,return_sequences=True)(x)\n",
    "x = LSTM(units=64,return_sequences=False)(x)\n",
    "x = Dense(units=64,activation='relu')(x)\n",
    "x = Dense(units=64,activation='relu')(x)\n",
    "o_a = Dense(6,activation='softmax')(x)\n",
    "\n",
    "m_a = Model(i_a,o_a)\n",
    "m_a.compile('adam','categorical_crossentropy',metrics=['accuracy'])\n",
    "print(m_a.summary())\n",
    "es = EarlyStopping(monitor='val_acc',mode='max' ,patience=5, min_delta=0.0001,verbose=1)\n",
    "reduce_lr = ReduceLROnPlateau(monitor='val_acc', factor=0.2,patience=2,min_lr=0.00001)\n",
    "m_a.fit(Train_audio,Y_train,128,epochs=100,validation_data=(Valid_audio,Y_valid),callbacks=[es,reduce_lr])\n",
    "print(m_a.evaluate(Test_audio,Y_test))\n",
    "\n",
    "\n",
    "print(\"###############################################################\")\n",
    "y_pred = np.argmax(m_a.predict(Test_audio),axis=1)\n",
    "y_true = np.argmax(Y_test,axis=1)\n",
    "cm = confusion_matrix(y_true,y_pred)\n",
    "np.save(\"cm_audio.npy\",cm)\n",
    "df = pd.DataFrame(cm)\n",
    "plt.figure(figsize = (10,7),)\n",
    "print(\"UNIMODAL AUDIO RESULTS\")\n",
    "print(classification_report(y_true,y_pred,target_names=target_names))\n",
    "sn.heatmap(cm, annot=True,xticklabels=True,yticklabels=True)"
   ]
  },
  {
   "cell_type": "code",
   "execution_count": 0,
   "metadata": {
    "colab": {
     "base_uri": "https://localhost:8080/",
     "height": 1000
    },
    "colab_type": "code",
    "id": "7sOKDoKj60NZ",
    "outputId": "c2db2f5a-4654-4f7b-f0ae-f6d7be51b164"
   },
   "outputs": [
    {
     "name": "stdout",
     "output_type": "stream",
     "text": [
      "_________________________________________________________________\n",
      "Layer (type)                 Output Shape              Param #   \n",
      "=================================================================\n",
      "input_32 (InputLayer)        (None, 21, 300)           0         \n",
      "_________________________________________________________________\n",
      "lstm_88 (LSTM)               (None, 21, 256)           570368    \n",
      "_________________________________________________________________\n",
      "lstm_89 (LSTM)               (None, 21, 128)           197120    \n",
      "_________________________________________________________________\n",
      "lstm_90 (LSTM)               (None, 21, 64)            49408     \n",
      "_________________________________________________________________\n",
      "lstm_91 (LSTM)               (None, 64)                33024     \n",
      "_________________________________________________________________\n",
      "dense_91 (Dense)             (None, 64)                4160      \n",
      "_________________________________________________________________\n",
      "dense_92 (Dense)             (None, 64)                4160      \n",
      "_________________________________________________________________\n",
      "dense_93 (Dense)             (None, 6)                 390       \n",
      "=================================================================\n",
      "Total params: 858,630\n",
      "Trainable params: 858,630\n",
      "Non-trainable params: 0\n",
      "_________________________________________________________________\n",
      "None\n",
      "Train on 6373 samples, validate on 1775 samples\n",
      "Epoch 1/100\n",
      "6373/6373 [==============================] - 29s 5ms/step - loss: 1.2567 - acc: 0.1997 - val_loss: 1.2613 - val_acc: 0.2186\n",
      "Epoch 2/100\n",
      "6373/6373 [==============================] - 11s 2ms/step - loss: 1.2049 - acc: 0.2263 - val_loss: 1.2052 - val_acc: 0.2637\n",
      "Epoch 3/100\n",
      "6373/6373 [==============================] - 11s 2ms/step - loss: 1.1650 - acc: 0.2515 - val_loss: 1.1700 - val_acc: 0.2721\n",
      "Epoch 4/100\n",
      "6373/6373 [==============================] - 11s 2ms/step - loss: 1.1240 - acc: 0.2851 - val_loss: 1.1453 - val_acc: 0.2772\n",
      "Epoch 5/100\n",
      "6373/6373 [==============================] - 11s 2ms/step - loss: 1.0857 - acc: 0.3190 - val_loss: 1.1364 - val_acc: 0.3059\n",
      "Epoch 6/100\n",
      "6373/6373 [==============================] - 11s 2ms/step - loss: 1.0409 - acc: 0.3432 - val_loss: 1.0995 - val_acc: 0.3623\n",
      "Epoch 7/100\n",
      "6373/6373 [==============================] - 11s 2ms/step - loss: 0.9865 - acc: 0.3687 - val_loss: 1.0813 - val_acc: 0.3611\n",
      "Epoch 8/100\n",
      "6373/6373 [==============================] - 11s 2ms/step - loss: 0.9334 - acc: 0.3946 - val_loss: 1.0448 - val_acc: 0.3713\n",
      "Epoch 9/100\n",
      "6373/6373 [==============================] - 11s 2ms/step - loss: 0.8799 - acc: 0.4149 - val_loss: 1.0222 - val_acc: 0.3887\n",
      "Epoch 10/100\n",
      "6373/6373 [==============================] - 11s 2ms/step - loss: 0.8274 - acc: 0.4395 - val_loss: 1.0153 - val_acc: 0.3842\n",
      "Epoch 11/100\n",
      "6373/6373 [==============================] - 11s 2ms/step - loss: 0.7899 - acc: 0.4590 - val_loss: 1.0786 - val_acc: 0.3859\n",
      "Epoch 12/100\n",
      "6373/6373 [==============================] - 11s 2ms/step - loss: 0.6937 - acc: 0.4965 - val_loss: 1.0303 - val_acc: 0.4000\n",
      "Epoch 13/100\n",
      "6373/6373 [==============================] - 11s 2ms/step - loss: 0.6505 - acc: 0.5126 - val_loss: 1.0319 - val_acc: 0.4107\n",
      "Epoch 14/100\n",
      "6373/6373 [==============================] - 11s 2ms/step - loss: 0.6179 - acc: 0.5310 - val_loss: 1.0763 - val_acc: 0.4045\n",
      "Epoch 15/100\n",
      "6373/6373 [==============================] - 11s 2ms/step - loss: 0.5968 - acc: 0.5404 - val_loss: 1.0799 - val_acc: 0.4039\n",
      "Epoch 16/100\n",
      "6373/6373 [==============================] - 11s 2ms/step - loss: 0.5619 - acc: 0.5506 - val_loss: 1.1003 - val_acc: 0.4130\n",
      "Epoch 17/100\n",
      "6373/6373 [==============================] - 11s 2ms/step - loss: 0.5482 - acc: 0.5597 - val_loss: 1.1028 - val_acc: 0.4107\n",
      "Epoch 18/100\n",
      "6373/6373 [==============================] - 11s 2ms/step - loss: 0.5400 - acc: 0.5616 - val_loss: 1.1198 - val_acc: 0.4124\n",
      "Epoch 19/100\n",
      "6373/6373 [==============================] - 11s 2ms/step - loss: 0.5304 - acc: 0.5677 - val_loss: 1.1149 - val_acc: 0.4096\n",
      "Epoch 20/100\n",
      "6373/6373 [==============================] - 11s 2ms/step - loss: 0.5282 - acc: 0.5685 - val_loss: 1.1208 - val_acc: 0.4090\n",
      "Epoch 21/100\n",
      "6373/6373 [==============================] - 11s 2ms/step - loss: 0.5264 - acc: 0.5682 - val_loss: 1.1240 - val_acc: 0.4124\n",
      "Epoch 00021: early stopping\n",
      "1807/1807 [==============================] - 4s 2ms/step\n",
      "[1.365416352895326, 0.36635307141378165]\n",
      "###############################################################\n",
      "UNIMODAL TEXT RESULTS\n",
      "              precision    recall  f1-score   support\n",
      "\n",
      "       Anger       0.72      0.26      0.39       677\n",
      "     Excited       0.22      0.45      0.30       141\n",
      "         Sad       0.36      0.52      0.43       193\n",
      "  Frustrated       0.32      0.51      0.39       278\n",
      "       Happy       0.22      0.21      0.22       135\n",
      "     Neutral       0.36      0.38      0.37       383\n",
      "\n",
      "    accuracy                           0.37      1807\n",
      "   macro avg       0.37      0.39      0.35      1807\n",
      "weighted avg       0.47      0.37      0.37      1807\n",
      "\n"
     ]
    },
    {
     "data": {
      "text/plain": [
       "<matplotlib.axes._subplots.AxesSubplot at 0x7f34154a9d68>"
      ]
     },
     "execution_count": 88,
     "metadata": {
      "tags": []
     },
     "output_type": "execute_result"
    },
    {
     "data": {
      "image/png": "[encoded data removed]",
      "text/plain": [
       "<Figure size 720x504 with 2 Axes>"
      ]
     },
     "metadata": {
      "tags": []
     },
     "output_type": "display_data"
    }
   ],
   "source": [
    "i_t = Input(shape=(21,300))\n",
    "x = LSTM(units=256,return_sequences=True)(i_t)\n",
    "x = LSTM(units=128,return_sequences=True)(x)\n",
    "x = LSTM(units=64,return_sequences=True)(x)\n",
    "x = LSTM(units=64,return_sequences=False)(x)\n",
    "x = Dense(units=64,activation='relu')(x)\n",
    "x = Dense(units=64,activation='relu')(x)\n",
    "o_t = Dense(6,activation='softmax')(x)\n",
    "\n",
    "m_t = Model(i_t,o_t)\n",
    "m_t.compile('adam','categorical_crossentropy',metrics=['accuracy'])\n",
    "print(m_t.summary())\n",
    "es = EarlyStopping(monitor='val_acc',mode='max' ,patience=5, min_delta=0.0001,verbose=1)\n",
    "reduce_lr = ReduceLROnPlateau(monitor='val_acc', factor=0.2,patience=2,min_lr=0.00001)\n",
    "m_t.fit(Train_text,Y_train,128,epochs=100,validation_data=(Valid_text,Y_valid),callbacks=[es,reduce_lr])\n",
    "print(m_t.evaluate(Test_text,Y_test))\n",
    "\n",
    "\n",
    "print(\"###############################################################\")\n",
    "y_pred = np.argmax(m_t.predict(Test_text),axis=1)\n",
    "y_true = np.argmax(Y_test,axis=1)\n",
    "cm = confusion_matrix(y_true,y_pred)\n",
    "np.save(\"cm_text.npy\",cm)\n",
    "df = pd.DataFrame(cm)\n",
    "plt.figure(figsize = (10,7),)\n",
    "print(\"UNIMODAL TEXT RESULTS\")\n",
    "print(classification_report(y_true,y_pred,target_names=target_names))\n",
    "sn.heatmap(cm, annot=True,xticklabels=True,yticklabels=True)"
   ]
  },
  {
   "cell_type": "code",
   "execution_count": 0,
   "metadata": {
    "colab": {},
    "colab_type": "code",
    "id": "O5Hh4AMw7Jq-"
   },
   "outputs": [],
   "source": [
    "m_v.save(\"unimodal_visual.h5\")\n",
    "m_t.save(\"unimodal_text.h5\")\n",
    "m_a.save(\"unimodal_audio.h5\")\n",
    "files.download(\"unimodal_visual.h5\")\n",
    "files.download('unimodal_text.h5')\n",
    "files.download('unimodal_audio.h5')\n",
    "files.download('cm_video.npy')\n",
    "files.download('cm_audio.npy')\n",
    "files.download('cm_text.npy')"
   ]
  },
  {
   "cell_type": "code",
   "execution_count": 0,
   "metadata": {
    "colab": {
     "base_uri": "https://localhost:8080/",
     "height": 69
    },
    "colab_type": "code",
    "id": "H3B-qdUbQpG0",
    "outputId": "2d90feb6-da17-4772-e8dc-50f77e811e9b"
   },
   "outputs": [
    {
     "name": "stdout",
     "output_type": "stream",
     "text": [
      "(6373, 21, 409)\n",
      "(1807, 21, 409)\n",
      "(1775, 21, 409)\n"
     ]
    }
   ],
   "source": [
    "Train_concat = np.concatenate((Train_audio,Train_text,Train_video),axis=-1)\n",
    "Test_concat = np.concatenate((Test_audio,Test_text,Test_video),axis=-1)\n",
    "Valid_concat = np.concatenate((Valid_audio,Valid_text,Valid_video),axis=-1)\n",
    "\n",
    "print(Train_concat.shape)\n",
    "print(Test_concat.shape)\n",
    "print(Valid_concat.shape)"
   ]
  },
  {
   "cell_type": "code",
   "execution_count": 0,
   "metadata": {
    "colab": {
     "base_uri": "https://localhost:8080/",
     "height": 1000
    },
    "colab_type": "code",
    "id": "mmFlf02-UtS-",
    "outputId": "42e38723-4216-443f-da37-89b0d079cc71"
   },
   "outputs": [
    {
     "name": "stdout",
     "output_type": "stream",
     "text": [
      "_________________________________________________________________\n",
      "Layer (type)                 Output Shape              Param #   \n",
      "=================================================================\n",
      "input_39 (InputLayer)        (None, 21, 409)           0         \n",
      "_________________________________________________________________\n",
      "lstm_117 (LSTM)              (None, 21, 256)           681984    \n",
      "_________________________________________________________________\n",
      "lstm_118 (LSTM)              (None, 21, 128)           197120    \n",
      "_________________________________________________________________\n",
      "lstm_119 (LSTM)              (None, 64)                49408     \n",
      "_________________________________________________________________\n",
      "dense_112 (Dense)            (None, 64)                4160      \n",
      "_________________________________________________________________\n",
      "dropout_9 (Dropout)          (None, 64)                0         \n",
      "_________________________________________________________________\n",
      "dense_113 (Dense)            (None, 64)                4160      \n",
      "_________________________________________________________________\n",
      "dense_114 (Dense)            (None, 6)                 390       \n",
      "=================================================================\n",
      "Total params: 937,222\n",
      "Trainable params: 937,222\n",
      "Non-trainable params: 0\n",
      "_________________________________________________________________\n",
      "None\n",
      "Train on 6373 samples, validate on 1775 samples\n",
      "Epoch 1/100\n",
      "6373/6373 [==============================] - 31s 5ms/step - loss: 1.2727 - acc: 0.1897 - val_loss: 1.2916 - val_acc: 0.1797\n",
      "Epoch 2/100\n",
      "6373/6373 [==============================] - 9s 1ms/step - loss: 1.2465 - acc: 0.2078 - val_loss: 1.2802 - val_acc: 0.2118\n",
      "Epoch 3/100\n",
      "6373/6373 [==============================] - 9s 1ms/step - loss: 1.1873 - acc: 0.2404 - val_loss: 1.2233 - val_acc: 0.2315\n",
      "Epoch 4/100\n",
      "6373/6373 [==============================] - 9s 1ms/step - loss: 1.1409 - acc: 0.2722 - val_loss: 1.1836 - val_acc: 0.2473\n",
      "Epoch 5/100\n",
      "6373/6373 [==============================] - 9s 1ms/step - loss: 1.1013 - acc: 0.3030 - val_loss: 1.2327 - val_acc: 0.3138\n",
      "Epoch 6/100\n",
      "6373/6373 [==============================] - 9s 1ms/step - loss: 1.0553 - acc: 0.3344 - val_loss: 1.1554 - val_acc: 0.2721\n",
      "Epoch 7/100\n",
      "6373/6373 [==============================] - 9s 1ms/step - loss: 1.0232 - acc: 0.3504 - val_loss: 1.1202 - val_acc: 0.3099\n",
      "Epoch 8/100\n",
      "6373/6373 [==============================] - 9s 1ms/step - loss: 0.9361 - acc: 0.3928 - val_loss: 1.0806 - val_acc: 0.3470\n",
      "Epoch 9/100\n",
      "6373/6373 [==============================] - 9s 1ms/step - loss: 0.8892 - acc: 0.4117 - val_loss: 1.1116 - val_acc: 0.3775\n",
      "Epoch 10/100\n",
      "6373/6373 [==============================] - 9s 1ms/step - loss: 0.8662 - acc: 0.4248 - val_loss: 1.0449 - val_acc: 0.3611\n",
      "Epoch 11/100\n",
      "6373/6373 [==============================] - 9s 1ms/step - loss: 0.8380 - acc: 0.4398 - val_loss: 1.0810 - val_acc: 0.3746\n",
      "Epoch 12/100\n",
      "6373/6373 [==============================] - 9s 1ms/step - loss: 0.8022 - acc: 0.4508 - val_loss: 1.0411 - val_acc: 0.3707\n",
      "Epoch 13/100\n",
      "6373/6373 [==============================] - 9s 1ms/step - loss: 0.7861 - acc: 0.4616 - val_loss: 1.0476 - val_acc: 0.3713\n",
      "Epoch 14/100\n",
      "6373/6373 [==============================] - 9s 1ms/step - loss: 0.7783 - acc: 0.4619 - val_loss: 1.0519 - val_acc: 0.3718\n",
      "Epoch 00014: early stopping\n",
      "1807/1807 [==============================] - 3s 2ms/step\n",
      "[1.1556917689555115, 0.37244050915589566]\n",
      "###############################################################\n",
      "Early Fusion RESULTS\n",
      "              precision    recall  f1-score   support\n",
      "\n",
      "       Anger       0.63      0.30      0.41       677\n",
      "     Excited       0.23      0.63      0.34       141\n",
      "         Sad       0.41      0.41      0.41       193\n",
      "  Frustrated       0.28      0.53      0.37       278\n",
      "       Happy       0.12      0.04      0.06       135\n",
      "     Neutral       0.43      0.38      0.40       383\n",
      "\n",
      "    accuracy                           0.37      1807\n",
      "   macro avg       0.35      0.38      0.33      1807\n",
      "weighted avg       0.44      0.37      0.37      1807\n",
      "\n"
     ]
    },
    {
     "data": {
      "text/plain": [
       "<matplotlib.axes._subplots.AxesSubplot at 0x7f3405b9c320>"
      ]
     },
     "execution_count": 99,
     "metadata": {
      "tags": []
     },
     "output_type": "execute_result"
    },
    {
     "data": {
      "image/png": "[encoded data removed]",
      "text/plain": [
       "<Figure size 720x504 with 2 Axes>"
      ]
     },
     "metadata": {
      "tags": []
     },
     "output_type": "display_data"
    }
   ],
   "source": [
    "i_c = Input(shape=(21,409))\n",
    "x = LSTM(units=256,return_sequences=True)(i_c)\n",
    "x = LSTM(units=128,return_sequences=True)(x)\n",
    "x = LSTM(units=64,return_sequences=False)(x)\n",
    "x = Dense(units=64,activation='relu')(x)\n",
    "x = Dropout(rate=0.5)(x)\n",
    "x = Dense(units=64,activation='relu')(x)\n",
    "o_c = Dense(6,activation='softmax')(x)\n",
    "\n",
    "m_c = Model(i_c,o_c)\n",
    "m_c.compile('adam','categorical_crossentropy',metrics=['accuracy'])\n",
    "print(m_c.summary())\n",
    "es = EarlyStopping(monitor='val_acc',mode='max' ,patience=5, min_delta=0.0001,verbose=1)\n",
    "reduce_lr = ReduceLROnPlateau(monitor='val_acc', factor=0.2,patience=2,min_lr=0.00001)\n",
    "m_c.fit(Train_concat,Y_train,128,epochs=100,validation_data=(Valid_concat,Y_valid),callbacks=[es,reduce_lr])\n",
    "print(m_c.evaluate(Test_concat,Y_test))\n",
    "\n",
    "\n",
    "print(\"###############################################################\")\n",
    "y_pred = np.argmax(m_c.predict(Test_concat),axis=1)\n",
    "y_true = np.argmax(Y_test,axis=1)\n",
    "cm = confusion_matrix(y_true,y_pred)\n",
    "np.save(\"cm_early_fusion.npy\",cm)\n",
    "df = pd.DataFrame(cm)\n",
    "plt.figure(figsize = (10,7),)\n",
    "print(\"Early Fusion RESULTS\")\n",
    "print(classification_report(y_true,y_pred,target_names=target_names))\n",
    "sn.heatmap(cm, annot=True,xticklabels=True,yticklabels=True)"
   ]
  },
  {
   "cell_type": "code",
   "execution_count": 0,
   "metadata": {
    "colab": {},
    "colab_type": "code",
    "id": "H_mleJT4V3vG"
   },
   "outputs": [],
   "source": [
    "m_c.save(\"early_fusion.h5\")\n",
    "files.download(\"early_fusion.h5\")\n",
    "files.download(\"cm_early_fusion.npy\")\n",
    "  "
   ]
  },
  {
   "cell_type": "code",
   "execution_count": 0,
   "metadata": {
    "colab": {},
    "colab_type": "code",
    "id": "2He_Ix9GenOW"
   },
   "outputs": [],
   "source": [
    "m_v = load_model(\"unimodal_visual.h5\")\n",
    "m_a = load_model(\"unimodal_audio.h5\")\n",
    "m_t = load_model(\"unimodal_text.h5\")"
   ]
  },
  {
   "cell_type": "code",
   "execution_count": 0,
   "metadata": {
    "colab": {},
    "colab_type": "code",
    "id": "c8l6t95Pf6iw"
   },
   "outputs": [],
   "source": [
    "print(m_v.summary())\n",
    "print(m_a.summary())\n",
    "print(m_t.summary())"
   ]
  },
  {
   "cell_type": "code",
   "execution_count": 0,
   "metadata": {
    "colab": {
     "base_uri": "https://localhost:8080/",
     "height": 953
    },
    "colab_type": "code",
    "id": "WgzINa7tgGKK",
    "outputId": "cdc5926b-ea87-4d18-c42d-23ad1681336c"
   },
   "outputs": [
    {
     "name": "stdout",
     "output_type": "stream",
     "text": [
      "_________________________________________________________________\n",
      "Layer (type)                 Output Shape              Param #   \n",
      "=================================================================\n",
      "lstm_83 (LSTM)               (None, 21, 64)            25600     \n",
      "_________________________________________________________________\n",
      "lstm_84 (LSTM)               (None, 64)                33024     \n",
      "_________________________________________________________________\n",
      "dense_85 (Dense)             (None, 64)                4160      \n",
      "_________________________________________________________________\n",
      "dense_86 (Dense)             (None, 64)                4160      \n",
      "=================================================================\n",
      "Total params: 66,944\n",
      "Trainable params: 0\n",
      "Non-trainable params: 66,944\n",
      "_________________________________________________________________\n",
      "None\n",
      "_________________________________________________________________\n",
      "Layer (type)                 Output Shape              Param #   \n",
      "=================================================================\n",
      "lstm_85 (LSTM)               (None, 21, 128)           103936    \n",
      "_________________________________________________________________\n",
      "lstm_86 (LSTM)               (None, 21, 64)            49408     \n",
      "_________________________________________________________________\n",
      "lstm_87 (LSTM)               (None, 64)                33024     \n",
      "_________________________________________________________________\n",
      "dense_88 (Dense)             (None, 64)                4160      \n",
      "_________________________________________________________________\n",
      "dense_89 (Dense)             (None, 64)                4160      \n",
      "=================================================================\n",
      "Total params: 194,688\n",
      "Trainable params: 0\n",
      "Non-trainable params: 194,688\n",
      "_________________________________________________________________\n",
      "None\n",
      "_________________________________________________________________\n",
      "Layer (type)                 Output Shape              Param #   \n",
      "=================================================================\n",
      "lstm_88 (LSTM)               (None, 21, 256)           570368    \n",
      "_________________________________________________________________\n",
      "lstm_89 (LSTM)               (None, 21, 128)           197120    \n",
      "_________________________________________________________________\n",
      "lstm_90 (LSTM)               (None, 21, 64)            49408     \n",
      "_________________________________________________________________\n",
      "lstm_91 (LSTM)               (None, 64)                33024     \n",
      "_________________________________________________________________\n",
      "dense_91 (Dense)             (None, 64)                4160      \n",
      "_________________________________________________________________\n",
      "dense_92 (Dense)             (None, 64)                4160      \n",
      "=================================================================\n",
      "Total params: 858,240\n",
      "Trainable params: 0\n",
      "Non-trainable params: 858,240\n",
      "_________________________________________________________________\n",
      "None\n"
     ]
    }
   ],
   "source": [
    "model_v = Sequential()\n",
    "model_a = Sequential()\n",
    "model_t = Sequential()\n",
    "\n",
    "for layer in m_v.layers[:-1]:\n",
    "  layer.trainable = False\n",
    "  model_v.add(layer)\n",
    "  \n",
    "for layer in m_a.layers[:-1]:\n",
    "  layer.trainable = False\n",
    "  model_a.add(layer)\n",
    "for layer in m_t.layers[:-1]:\n",
    "  layer.trainable = False\n",
    "  model_t.add(layer)\n",
    "  \n",
    "print(model_v.summary())\n",
    "print(model_a.summary())\n",
    "print(model_t.summary())"
   ]
  },
  {
   "cell_type": "code",
   "execution_count": 0,
   "metadata": {
    "colab": {
     "base_uri": "https://localhost:8080/",
     "height": 1000
    },
    "colab_type": "code",
    "id": "E24dPt2hiAyU",
    "outputId": "18cb8942-9833-4f94-d9ff-79114a4d92ff"
   },
   "outputs": [
    {
     "name": "stdout",
     "output_type": "stream",
     "text": [
      "__________________________________________________________________________________________________\n",
      "Layer (type)                    Output Shape         Param #     Connected to                     \n",
      "==================================================================================================\n",
      "input_76 (InputLayer)           (None, 21, 74)       0                                            \n",
      "__________________________________________________________________________________________________\n",
      "input_77 (InputLayer)           (None, 21, 35)       0                                            \n",
      "__________________________________________________________________________________________________\n",
      "input_78 (InputLayer)           (None, 21, 300)      0                                            \n",
      "__________________________________________________________________________________________________\n",
      "sequential_5 (Sequential)       (None, 64)           194688      input_76[0][0]                   \n",
      "__________________________________________________________________________________________________\n",
      "sequential_4 (Sequential)       (None, 64)           66944       input_77[0][0]                   \n",
      "__________________________________________________________________________________________________\n",
      "sequential_6 (Sequential)       (None, 64)           858240      input_78[0][0]                   \n",
      "__________________________________________________________________________________________________\n",
      "concatenate_13 (Concatenate)    (None, 192)          0           sequential_5[13][0]              \n",
      "                                                                 sequential_4[13][0]              \n",
      "                                                                 sequential_6[13][0]              \n",
      "__________________________________________________________________________________________________\n",
      "dense_150 (Dense)               (None, 64)           12352       concatenate_13[0][0]             \n",
      "__________________________________________________________________________________________________\n",
      "dense_151 (Dense)               (None, 6)            390         dense_150[0][0]                  \n",
      "==================================================================================================\n",
      "Total params: 1,132,614\n",
      "Trainable params: 12,742\n",
      "Non-trainable params: 1,119,872\n",
      "__________________________________________________________________________________________________\n",
      "None\n",
      "Train on 6373 samples, validate on 1775 samples\n",
      "Epoch 1/100\n",
      "6373/6373 [==============================] - 38s 6ms/step - loss: 0.7289 - acc: 0.5198 - val_loss: 0.9101 - val_acc: 0.4428\n",
      "Epoch 2/100\n",
      "6373/6373 [==============================] - 10s 2ms/step - loss: 0.4578 - acc: 0.5938 - val_loss: 0.9808 - val_acc: 0.4377\n",
      "Epoch 3/100\n",
      "6373/6373 [==============================] - 10s 2ms/step - loss: 0.4356 - acc: 0.5989 - val_loss: 0.9892 - val_acc: 0.4468\n",
      "Epoch 4/100\n",
      "6373/6373 [==============================] - 10s 2ms/step - loss: 0.4269 - acc: 0.6007 - val_loss: 0.9944 - val_acc: 0.4507\n",
      "Epoch 5/100\n",
      "6373/6373 [==============================] - 10s 2ms/step - loss: 0.4213 - acc: 0.6058 - val_loss: 1.0186 - val_acc: 0.4462\n",
      "Epoch 6/100\n",
      "6373/6373 [==============================] - 10s 2ms/step - loss: 0.4184 - acc: 0.6074 - val_loss: 1.0071 - val_acc: 0.4456\n",
      "Epoch 7/100\n",
      "6373/6373 [==============================] - 10s 2ms/step - loss: 0.4122 - acc: 0.6077 - val_loss: 1.0200 - val_acc: 0.4473\n",
      "Epoch 8/100\n",
      "6373/6373 [==============================] - 10s 2ms/step - loss: 0.4110 - acc: 0.6096 - val_loss: 1.0178 - val_acc: 0.4485\n",
      "Epoch 9/100\n",
      "6373/6373 [==============================] - 10s 2ms/step - loss: 0.4097 - acc: 0.6087 - val_loss: 1.0176 - val_acc: 0.4473\n",
      "Epoch 00009: early stopping\n",
      "1807/1807 [==============================] - 9s 5ms/step\n",
      "[1.2537764172957757, 0.4061981184530733]\n",
      "###############################################################\n",
      "Early Fusion RESULTS\n",
      "              precision    recall  f1-score   support\n",
      "\n",
      "       Anger       0.73      0.30      0.42       677\n",
      "     Excited       0.26      0.62      0.37       141\n",
      "         Sad       0.48      0.55      0.52       193\n",
      "  Frustrated       0.31      0.54      0.39       278\n",
      "       Happy       0.27      0.19      0.22       135\n",
      "     Neutral       0.41      0.43      0.42       383\n",
      "\n",
      "    accuracy                           0.41      1807\n",
      "   macro avg       0.41      0.44      0.39      1807\n",
      "weighted avg       0.50      0.41      0.41      1807\n",
      "\n"
     ]
    },
    {
     "data": {
      "text/plain": [
       "<matplotlib.axes._subplots.AxesSubplot at 0x7f33ef0df518>"
      ]
     },
     "execution_count": 117,
     "metadata": {
      "tags": []
     },
     "output_type": "execute_result"
    },
    {
     "data": {
      "image/png": "[encoded data removed]",
      "text/plain": [
       "<Figure size 720x504 with 2 Axes>"
      ]
     },
     "metadata": {
      "tags": []
     },
     "output_type": "display_data"
    }
   ],
   "source": [
    "i_a = Input(shape=(21,74))\n",
    "i_v = Input(shape=(21,35))\n",
    "i_t = Input(shape=(21,300))\n",
    "\n",
    "merged = concatenate([model_a(i_a),model_v(i_v),model_t(i_t)])\n",
    "y = Dense(64,activation='relu')(merged)\n",
    "# y = Dense(64,activation='relu')(y)\n",
    "y = Dense(6,activation='softmax')(y)\n",
    "\n",
    "model = Model([i_a,i_v,i_t],y)\n",
    "model.compile('adam','categorical_crossentropy',metrics=['accuracy'])\n",
    "print(model.summary())\n",
    "es = EarlyStopping(monitor='val_acc',mode='max' ,patience=5, min_delta=0.0001,verbose=1)\n",
    "reduce_lr = ReduceLROnPlateau(monitor='val_acc', factor=0.2,patience=2,min_lr=0.00001)\n",
    "model.fit([Train_audio,Train_video,Train_text],Y_train,128,epochs=100,validation_data=([Valid_audio,Valid_video,Valid_text],Y_valid),callbacks=[es,reduce_lr])\n",
    "print(model.evaluate([Test_audio,Test_video,Test_text],Y_test))\n",
    "\n",
    "\n",
    "print(\"###############################################################\")\n",
    "y_pred = np.argmax(model.predict([Test_audio,Test_video,Test_text]),axis=1)\n",
    "y_true = np.argmax(Y_test,axis=1)\n",
    "cm = confusion_matrix(y_true,y_pred)\n",
    "np.save(\"cm_early_fusion.npy\",cm)\n",
    "df = pd.DataFrame(cm)\n",
    "plt.figure(figsize = (10,7),)\n",
    "print(\"Early Fusion RESULTS\")\n",
    "print(classification_report(y_true,y_pred,target_names=target_names))\n",
    "sn.heatmap(cm, annot=True,xticklabels=True,yticklabels=True)"
   ]
  },
  {
   "cell_type": "code",
   "execution_count": 0,
   "metadata": {
    "colab": {},
    "colab_type": "code",
    "id": "7jKDeyPHs5Kd"
   },
   "outputs": [],
   "source": [
    "model.save(\"late_fusion.h5\")\n",
    "files.download(\"late_fusion.h5\")\n",
    "files.download(\"cm_early_fusion.npy\")"
   ]
  },
  {
   "cell_type": "code",
   "execution_count": 0,
   "metadata": {
    "colab": {},
    "colab_type": "code",
    "id": "LobOLZggj_B8"
   },
   "outputs": [],
   "source": [
    "model_v = Sequential()\n",
    "model_a = Sequential()\n",
    "model_t = Sequential()\n",
    "\n",
    "for layer in m_v.layers[:-1]:\n",
    "  layer.trainable = False\n",
    "  model_v.add(layer)\n",
    "  \n",
    "for layer in m_a.layers[:-1]:\n",
    "  layer.trainable = False\n",
    "  model_a.add(layer)\n",
    "for layer in m_t.layers[:-1]:\n",
    "  layer.trainable = False\n",
    "  model_t.add(layer)\n",
    "\n",
    "def tensor_fuse(out):\n",
    "\to1 = out[0]     \n",
    "\to2 = out[1]     \n",
    "\to3 = out[2]     \n",
    "\n",
    "\tx = tf.expand_dims(o1,1)  \n",
    "\ty = tf.expand_dims(o2,2)   \n",
    "\to12 = tf.reshape(tf.multiply(x,y),shape=[-1,64*64])   \n",
    "\n",
    "\tx = tf.expand_dims(o2,1)    \n",
    "\ty = tf.expand_dims(o3,2)   \n",
    "\to23 = tf.reshape(tf.multiply(x,y),shape=[-1,64*64])   \n",
    "  \n",
    "\tx = tf.expand_dims(o3,1)    \n",
    "\ty = tf.expand_dims(o1,2)    \n",
    "\to31 = tf.reshape(tf.multiply(x,y),shape=[-1,64*64])   \n",
    "\n",
    "\tx = tf.expand_dims(o12,2)   \n",
    "\ty = tf.expand_dims(o3,1)    \n",
    "\to123 = tf.reshape(tf.multiply(x,y),[-1,64*64*64])   \n",
    "\n",
    "\treturn concatenate([o1,o2,o3,o12,o23,o31])\n"
   ]
  },
  {
   "cell_type": "code",
   "execution_count": 0,
   "metadata": {
    "colab": {
     "base_uri": "https://localhost:8080/",
     "height": 1000
    },
    "colab_type": "code",
    "id": "-ZOARMEQsJWn",
    "outputId": "b346cde4-f4fa-4774-b630-9d72342a7204"
   },
   "outputs": [
    {
     "name": "stdout",
     "output_type": "stream",
     "text": [
      "__________________________________________________________________________________________________\n",
      "Layer (type)                    Output Shape         Param #     Connected to                     \n",
      "==================================================================================================\n",
      "input_19 (InputLayer)           (None, 21, 74)       0                                            \n",
      "__________________________________________________________________________________________________\n",
      "input_20 (InputLayer)           (None, 21, 35)       0                                            \n",
      "__________________________________________________________________________________________________\n",
      "input_21 (InputLayer)           (None, 21, 300)      0                                            \n",
      "__________________________________________________________________________________________________\n",
      "sequential_11 (Sequential)      (None, 64)           194688      input_19[0][0]                   \n",
      "__________________________________________________________________________________________________\n",
      "sequential_10 (Sequential)      (None, 64)           66944       input_20[0][0]                   \n",
      "__________________________________________________________________________________________________\n",
      "sequential_12 (Sequential)      (None, 64)           858240      input_21[0][0]                   \n",
      "__________________________________________________________________________________________________\n",
      "lambda_7 (Lambda)               (None, 12480)        0           sequential_11[4][0]              \n",
      "                                                                 sequential_10[4][0]              \n",
      "                                                                 sequential_12[4][0]              \n",
      "__________________________________________________________________________________________________\n",
      "dense_28 (Dense)                (None, 1024)         12780544    lambda_7[0][0]                   \n",
      "__________________________________________________________________________________________________\n",
      "dense_29 (Dense)                (None, 512)          524800      dense_28[0][0]                   \n",
      "__________________________________________________________________________________________________\n",
      "dense_30 (Dense)                (None, 64)           32832       dense_29[0][0]                   \n",
      "__________________________________________________________________________________________________\n",
      "dense_31 (Dense)                (None, 6)            390         dense_30[0][0]                   \n",
      "==================================================================================================\n",
      "Total params: 14,458,438\n",
      "Trainable params: 13,338,566\n",
      "Non-trainable params: 1,119,872\n",
      "__________________________________________________________________________________________________\n",
      "None\n",
      "Train on 6373 samples, validate on 1775 samples\n",
      "Epoch 1/100\n",
      "6373/6373 [==============================] - 18s 3ms/step - loss: 0.6049 - acc: 0.5608 - val_loss: 1.1708 - val_acc: 0.4394\n",
      "Epoch 2/100\n",
      "6373/6373 [==============================] - 12s 2ms/step - loss: 0.4516 - acc: 0.5933 - val_loss: 1.0916 - val_acc: 0.4462\n",
      "Epoch 3/100\n",
      "6373/6373 [==============================] - 12s 2ms/step - loss: 0.4447 - acc: 0.6010 - val_loss: 1.0603 - val_acc: 0.4563\n",
      "Epoch 4/100\n",
      "6373/6373 [==============================] - 12s 2ms/step - loss: 0.4286 - acc: 0.6062 - val_loss: 1.1389 - val_acc: 0.4552\n",
      "Epoch 5/100\n",
      "6373/6373 [==============================] - 12s 2ms/step - loss: 0.4111 - acc: 0.6184 - val_loss: 1.0853 - val_acc: 0.4468\n",
      "Epoch 6/100\n",
      "6373/6373 [==============================] - 12s 2ms/step - loss: 0.3752 - acc: 0.6253 - val_loss: 1.1310 - val_acc: 0.4507\n",
      "Epoch 7/100\n",
      "6373/6373 [==============================] - 12s 2ms/step - loss: 0.3605 - acc: 0.6289 - val_loss: 1.1457 - val_acc: 0.4513\n",
      "Epoch 8/100\n",
      "6373/6373 [==============================] - 12s 2ms/step - loss: 0.3476 - acc: 0.6336 - val_loss: 1.1591 - val_acc: 0.4513\n",
      "Epoch 00008: early stopping\n",
      "1807/1807 [==============================] - 9s 5ms/step\n",
      "[1.4646399663704563, 0.4039845047286682]\n",
      "###############################################################\n",
      "Early Fusion RESULTS\n",
      "              precision    recall  f1-score   support\n",
      "\n",
      "       Anger       0.69      0.32      0.44       677\n",
      "     Excited       0.25      0.60      0.35       141\n",
      "         Sad       0.48      0.52      0.50       193\n",
      "  Frustrated       0.32      0.54      0.40       278\n",
      "       Happy       0.26      0.20      0.23       135\n",
      "     Neutral       0.41      0.40      0.41       383\n",
      "\n",
      "    accuracy                           0.40      1807\n",
      "   macro avg       0.40      0.43      0.39      1807\n",
      "weighted avg       0.49      0.40      0.41      1807\n",
      "\n"
     ]
    },
    {
     "data": {
      "text/plain": [
       "<matplotlib.axes._subplots.AxesSubplot at 0x7fa1d2d6fb00>"
      ]
     },
     "execution_count": 18,
     "metadata": {
      "tags": []
     },
     "output_type": "execute_result"
    },
    {
     "data": {
      "image/png": "[encoded data removed]",
      "text/plain": [
       "<Figure size 720x504 with 2 Axes>"
      ]
     },
     "metadata": {
      "tags": []
     },
     "output_type": "display_data"
    }
   ],
   "source": [
    "i_a = Input(shape=(21,74))\n",
    "i_v = Input(shape=(21,35))\n",
    "i_t = Input(shape=(21,300))\n",
    "\n",
    "merged = layers.Lambda(tensor_fuse)([model_a(i_a),model_v(i_v),model_t(i_t)])\n",
    "y = Dense(1024,activation='relu')(merged)\n",
    "y = Dense(512,activation='relu')(y)\n",
    "y = Dense(64,activation='relu')(y)\n",
    "y = Dense(6,activation='softmax')(y)\n",
    "\n",
    "\n",
    "\n",
    "model = Model([i_a,i_v,i_t],y)\n",
    "model.compile('adam','categorical_crossentropy',metrics=['accuracy'])\n",
    "print(model.summary())\n",
    "es = EarlyStopping(monitor='val_acc',mode='max' ,patience=5, min_delta=0.0001,verbose=1)\n",
    "reduce_lr = ReduceLROnPlateau(monitor='val_acc', factor=0.2,patience=2,min_lr=0.00001)\n",
    "model.fit([Train_audio,Train_video,Train_text],Y_train,128,epochs=100,validation_data=([Valid_audio,Valid_video,Valid_text],Y_valid),callbacks=[es,reduce_lr])\n",
    "print(model.evaluate([Test_audio,Test_video,Test_text],Y_test))\n",
    "\n",
    "\n",
    "print(\"###############################################################\")\n",
    "y_pred = np.argmax(model.predict([Test_audio,Test_video,Test_text]),axis=1)\n",
    "y_true = np.argmax(Y_test,axis=1)\n",
    "cm = confusion_matrix(y_true,y_pred)\n",
    "np.save(\"cm_early_fusion.npy\",cm)\n",
    "df = pd.DataFrame(cm)\n",
    "plt.figure(figsize = (10,7),)\n",
    "print(\"Early Fusion RESULTS\")\n",
    "print(classification_report(y_true,y_pred,target_names=target_names))\n",
    "sn.heatmap(cm, annot=True,xticklabels=True,yticklabels=True)"
   ]
  },
  {
   "cell_type": "code",
   "execution_count": 0,
   "metadata": {
    "colab": {},
    "colab_type": "code",
    "id": "x8ZpbHbg0s_F"
   },
   "outputs": [],
   "source": [
    "model.save(\"tensor_fusion.h5\")\n",
    "files.download(\"tensor_fusion.h5\")\n",
    "files.download(\"cm_early_fusion.npy\")"
   ]
  },
  {
   "cell_type": "code",
   "execution_count": 0,
   "metadata": {
    "colab": {},
    "colab_type": "code",
    "id": "cXzpQYset2tk"
   },
   "outputs": [],
   "source": [
    "def deep_fuse(out):\n",
    "  o1 = out[0]     # o1.shape = (None,32)\n",
    "  o2 = out[1]     # o2.shape = (None,32)\n",
    "  o3 = out[2]     # o3.shape = (None,32)\n",
    "\n",
    "  x = 1.-o1\n",
    "  y = 1.-o2\n",
    "  z = 1.-o3\n",
    "\n",
    "  return concatenate([o1,o2,o3,x,y,z])"
   ]
  },
  {
   "cell_type": "code",
   "execution_count": 0,
   "metadata": {
    "colab": {},
    "colab_type": "code",
    "id": "CQu5QX2d1tXH"
   },
   "outputs": [],
   "source": [
    "model_v = Sequential()\n",
    "model_a = Sequential()\n",
    "model_t = Sequential()\n",
    "\n",
    "for layer in m_v.layers[:]:\n",
    "  layer.trainable = False\n",
    "  model_v.add(layer)\n",
    "  \n",
    "for layer in m_a.layers[:]:\n",
    "  layer.trainable = False\n",
    "  model_a.add(layer)\n",
    "for layer in m_t.layers[:]:\n",
    "  layer.trainable = False\n",
    "  model_t.add(layer)\n"
   ]
  },
  {
   "cell_type": "code",
   "execution_count": 0,
   "metadata": {
    "colab": {
     "base_uri": "https://localhost:8080/",
     "height": 1000
    },
    "colab_type": "code",
    "id": "J4txU6fn1f66",
    "outputId": "ed278943-d742-405d-98b8-4b8ea73f34b6"
   },
   "outputs": [
    {
     "name": "stdout",
     "output_type": "stream",
     "text": [
      "__________________________________________________________________________________________________\n",
      "Layer (type)                    Output Shape         Param #     Connected to                     \n",
      "==================================================================================================\n",
      "input_31 (InputLayer)           (None, 21, 74)       0                                            \n",
      "__________________________________________________________________________________________________\n",
      "input_32 (InputLayer)           (None, 21, 35)       0                                            \n",
      "__________________________________________________________________________________________________\n",
      "input_33 (InputLayer)           (None, 21, 300)      0                                            \n",
      "__________________________________________________________________________________________________\n",
      "model_30 (Model)                (None, 6)            195078      input_31[0][0]                   \n",
      "__________________________________________________________________________________________________\n",
      "model_29 (Model)                (None, 6)            67334       input_32[0][0]                   \n",
      "__________________________________________________________________________________________________\n",
      "model_31 (Model)                (None, 6)            858630      input_33[0][0]                   \n",
      "__________________________________________________________________________________________________\n",
      "lambda_11 (Lambda)              (None, 36)           0           model_30[4][0]                   \n",
      "                                                                 model_29[4][0]                   \n",
      "                                                                 model_31[4][0]                   \n",
      "__________________________________________________________________________________________________\n",
      "dense_40 (Dense)                (None, 64)           2368        lambda_11[0][0]                  \n",
      "__________________________________________________________________________________________________\n",
      "dense_41 (Dense)                (None, 64)           4160        dense_40[0][0]                   \n",
      "__________________________________________________________________________________________________\n",
      "dense_42 (Dense)                (None, 6)            390         dense_41[0][0]                   \n",
      "==================================================================================================\n",
      "Total params: 1,127,960\n",
      "Trainable params: 6,918\n",
      "Non-trainable params: 1,121,042\n",
      "__________________________________________________________________________________________________\n",
      "None\n",
      "Train on 6373 samples, validate on 1775 samples\n",
      "Epoch 1/100\n",
      "6373/6373 [==============================] - 19s 3ms/step - loss: 1.0804 - acc: 0.3670 - val_loss: 1.0347 - val_acc: 0.4203\n",
      "Epoch 2/100\n",
      "6373/6373 [==============================] - 10s 2ms/step - loss: 0.6439 - acc: 0.5621 - val_loss: 0.9702 - val_acc: 0.4163\n",
      "Epoch 3/100\n",
      "6373/6373 [==============================] - 10s 2ms/step - loss: 0.4955 - acc: 0.5839 - val_loss: 1.0049 - val_acc: 0.4220\n",
      "Epoch 4/100\n",
      "6373/6373 [==============================] - 10s 2ms/step - loss: 0.4649 - acc: 0.5911 - val_loss: 1.0213 - val_acc: 0.4400\n",
      "Epoch 5/100\n",
      "6373/6373 [==============================] - 10s 2ms/step - loss: 0.4496 - acc: 0.5972 - val_loss: 1.0096 - val_acc: 0.4406\n",
      "Epoch 6/100\n",
      "6373/6373 [==============================] - 10s 2ms/step - loss: 0.4438 - acc: 0.5996 - val_loss: 1.0132 - val_acc: 0.4411\n",
      "Epoch 7/100\n",
      "6373/6373 [==============================] - 10s 2ms/step - loss: 0.4396 - acc: 0.6002 - val_loss: 1.0054 - val_acc: 0.4394\n",
      "Epoch 8/100\n",
      "6373/6373 [==============================] - 10s 2ms/step - loss: 0.4374 - acc: 0.6035 - val_loss: 1.0238 - val_acc: 0.4377\n",
      "Epoch 9/100\n",
      "6373/6373 [==============================] - 10s 2ms/step - loss: 0.4304 - acc: 0.6055 - val_loss: 1.0224 - val_acc: 0.4434\n",
      "Epoch 10/100\n",
      "6373/6373 [==============================] - 10s 2ms/step - loss: 0.4310 - acc: 0.6043 - val_loss: 1.0292 - val_acc: 0.4417\n",
      "Epoch 11/100\n",
      "6373/6373 [==============================] - 10s 2ms/step - loss: 0.4307 - acc: 0.6035 - val_loss: 1.0199 - val_acc: 0.4406\n",
      "Epoch 12/100\n",
      "6373/6373 [==============================] - 10s 2ms/step - loss: 0.4291 - acc: 0.6066 - val_loss: 1.0235 - val_acc: 0.4400\n",
      "Epoch 13/100\n",
      "6373/6373 [==============================] - 10s 2ms/step - loss: 0.4286 - acc: 0.6060 - val_loss: 1.0229 - val_acc: 0.4406\n",
      "Epoch 14/100\n",
      "6373/6373 [==============================] - 10s 2ms/step - loss: 0.4283 - acc: 0.6058 - val_loss: 1.0232 - val_acc: 0.4400\n",
      "Epoch 00014: early stopping\n",
      "1807/1807 [==============================] - 8s 4ms/step\n",
      "[1.2287223042212077, 0.39789706698655425]\n",
      "###############################################################\n",
      "Early Fusion RESULTS\n",
      "              precision    recall  f1-score   support\n",
      "\n",
      "       Anger       0.74      0.28      0.41       677\n",
      "     Excited       0.27      0.65      0.38       141\n",
      "         Sad       0.46      0.52      0.49       193\n",
      "  Frustrated       0.30      0.54      0.38       278\n",
      "       Happy       0.27      0.21      0.24       135\n",
      "     Neutral       0.41      0.41      0.41       383\n",
      "\n",
      "    accuracy                           0.40      1807\n",
      "   macro avg       0.41      0.44      0.38      1807\n",
      "weighted avg       0.50      0.40      0.40      1807\n",
      "\n"
     ]
    },
    {
     "data": {
      "text/plain": [
       "<matplotlib.axes._subplots.AxesSubplot at 0x7fa1c6a86ef0>"
      ]
     },
     "execution_count": 30,
     "metadata": {
      "tags": []
     },
     "output_type": "execute_result"
    },
    {
     "data": {
      "image/png": "[encoded data removed]",
      "text/plain": [
       "<Figure size 720x504 with 2 Axes>"
      ]
     },
     "metadata": {
      "tags": []
     },
     "output_type": "display_data"
    }
   ],
   "source": [
    "i_a = Input(shape=(21,74))\n",
    "i_v = Input(shape=(21,35))\n",
    "i_t = Input(shape=(21,300))\n",
    "\n",
    "merged = Lambda(deep_fuse)([m_a(i_a),m_v(i_v),m_t(i_t)])\n",
    "\n",
    "y = Dense(64,activation='relu')(merged)\n",
    "y = Dense(64,activation='relu')(y)\n",
    "y = Dense(6,activation='softmax')(y)\n",
    "\n",
    "model = Model([i_a,i_v,i_t],y)\n",
    "model.compile('adam','categorical_crossentropy',metrics=['accuracy'])\n",
    "print(model.summary())\n",
    "es = EarlyStopping(monitor='val_acc',mode='max' ,patience=5, min_delta=0.0001,verbose=1)\n",
    "reduce_lr = ReduceLROnPlateau(monitor='val_acc', factor=0.2,patience=2,min_lr=0.00001)\n",
    "model.fit([Train_audio,Train_video,Train_text],Y_train,128,epochs=100,validation_data=([Valid_audio,Valid_video,Valid_text],Y_valid),callbacks=[es,reduce_lr])\n",
    "print(model.evaluate([Test_audio,Test_video,Test_text],Y_test))\n",
    "\n",
    "\n",
    "print(\"###############################################################\")\n",
    "y_pred = np.argmax(model.predict([Test_audio,Test_video,Test_text]),axis=1)\n",
    "y_true = np.argmax(Y_test,axis=1)\n",
    "cm = confusion_matrix(y_true,y_pred)\n",
    "np.save(\"cm_deep_fusion.npy\",cm)\n",
    "df = pd.DataFrame(cm)\n",
    "plt.figure(figsize = (10,7),)\n",
    "print(\"Early Fusion RESULTS\")\n",
    "print(classification_report(y_true,y_pred,target_names=target_names))\n",
    "sn.heatmap(cm, annot=True,xticklabels=True,yticklabels=True)"
   ]
  },
  {
   "cell_type": "code",
   "execution_count": 0,
   "metadata": {
    "colab": {},
    "colab_type": "code",
    "id": "jfkhDH3W2xt5"
   },
   "outputs": [],
   "source": [
    "model.save(\"deep_fusion.h5\")\n",
    "files.download(\"deep_fusion.h5\")\n",
    "files.download(\"cm_deep_fusion.npy\")"
   ]
  },
  {
   "cell_type": "code",
   "execution_count": 0,
   "metadata": {
    "colab": {},
    "colab_type": "code",
    "id": "GhWDAdtg51ZS"
   },
   "outputs": [],
   "source": []
  }
 ],
 "metadata": {
  "accelerator": "GPU",
  "colab": {
   "name": "sdk iemocap.ipynb",
   "provenance": [],
   "version": "0.3.2"
  },
  "kernelspec": {
   "display_name": "Python 3",
   "language": "python",
   "name": "python3"
  },
  "language_info": {
   "codemirror_mode": {
    "name": "ipython",
    "version": 3
   },
   "file_extension": ".py",
   "mimetype": "text/x-python",
   "name": "python",
   "nbconvert_exporter": "python",
   "pygments_lexer": "ipython3",
   "version": "3.6.8"
  }
 },
 "nbformat": 4,
 "nbformat_minor": 1
}

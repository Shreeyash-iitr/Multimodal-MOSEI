{
  "nbformat": 4,
  "nbformat_minor": 0,
  "metadata": {
    "colab": {
      "name": "MOSEI_dataset.ipynb",
      "version": "0.3.2",
      "provenance": [],
      "collapsed_sections": []
    },
    "kernelspec": {
      "name": "python3",
      "display_name": "Python 3"
    },
    "accelerator": "GPU"
  },
  "cells": [
    {
      "cell_type": "code",
      "metadata": {
        "id": "bzEkLCE_jgEe",
        "colab_type": "code",
        "colab": {
          "base_uri": "https://localhost:8080/",
          "height": 34
        },
        "outputId": "b326085d-7ffb-4013-db76-f2f423519bc9"
      },
      "source": [
        "ls"
      ],
      "execution_count": 1,
      "outputs": [
        {
          "output_type": "stream",
          "text": [
            "\u001b[0m\u001b[01;34msample_data\u001b[0m/\n"
          ],
          "name": "stdout"
        }
      ]
    },
    {
      "cell_type": "code",
      "metadata": {
        "id": "iJHfcTJJkJtc",
        "colab_type": "code",
        "outputId": "2a89ac1d-d6b3-425c-ff74-04af879167e3",
        "colab": {
          "base_uri": "https://localhost:8080/",
          "height": 119
        }
      },
      "source": [
        "!git clone \"https://github.com/Shreeyash-iitr/Multimodal-MOSEI.git\""
      ],
      "execution_count": 2,
      "outputs": [
        {
          "output_type": "stream",
          "text": [
            "Cloning into 'Multimodal-MOSEI'...\n",
            "remote: Enumerating objects: 16, done.\u001b[K\n",
            "remote: Counting objects:   6% (1/16)   \u001b[K\rremote: Counting objects:  12% (2/16)   \u001b[K\rremote: Counting objects:  18% (3/16)   \u001b[K\rremote: Counting objects:  25% (4/16)   \u001b[K\rremote: Counting objects:  31% (5/16)   \u001b[K\rremote: Counting objects:  37% (6/16)   \u001b[K\rremote: Counting objects:  43% (7/16)   \u001b[K\rremote: Counting objects:  50% (8/16)   \u001b[K\rremote: Counting objects:  56% (9/16)   \u001b[K\rremote: Counting objects:  62% (10/16)   \u001b[K\rremote: Counting objects:  68% (11/16)   \u001b[K\rremote: Counting objects:  75% (12/16)   \u001b[K\rremote: Counting objects:  81% (13/16)   \u001b[K\rremote: Counting objects:  87% (14/16)   \u001b[K\rremote: Counting objects:  93% (15/16)   \u001b[K\rremote: Counting objects: 100% (16/16)   \u001b[K\rremote: Counting objects: 100% (16/16), done.\u001b[K\n",
            "remote: Compressing objects:   7% (1/13)   \u001b[K\rremote: Compressing objects:  15% (2/13)   \u001b[K\rremote: Compressing objects:  23% (3/13)   \u001b[K\rremote: Compressing objects:  30% (4/13)   \u001b[K\rremote: Compressing objects:  38% (5/13)   \u001b[K\rremote: Compressing objects:  46% (6/13)   \u001b[K\rremote: Compressing objects:  53% (7/13)   \u001b[K\rremote: Compressing objects:  61% (8/13)   \u001b[K\rremote: Compressing objects:  69% (9/13)   \u001b[K\rremote: Compressing objects:  76% (10/13)   \u001b[K\rremote: Compressing objects:  84% (11/13)   \u001b[K\rremote: Compressing objects:  92% (12/13)   \u001b[K\rremote: Compressing objects: 100% (13/13)   \u001b[K\rremote: Compressing objects: 100% (13/13), done.\u001b[K\n",
            "remote: Total 16 (delta 5), reused 0 (delta 0), pack-reused 0\u001b[K\n",
            "Unpacking objects:   6% (1/16)   \rUnpacking objects:  12% (2/16)   \rUnpacking objects:  18% (3/16)   \rUnpacking objects:  25% (4/16)   \rUnpacking objects:  31% (5/16)   \rUnpacking objects:  37% (6/16)   \rUnpacking objects:  43% (7/16)   \rUnpacking objects:  50% (8/16)   \rUnpacking objects:  56% (9/16)   \rUnpacking objects:  62% (10/16)   \rUnpacking objects:  68% (11/16)   \rUnpacking objects:  75% (12/16)   \rUnpacking objects:  81% (13/16)   \rUnpacking objects:  87% (14/16)   \rUnpacking objects:  93% (15/16)   \rUnpacking objects: 100% (16/16)   \rUnpacking objects: 100% (16/16), done.\n"
          ],
          "name": "stdout"
        }
      ]
    },
    {
      "cell_type": "code",
      "metadata": {
        "id": "nojEE7NLnQtY",
        "colab_type": "code",
        "outputId": "dad74ef1-d679-4153-fdb7-f006655ebad2",
        "colab": {
          "base_uri": "https://localhost:8080/",
          "height": 34
        }
      },
      "source": [
        "cd Multimodal-MOSEI/"
      ],
      "execution_count": 3,
      "outputs": [
        {
          "output_type": "stream",
          "text": [
            "/content/Multimodal-MOSEI\n"
          ],
          "name": "stdout"
        }
      ]
    },
    {
      "cell_type": "code",
      "metadata": {
        "id": "2fAiM-QimobO",
        "colab_type": "code",
        "outputId": "eb9bbc0e-f84f-4226-bf40-b18e5e6ee847",
        "colab": {
          "base_uri": "https://localhost:8080/",
          "height": 68
        }
      },
      "source": [
        "!git pull origin master"
      ],
      "execution_count": 4,
      "outputs": [
        {
          "output_type": "stream",
          "text": [
            "From https://github.com/Shreeyash-iitr/Multimodal-MOSEI\n",
            " * branch            master     -> FETCH_HEAD\n",
            "Already up to date.\n"
          ],
          "name": "stdout"
        }
      ]
    },
    {
      "cell_type": "code",
      "metadata": {
        "id": "ZHfNJq9uncVC",
        "colab_type": "code",
        "outputId": "7aec474b-6b0f-4066-d5e7-a1aa281e511f",
        "colab": {
          "base_uri": "https://localhost:8080/",
          "height": 34
        }
      },
      "source": [
        "cd data/"
      ],
      "execution_count": 5,
      "outputs": [
        {
          "output_type": "stream",
          "text": [
            "/content/Multimodal-MOSEI/data\n"
          ],
          "name": "stdout"
        }
      ]
    },
    {
      "cell_type": "code",
      "metadata": {
        "id": "mWnMcgmBkUJW",
        "colab_type": "code",
        "colab": {}
      },
      "source": [
        "!chmod +x mosei.sh"
      ],
      "execution_count": 0,
      "outputs": []
    },
    {
      "cell_type": "code",
      "metadata": {
        "id": "fb7oFWGjkXxu",
        "colab_type": "code",
        "cellView": "both",
        "colab": {}
      },
      "source": [
        "!./mosei.sh"
      ],
      "execution_count": 0,
      "outputs": []
    },
    {
      "cell_type": "code",
      "metadata": {
        "id": "PIEak7CMnv4S",
        "colab_type": "code",
        "outputId": "bb9e93ae-d810-4004-95ea-50531f6390fe",
        "colab": {
          "base_uri": "https://localhost:8080/",
          "height": 34
        }
      },
      "source": [
        "cd .."
      ],
      "execution_count": 8,
      "outputs": [
        {
          "output_type": "stream",
          "text": [
            "/content/Multimodal-MOSEI\n"
          ],
          "name": "stdout"
        }
      ]
    },
    {
      "cell_type": "code",
      "metadata": {
        "id": "2K6RyGC8kkgd",
        "colab_type": "code",
        "outputId": "6037e441-32b5-42e9-9426-30db4a46524b",
        "colab": {
          "base_uri": "https://localhost:8080/",
          "height": 85
        }
      },
      "source": [
        "ls data/"
      ],
      "execution_count": 15,
      "outputs": [
        {
          "output_type": "stream",
          "text": [
            "audio_test.h5   ey_train.h5       text_train_emb.h5  video_valid.h5\n",
            "audio_train.h5  ey_valid.h5       text_valid_emb.h5  y_test.h5\n",
            "audio_valid.h5  \u001b[0m\u001b[01;32mmosei.sh\u001b[0m*         video_test.h5      y_train.h5\n",
            "ey_test.h5      text_test_emb.h5  video_train.h5     y_valid.h5\n"
          ],
          "name": "stdout"
        }
      ]
    },
    {
      "cell_type": "code",
      "metadata": {
        "id": "36_u_4PhllCV",
        "colab_type": "code",
        "colab": {}
      },
      "source": [
        "import h5py\n",
        "import numpy as np\n",
        "import pandas as pd"
      ],
      "execution_count": 0,
      "outputs": []
    },
    {
      "cell_type": "code",
      "metadata": {
        "id": "JUvVUi6lq2m7",
        "colab_type": "code",
        "outputId": "8166b5e4-8693-46fc-d6c7-f0e544ef6e7b",
        "colab": {
          "base_uri": "https://localhost:8080/",
          "height": 450
        }
      },
      "source": [
        "y_test = h5py.File(\"data/y_test.h5\",\"r\")\n",
        "print(list(y_test.keys()))\n",
        "y_test = np.array(y_test.get('d1'))\n",
        "df = pd.DataFrame(y_test,columns=[\"y_test\"])\n",
        "print(\"\\nBEFORE PREPROCESING\")\n",
        "print((df>3).sum())\n",
        "print(df[df[\"y_test\"]>3])\n",
        "df[df[\"y_test\"]>3] = 3\n",
        "print(\"\\nAFTER VALUE CLIPPING\")\n",
        "df.describe()"
      ],
      "execution_count": 165,
      "outputs": [
        {
          "output_type": "stream",
          "text": [
            "['d1']\n",
            "\n",
            "BEFORE PREPROCESING\n",
            "y_test    1\n",
            "dtype: int64\n",
            "        y_test\n",
            "2747  3.666667\n",
            "\n",
            "AFTER VALUE CLIPPING\n"
          ],
          "name": "stdout"
        },
        {
          "output_type": "execute_result",
          "data": {
            "text/html": [
              "<div>\n",
              "<style scoped>\n",
              "    .dataframe tbody tr th:only-of-type {\n",
              "        vertical-align: middle;\n",
              "    }\n",
              "\n",
              "    .dataframe tbody tr th {\n",
              "        vertical-align: top;\n",
              "    }\n",
              "\n",
              "    .dataframe thead th {\n",
              "        text-align: right;\n",
              "    }\n",
              "</style>\n",
              "<table border=\"1\" class=\"dataframe\">\n",
              "  <thead>\n",
              "    <tr style=\"text-align: right;\">\n",
              "      <th></th>\n",
              "      <th>y_test</th>\n",
              "    </tr>\n",
              "  </thead>\n",
              "  <tbody>\n",
              "    <tr>\n",
              "      <th>count</th>\n",
              "      <td>4832.000000</td>\n",
              "    </tr>\n",
              "    <tr>\n",
              "      <th>mean</th>\n",
              "      <td>0.126587</td>\n",
              "    </tr>\n",
              "    <tr>\n",
              "      <th>std</th>\n",
              "      <td>1.108877</td>\n",
              "    </tr>\n",
              "    <tr>\n",
              "      <th>min</th>\n",
              "      <td>-3.000000</td>\n",
              "    </tr>\n",
              "    <tr>\n",
              "      <th>25%</th>\n",
              "      <td>-0.333333</td>\n",
              "    </tr>\n",
              "    <tr>\n",
              "      <th>50%</th>\n",
              "      <td>0.000000</td>\n",
              "    </tr>\n",
              "    <tr>\n",
              "      <th>75%</th>\n",
              "      <td>0.666667</td>\n",
              "    </tr>\n",
              "    <tr>\n",
              "      <th>max</th>\n",
              "      <td>3.000000</td>\n",
              "    </tr>\n",
              "  </tbody>\n",
              "</table>\n",
              "</div>"
            ],
            "text/plain": [
              "            y_test\n",
              "count  4832.000000\n",
              "mean      0.126587\n",
              "std       1.108877\n",
              "min      -3.000000\n",
              "25%      -0.333333\n",
              "50%       0.000000\n",
              "75%       0.666667\n",
              "max       3.000000"
            ]
          },
          "metadata": {
            "tags": []
          },
          "execution_count": 165
        }
      ]
    },
    {
      "cell_type": "markdown",
      "metadata": {
        "id": "09-tTpBvFNUh",
        "colab_type": "text"
      },
      "source": [
        " As for the sentiments, they should be in range [-3, +3], and the intervals are just evenly divided. We are aware that a few data points seem to have out-of-bounds annotations, and we'll clip them. So you can also just clip those values beyond [-3, 3].\n"
      ]
    },
    {
      "cell_type": "code",
      "metadata": {
        "id": "qDF65iMmkJVg",
        "colab_type": "code",
        "colab": {
          "base_uri": "https://localhost:8080/",
          "height": 484
        },
        "outputId": "a732b9a4-6175-4208-ac2e-9a9600306775"
      },
      "source": [
        "y_train = h5py.File(\"data/y_train.h5\",\"r\")\n",
        "print(list(y_train.keys()))\n",
        "y_train = np.array(y_train.get('d1'))\n",
        "df = pd.DataFrame(y_train,columns=[\"y_train\"])\n",
        "print(\"\\nBEFORE PREPROCESING\")\n",
        "print((df>3).sum())\n",
        "print(df[df[\"y_train\"]>3])\n",
        "df[df[\"y_train\"]>3] = 3\n",
        "print(\"\\nAFTER VALUE CLIPPING\")\n",
        "df.describe()"
      ],
      "execution_count": 166,
      "outputs": [
        {
          "output_type": "stream",
          "text": [
            "['d1']\n",
            "\n",
            "BEFORE PREPROCESING\n",
            "y_train    3\n",
            "dtype: int64\n",
            "       y_train\n",
            "5593  3.333333\n",
            "9663  3.666667\n",
            "9685  5.000000\n",
            "\n",
            "AFTER VALUE CLIPPING\n"
          ],
          "name": "stdout"
        },
        {
          "output_type": "execute_result",
          "data": {
            "text/html": [
              "<div>\n",
              "<style scoped>\n",
              "    .dataframe tbody tr th:only-of-type {\n",
              "        vertical-align: middle;\n",
              "    }\n",
              "\n",
              "    .dataframe tbody tr th {\n",
              "        vertical-align: top;\n",
              "    }\n",
              "\n",
              "    .dataframe thead th {\n",
              "        text-align: right;\n",
              "    }\n",
              "</style>\n",
              "<table border=\"1\" class=\"dataframe\">\n",
              "  <thead>\n",
              "    <tr style=\"text-align: right;\">\n",
              "      <th></th>\n",
              "      <th>y_train</th>\n",
              "    </tr>\n",
              "  </thead>\n",
              "  <tbody>\n",
              "    <tr>\n",
              "      <th>count</th>\n",
              "      <td>15290.000000</td>\n",
              "    </tr>\n",
              "    <tr>\n",
              "      <th>mean</th>\n",
              "      <td>0.142991</td>\n",
              "    </tr>\n",
              "    <tr>\n",
              "      <th>std</th>\n",
              "      <td>1.123811</td>\n",
              "    </tr>\n",
              "    <tr>\n",
              "      <th>min</th>\n",
              "      <td>-3.000000</td>\n",
              "    </tr>\n",
              "    <tr>\n",
              "      <th>25%</th>\n",
              "      <td>-0.333333</td>\n",
              "    </tr>\n",
              "    <tr>\n",
              "      <th>50%</th>\n",
              "      <td>0.000000</td>\n",
              "    </tr>\n",
              "    <tr>\n",
              "      <th>75%</th>\n",
              "      <td>0.666667</td>\n",
              "    </tr>\n",
              "    <tr>\n",
              "      <th>max</th>\n",
              "      <td>3.000000</td>\n",
              "    </tr>\n",
              "  </tbody>\n",
              "</table>\n",
              "</div>"
            ],
            "text/plain": [
              "            y_train\n",
              "count  15290.000000\n",
              "mean       0.142991\n",
              "std        1.123811\n",
              "min       -3.000000\n",
              "25%       -0.333333\n",
              "50%        0.000000\n",
              "75%        0.666667\n",
              "max        3.000000"
            ]
          },
          "metadata": {
            "tags": []
          },
          "execution_count": 166
        }
      ]
    },
    {
      "cell_type": "markdown",
      "metadata": {
        "id": "O_seTPcOGtuw",
        "colab_type": "text"
      },
      "source": [
        "Each sentence is annotated for sentiment on a [-3,3]\n",
        "Likert scale of: [−3: highly negative, −2 negative,\n",
        "−1 weakly negative, 0 neutral, +1 weakly positive,\n",
        "+2 positive, +3 highly positive]."
      ]
    },
    {
      "cell_type": "code",
      "metadata": {
        "id": "LOh5PWPhki3n",
        "colab_type": "code",
        "colab": {
          "base_uri": "https://localhost:8080/",
          "height": 467
        },
        "outputId": "3259831f-fe4f-451d-ff9b-a9e3642f9362"
      },
      "source": [
        "y_valid = h5py.File(\"data/y_valid.h5\",\"r\")\n",
        "print(list(y_valid.keys()))\n",
        "y_valid = np.array(y_valid.get('d1'))\n",
        "df = pd.DataFrame(y_valid,columns=[\"y_valid\"])\n",
        "print(\"\\nBEFORE PREPROCESING\")\n",
        "print((df>3).sum())\n",
        "print(df[df[\"y_valid\"]>3])\n",
        "df[df[\"y_valid\"]>3] = 3\n",
        "print(\"\\nAFTER VALUE CLIPPING\")\n",
        "df.describe()"
      ],
      "execution_count": 167,
      "outputs": [
        {
          "output_type": "stream",
          "text": [
            "['d1']\n",
            "\n",
            "BEFORE PREPROCESING\n",
            "y_valid    0\n",
            "dtype: int64\n",
            "Empty DataFrame\n",
            "Columns: [y_valid]\n",
            "Index: []\n",
            "\n",
            "AFTER VALUE CLIPPING\n"
          ],
          "name": "stdout"
        },
        {
          "output_type": "execute_result",
          "data": {
            "text/html": [
              "<div>\n",
              "<style scoped>\n",
              "    .dataframe tbody tr th:only-of-type {\n",
              "        vertical-align: middle;\n",
              "    }\n",
              "\n",
              "    .dataframe tbody tr th {\n",
              "        vertical-align: top;\n",
              "    }\n",
              "\n",
              "    .dataframe thead th {\n",
              "        text-align: right;\n",
              "    }\n",
              "</style>\n",
              "<table border=\"1\" class=\"dataframe\">\n",
              "  <thead>\n",
              "    <tr style=\"text-align: right;\">\n",
              "      <th></th>\n",
              "      <th>y_valid</th>\n",
              "    </tr>\n",
              "  </thead>\n",
              "  <tbody>\n",
              "    <tr>\n",
              "      <th>count</th>\n",
              "      <td>2291.000000</td>\n",
              "    </tr>\n",
              "    <tr>\n",
              "      <th>mean</th>\n",
              "      <td>0.219991</td>\n",
              "    </tr>\n",
              "    <tr>\n",
              "      <th>std</th>\n",
              "      <td>1.109050</td>\n",
              "    </tr>\n",
              "    <tr>\n",
              "      <th>min</th>\n",
              "      <td>-3.000000</td>\n",
              "    </tr>\n",
              "    <tr>\n",
              "      <th>25%</th>\n",
              "      <td>-0.333333</td>\n",
              "    </tr>\n",
              "    <tr>\n",
              "      <th>50%</th>\n",
              "      <td>0.333333</td>\n",
              "    </tr>\n",
              "    <tr>\n",
              "      <th>75%</th>\n",
              "      <td>1.000000</td>\n",
              "    </tr>\n",
              "    <tr>\n",
              "      <th>max</th>\n",
              "      <td>3.000000</td>\n",
              "    </tr>\n",
              "  </tbody>\n",
              "</table>\n",
              "</div>"
            ],
            "text/plain": [
              "           y_valid\n",
              "count  2291.000000\n",
              "mean      0.219991\n",
              "std       1.109050\n",
              "min      -3.000000\n",
              "25%      -0.333333\n",
              "50%       0.333333\n",
              "75%       1.000000\n",
              "max       3.000000"
            ]
          },
          "metadata": {
            "tags": []
          },
          "execution_count": 167
        }
      ]
    },
    {
      "cell_type": "code",
      "metadata": {
        "id": "7xCYXf4vlAsN",
        "colab_type": "code",
        "colab": {
          "base_uri": "https://localhost:8080/",
          "height": 620
        },
        "outputId": "654bc61e-46f5-4db0-f8db-0fdd6880b093"
      },
      "source": [
        "ey_train = h5py.File(\"data/ey_train.h5\",\"r\")\n",
        "print(list(ey_train.keys()))\n",
        "ey_train = np.array(ey_train.get('d1'))\n",
        "ey_train.shape\n",
        "df = pd.DataFrame(ey_train,columns=[\"anger\", \"disgust\", \"fear\", \"happy\", \"sad\", \"surprise\"])\n",
        "print(\"\\nBEFORE PREPROCESSING\")\n",
        "print(df.astype(bool).sum(axis=0))\n",
        "print((df>3).sum())\n",
        "df.loc[df[\"happy\"]>3,\"happy\"] = 3\n",
        "print(\"\\nAFTER VALUE CLIPPING\")\n",
        "df.describe()\n"
      ],
      "execution_count": 168,
      "outputs": [
        {
          "output_type": "stream",
          "text": [
            "['d1']\n",
            "\n",
            "BEFORE PREPROCESSING\n",
            "anger       3443\n",
            "disgust     2720\n",
            "fear        1319\n",
            "happy       8147\n",
            "sad         3906\n",
            "surprise    1562\n",
            "dtype: int64\n",
            "anger       0\n",
            "disgust     0\n",
            "fear        0\n",
            "happy       1\n",
            "sad         0\n",
            "surprise    0\n",
            "dtype: int64\n",
            "\n",
            "AFTER VALUE CLIPPING\n"
          ],
          "name": "stdout"
        },
        {
          "output_type": "execute_result",
          "data": {
            "text/html": [
              "<div>\n",
              "<style scoped>\n",
              "    .dataframe tbody tr th:only-of-type {\n",
              "        vertical-align: middle;\n",
              "    }\n",
              "\n",
              "    .dataframe tbody tr th {\n",
              "        vertical-align: top;\n",
              "    }\n",
              "\n",
              "    .dataframe thead th {\n",
              "        text-align: right;\n",
              "    }\n",
              "</style>\n",
              "<table border=\"1\" class=\"dataframe\">\n",
              "  <thead>\n",
              "    <tr style=\"text-align: right;\">\n",
              "      <th></th>\n",
              "      <th>anger</th>\n",
              "      <th>disgust</th>\n",
              "      <th>fear</th>\n",
              "      <th>happy</th>\n",
              "      <th>sad</th>\n",
              "      <th>surprise</th>\n",
              "    </tr>\n",
              "  </thead>\n",
              "  <tbody>\n",
              "    <tr>\n",
              "      <th>count</th>\n",
              "      <td>15290.000000</td>\n",
              "      <td>15290.000000</td>\n",
              "      <td>15290.000000</td>\n",
              "      <td>15290.000000</td>\n",
              "      <td>15290.000000</td>\n",
              "      <td>15290.000000</td>\n",
              "    </tr>\n",
              "    <tr>\n",
              "      <th>mean</th>\n",
              "      <td>0.165402</td>\n",
              "      <td>0.122913</td>\n",
              "      <td>0.043427</td>\n",
              "      <td>0.475452</td>\n",
              "      <td>0.155853</td>\n",
              "      <td>0.049684</td>\n",
              "    </tr>\n",
              "    <tr>\n",
              "      <th>std</th>\n",
              "      <td>0.375969</td>\n",
              "      <td>0.327749</td>\n",
              "      <td>0.157433</td>\n",
              "      <td>0.624495</td>\n",
              "      <td>0.322669</td>\n",
              "      <td>0.172264</td>\n",
              "    </tr>\n",
              "    <tr>\n",
              "      <th>min</th>\n",
              "      <td>0.000000</td>\n",
              "      <td>0.000000</td>\n",
              "      <td>0.000000</td>\n",
              "      <td>0.000000</td>\n",
              "      <td>0.000000</td>\n",
              "      <td>0.000000</td>\n",
              "    </tr>\n",
              "    <tr>\n",
              "      <th>25%</th>\n",
              "      <td>0.000000</td>\n",
              "      <td>0.000000</td>\n",
              "      <td>0.000000</td>\n",
              "      <td>0.000000</td>\n",
              "      <td>0.000000</td>\n",
              "      <td>0.000000</td>\n",
              "    </tr>\n",
              "    <tr>\n",
              "      <th>50%</th>\n",
              "      <td>0.000000</td>\n",
              "      <td>0.000000</td>\n",
              "      <td>0.000000</td>\n",
              "      <td>0.333333</td>\n",
              "      <td>0.000000</td>\n",
              "      <td>0.000000</td>\n",
              "    </tr>\n",
              "    <tr>\n",
              "      <th>75%</th>\n",
              "      <td>0.000000</td>\n",
              "      <td>0.000000</td>\n",
              "      <td>0.000000</td>\n",
              "      <td>0.666667</td>\n",
              "      <td>0.333333</td>\n",
              "      <td>0.000000</td>\n",
              "    </tr>\n",
              "    <tr>\n",
              "      <th>max</th>\n",
              "      <td>3.000000</td>\n",
              "      <td>3.000000</td>\n",
              "      <td>1.666667</td>\n",
              "      <td>3.000000</td>\n",
              "      <td>3.000000</td>\n",
              "      <td>3.000000</td>\n",
              "    </tr>\n",
              "  </tbody>\n",
              "</table>\n",
              "</div>"
            ],
            "text/plain": [
              "              anger       disgust  ...           sad      surprise\n",
              "count  15290.000000  15290.000000  ...  15290.000000  15290.000000\n",
              "mean       0.165402      0.122913  ...      0.155853      0.049684\n",
              "std        0.375969      0.327749  ...      0.322669      0.172264\n",
              "min        0.000000      0.000000  ...      0.000000      0.000000\n",
              "25%        0.000000      0.000000  ...      0.000000      0.000000\n",
              "50%        0.000000      0.000000  ...      0.000000      0.000000\n",
              "75%        0.000000      0.000000  ...      0.333333      0.000000\n",
              "max        3.000000      3.000000  ...      3.000000      3.000000\n",
              "\n",
              "[8 rows x 6 columns]"
            ]
          },
          "metadata": {
            "tags": []
          },
          "execution_count": 168
        }
      ]
    },
    {
      "cell_type": "markdown",
      "metadata": {
        "id": "OnsADJtJAAtz",
        "colab_type": "text"
      },
      "source": [
        "the emotions for each of the dimensions are: anger, disgust, fear, happy, sad, surprise.\n"
      ]
    },
    {
      "cell_type": "code",
      "metadata": {
        "id": "cleCvs6WmER8",
        "colab_type": "code",
        "colab": {
          "base_uri": "https://localhost:8080/",
          "height": 637
        },
        "outputId": "fcf1e1a6-bdb7-465c-bc24-9e930cd70c79"
      },
      "source": [
        "ey_test = h5py.File(\"data/ey_test.h5\",\"r\")\n",
        "print(list(ey_test.keys()))\n",
        "ey_test = np.array(ey_test.get('d1'))\n",
        "print(ey_test.shape)\n",
        "df = pd.DataFrame(ey_test,columns=[\"anger\", \"disgust\", \"fear\", \"happy\", \"sad\", \"surprise\"])\n",
        "print(\"\\nBEFORE PREPROCESSING\")\n",
        "print(df.astype(bool).sum(axis=0))\n",
        "print((df>3).sum())\n",
        "df.loc[df[\"happy\"]>3,\"happy\"] = 3\n",
        "print(\"\\nAFTER VALUE CLIPPING\")\n",
        "df.describe()"
      ],
      "execution_count": 172,
      "outputs": [
        {
          "output_type": "stream",
          "text": [
            "['d1']\n",
            "(4832, 6)\n",
            "\n",
            "BEFORE PREPROCESSING\n",
            "anger        971\n",
            "disgust      922\n",
            "fear         332\n",
            "happy       2522\n",
            "sad         1334\n",
            "surprise     479\n",
            "dtype: int64\n",
            "anger       0\n",
            "disgust     0\n",
            "fear        0\n",
            "happy       1\n",
            "sad         0\n",
            "surprise    0\n",
            "dtype: int64\n",
            "\n",
            "AFTER VALUE CLIPPING\n"
          ],
          "name": "stdout"
        },
        {
          "output_type": "execute_result",
          "data": {
            "text/html": [
              "<div>\n",
              "<style scoped>\n",
              "    .dataframe tbody tr th:only-of-type {\n",
              "        vertical-align: middle;\n",
              "    }\n",
              "\n",
              "    .dataframe tbody tr th {\n",
              "        vertical-align: top;\n",
              "    }\n",
              "\n",
              "    .dataframe thead th {\n",
              "        text-align: right;\n",
              "    }\n",
              "</style>\n",
              "<table border=\"1\" class=\"dataframe\">\n",
              "  <thead>\n",
              "    <tr style=\"text-align: right;\">\n",
              "      <th></th>\n",
              "      <th>anger</th>\n",
              "      <th>disgust</th>\n",
              "      <th>fear</th>\n",
              "      <th>happy</th>\n",
              "      <th>sad</th>\n",
              "      <th>surprise</th>\n",
              "    </tr>\n",
              "  </thead>\n",
              "  <tbody>\n",
              "    <tr>\n",
              "      <th>count</th>\n",
              "      <td>4832.000000</td>\n",
              "      <td>4832.000000</td>\n",
              "      <td>4832.000000</td>\n",
              "      <td>4832.000000</td>\n",
              "      <td>4832.000000</td>\n",
              "      <td>4832.000000</td>\n",
              "    </tr>\n",
              "    <tr>\n",
              "      <th>mean</th>\n",
              "      <td>0.142453</td>\n",
              "      <td>0.128242</td>\n",
              "      <td>0.033389</td>\n",
              "      <td>0.467577</td>\n",
              "      <td>0.165701</td>\n",
              "      <td>0.046427</td>\n",
              "    </tr>\n",
              "    <tr>\n",
              "      <th>std</th>\n",
              "      <td>0.338588</td>\n",
              "      <td>0.326952</td>\n",
              "      <td>0.134754</td>\n",
              "      <td>0.632250</td>\n",
              "      <td>0.316884</td>\n",
              "      <td>0.162014</td>\n",
              "    </tr>\n",
              "    <tr>\n",
              "      <th>min</th>\n",
              "      <td>0.000000</td>\n",
              "      <td>0.000000</td>\n",
              "      <td>0.000000</td>\n",
              "      <td>0.000000</td>\n",
              "      <td>0.000000</td>\n",
              "      <td>0.000000</td>\n",
              "    </tr>\n",
              "    <tr>\n",
              "      <th>25%</th>\n",
              "      <td>0.000000</td>\n",
              "      <td>0.000000</td>\n",
              "      <td>0.000000</td>\n",
              "      <td>0.000000</td>\n",
              "      <td>0.000000</td>\n",
              "      <td>0.000000</td>\n",
              "    </tr>\n",
              "    <tr>\n",
              "      <th>50%</th>\n",
              "      <td>0.000000</td>\n",
              "      <td>0.000000</td>\n",
              "      <td>0.000000</td>\n",
              "      <td>0.333333</td>\n",
              "      <td>0.000000</td>\n",
              "      <td>0.000000</td>\n",
              "    </tr>\n",
              "    <tr>\n",
              "      <th>75%</th>\n",
              "      <td>0.000000</td>\n",
              "      <td>0.000000</td>\n",
              "      <td>0.000000</td>\n",
              "      <td>0.666667</td>\n",
              "      <td>0.333333</td>\n",
              "      <td>0.000000</td>\n",
              "    </tr>\n",
              "    <tr>\n",
              "      <th>max</th>\n",
              "      <td>2.333333</td>\n",
              "      <td>3.000000</td>\n",
              "      <td>1.000000</td>\n",
              "      <td>3.000000</td>\n",
              "      <td>2.666667</td>\n",
              "      <td>2.000000</td>\n",
              "    </tr>\n",
              "  </tbody>\n",
              "</table>\n",
              "</div>"
            ],
            "text/plain": [
              "             anger      disgust  ...          sad     surprise\n",
              "count  4832.000000  4832.000000  ...  4832.000000  4832.000000\n",
              "mean      0.142453     0.128242  ...     0.165701     0.046427\n",
              "std       0.338588     0.326952  ...     0.316884     0.162014\n",
              "min       0.000000     0.000000  ...     0.000000     0.000000\n",
              "25%       0.000000     0.000000  ...     0.000000     0.000000\n",
              "50%       0.000000     0.000000  ...     0.000000     0.000000\n",
              "75%       0.000000     0.000000  ...     0.333333     0.000000\n",
              "max       2.333333     3.000000  ...     2.666667     2.000000\n",
              "\n",
              "[8 rows x 6 columns]"
            ]
          },
          "metadata": {
            "tags": []
          },
          "execution_count": 172
        }
      ]
    },
    {
      "cell_type": "markdown",
      "metadata": {
        "id": "rCFKsdpYG2Sh",
        "colab_type": "text"
      },
      "source": [
        " Ekman emotions\n",
        "(Ekman et al., 1980) of {happiness, sadness, anger,\n",
        "fear, disgust, surprise} are annotated on a [0,3] Likert scale for presence of emotion x: [0: no evidence\n",
        "of x, 1: weakly x, 2: x, 3: highly x]."
      ]
    },
    {
      "cell_type": "code",
      "metadata": {
        "id": "KL8tgtcymPhl",
        "colab_type": "code",
        "colab": {
          "base_uri": "https://localhost:8080/",
          "height": 620
        },
        "outputId": "bb0cd7b0-0fa0-4866-c41b-a7d208ac60b4"
      },
      "source": [
        "ey_valid = h5py.File(\"data/ey_valid.h5\",\"r\")\n",
        "print(list(ey_valid.keys()))\n",
        "ey_valid = np.array(ey_valid.get('d1'))\n",
        "df = pd.DataFrame(ey_valid,columns=[\"anger\", \"disgust\", \"fear\", \"happy\", \"sad\", \"surprise\"])\n",
        "print(\"\\nBEFORE PREPROCESSING\")\n",
        "print(df.astype(bool).sum(axis=0))\n",
        "print((df>3).sum())\n",
        "df.loc[df[\"happy\"]>3,\"happy\"] = 3\n",
        "print(\"\\nAFTER VALUE CLIPPING\")\n",
        "df.describe()"
      ],
      "execution_count": 170,
      "outputs": [
        {
          "output_type": "stream",
          "text": [
            "['d1']\n",
            "\n",
            "BEFORE PREPROCESSING\n",
            "anger        427\n",
            "disgust      352\n",
            "fear         186\n",
            "happy       1313\n",
            "sad          576\n",
            "surprise     201\n",
            "dtype: int64\n",
            "anger       0\n",
            "disgust     0\n",
            "fear        0\n",
            "happy       0\n",
            "sad         0\n",
            "surprise    0\n",
            "dtype: int64\n",
            "\n",
            "AFTER VALUE CLIPPING\n"
          ],
          "name": "stdout"
        },
        {
          "output_type": "execute_result",
          "data": {
            "text/html": [
              "<div>\n",
              "<style scoped>\n",
              "    .dataframe tbody tr th:only-of-type {\n",
              "        vertical-align: middle;\n",
              "    }\n",
              "\n",
              "    .dataframe tbody tr th {\n",
              "        vertical-align: top;\n",
              "    }\n",
              "\n",
              "    .dataframe thead th {\n",
              "        text-align: right;\n",
              "    }\n",
              "</style>\n",
              "<table border=\"1\" class=\"dataframe\">\n",
              "  <thead>\n",
              "    <tr style=\"text-align: right;\">\n",
              "      <th></th>\n",
              "      <th>anger</th>\n",
              "      <th>disgust</th>\n",
              "      <th>fear</th>\n",
              "      <th>happy</th>\n",
              "      <th>sad</th>\n",
              "      <th>surprise</th>\n",
              "    </tr>\n",
              "  </thead>\n",
              "  <tbody>\n",
              "    <tr>\n",
              "      <th>count</th>\n",
              "      <td>2291.000000</td>\n",
              "      <td>2291.000000</td>\n",
              "      <td>2291.000000</td>\n",
              "      <td>2291.000000</td>\n",
              "      <td>2291.000000</td>\n",
              "      <td>2291.000000</td>\n",
              "    </tr>\n",
              "    <tr>\n",
              "      <th>mean</th>\n",
              "      <td>0.123381</td>\n",
              "      <td>0.096028</td>\n",
              "      <td>0.040303</td>\n",
              "      <td>0.533392</td>\n",
              "      <td>0.160483</td>\n",
              "      <td>0.043067</td>\n",
              "    </tr>\n",
              "    <tr>\n",
              "      <th>std</th>\n",
              "      <td>0.306181</td>\n",
              "      <td>0.271380</td>\n",
              "      <td>0.151574</td>\n",
              "      <td>0.650225</td>\n",
              "      <td>0.355313</td>\n",
              "      <td>0.169733</td>\n",
              "    </tr>\n",
              "    <tr>\n",
              "      <th>min</th>\n",
              "      <td>0.000000</td>\n",
              "      <td>0.000000</td>\n",
              "      <td>0.000000</td>\n",
              "      <td>0.000000</td>\n",
              "      <td>0.000000</td>\n",
              "      <td>0.000000</td>\n",
              "    </tr>\n",
              "    <tr>\n",
              "      <th>25%</th>\n",
              "      <td>0.000000</td>\n",
              "      <td>0.000000</td>\n",
              "      <td>0.000000</td>\n",
              "      <td>0.000000</td>\n",
              "      <td>0.000000</td>\n",
              "      <td>0.000000</td>\n",
              "    </tr>\n",
              "    <tr>\n",
              "      <th>50%</th>\n",
              "      <td>0.000000</td>\n",
              "      <td>0.000000</td>\n",
              "      <td>0.000000</td>\n",
              "      <td>0.333333</td>\n",
              "      <td>0.000000</td>\n",
              "      <td>0.000000</td>\n",
              "    </tr>\n",
              "    <tr>\n",
              "      <th>75%</th>\n",
              "      <td>0.000000</td>\n",
              "      <td>0.000000</td>\n",
              "      <td>0.000000</td>\n",
              "      <td>1.000000</td>\n",
              "      <td>0.333333</td>\n",
              "      <td>0.000000</td>\n",
              "    </tr>\n",
              "    <tr>\n",
              "      <th>max</th>\n",
              "      <td>2.666667</td>\n",
              "      <td>2.666667</td>\n",
              "      <td>1.666667</td>\n",
              "      <td>3.000000</td>\n",
              "      <td>3.000000</td>\n",
              "      <td>2.333333</td>\n",
              "    </tr>\n",
              "  </tbody>\n",
              "</table>\n",
              "</div>"
            ],
            "text/plain": [
              "             anger      disgust  ...          sad     surprise\n",
              "count  2291.000000  2291.000000  ...  2291.000000  2291.000000\n",
              "mean      0.123381     0.096028  ...     0.160483     0.043067\n",
              "std       0.306181     0.271380  ...     0.355313     0.169733\n",
              "min       0.000000     0.000000  ...     0.000000     0.000000\n",
              "25%       0.000000     0.000000  ...     0.000000     0.000000\n",
              "50%       0.000000     0.000000  ...     0.000000     0.000000\n",
              "75%       0.000000     0.000000  ...     0.333333     0.000000\n",
              "max       2.666667     2.666667  ...     3.000000     2.333333\n",
              "\n",
              "[8 rows x 6 columns]"
            ]
          },
          "metadata": {
            "tags": []
          },
          "execution_count": 170
        }
      ]
    },
    {
      "cell_type": "code",
      "metadata": {
        "id": "_d5rw0grvEcy",
        "colab_type": "code",
        "outputId": "92608267-4e21-4e59-f342-810456e48e5d",
        "colab": {
          "base_uri": "https://localhost:8080/",
          "height": 51
        }
      },
      "source": [
        "video_train = h5py.File(\"data/video_train.h5\",\"r\")\n",
        "print(list(video_train.keys()))\n",
        "video_train = np.array(video_train.get('d1'))\n",
        "video_train.shape"
      ],
      "execution_count": 162,
      "outputs": [
        {
          "output_type": "stream",
          "text": [
            "['d1']\n"
          ],
          "name": "stdout"
        },
        {
          "output_type": "execute_result",
          "data": {
            "text/plain": [
              "(15290, 20, 35)"
            ]
          },
          "metadata": {
            "tags": []
          },
          "execution_count": 162
        }
      ]
    },
    {
      "cell_type": "markdown",
      "metadata": {
        "id": "-8wK5WF1oTUq",
        "colab_type": "text"
      },
      "source": [
        "20 means the number of words in a particular training sentence (there is 15290 in that file). If I am not mistaken 35 means the FACET dimensions. That means continuous alignment which CMU used words as reference so basically word alignment. They allow each sentence to have 20 words max. 300 is the glove dimensions. 35 is for the video and 74 is for the audio."
      ]
    },
    {
      "cell_type": "code",
      "metadata": {
        "id": "kK46hGiLuSWC",
        "colab_type": "code",
        "outputId": "b8f1dc33-c00a-46b2-9021-57a240a94da6",
        "colab": {
          "base_uri": "https://localhost:8080/",
          "height": 51
        }
      },
      "source": [
        "video_test = h5py.File(\"data/video_test.h5\",\"r\")\n",
        "print(list(video_test.keys()))\n",
        "video_test = np.array(video_test.get('d1'))\n",
        "video_test.shape"
      ],
      "execution_count": 137,
      "outputs": [
        {
          "output_type": "stream",
          "text": [
            "['d1']\n"
          ],
          "name": "stdout"
        },
        {
          "output_type": "execute_result",
          "data": {
            "text/plain": [
              "(4832, 20, 35)"
            ]
          },
          "metadata": {
            "tags": []
          },
          "execution_count": 137
        }
      ]
    },
    {
      "cell_type": "code",
      "metadata": {
        "id": "hSgHQzHSuTVM",
        "colab_type": "code",
        "colab": {
          "base_uri": "https://localhost:8080/",
          "height": 51
        },
        "outputId": "4094bdc4-43bc-4250-9725-3f996c996d9b"
      },
      "source": [
        "video_valid = h5py.File(\"data/video_valid.h5\",\"r\")\n",
        "print(list(video_valid.keys()))\n",
        "video_valid = np.array(video_valid.get('d1'))\n",
        "video_valid.shape"
      ],
      "execution_count": 36,
      "outputs": [
        {
          "output_type": "stream",
          "text": [
            "['d1']\n"
          ],
          "name": "stdout"
        },
        {
          "output_type": "execute_result",
          "data": {
            "text/plain": [
              "(2291, 20, 35)"
            ]
          },
          "metadata": {
            "tags": []
          },
          "execution_count": 36
        }
      ]
    },
    {
      "cell_type": "code",
      "metadata": {
        "id": "PXvMkV49wOh_",
        "colab_type": "code",
        "outputId": "8d2594ce-71f8-4b52-dd18-041679648c86",
        "colab": {
          "base_uri": "https://localhost:8080/",
          "height": 51
        }
      },
      "source": [
        "audio_train = h5py.File(\"data/audio_train.h5\",\"r\")\n",
        "print(list(audio_train.keys()))\n",
        "audio_train = np.array(audio_train.get('d1'))\n",
        "audio_train.shape"
      ],
      "execution_count": 37,
      "outputs": [
        {
          "output_type": "stream",
          "text": [
            "['d1']\n"
          ],
          "name": "stdout"
        },
        {
          "output_type": "execute_result",
          "data": {
            "text/plain": [
              "(15290, 20, 74)"
            ]
          },
          "metadata": {
            "tags": []
          },
          "execution_count": 37
        }
      ]
    },
    {
      "cell_type": "code",
      "metadata": {
        "id": "0ckvvG2AwPyJ",
        "colab_type": "code",
        "outputId": "3e6a5fda-2bfd-4ac8-9301-f82d906195b4",
        "colab": {
          "base_uri": "https://localhost:8080/",
          "height": 51
        }
      },
      "source": [
        "audio_test = h5py.File(\"data/audio_test.h5\",\"r\")\n",
        "print(list(audio_test.keys()))\n",
        "audio_test = np.array(audio_test.get('d1'))\n",
        "audio_test.shape"
      ],
      "execution_count": 38,
      "outputs": [
        {
          "output_type": "stream",
          "text": [
            "['d1']\n"
          ],
          "name": "stdout"
        },
        {
          "output_type": "execute_result",
          "data": {
            "text/plain": [
              "(4832, 20, 74)"
            ]
          },
          "metadata": {
            "tags": []
          },
          "execution_count": 38
        }
      ]
    },
    {
      "cell_type": "code",
      "metadata": {
        "id": "ZopZXzTVw9x6",
        "colab_type": "code",
        "outputId": "4c5bccd3-96bb-4acd-90cc-feb4ffb80edc",
        "colab": {
          "base_uri": "https://localhost:8080/",
          "height": 51
        }
      },
      "source": [
        "audio_valid = h5py.File(\"data/audio_valid.h5\",\"r\")\n",
        "print(list(audio_valid.keys()))\n",
        "audio_valid = np.array(audio_valid.get('d1'))\n",
        "audio_valid.shape"
      ],
      "execution_count": 39,
      "outputs": [
        {
          "output_type": "stream",
          "text": [
            "['d1']\n"
          ],
          "name": "stdout"
        },
        {
          "output_type": "execute_result",
          "data": {
            "text/plain": [
              "(2291, 20, 74)"
            ]
          },
          "metadata": {
            "tags": []
          },
          "execution_count": 39
        }
      ]
    },
    {
      "cell_type": "code",
      "metadata": {
        "id": "gvT0bSooy6u2",
        "colab_type": "code",
        "colab": {
          "base_uri": "https://localhost:8080/",
          "height": 51
        },
        "outputId": "19f40aec-5341-40ad-df16-5240e7e5d3ed"
      },
      "source": [
        "text_train_emb = h5py.File(\"data/text_train_emb.h5\",\"r\")\n",
        "print(list(text_train_emb.keys()))\n",
        "text_train_emb = np.array(text_train_emb.get('d1'))\n",
        "text_train_emb.shape"
      ],
      "execution_count": 40,
      "outputs": [
        {
          "output_type": "stream",
          "text": [
            "['d1']\n"
          ],
          "name": "stdout"
        },
        {
          "output_type": "execute_result",
          "data": {
            "text/plain": [
              "(15290, 20, 300)"
            ]
          },
          "metadata": {
            "tags": []
          },
          "execution_count": 40
        }
      ]
    },
    {
      "cell_type": "code",
      "metadata": {
        "id": "viubQHdjsPzA",
        "colab_type": "code",
        "colab": {
          "base_uri": "https://localhost:8080/",
          "height": 51
        },
        "outputId": "239c677e-a481-4b31-e4c3-b399317ac0f2"
      },
      "source": [
        "text_test_emb = h5py.File(\"data/text_test_emb.h5\",\"r\")\n",
        "print(list(text_test_emb.keys()))\n",
        "text_test_emb = np.array(text_test_emb.get('d1'))\n",
        "text_test_emb.shape"
      ],
      "execution_count": 41,
      "outputs": [
        {
          "output_type": "stream",
          "text": [
            "['d1']\n"
          ],
          "name": "stdout"
        },
        {
          "output_type": "execute_result",
          "data": {
            "text/plain": [
              "(4832, 20, 300)"
            ]
          },
          "metadata": {
            "tags": []
          },
          "execution_count": 41
        }
      ]
    },
    {
      "cell_type": "code",
      "metadata": {
        "id": "csYssjOuseA4",
        "colab_type": "code",
        "colab": {
          "base_uri": "https://localhost:8080/",
          "height": 51
        },
        "outputId": "1c17afdf-09b0-4f2c-8550-69b5a9def034"
      },
      "source": [
        "text_valid_emb = h5py.File(\"data/text_valid_emb.h5\",\"r\")\n",
        "print(list(text_valid_emb.keys()))\n",
        "text_valid_emb = np.array(text_valid_emb.get('d1'))\n",
        "text_valid_emb.shape"
      ],
      "execution_count": 42,
      "outputs": [
        {
          "output_type": "stream",
          "text": [
            "['d1']\n"
          ],
          "name": "stdout"
        },
        {
          "output_type": "execute_result",
          "data": {
            "text/plain": [
              "(2291, 20, 300)"
            ]
          },
          "metadata": {
            "tags": []
          },
          "execution_count": 42
        }
      ]
    }
  ]
}
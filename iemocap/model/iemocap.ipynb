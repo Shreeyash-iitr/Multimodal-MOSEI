{
  "nbformat": 4,
  "nbformat_minor": 0,
  "metadata": {
    "colab": {
      "name": "iemocap.ipynb",
      "version": "0.3.2",
      "provenance": []
    },
    "kernelspec": {
      "name": "python3",
      "display_name": "Python 3"
    },
    "accelerator": "GPU"
  },
  "cells": [
    {
      "cell_type": "code",
      "metadata": {
        "id": "wdKEo0kFCT_e",
        "colab_type": "code",
        "outputId": "ec18829c-8a51-4a10-d356-0d81ce2be36b",
        "colab": {
          "base_uri": "https://localhost:8080/",
          "height": 156
        }
      },
      "source": [
        "!git clone \"https://github.com/convman/Multimodal.git\""
      ],
      "execution_count": 0,
      "outputs": [
        {
          "output_type": "stream",
          "text": [
            "Cloning into 'Multimodal'...\n",
            "remote: Enumerating objects: 43, done.\u001b[K\n",
            "remote: Counting objects: 100% (43/43), done.\u001b[K\n",
            "remote: Compressing objects: 100% (31/31), done.\u001b[K\n",
            "remote: Total 232 (delta 13), reused 36 (delta 9), pack-reused 189\u001b[K\n",
            "Receiving objects: 100% (232/232), 612.67 MiB | 30.09 MiB/s, done.\n",
            "Resolving deltas: 100% (79/79), done.\n",
            "Checking out files: 100% (87/87), done.\n"
          ],
          "name": "stdout"
        }
      ]
    },
    {
      "cell_type": "code",
      "metadata": {
        "id": "z-Q8svh1Ceqz",
        "colab_type": "code",
        "outputId": "55bc0aa2-e4aa-441a-e5d6-c5c658313175",
        "colab": {
          "base_uri": "https://localhost:8080/",
          "height": 35
        }
      },
      "source": [
        "cd Multimodal/iemocap/"
      ],
      "execution_count": 0,
      "outputs": [
        {
          "output_type": "stream",
          "text": [
            "/content/Multimodal/iemocap\n"
          ],
          "name": "stdout"
        }
      ]
    },
    {
      "cell_type": "code",
      "metadata": {
        "id": "59Hmde3ICq1L",
        "colab_type": "code",
        "colab": {}
      },
      "source": [
        "import numpy as np\n",
        "Test_visual = np.load(\"./dataset/Test_visual.npy\")\n",
        "Test_audio = np.load(\"./dataset/Test_audio.npy\")\n",
        "Test_text = np.load(\"./dataset/Test_text.npy\")\n",
        "Train_visual = np.load(\"./dataset/Train_visual.npy\")\n",
        "Train_audio = np.load(\"./dataset/Train_audio.npy\")\n",
        "Train_text = np.load(\"./dataset/Train_text.npy\")\n",
        "Train_labels = np.load(\"./dataset/Train_labels.npy\")\n",
        "Test_labels = np.load(\"./dataset/Test_labels.npy\")"
      ],
      "execution_count": 0,
      "outputs": []
    },
    {
      "cell_type": "code",
      "metadata": {
        "id": "LUm7L5mugAaK",
        "colab_type": "code",
        "colab": {
          "base_uri": "https://localhost:8080/",
          "height": 52
        },
        "outputId": "6205d11f-a238-4afc-e19c-a87b3841750f"
      },
      "source": [
        "Train_concat = np.concatenate((Train_audio,Train_text,Train_visual),axis=-1)\n",
        "Test_concat = np.concatenate((Test_audio,Test_text,Test_visual),axis=-1)\n",
        "print(Train_concat.shape)\n",
        "print(Test_concat.shape)"
      ],
      "execution_count": 99,
      "outputs": [
        {
          "output_type": "stream",
          "text": [
            "(5810, 712)\n",
            "(1623, 712)\n"
          ],
          "name": "stdout"
        }
      ]
    },
    {
      "cell_type": "code",
      "metadata": {
        "id": "i4NSNgGbCuj-",
        "colab_type": "code",
        "colab": {}
      },
      "source": [
        "import pandas as pd\n",
        "import numpy as np\n",
        "import h5py\n",
        "from keras.models import load_model\n",
        "import numpy as np\n",
        "import matplotlib.pyplot as plt\n",
        "import seaborn as sn\n",
        "import pandas as pd\n",
        "from sklearn.model_selection import train_test_split\n",
        "from sklearn.metrics import confusion_matrix\n",
        "from sklearn.utils.multiclass import unique_labels\n",
        "\n",
        "import keras\n",
        "import tensorflow as tf\n",
        "from time import time\n",
        "from keras import layers\n",
        "from google.colab import files\t\n",
        "from keras.models import load_model\n",
        "from keras.models import Model,Sequential,Model\n",
        "from keras.layers import *\n",
        "from keras.callbacks import TensorBoard\n",
        "from keras import callbacks\n",
        "from keras.callbacks import *\n",
        "%matplotlib inline  "
      ],
      "execution_count": 0,
      "outputs": []
    },
    {
      "cell_type": "code",
      "metadata": {
        "id": "A7Ij_7LECxqj",
        "colab_type": "code",
        "outputId": "995b0ea9-1721-4c6a-ceee-3b8e9217c0ff",
        "colab": {
          "base_uri": "https://localhost:8080/",
          "height": 87
        }
      },
      "source": [
        "print(Train_audio.shape)\n",
        "print(Train_text.shape)\n",
        "print(Train_visual.shape)\n",
        "print(Train_labels.shape)"
      ],
      "execution_count": 0,
      "outputs": [
        {
          "output_type": "stream",
          "text": [
            "(5810, 100)\n",
            "(5810, 100)\n",
            "(5810, 512)\n",
            "(5810, 6)\n"
          ],
          "name": "stdout"
        }
      ]
    },
    {
      "cell_type": "code",
      "metadata": {
        "id": "BwIJpFCaJK0D",
        "colab_type": "code",
        "colab": {}
      },
      "source": [
        "def resnet(y,units=32):\n",
        "    x = Dense(units,activation='relu')(y)\n",
        "    x = Dense(units,activation='relu')(x)\n",
        "    x = layers.add([x,y])\n",
        "    return x\n",
        "    "
      ],
      "execution_count": 0,
      "outputs": []
    },
    {
      "cell_type": "code",
      "metadata": {
        "id": "6u8i56lyDUj7",
        "colab_type": "code",
        "outputId": "a094b65e-fde2-42cc-ea61-6d295589bb69",
        "colab": {
          "base_uri": "https://localhost:8080/",
          "height": 815
        }
      },
      "source": [
        "i_a = Input(shape=(100,))\n",
        "y_a = Dense(64)(i_a)\n",
        "y_a = LeakyReLU(0.3)(y_a)\n",
        "y_a = Dense(64)(y_a)\n",
        "y_a = LeakyReLU(0.3)(y_a)\n",
        "y_a = Dropout(rate=0.3)(y_a)\n",
        "y_a = Dense(32)(y_a)\n",
        "y_a = LeakyReLU(0.3)(y_a)\n",
        "y_a = Dense(6,activation='softmax')(y_a)\n",
        "model_a = Model(i_a,y_a)\n",
        "print(model_a.summary())\n",
        "model_a.compile('adam','categorical_crossentropy',metrics=['accuracy'],)\n",
        "es = EarlyStopping(monitor='val_acc',mode='max' ,patience=5, min_delta=0.0001,verbose=1)\n",
        "reduce_lr = ReduceLROnPlateau(monitor='val_acc', factor=0.2,patience=2,min_lr=0.00001)\n",
        "model_a.fit(Train_audio,Train_labels,128,epochs=20,validation_split=0.1,callbacks=[es,reduce_lr])\n",
        "print(model_a.evaluate(Test_audio,Test_labels))"
      ],
      "execution_count": 0,
      "outputs": [
        {
          "output_type": "stream",
          "text": [
            "_________________________________________________________________\n",
            "Layer (type)                 Output Shape              Param #   \n",
            "=================================================================\n",
            "input_49 (InputLayer)        (None, 100)               0         \n",
            "_________________________________________________________________\n",
            "dense_242 (Dense)            (None, 64)                6464      \n",
            "_________________________________________________________________\n",
            "leaky_re_lu_39 (LeakyReLU)   (None, 64)                0         \n",
            "_________________________________________________________________\n",
            "dense_243 (Dense)            (None, 64)                4160      \n",
            "_________________________________________________________________\n",
            "leaky_re_lu_40 (LeakyReLU)   (None, 64)                0         \n",
            "_________________________________________________________________\n",
            "dropout_19 (Dropout)         (None, 64)                0         \n",
            "_________________________________________________________________\n",
            "dense_244 (Dense)            (None, 32)                2080      \n",
            "_________________________________________________________________\n",
            "leaky_re_lu_41 (LeakyReLU)   (None, 32)                0         \n",
            "_________________________________________________________________\n",
            "dense_245 (Dense)            (None, 6)                 198       \n",
            "=================================================================\n",
            "Total params: 12,902\n",
            "Trainable params: 12,902\n",
            "Non-trainable params: 0\n",
            "_________________________________________________________________\n",
            "None\n",
            "Train on 5229 samples, validate on 581 samples\n",
            "Epoch 1/20\n",
            "5229/5229 [==============================] - 5s 1ms/step - loss: 1.5995 - acc: 0.3377 - val_loss: 1.4718 - val_acc: 0.4337\n",
            "Epoch 2/20\n",
            "5229/5229 [==============================] - 0s 53us/step - loss: 1.4207 - acc: 0.4410 - val_loss: 1.3806 - val_acc: 0.4544\n",
            "Epoch 3/20\n",
            "5229/5229 [==============================] - 0s 54us/step - loss: 1.3632 - acc: 0.4532 - val_loss: 1.3633 - val_acc: 0.4596\n",
            "Epoch 4/20\n",
            "5229/5229 [==============================] - 0s 52us/step - loss: 1.3569 - acc: 0.4504 - val_loss: 1.3552 - val_acc: 0.4544\n",
            "Epoch 5/20\n",
            "5229/5229 [==============================] - 0s 58us/step - loss: 1.3475 - acc: 0.4523 - val_loss: 1.3674 - val_acc: 0.4475\n",
            "Epoch 6/20\n",
            "5229/5229 [==============================] - 0s 56us/step - loss: 1.3399 - acc: 0.4571 - val_loss: 1.3622 - val_acc: 0.4509\n",
            "Epoch 7/20\n",
            "5229/5229 [==============================] - 0s 52us/step - loss: 1.3374 - acc: 0.4586 - val_loss: 1.3606 - val_acc: 0.4509\n",
            "Epoch 8/20\n",
            "5229/5229 [==============================] - 0s 53us/step - loss: 1.3327 - acc: 0.4632 - val_loss: 1.3595 - val_acc: 0.4527\n",
            "Epoch 00008: early stopping\n",
            "1623/1623 [==============================] - 0s 92us/step\n",
            "[1.5434963863276436, 0.40480591477028616]\n"
          ],
          "name": "stdout"
        }
      ]
    },
    {
      "cell_type": "code",
      "metadata": {
        "id": "Q02ecAU8WrQh",
        "colab_type": "code",
        "colab": {}
      },
      "source": [
        "model_a.save(\"audio.h5\")"
      ],
      "execution_count": 0,
      "outputs": []
    },
    {
      "cell_type": "code",
      "metadata": {
        "id": "GjejSnJXWrHh",
        "colab_type": "code",
        "colab": {}
      },
      "source": [
        ""
      ],
      "execution_count": 0,
      "outputs": []
    },
    {
      "cell_type": "code",
      "metadata": {
        "id": "Rc9cvObmFOVV",
        "colab_type": "code",
        "outputId": "bffea6a0-3bd9-4dd3-c515-c5ed8e5d64b9",
        "colab": {
          "base_uri": "https://localhost:8080/",
          "height": 745
        }
      },
      "source": [
        "i_t = Input(shape = (100,))\n",
        "y_t = Dense(128,activation='relu')(i_t)\n",
        "y_t = Dense(128,activation='relu')(y_t)\n",
        "y_t = Dense(64,activation='relu')(y_t)\n",
        "y_t = BatchNormalization()(y_t)\n",
        "y_t = Dense(64,activation='relu')(y_t)\n",
        "y_t = Dense(32,activation='relu')(y_t)\n",
        "y_t = Dense(6,activation='softmax')(y_t)\n",
        "model_t = Model(i_t,y_t)\n",
        "print(model_t.summary())\n",
        "model_t.compile('adam','categorical_crossentropy',metrics=['accuracy'],)\n",
        "es = EarlyStopping(monitor='val_acc',mode='max' ,patience=5, min_delta=0.0001,verbose=1)\n",
        "reduce_lr = ReduceLROnPlateau(monitor='val_acc', factor=0.2,patience=2,min_lr=0.00001)\n",
        "model_t.fit(Train_text,Train_labels,128,epochs=20,validation_split=0.1,callbacks=[es,reduce_lr])\n",
        "print(model_t.evaluate(Test_text,Test_labels))"
      ],
      "execution_count": 0,
      "outputs": [
        {
          "output_type": "stream",
          "text": [
            "_________________________________________________________________\n",
            "Layer (type)                 Output Shape              Param #   \n",
            "=================================================================\n",
            "input_71 (InputLayer)        (None, 100)               0         \n",
            "_________________________________________________________________\n",
            "dense_346 (Dense)            (None, 128)               12928     \n",
            "_________________________________________________________________\n",
            "dense_347 (Dense)            (None, 128)               16512     \n",
            "_________________________________________________________________\n",
            "dense_348 (Dense)            (None, 64)                8256      \n",
            "_________________________________________________________________\n",
            "batch_normalization_6 (Batch (None, 64)                256       \n",
            "_________________________________________________________________\n",
            "dense_349 (Dense)            (None, 64)                4160      \n",
            "_________________________________________________________________\n",
            "dense_350 (Dense)            (None, 32)                2080      \n",
            "_________________________________________________________________\n",
            "dense_351 (Dense)            (None, 6)                 198       \n",
            "=================================================================\n",
            "Total params: 44,390\n",
            "Trainable params: 44,262\n",
            "Non-trainable params: 128\n",
            "_________________________________________________________________\n",
            "None\n",
            "Train on 5229 samples, validate on 581 samples\n",
            "Epoch 1/20\n",
            "5229/5229 [==============================] - 7s 1ms/step - loss: 0.7059 - acc: 0.7810 - val_loss: 0.3232 - val_acc: 0.9071\n",
            "Epoch 2/20\n",
            "5229/5229 [==============================] - 0s 80us/step - loss: 0.3263 - acc: 0.8900 - val_loss: 0.3004 - val_acc: 0.9088\n",
            "Epoch 3/20\n",
            "5229/5229 [==============================] - 0s 78us/step - loss: 0.2981 - acc: 0.8950 - val_loss: 0.3021 - val_acc: 0.9002\n",
            "Epoch 4/20\n",
            "5229/5229 [==============================] - 0s 79us/step - loss: 0.2774 - acc: 0.8983 - val_loss: 0.3125 - val_acc: 0.8847\n",
            "Epoch 5/20\n",
            "5229/5229 [==============================] - 0s 78us/step - loss: 0.2529 - acc: 0.9059 - val_loss: 0.3102 - val_acc: 0.8950\n",
            "Epoch 6/20\n",
            "5229/5229 [==============================] - 0s 81us/step - loss: 0.2514 - acc: 0.9050 - val_loss: 0.3115 - val_acc: 0.8864\n",
            "Epoch 7/20\n",
            "5229/5229 [==============================] - 0s 79us/step - loss: 0.2411 - acc: 0.9078 - val_loss: 0.3113 - val_acc: 0.8864\n",
            "Epoch 00007: early stopping\n",
            "1623/1623 [==============================] - 0s 113us/step\n",
            "[1.6540278231590821, 0.5113986442651708]\n"
          ],
          "name": "stdout"
        }
      ]
    },
    {
      "cell_type": "code",
      "metadata": {
        "id": "VO4bvA4MW09_",
        "colab_type": "code",
        "colab": {}
      },
      "source": [
        "model_t.save(\"text.h5\")"
      ],
      "execution_count": 0,
      "outputs": []
    },
    {
      "cell_type": "code",
      "metadata": {
        "id": "CE4DpcvQJEQX",
        "colab_type": "code",
        "outputId": "1709ad3b-b9b9-40cd-ae5a-8ba5eb8fd87c",
        "colab": {
          "base_uri": "https://localhost:8080/",
          "height": 711
        }
      },
      "source": [
        "i_v = Input(shape=(512,))\n",
        "y_v = Dense(128,activation='relu')(i_v)\n",
        "y_v = Dense(64,activation='relu')(y_v)\n",
        "y_v = Dense(32,activation='relu')(y_v)\n",
        "y_v = Dropout(rate=0.3)(y_v)\n",
        "y_v = Dense(32,activation='relu')(y_v)\n",
        "y_v = Dense(6,activation='softmax')(y_v)\n",
        "model_v = Model(i_v,y_v)\n",
        "print(model_v.summary())\n",
        "model_v.compile('adam','categorical_crossentropy',metrics=['accuracy'],)\n",
        "es = EarlyStopping(monitor='val_acc',mode='max' ,patience=5, min_delta=0.0001,verbose=1)\n",
        "reduce_lr = ReduceLROnPlateau(monitor='val_acc', factor=0.2,patience=2,min_lr=0.00001)\n",
        "model_v.fit(Train_visual,Train_labels,128,epochs=20,validation_split=0.1,callbacks=[es,reduce_lr])\n",
        "print(model_v.evaluate(Test_visual,Test_labels))"
      ],
      "execution_count": 89,
      "outputs": [
        {
          "output_type": "stream",
          "text": [
            "_________________________________________________________________\n",
            "Layer (type)                 Output Shape              Param #   \n",
            "=================================================================\n",
            "input_77 (InputLayer)        (None, 512)               0         \n",
            "_________________________________________________________________\n",
            "dense_377 (Dense)            (None, 128)               65664     \n",
            "_________________________________________________________________\n",
            "dense_378 (Dense)            (None, 64)                8256      \n",
            "_________________________________________________________________\n",
            "dense_379 (Dense)            (None, 32)                2080      \n",
            "_________________________________________________________________\n",
            "dropout_31 (Dropout)         (None, 32)                0         \n",
            "_________________________________________________________________\n",
            "dense_380 (Dense)            (None, 32)                1056      \n",
            "_________________________________________________________________\n",
            "dense_381 (Dense)            (None, 6)                 198       \n",
            "=================================================================\n",
            "Total params: 77,254\n",
            "Trainable params: 77,254\n",
            "Non-trainable params: 0\n",
            "_________________________________________________________________\n",
            "None\n",
            "Train on 5229 samples, validate on 581 samples\n",
            "Epoch 1/20\n",
            "5229/5229 [==============================] - 8s 1ms/step - loss: 1.7360 - acc: 0.2570 - val_loss: 1.6400 - val_acc: 0.2995\n",
            "Epoch 2/20\n",
            "5229/5229 [==============================] - 0s 64us/step - loss: 1.5883 - acc: 0.3282 - val_loss: 1.4319 - val_acc: 0.4441\n",
            "Epoch 3/20\n",
            "5229/5229 [==============================] - 0s 64us/step - loss: 1.4387 - acc: 0.4121 - val_loss: 1.3318 - val_acc: 0.4062\n",
            "Epoch 4/20\n",
            "5229/5229 [==============================] - 0s 64us/step - loss: 1.3604 - acc: 0.4408 - val_loss: 1.2862 - val_acc: 0.4355\n",
            "Epoch 5/20\n",
            "5229/5229 [==============================] - 0s 67us/step - loss: 1.3150 - acc: 0.4674 - val_loss: 1.2835 - val_acc: 0.4303\n",
            "Epoch 6/20\n",
            "5229/5229 [==============================] - 0s 64us/step - loss: 1.3206 - acc: 0.4724 - val_loss: 1.2757 - val_acc: 0.4269\n",
            "Epoch 7/20\n",
            "5229/5229 [==============================] - 0s 64us/step - loss: 1.3084 - acc: 0.4651 - val_loss: 1.2786 - val_acc: 0.4286\n",
            "Epoch 00007: early stopping\n",
            "1623/1623 [==============================] - 0s 117us/step\n",
            "[1.7804820526549645, 0.2895871842083781]\n"
          ],
          "name": "stdout"
        }
      ]
    },
    {
      "cell_type": "code",
      "metadata": {
        "id": "fOPIP2mEQ-oE",
        "colab_type": "code",
        "colab": {}
      },
      "source": [
        "model_v.save(\"visual.h5\")"
      ],
      "execution_count": 0,
      "outputs": []
    },
    {
      "cell_type": "code",
      "metadata": {
        "id": "YBwBdgBBW_DF",
        "colab_type": "code",
        "colab": {}
      },
      "source": [
        "files.download(\"audio.h5\")\n",
        "files.download(\"text.h5\")\n",
        "files.download(\"visual.h5\")"
      ],
      "execution_count": 0,
      "outputs": []
    },
    {
      "cell_type": "code",
      "metadata": {
        "id": "ucWKUMXpXL3i",
        "colab_type": "code",
        "colab": {}
      },
      "source": [
        "m_a = load_model(\"audio.h5\")\n",
        "m_t = load_model(\"text.h5\")\n",
        "m_v = load_model(\"visual.h5\")"
      ],
      "execution_count": 0,
      "outputs": []
    },
    {
      "cell_type": "code",
      "metadata": {
        "id": "ZcDX-C71bGBR",
        "colab_type": "code",
        "colab": {
          "base_uri": "https://localhost:8080/",
          "height": 467
        },
        "outputId": "6027bcb7-390e-49b2-9a92-384df26beac1"
      },
      "source": [
        "y_pred = np.argmax(m_v.predict(Test_visual),axis=1)\n",
        "y_true = np.argmax(Test_labels,axis=1)\n",
        "cm = confusion_matrix(y_true,y_pred)\n",
        "df = pd.DataFrame(cm,index=[\"happy\",\"sad\",\"neutral\",\"angry\",\"excited\",\"frustrate\"],columns=[\"happy\",\"sad\",\"neutral\",\"angry\",\"excited\",\"frustrate\"])\n",
        "plt.figure(figsize = (10,7),)\n",
        "print(\"UNIMODAL VISUAL RESULTS\")\n",
        "sn.heatmap(cm, annot=True,xticklabels=True,yticklabels=True)"
      ],
      "execution_count": 94,
      "outputs": [
        {
          "output_type": "stream",
          "text": [
            "UNIMODAL VISUAL RESULTS\n"
          ],
          "name": "stdout"
        },
        {
          "output_type": "execute_result",
          "data": {
            "text/plain": [
              "<matplotlib.axes._subplots.AxesSubplot at 0x7f7da7a4bb38>"
            ]
          },
          "metadata": {
            "tags": []
          },
          "execution_count": 94
        },
        {
          "output_type": "display_data",
          "data": {
            "image/png": "[encoded data removed]",
            "text/plain": [
              "<Figure size 720x504 with 2 Axes>"
            ]
          },
          "metadata": {
            "tags": []
          }
        }
      ]
    },
    {
      "cell_type": "code",
      "metadata": {
        "id": "z2cEifOCbKVQ",
        "colab_type": "code",
        "colab": {
          "base_uri": "https://localhost:8080/",
          "height": 467
        },
        "outputId": "5bd7b23b-2d18-4c58-b4f8-96f75a973a44"
      },
      "source": [
        "y_pred = np.argmax(m_a.predict(Test_audio),axis=1)\n",
        "y_true = np.argmax(Test_labels,axis=1)\n",
        "cm = confusion_matrix(y_true,y_pred)\n",
        "df = pd.DataFrame(cm,index=[\"happy\",\"sad\",\"neutral\",\"angry\",\"excited\",\"frustrate\"],columns=[\"happy\",\"sad\",\"neutral\",\"angry\",\"excited\",\"frustrate\"])\n",
        "plt.figure(figsize = (10,7),)\n",
        "print(\"UNIMODAL AUDIO RESULTS\")\n",
        "sn.heatmap(cm, annot=True,xticklabels=True,yticklabels=True,)"
      ],
      "execution_count": 96,
      "outputs": [
        {
          "output_type": "stream",
          "text": [
            "UNIMODAL AUDIO RESULTS\n"
          ],
          "name": "stdout"
        },
        {
          "output_type": "execute_result",
          "data": {
            "text/plain": [
              "<matplotlib.axes._subplots.AxesSubplot at 0x7f7cecf1cb70>"
            ]
          },
          "metadata": {
            "tags": []
          },
          "execution_count": 96
        },
        {
          "output_type": "display_data",
          "data": {
            "image/png": "[encoded data removed]",
            "text/plain": [
              "<Figure size 720x504 with 2 Axes>"
            ]
          },
          "metadata": {
            "tags": []
          }
        }
      ]
    },
    {
      "cell_type": "code",
      "metadata": {
        "id": "_AghmJWAe1Uo",
        "colab_type": "code",
        "colab": {
          "base_uri": "https://localhost:8080/",
          "height": 467
        },
        "outputId": "29357215-2270-4d8b-ab3a-dc2cd74e05de"
      },
      "source": [
        "y_pred = np.argmax(m_t.predict(Test_text),axis=1)\n",
        "y_true = np.argmax(Test_labels,axis=1)\n",
        "cm = confusion_matrix(y_true,y_pred)\n",
        "df = pd.DataFrame(cm,index=[\"happy\",\"sad\",\"neutral\",\"angry\",\"excited\",\"frustrate\"],columns=[\"happy\",\"sad\",\"neutral\",\"angry\",\"excited\",\"frustrate\"])\n",
        "plt.figure(figsize = (10,7),)\n",
        "print(\"UNIMODAL TEXT RESULTS\")\n",
        "sn.heatmap(cm, annot=True,xticklabels=True,yticklabels=True)"
      ],
      "execution_count": 97,
      "outputs": [
        {
          "output_type": "stream",
          "text": [
            "UNIMODAL TEXT RESULTS\n"
          ],
          "name": "stdout"
        },
        {
          "output_type": "execute_result",
          "data": {
            "text/plain": [
              "<matplotlib.axes._subplots.AxesSubplot at 0x7f7cef7d44e0>"
            ]
          },
          "metadata": {
            "tags": []
          },
          "execution_count": 97
        },
        {
          "output_type": "display_data",
          "data": {
            "image/png": "[encoded data removed]",
            "text/plain": [
              "<Figure size 720x504 with 2 Axes>"
            ]
          },
          "metadata": {
            "tags": []
          }
        }
      ]
    },
    {
      "cell_type": "code",
      "metadata": {
        "id": "rt5okEhue8-e",
        "colab_type": "code",
        "colab": {
          "base_uri": "https://localhost:8080/",
          "height": 919
        },
        "outputId": "0239a24d-e4f2-4c16-c6a0-f2ac69646ff1"
      },
      "source": [
        "i_c = Input(shape=(712,))\n",
        "y_c = Dense(128,activation='relu')(i_c)\n",
        "y_c = Dense(64,activation='relu')(y_c)\n",
        "y_c = Dropout(0.33)(y_c)\n",
        "y_c = Dense(64,activation='relu')(y_c)\n",
        "y_c = Dense(32,activation='relu')(y_c)\n",
        "y_c = BatchNormalization()(y_c)\n",
        "y_c = Dense(32,activation='relu')(y_c)\n",
        "y_c = Dense(6,activation='softmax')(y_c)\n",
        "model_c = Model(i_c,y_c)\n",
        "print(model_c.summary())\n",
        "model_c.compile('adam','categorical_crossentropy',metrics=['accuracy'],)\n",
        "es = EarlyStopping(monitor='val_acc',mode='max' ,patience=5, min_delta=0.0001,verbose=1)\n",
        "reduce_lr = ReduceLROnPlateau(monitor='val_acc', factor=0.2,patience=2,min_lr=0.00001)\n",
        "model_c.fit(Train_concat,Train_labels,128,epochs=20,validation_split=0.1,callbacks=[es,reduce_lr])\n",
        "print(model_c.evaluate(Test_concat,Test_labels))"
      ],
      "execution_count": 114,
      "outputs": [
        {
          "output_type": "stream",
          "text": [
            "_________________________________________________________________\n",
            "Layer (type)                 Output Shape              Param #   \n",
            "=================================================================\n",
            "input_92 (InputLayer)        (None, 712)               0         \n",
            "_________________________________________________________________\n",
            "dense_459 (Dense)            (None, 128)               91264     \n",
            "_________________________________________________________________\n",
            "dense_460 (Dense)            (None, 64)                8256      \n",
            "_________________________________________________________________\n",
            "dropout_37 (Dropout)         (None, 64)                0         \n",
            "_________________________________________________________________\n",
            "dense_461 (Dense)            (None, 64)                4160      \n",
            "_________________________________________________________________\n",
            "dense_462 (Dense)            (None, 32)                2080      \n",
            "_________________________________________________________________\n",
            "batch_normalization_14 (Batc (None, 32)                128       \n",
            "_________________________________________________________________\n",
            "dense_463 (Dense)            (None, 32)                1056      \n",
            "_________________________________________________________________\n",
            "dense_464 (Dense)            (None, 6)                 198       \n",
            "=================================================================\n",
            "Total params: 107,142\n",
            "Trainable params: 107,078\n",
            "Non-trainable params: 64\n",
            "_________________________________________________________________\n",
            "None\n",
            "Train on 5229 samples, validate on 581 samples\n",
            "Epoch 1/20\n",
            "5229/5229 [==============================] - 11s 2ms/step - loss: 0.9696 - acc: 0.7066 - val_loss: 0.3779 - val_acc: 0.8950\n",
            "Epoch 2/20\n",
            "5229/5229 [==============================] - 0s 87us/step - loss: 0.4396 - acc: 0.8847 - val_loss: 0.3170 - val_acc: 0.9002\n",
            "Epoch 3/20\n",
            "5229/5229 [==============================] - 0s 89us/step - loss: 0.3537 - acc: 0.8946 - val_loss: 0.3039 - val_acc: 0.9088\n",
            "Epoch 4/20\n",
            "5229/5229 [==============================] - 0s 89us/step - loss: 0.3195 - acc: 0.8981 - val_loss: 0.3019 - val_acc: 0.9071\n",
            "Epoch 5/20\n",
            "5229/5229 [==============================] - 0s 87us/step - loss: 0.3038 - acc: 0.9002 - val_loss: 0.2910 - val_acc: 0.9122\n",
            "Epoch 6/20\n",
            "5229/5229 [==============================] - 0s 87us/step - loss: 0.2894 - acc: 0.9025 - val_loss: 0.2894 - val_acc: 0.9174\n",
            "Epoch 7/20\n",
            "5229/5229 [==============================] - 0s 88us/step - loss: 0.2811 - acc: 0.9053 - val_loss: 0.2845 - val_acc: 0.9071\n",
            "Epoch 8/20\n",
            "5229/5229 [==============================] - 0s 87us/step - loss: 0.2662 - acc: 0.9134 - val_loss: 0.2961 - val_acc: 0.9002\n",
            "Epoch 9/20\n",
            "5229/5229 [==============================] - 0s 86us/step - loss: 0.2509 - acc: 0.9157 - val_loss: 0.2898 - val_acc: 0.9053\n",
            "Epoch 10/20\n",
            "5229/5229 [==============================] - 0s 90us/step - loss: 0.2433 - acc: 0.9176 - val_loss: 0.2876 - val_acc: 0.9088\n",
            "Epoch 11/20\n",
            "5229/5229 [==============================] - 0s 86us/step - loss: 0.2368 - acc: 0.9191 - val_loss: 0.2881 - val_acc: 0.9071\n",
            "Epoch 00011: early stopping\n",
            "1623/1623 [==============================] - 0s 137us/step\n",
            "[1.589143298837188, 0.5292667899687057]\n"
          ],
          "name": "stdout"
        }
      ]
    },
    {
      "cell_type": "code",
      "metadata": {
        "id": "6NkQdmRlhEO2",
        "colab_type": "code",
        "colab": {}
      },
      "source": [
        "model_c.save(\"early_fusion.h5\")\n",
        "files.download(\"early_fusion.h5\")"
      ],
      "execution_count": 0,
      "outputs": []
    },
    {
      "cell_type": "code",
      "metadata": {
        "id": "45dGvGI0kPCp",
        "colab_type": "code",
        "colab": {
          "base_uri": "https://localhost:8080/",
          "height": 467
        },
        "outputId": "0dd6bc43-a08d-46a7-d1dd-3ad958e4aecd"
      },
      "source": [
        "y_pred = np.argmax(model_c.predict(Test_concat),axis=1)\n",
        "y_true = np.argmax(Test_labels,axis=1)\n",
        "cm = confusion_matrix(y_true,y_pred)\n",
        "df = pd.DataFrame(cm,index=[\"happy\",\"sad\",\"neutral\",\"angry\",\"excited\",\"frustrate\"],columns=[\"happy\",\"sad\",\"neutral\",\"angry\",\"excited\",\"frustrate\"])\n",
        "plt.figure(figsize = (10,7),)\n",
        "print(\"EARLY FUSION RESULTS\")\n",
        "sn.heatmap(cm, annot=True,xticklabels=True,yticklabels=True)"
      ],
      "execution_count": 116,
      "outputs": [
        {
          "output_type": "stream",
          "text": [
            "EARLY FUSION RESULTS\n"
          ],
          "name": "stdout"
        },
        {
          "output_type": "execute_result",
          "data": {
            "text/plain": [
              "<matplotlib.axes._subplots.AxesSubplot at 0x7f7ce6341c88>"
            ]
          },
          "metadata": {
            "tags": []
          },
          "execution_count": 116
        },
        {
          "output_type": "display_data",
          "data": {
            "image/png": "[encoded data removed]",
            "text/plain": [
              "<Figure size 720x504 with 2 Axes>"
            ]
          },
          "metadata": {
            "tags": []
          }
        }
      ]
    },
    {
      "cell_type": "code",
      "metadata": {
        "id": "7UyJ4YeDkowV",
        "colab_type": "code",
        "colab": {}
      },
      "source": [
        "m_a = load_model(\"audio.h5\")\n",
        "m_t = load_model(\"text.h5\")\n",
        "m_v = load_model(\"visual.h5\")"
      ],
      "execution_count": 0,
      "outputs": []
    },
    {
      "cell_type": "code",
      "metadata": {
        "id": "5u7ErKfBl6p5",
        "colab_type": "code",
        "colab": {}
      },
      "source": [
        "model_a = Sequential()\n",
        "model_t = Sequential()\n",
        "model_v = Sequential()\n",
        "for layer in m_a.layers[:-1]:\n",
        "    layer.trainable = False\n",
        "    model_a.add(layer)\n",
        "for layer in m_v.layers[:-1]:\n",
        "    layer.trainable = False\n",
        "    model_v.add(layer)\n",
        "for layer in m_t.layers[:-1]:\n",
        "    layer.trainable = False\n",
        "    model_t.add(layer)\n",
        "    "
      ],
      "execution_count": 0,
      "outputs": []
    },
    {
      "cell_type": "code",
      "metadata": {
        "id": "cYoV5I54mynJ",
        "colab_type": "code",
        "colab": {
          "base_uri": "https://localhost:8080/",
          "height": 312
        },
        "outputId": "47b9d7ea-142d-47d1-c5da-05adbe2480bf"
      },
      "source": [
        "model_v.summary()"
      ],
      "execution_count": 119,
      "outputs": [
        {
          "output_type": "stream",
          "text": [
            "_________________________________________________________________\n",
            "Layer (type)                 Output Shape              Param #   \n",
            "=================================================================\n",
            "dense_367 (Dense)            (None, 128)               65664     \n",
            "_________________________________________________________________\n",
            "dense_368 (Dense)            (None, 64)                8256      \n",
            "_________________________________________________________________\n",
            "dense_369 (Dense)            (None, 32)                2080      \n",
            "_________________________________________________________________\n",
            "dropout_29 (Dropout)         (None, 32)                0         \n",
            "_________________________________________________________________\n",
            "dense_370 (Dense)            (None, 32)                1056      \n",
            "=================================================================\n",
            "Total params: 77,056\n",
            "Trainable params: 0\n",
            "Non-trainable params: 77,056\n",
            "_________________________________________________________________\n"
          ],
          "name": "stdout"
        }
      ]
    },
    {
      "cell_type": "code",
      "metadata": {
        "id": "4xp29nESm1v8",
        "colab_type": "code",
        "colab": {
          "base_uri": "https://localhost:8080/",
          "height": 919
        },
        "outputId": "c7726aa6-23ab-43e7-ad04-9a33818e5a16"
      },
      "source": [
        "i_a = Input(shape=(100,))\n",
        "i_v = Input(shape=(512,))\n",
        "i_t = Input(shape=(100,))\n",
        "merged = concatenate([model_a(i_a),model_t(i_t),model_v(i_v)])\n",
        "merged = Dropout(0.4)(merged)\n",
        "y = Dense(6,activation='softmax')(merged)\n",
        "model = Model([i_a,i_v,i_t],y)\n",
        "print(model.summary())\n",
        "model.compile('adam','categorical_crossentropy',metrics=['accuracy'],)\n",
        "es = EarlyStopping(monitor='val_acc',mode='max' ,patience=5, min_delta=0.0001,verbose=1)\n",
        "reduce_lr = ReduceLROnPlateau(monitor='val_acc', factor=0.2,patience=2,min_lr=0.00001)\n",
        "model.fit([Train_audio,Train_visual,Train_text],Train_labels,128,epochs=20,validation_split=0.1,callbacks=[es,reduce_lr])\n",
        "print(model.evaluate([Test_audio,Test_visual,Test_text],Test_labels))"
      ],
      "execution_count": 135,
      "outputs": [
        {
          "output_type": "stream",
          "text": [
            "__________________________________________________________________________________________________\n",
            "Layer (type)                    Output Shape         Param #     Connected to                     \n",
            "==================================================================================================\n",
            "input_138 (InputLayer)          (None, 100)          0                                            \n",
            "__________________________________________________________________________________________________\n",
            "input_140 (InputLayer)          (None, 100)          0                                            \n",
            "__________________________________________________________________________________________________\n",
            "input_139 (InputLayer)          (None, 512)          0                                            \n",
            "__________________________________________________________________________________________________\n",
            "sequential_1 (Sequential)       (None, 32)           12704       input_138[0][0]                  \n",
            "__________________________________________________________________________________________________\n",
            "sequential_2 (Sequential)       (None, 32)           44192       input_140[0][0]                  \n",
            "__________________________________________________________________________________________________\n",
            "sequential_3 (Sequential)       (None, 32)           77056       input_139[0][0]                  \n",
            "__________________________________________________________________________________________________\n",
            "concatenate_16 (Concatenate)    (None, 96)           0           sequential_1[16][0]              \n",
            "                                                                 sequential_2[16][0]              \n",
            "                                                                 sequential_3[16][0]              \n",
            "__________________________________________________________________________________________________\n",
            "dropout_48 (Dropout)            (None, 96)           0           concatenate_16[0][0]             \n",
            "__________________________________________________________________________________________________\n",
            "dense_488 (Dense)               (None, 6)            582         dropout_48[0][0]                 \n",
            "==================================================================================================\n",
            "Total params: 134,534\n",
            "Trainable params: 582\n",
            "Non-trainable params: 133,952\n",
            "__________________________________________________________________________________________________\n",
            "None\n",
            "Train on 5229 samples, validate on 581 samples\n",
            "Epoch 1/20\n",
            "5229/5229 [==============================] - 12s 2ms/step - loss: 2.4674 - acc: 0.2465 - val_loss: 1.5054 - val_acc: 0.3580\n",
            "Epoch 2/20\n",
            "5229/5229 [==============================] - 0s 67us/step - loss: 1.5358 - acc: 0.4399 - val_loss: 0.9040 - val_acc: 0.7367\n",
            "Epoch 3/20\n",
            "5229/5229 [==============================] - 0s 63us/step - loss: 1.0214 - acc: 0.6221 - val_loss: 0.5915 - val_acc: 0.8657\n",
            "Epoch 4/20\n",
            "5229/5229 [==============================] - 0s 65us/step - loss: 0.7446 - acc: 0.7342 - val_loss: 0.4380 - val_acc: 0.9174\n",
            "Epoch 5/20\n",
            "5229/5229 [==============================] - 0s 66us/step - loss: 0.5942 - acc: 0.7944 - val_loss: 0.3634 - val_acc: 0.9208\n",
            "Epoch 6/20\n",
            "5229/5229 [==============================] - 0s 68us/step - loss: 0.5102 - acc: 0.8292 - val_loss: 0.3190 - val_acc: 0.9208\n",
            "Epoch 7/20\n",
            "5229/5229 [==============================] - 0s 66us/step - loss: 0.4509 - acc: 0.8516 - val_loss: 0.2947 - val_acc: 0.9208\n",
            "Epoch 8/20\n",
            "5229/5229 [==============================] - 0s 71us/step - loss: 0.4167 - acc: 0.8625 - val_loss: 0.2904 - val_acc: 0.9191\n",
            "Epoch 9/20\n",
            "5229/5229 [==============================] - 0s 66us/step - loss: 0.4072 - acc: 0.8684 - val_loss: 0.2867 - val_acc: 0.9191\n",
            "Epoch 10/20\n",
            "5229/5229 [==============================] - 0s 66us/step - loss: 0.4029 - acc: 0.8715 - val_loss: 0.2859 - val_acc: 0.9191\n",
            "Epoch 00010: early stopping\n",
            "1623/1623 [==============================] - 0s 163us/step\n",
            "[1.2319548673565124, 0.5532963647015361]\n"
          ],
          "name": "stdout"
        }
      ]
    },
    {
      "cell_type": "code",
      "metadata": {
        "id": "LjmFZFSloCdE",
        "colab_type": "code",
        "colab": {}
      },
      "source": [
        "model.save(\"late_fusion.h5\")\n",
        "files.download(\"late_fusion.h5\")"
      ],
      "execution_count": 0,
      "outputs": []
    },
    {
      "cell_type": "code",
      "metadata": {
        "id": "okGWfp0irQ-k",
        "colab_type": "code",
        "colab": {
          "base_uri": "https://localhost:8080/",
          "height": 467
        },
        "outputId": "7e915246-0c35-4e50-f1b3-9824d38bf187"
      },
      "source": [
        "y_pred = np.argmax(model.predict([Test_audio,Test_visual,Test_text]),axis=1)\n",
        "y_true = np.argmax(Test_labels,axis=1)\n",
        "cm = confusion_matrix(y_true,y_pred)\n",
        "df = pd.DataFrame(cm,index=[\"happy\",\"sad\",\"neutral\",\"angry\",\"excited\",\"frustrate\"],columns=[\"happy\",\"sad\",\"neutral\",\"angry\",\"excited\",\"frustrate\"])\n",
        "plt.figure(figsize = (10,7),)\n",
        "print(\"LATE FUSION RESULTS\")\n",
        "sn.heatmap(cm, annot=True,xticklabels=True,yticklabels=True)"
      ],
      "execution_count": 138,
      "outputs": [
        {
          "output_type": "stream",
          "text": [
            "LATE FUSION RESULTS\n"
          ],
          "name": "stdout"
        },
        {
          "output_type": "execute_result",
          "data": {
            "text/plain": [
              "<matplotlib.axes._subplots.AxesSubplot at 0x7f7cdf887978>"
            ]
          },
          "metadata": {
            "tags": []
          },
          "execution_count": 138
        },
        {
          "output_type": "display_data",
          "data": {
            "image/png": "[encoded data removed]",
            "text/plain": [
              "<Figure size 720x504 with 2 Axes>"
            ]
          },
          "metadata": {
            "tags": []
          }
        }
      ]
    },
    {
      "cell_type": "code",
      "metadata": {
        "id": "AQtzv9yjrmo6",
        "colab_type": "code",
        "colab": {}
      },
      "source": [
        "m_a = load_model(\"audio.h5\")\n",
        "m_t = load_model(\"text.h5\")\n",
        "m_v = load_model(\"visual.h5\")"
      ],
      "execution_count": 0,
      "outputs": []
    },
    {
      "cell_type": "code",
      "metadata": {
        "id": "ZhkQXwRstg4I",
        "colab_type": "code",
        "colab": {}
      },
      "source": [
        "model_a = Sequential()\n",
        "model_t = Sequential()\n",
        "model_v = Sequential()\n",
        "for layer in m_a.layers[:]:\n",
        "    layer.trainable = False\n",
        "    model_a.add(layer)\n",
        "for layer in m_v.layers[:]:\n",
        "    layer.trainable = False\n",
        "    model_v.add(layer)\n",
        "for layer in m_t.layers[:]:\n",
        "    layer.trainable = False\n",
        "    model_t.add(layer)\n",
        "    "
      ],
      "execution_count": 0,
      "outputs": []
    },
    {
      "cell_type": "code",
      "metadata": {
        "id": "4UDwWB1dvJXZ",
        "colab_type": "code",
        "colab": {
          "base_uri": "https://localhost:8080/",
          "height": 381
        },
        "outputId": "d69eebe5-0e4c-4345-8a15-03798ee91060"
      },
      "source": [
        "model_t.summary()"
      ],
      "execution_count": 146,
      "outputs": [
        {
          "output_type": "stream",
          "text": [
            "_________________________________________________________________\n",
            "Layer (type)                 Output Shape              Param #   \n",
            "=================================================================\n",
            "dense_346 (Dense)            (None, 128)               12928     \n",
            "_________________________________________________________________\n",
            "dense_347 (Dense)            (None, 128)               16512     \n",
            "_________________________________________________________________\n",
            "dense_348 (Dense)            (None, 64)                8256      \n",
            "_________________________________________________________________\n",
            "batch_normalization_6 (Batch (None, 64)                256       \n",
            "_________________________________________________________________\n",
            "dense_349 (Dense)            (None, 64)                4160      \n",
            "_________________________________________________________________\n",
            "dense_350 (Dense)            (None, 32)                2080      \n",
            "_________________________________________________________________\n",
            "dense_351 (Dense)            (None, 6)                 198       \n",
            "=================================================================\n",
            "Total params: 44,390\n",
            "Trainable params: 0\n",
            "Non-trainable params: 44,390\n",
            "_________________________________________________________________\n"
          ],
          "name": "stdout"
        }
      ]
    },
    {
      "cell_type": "code",
      "metadata": {
        "id": "xgGS9qxpv4Si",
        "colab_type": "code",
        "colab": {}
      },
      "source": [
        "def deep_fuse(out):\n",
        "    o1 = out[0]     # o1.shape = (None,6)\n",
        "    o2 = out[1]     # o2.shape = (None,6)\n",
        "    o3 = out[2]     # o3.shape = (None,6)\n",
        "\n",
        "    x = 1.-o1\n",
        "    y = 1.-o2\n",
        "    z = 1.-o3\n",
        "    \n",
        "    return concatenate([o1,x,o2,y,o3,z])"
      ],
      "execution_count": 0,
      "outputs": []
    },
    {
      "cell_type": "code",
      "metadata": {
        "id": "j4phu3zCxAsB",
        "colab_type": "code",
        "colab": {
          "base_uri": "https://localhost:8080/",
          "height": 988
        },
        "outputId": "44a4d986-e964-4009-985b-be69bcf3ef6c"
      },
      "source": [
        "i_a = Input(shape=(100,))\n",
        "i_v = Input(shape=(512,))\n",
        "i_t = Input(shape=(100,))\n",
        "merged = Lambda(deep_fuse)([m_a(i_a),m_v(i_v),m_t(i_t)])\n",
        "y = Dense(64,activation='relu')(merged)\n",
        "y = Dropout(0.15)(y)\n",
        "y = Dense(32,activation='relu')(y)\n",
        "y = Dense(6,activation='softmax')(y)\n",
        "model = Model([i_a,i_v,i_t],y)\n",
        "print(model.summary())\n",
        "model.compile('adam','categorical_crossentropy',metrics=['accuracy'],)\n",
        "es = EarlyStopping(monitor='val_acc',mode='max' ,patience=5, min_delta=0.0001,verbose=1)\n",
        "reduce_lr = ReduceLROnPlateau(monitor='val_acc', factor=0.2,patience=2,min_lr=0.00001)\n",
        "model.fit([Train_audio,Train_visual,Train_text],Train_labels,128,epochs=20,validation_split=0.1,callbacks=[es,reduce_lr])\n",
        "print(model.evaluate([Test_audio,Test_visual,Test_text],Test_labels))"
      ],
      "execution_count": 170,
      "outputs": [
        {
          "output_type": "stream",
          "text": [
            "__________________________________________________________________________________________________\n",
            "Layer (type)                    Output Shape         Param #     Connected to                     \n",
            "==================================================================================================\n",
            "input_198 (InputLayer)          (None, 100)          0                                            \n",
            "__________________________________________________________________________________________________\n",
            "input_199 (InputLayer)          (None, 512)          0                                            \n",
            "__________________________________________________________________________________________________\n",
            "input_200 (InputLayer)          (None, 100)          0                                            \n",
            "__________________________________________________________________________________________________\n",
            "model_45 (Model)                (None, 6)            12902       input_198[0][0]                  \n",
            "__________________________________________________________________________________________________\n",
            "model_71 (Model)                (None, 6)            77254       input_199[0][0]                  \n",
            "__________________________________________________________________________________________________\n",
            "model_67 (Model)                (None, 6)            44390       input_200[0][0]                  \n",
            "__________________________________________________________________________________________________\n",
            "lambda_20 (Lambda)              (None, 36)           0           model_45[18][0]                  \n",
            "                                                                 model_71[18][0]                  \n",
            "                                                                 model_67[18][0]                  \n",
            "__________________________________________________________________________________________________\n",
            "dense_541 (Dense)               (None, 64)           2368        lambda_20[0][0]                  \n",
            "__________________________________________________________________________________________________\n",
            "dropout_61 (Dropout)            (None, 64)           0           dense_541[0][0]                  \n",
            "__________________________________________________________________________________________________\n",
            "dense_542 (Dense)               (None, 32)           2080        dropout_61[0][0]                 \n",
            "__________________________________________________________________________________________________\n",
            "dense_543 (Dense)               (None, 6)            198         dense_542[0][0]                  \n",
            "==================================================================================================\n",
            "Total params: 139,192\n",
            "Trainable params: 4,646\n",
            "Non-trainable params: 134,546\n",
            "__________________________________________________________________________________________________\n",
            "None\n",
            "Train on 5229 samples, validate on 581 samples\n",
            "Epoch 1/20\n",
            "5229/5229 [==============================] - 15s 3ms/step - loss: 1.5500 - acc: 0.4752 - val_loss: 1.1648 - val_acc: 0.8262\n",
            "Epoch 2/20\n",
            "5229/5229 [==============================] - 0s 81us/step - loss: 0.8288 - acc: 0.8560 - val_loss: 0.4797 - val_acc: 0.9053\n",
            "Epoch 3/20\n",
            "5229/5229 [==============================] - 0s 78us/step - loss: 0.3956 - acc: 0.9147 - val_loss: 0.3303 - val_acc: 0.9122\n",
            "Epoch 4/20\n",
            "5229/5229 [==============================] - 0s 80us/step - loss: 0.2964 - acc: 0.9180 - val_loss: 0.3215 - val_acc: 0.9071\n",
            "Epoch 5/20\n",
            "5229/5229 [==============================] - 0s 84us/step - loss: 0.2787 - acc: 0.9174 - val_loss: 0.2939 - val_acc: 0.9157\n",
            "Epoch 6/20\n",
            "5229/5229 [==============================] - 0s 80us/step - loss: 0.2644 - acc: 0.9206 - val_loss: 0.2943 - val_acc: 0.9105\n",
            "Epoch 7/20\n",
            "5229/5229 [==============================] - 0s 83us/step - loss: 0.2451 - acc: 0.9245 - val_loss: 0.2770 - val_acc: 0.9139\n",
            "Epoch 8/20\n",
            "5229/5229 [==============================] - 0s 81us/step - loss: 0.2441 - acc: 0.9262 - val_loss: 0.2836 - val_acc: 0.9122\n",
            "Epoch 9/20\n",
            "5229/5229 [==============================] - 0s 79us/step - loss: 0.2423 - acc: 0.9260 - val_loss: 0.2781 - val_acc: 0.9105\n",
            "Epoch 10/20\n",
            "5229/5229 [==============================] - 0s 84us/step - loss: 0.2421 - acc: 0.9241 - val_loss: 0.2782 - val_acc: 0.9122\n",
            "Epoch 00010: early stopping\n",
            "1623/1623 [==============================] - 0s 192us/step\n",
            "[1.591105371364751, 0.5428219344684979]\n"
          ],
          "name": "stdout"
        }
      ]
    },
    {
      "cell_type": "code",
      "metadata": {
        "id": "MAYfWIHhxiPh",
        "colab_type": "code",
        "colab": {}
      },
      "source": [
        "model.save(\"deep_fusion.h5\")\n",
        "files.download(\"deep_fusion.h5\")"
      ],
      "execution_count": 0,
      "outputs": []
    },
    {
      "cell_type": "code",
      "metadata": {
        "id": "XS4HSwKr1K0X",
        "colab_type": "code",
        "colab": {
          "base_uri": "https://localhost:8080/",
          "height": 467
        },
        "outputId": "33e4f3b3-e5d7-42ec-a54f-6231308686c3"
      },
      "source": [
        "y_pred = np.argmax(model.predict([Test_audio,Test_visual,Test_text]),axis=1)\n",
        "y_true = np.argmax(Test_labels,axis=1)\n",
        "cm = confusion_matrix(y_true,y_pred)\n",
        "df = pd.DataFrame(cm,index=[\"happy\",\"sad\",\"neutral\",\"angry\",\"excited\",\"frustrate\"],columns=[\"happy\",\"sad\",\"neutral\",\"angry\",\"excited\",\"frustrate\"])\n",
        "plt.figure(figsize = (10,7),)\n",
        "print(\"DEEP FUSION RESULTS\")\n",
        "sn.heatmap(cm, annot=True,xticklabels=True,yticklabels=True)"
      ],
      "execution_count": 173,
      "outputs": [
        {
          "output_type": "stream",
          "text": [
            "DEEP FUSION RESULTS\n"
          ],
          "name": "stdout"
        },
        {
          "output_type": "execute_result",
          "data": {
            "text/plain": [
              "<matplotlib.axes._subplots.AxesSubplot at 0x7f7cd587df60>"
            ]
          },
          "metadata": {
            "tags": []
          },
          "execution_count": 173
        },
        {
          "output_type": "display_data",
          "data": {
            "image/png": "[encoded data removed]",
            "text/plain": [
              "<Figure size 720x504 with 2 Axes>"
            ]
          },
          "metadata": {
            "tags": []
          }
        }
      ]
    },
    {
      "cell_type": "code",
      "metadata": {
        "id": "YzXOR-LZ22XM",
        "colab_type": "code",
        "colab": {}
      },
      "source": [
        "m_a = load_model(\"audio.h5\")\n",
        "m_t = load_model(\"text.h5\")\n",
        "m_v = load_model(\"visual.h5\")"
      ],
      "execution_count": 0,
      "outputs": []
    },
    {
      "cell_type": "code",
      "metadata": {
        "id": "Y9xp12851k_Q",
        "colab_type": "code",
        "colab": {}
      },
      "source": [
        "\n",
        "model_a = Sequential()\n",
        "model_t = Sequential()\n",
        "model_v = Sequential()\n",
        "for layer in m_a.layers[:-1]:\n",
        "    layer.trainable = False\n",
        "    model_a.add(layer)\n",
        "for layer in m_v.layers[:-1]:\n",
        "    layer.trainable = False\n",
        "    model_v.add(layer)\n",
        "for layer in m_t.layers[:-1]:\n",
        "    layer.trainable = False\n",
        "    model_t.add(layer)\n",
        "    "
      ],
      "execution_count": 0,
      "outputs": []
    },
    {
      "cell_type": "code",
      "metadata": {
        "id": "aKJB9G4Y22yF",
        "colab_type": "code",
        "colab": {
          "base_uri": "https://localhost:8080/",
          "height": 312
        },
        "outputId": "52c9dd3b-7b9c-444c-af26-cdce78c8a50d"
      },
      "source": [
        "model_v.summary()"
      ],
      "execution_count": 176,
      "outputs": [
        {
          "output_type": "stream",
          "text": [
            "_________________________________________________________________\n",
            "Layer (type)                 Output Shape              Param #   \n",
            "=================================================================\n",
            "dense_367 (Dense)            (None, 128)               65664     \n",
            "_________________________________________________________________\n",
            "dense_368 (Dense)            (None, 64)                8256      \n",
            "_________________________________________________________________\n",
            "dense_369 (Dense)            (None, 32)                2080      \n",
            "_________________________________________________________________\n",
            "dropout_29 (Dropout)         (None, 32)                0         \n",
            "_________________________________________________________________\n",
            "dense_370 (Dense)            (None, 32)                1056      \n",
            "=================================================================\n",
            "Total params: 77,056\n",
            "Trainable params: 0\n",
            "Non-trainable params: 77,056\n",
            "_________________________________________________________________\n"
          ],
          "name": "stdout"
        }
      ]
    },
    {
      "cell_type": "code",
      "metadata": {
        "id": "uAGzcPcR25iy",
        "colab_type": "code",
        "colab": {}
      },
      "source": [
        "def tensor_fuse(out):\n",
        "\to1 = out[0]     # o1.shape = (None,32)\n",
        "\to2 = out[1]     # o2.shape = (None,32)\n",
        "\to3 = out[2]     # o3.shape = (None,32)\n",
        "\n",
        "\tx = tf.expand_dims(o1,1)   # x.shape = (None,1,32)\n",
        "\ty = tf.expand_dims(o2,2)   # y.shape = (None,32,1)\n",
        "\to12 = tf.reshape(tf.multiply(x,y),shape=[-1,32*32])  # o12.shape = (None,32*32)\n",
        "\n",
        "\tx = tf.expand_dims(o2,1)   # x.shape = (None,1,32)\n",
        "\ty = tf.expand_dims(o3,2)   # y.shape = (None,32,1)\n",
        "\to23 = tf.reshape(tf.multiply(x,y),shape=[-1,32*32])  # o23.shape = (None,32*32)\n",
        "\n",
        "\tx = tf.expand_dims(o3,1)   # x.shape = (None,1,32)\n",
        "\ty = tf.expand_dims(o1,2)   # y.shape = (None,32,1)\n",
        "\to31 = tf.reshape(tf.multiply(x,y),shape=[-1,32*32])  # o31.shape = (None,32*32)\n",
        "\n",
        "\tx = tf.expand_dims(o12,2)  # x.shape = (None,32*32,1)\n",
        "\ty = tf.expand_dims(o3,1)   # y.shape = (None,1,32)\n",
        "\to123 = tf.reshape(tf.multiply(x,y),[-1,32*32*32])  # o123.shape = (None,32*32*32)\n",
        "\n",
        "\treturn concatenate([o1,o2,o3,o12,o23,o31,o123])\n"
      ],
      "execution_count": 0,
      "outputs": []
    },
    {
      "cell_type": "code",
      "metadata": {
        "id": "pIaUQAxW3IiF",
        "colab_type": "code",
        "colab": {
          "base_uri": "https://localhost:8080/",
          "height": 1000
        },
        "outputId": "01ef5532-1bb6-425f-e5e7-63090746994d"
      },
      "source": [
        "i_a = Input(shape=(100,))\n",
        "i_v = Input(shape=(512,))\n",
        "i_t = Input(shape=(100,))\n",
        "merged = layers.Lambda(tensor_fuse)([model_a(i_a),model_v(i_v),model_t(i_t)])\n",
        "y = Dense(1024,activation='relu')(merged)\n",
        "y = Dense(256,activation='relu')(y)\n",
        "y = Dense(256,activation='relu')(y)\n",
        "y = Dropout(0.15)(y)\n",
        "y = Dense(32,activation='relu')(y)\n",
        "y = Dense(6,activation='softmax')(y)\n",
        "\n",
        "\n",
        "model = Model([i_a,i_v,i_t],y)\n",
        "print(model.summary())\n",
        "model.compile('adam','categorical_crossentropy',metrics=['accuracy'],)\n",
        "es = EarlyStopping(monitor='val_acc',mode='max' ,patience=5, min_delta=0.0001,verbose=1)\n",
        "reduce_lr = ReduceLROnPlateau(monitor='val_acc', factor=0.2,patience=2,min_lr=0.00001)\n",
        "model.fit([Train_audio,Train_visual,Train_text],Train_labels,128,epochs=20,validation_split=0.1,callbacks=[es,reduce_lr])\n",
        "print(model.evaluate([Test_audio,Test_visual,Test_text],Test_labels))"
      ],
      "execution_count": 195,
      "outputs": [
        {
          "output_type": "stream",
          "text": [
            "__________________________________________________________________________________________________\n",
            "Layer (type)                    Output Shape         Param #     Connected to                     \n",
            "==================================================================================================\n",
            "input_252 (InputLayer)          (None, 100)          0                                            \n",
            "__________________________________________________________________________________________________\n",
            "input_253 (InputLayer)          (None, 512)          0                                            \n",
            "__________________________________________________________________________________________________\n",
            "input_254 (InputLayer)          (None, 100)          0                                            \n",
            "__________________________________________________________________________________________________\n",
            "sequential_7 (Sequential)       (None, 32)           12704       input_252[0][0]                  \n",
            "__________________________________________________________________________________________________\n",
            "sequential_9 (Sequential)       (None, 32)           77056       input_253[0][0]                  \n",
            "__________________________________________________________________________________________________\n",
            "sequential_8 (Sequential)       (None, 32)           44192       input_254[0][0]                  \n",
            "__________________________________________________________________________________________________\n",
            "lambda_38 (Lambda)              (None, 35936)        0           sequential_7[18][0]              \n",
            "                                                                 sequential_9[18][0]              \n",
            "                                                                 sequential_8[18][0]              \n",
            "__________________________________________________________________________________________________\n",
            "dense_612 (Dense)               (None, 1024)         36799488    lambda_38[0][0]                  \n",
            "__________________________________________________________________________________________________\n",
            "dense_613 (Dense)               (None, 256)          262400      dense_612[0][0]                  \n",
            "__________________________________________________________________________________________________\n",
            "dense_614 (Dense)               (None, 256)          65792       dense_613[0][0]                  \n",
            "__________________________________________________________________________________________________\n",
            "dropout_70 (Dropout)            (None, 256)          0           dense_614[0][0]                  \n",
            "__________________________________________________________________________________________________\n",
            "dense_615 (Dense)               (None, 32)           8224        dropout_70[0][0]                 \n",
            "__________________________________________________________________________________________________\n",
            "dense_616 (Dense)               (None, 6)            198         dense_615[0][0]                  \n",
            "==================================================================================================\n",
            "Total params: 37,270,054\n",
            "Trainable params: 37,136,102\n",
            "Non-trainable params: 133,952\n",
            "__________________________________________________________________________________________________\n",
            "None\n",
            "Train on 5229 samples, validate on 581 samples\n",
            "Epoch 1/20\n",
            "5229/5229 [==============================] - 20s 4ms/step - loss: 0.4936 - acc: 0.8772 - val_loss: 0.3829 - val_acc: 0.9071\n",
            "Epoch 2/20\n",
            "5229/5229 [==============================] - 3s 530us/step - loss: 0.2991 - acc: 0.9191 - val_loss: 0.3473 - val_acc: 0.9088\n",
            "Epoch 3/20\n",
            "5229/5229 [==============================] - 3s 534us/step - loss: 0.2640 - acc: 0.9239 - val_loss: 0.3274 - val_acc: 0.9105\n",
            "Epoch 4/20\n",
            "5229/5229 [==============================] - 3s 526us/step - loss: 0.2503 - acc: 0.9206 - val_loss: 0.2866 - val_acc: 0.9208\n",
            "Epoch 5/20\n",
            "5229/5229 [==============================] - 3s 526us/step - loss: 0.2261 - acc: 0.9245 - val_loss: 0.3064 - val_acc: 0.9122\n",
            "Epoch 6/20\n",
            "5229/5229 [==============================] - 3s 526us/step - loss: 0.2076 - acc: 0.9323 - val_loss: 0.3593 - val_acc: 0.9105\n",
            "Epoch 7/20\n",
            "5229/5229 [==============================] - 3s 546us/step - loss: 0.1788 - acc: 0.9380 - val_loss: 0.2960 - val_acc: 0.9208\n",
            "Epoch 8/20\n",
            "5229/5229 [==============================] - 3s 527us/step - loss: 0.1618 - acc: 0.9405 - val_loss: 0.3195 - val_acc: 0.9088\n",
            "Epoch 9/20\n",
            "5229/5229 [==============================] - 3s 533us/step - loss: 0.1501 - acc: 0.9417 - val_loss: 0.3209 - val_acc: 0.9088\n",
            "Epoch 00009: early stopping\n",
            "1623/1623 [==============================] - 0s 295us/step\n",
            "[2.1837216425441475, 0.5329636473458855]\n"
          ],
          "name": "stdout"
        }
      ]
    },
    {
      "cell_type": "code",
      "metadata": {
        "id": "e7daWQxx5-zs",
        "colab_type": "code",
        "colab": {}
      },
      "source": [
        "# model.save(\"tensor_fusion.h5\")\n",
        "files.download(\"tensor_fusion.h5\")"
      ],
      "execution_count": 0,
      "outputs": []
    },
    {
      "cell_type": "code",
      "metadata": {
        "id": "RL0sFBvl-0Yw",
        "colab_type": "code",
        "colab": {
          "base_uri": "https://localhost:8080/",
          "height": 467
        },
        "outputId": "1ec0626f-7899-4dda-dfbc-14cad59510e6"
      },
      "source": [
        "y_pred = np.argmax(model.predict([Test_audio,Test_visual,Test_text]),axis=1)\n",
        "y_true = np.argmax(Test_labels,axis=1)\n",
        "cm = confusion_matrix(y_true,y_pred)\n",
        "df = pd.DataFrame(cm,index=[\"happy\",\"sad\",\"neutral\",\"angry\",\"excited\",\"frustrate\"],columns=[\"happy\",\"sad\",\"neutral\",\"angry\",\"excited\",\"frustrate\"])\n",
        "plt.figure(figsize = (10,7),)\n",
        "print(\"TENSOR FUSION RESULTS\")\n",
        "sn.heatmap(cm, annot=True,xticklabels=True,yticklabels=True)"
      ],
      "execution_count": 197,
      "outputs": [
        {
          "output_type": "stream",
          "text": [
            "TENSOR FUSION RESULTS\n"
          ],
          "name": "stdout"
        },
        {
          "output_type": "execute_result",
          "data": {
            "text/plain": [
              "<matplotlib.axes._subplots.AxesSubplot at 0x7f7cccb61208>"
            ]
          },
          "metadata": {
            "tags": []
          },
          "execution_count": 197
        },
        {
          "output_type": "display_data",
          "data": {
            "image/png": "[encoded data removed]",
            "text/plain": [
              "<Figure size 720x504 with 2 Axes>"
            ]
          },
          "metadata": {
            "tags": []
          }
        }
      ]
    },
    {
      "cell_type": "code",
      "metadata": {
        "id": "v3wQY6aD_I9l",
        "colab_type": "code",
        "colab": {}
      },
      "source": [
        "m_a = load_model(\"audio.h5\")\n",
        "m_t = load_model(\"text.h5\")\n",
        "m_v = load_model(\"visual.h5\")\n",
        "m_lf = load_model(\"late_fusion.h5\")"
      ],
      "execution_count": 0,
      "outputs": []
    },
    {
      "cell_type": "code",
      "metadata": {
        "id": "058eH19ECmws",
        "colab_type": "code",
        "colab": {}
      },
      "source": [
        "# model_lf = Sequential()\n",
        "model_a = Sequential()\n",
        "model_t = Sequential()\n",
        "model_v = Sequential()\n",
        "for layer in m_a.layers[:]:\n",
        "    model_a.add(layer)\n",
        "for layer in m_v.layers[:]:\n",
        "    model_v.add(layer)\n",
        "for layer in m_t.layers[:]:\n",
        "    model_t.add(layer)\n",
        "# for layer in m_lf.layers[:]:\n",
        "#     model_lf.add(layer)\n",
        "    \n",
        "for layer in model_a.layers[:-1]:\n",
        "    layer.trainable = False\n",
        "for layer in model_v.layers[:-1]:\n",
        "    layer.trainable = False\n",
        "for layer in model_t.layers[:-1]:\n",
        "    layer.trainable = False\n",
        "# for layer in model_lf.layers[:-1]:\n",
        "#     layer.trainable = False\n",
        "    "
      ],
      "execution_count": 0,
      "outputs": []
    },
    {
      "cell_type": "code",
      "metadata": {
        "id": "U848LlJVExBz",
        "colab_type": "code",
        "colab": {}
      },
      "source": [
        "model_lf = m_lf\n",
        "for layer in m_lf.layers[:]:\n",
        "    layer.trainable = False"
      ],
      "execution_count": 0,
      "outputs": []
    },
    {
      "cell_type": "code",
      "metadata": {
        "id": "HCudWxQ-FO0V",
        "colab_type": "code",
        "colab": {
          "base_uri": "https://localhost:8080/",
          "height": 540
        },
        "outputId": "5c21eed8-94d4-4077-b3b0-f338760a0666"
      },
      "source": [
        "model_lf.summary()"
      ],
      "execution_count": 208,
      "outputs": [
        {
          "output_type": "stream",
          "text": [
            "__________________________________________________________________________________________________\n",
            "Layer (type)                    Output Shape         Param #     Connected to                     \n",
            "==================================================================================================\n",
            "input_138 (InputLayer)          (None, 100)          0                                            \n",
            "__________________________________________________________________________________________________\n",
            "input_140 (InputLayer)          (None, 100)          0                                            \n",
            "__________________________________________________________________________________________________\n",
            "input_139 (InputLayer)          multiple             0                                            \n",
            "__________________________________________________________________________________________________\n",
            "sequential_1 (Sequential)       (None, 32)           12704       input_138[0][0]                  \n",
            "__________________________________________________________________________________________________\n",
            "sequential_2 (Sequential)       (None, 32)           44192       input_140[0][0]                  \n",
            "__________________________________________________________________________________________________\n",
            "sequential_3 (Sequential)       (None, 32)           77056       input_139[0][0]                  \n",
            "__________________________________________________________________________________________________\n",
            "concatenate_16 (Concatenate)    (None, 96)           0           sequential_1[1][0]               \n",
            "                                                                 sequential_2[1][0]               \n",
            "                                                                 sequential_3[1][0]               \n",
            "__________________________________________________________________________________________________\n",
            "dropout_48 (Dropout)            (None, 96)           0           concatenate_16[0][0]             \n",
            "__________________________________________________________________________________________________\n",
            "dense_488 (Dense)               (None, 6)            582         dropout_48[0][0]                 \n",
            "==================================================================================================\n",
            "Total params: 135,116\n",
            "Trainable params: 582\n",
            "Non-trainable params: 134,534\n",
            "__________________________________________________________________________________________________\n"
          ],
          "name": "stdout"
        },
        {
          "output_type": "stream",
          "text": [
            "/usr/local/lib/python3.6/dist-packages/keras/engine/training.py:490: UserWarning: Discrepancy between trainable weights and collected trainable weights, did you set `model.trainable` without calling `model.compile` after ?\n",
            "  'Discrepancy between trainable weights and collected trainable'\n"
          ],
          "name": "stderr"
        }
      ]
    },
    {
      "cell_type": "code",
      "metadata": {
        "id": "6cBm0vm7C99Z",
        "colab_type": "code",
        "colab": {
          "base_uri": "https://localhost:8080/",
          "height": 347
        },
        "outputId": "8b4e3cdf-fb6a-40cb-99a3-60177adac446"
      },
      "source": [
        "model_v.summary()"
      ],
      "execution_count": 210,
      "outputs": [
        {
          "output_type": "stream",
          "text": [
            "_________________________________________________________________\n",
            "Layer (type)                 Output Shape              Param #   \n",
            "=================================================================\n",
            "dense_367 (Dense)            (None, 128)               65664     \n",
            "_________________________________________________________________\n",
            "dense_368 (Dense)            (None, 64)                8256      \n",
            "_________________________________________________________________\n",
            "dense_369 (Dense)            (None, 32)                2080      \n",
            "_________________________________________________________________\n",
            "dropout_29 (Dropout)         (None, 32)                0         \n",
            "_________________________________________________________________\n",
            "dense_370 (Dense)            (None, 32)                1056      \n",
            "_________________________________________________________________\n",
            "dense_371 (Dense)            (None, 6)                 198       \n",
            "=================================================================\n",
            "Total params: 77,254\n",
            "Trainable params: 198\n",
            "Non-trainable params: 77,056\n",
            "_________________________________________________________________\n"
          ],
          "name": "stdout"
        }
      ]
    },
    {
      "cell_type": "code",
      "metadata": {
        "id": "XChsKOWUC_qT",
        "colab_type": "code",
        "colab": {
          "base_uri": "https://localhost:8080/",
          "height": 1000
        },
        "outputId": "4579207b-a32b-4336-97f8-9bc9baa3b528"
      },
      "source": [
        "i_a = Input(shape=(100,))\n",
        "i_v = Input(shape=(512,))\n",
        "i_t = Input(shape=(100,))\n",
        "\n",
        "y = concatenate([model_a(i_a),model_v(i_v),model_t(i_t),model_lf([i_a,i_v,i_t])])\n",
        "y = Dropout(0.3)(y)\n",
        "y = Dense(32)(y)\n",
        "y = Dense(6,activation='softmax')(y)\n",
        "\n",
        "model = Model([i_a,i_v,i_t],y)\n",
        "print(model.summary())\n",
        "model.compile('adam','categorical_crossentropy',metrics=['accuracy'],)\n",
        "es = EarlyStopping(monitor='val_acc',mode='max' ,patience=5, min_delta=0.0001,verbose=1)\n",
        "reduce_lr = ReduceLROnPlateau(monitor='val_acc', factor=0.2,patience=2,min_lr=0.00001)\n",
        "model.fit([Train_audio,Train_visual,Train_text],Train_labels,128,epochs=100,validation_split=0.1,callbacks=[es,reduce_lr])\n",
        "print(model.evaluate([Test_audio,Test_visual,Test_text],Test_labels))"
      ],
      "execution_count": 223,
      "outputs": [
        {
          "output_type": "stream",
          "text": [
            "__________________________________________________________________________________________________\n",
            "Layer (type)                    Output Shape         Param #     Connected to                     \n",
            "==================================================================================================\n",
            "input_288 (InputLayer)          (None, 100)          0                                            \n",
            "__________________________________________________________________________________________________\n",
            "input_289 (InputLayer)          (None, 512)          0                                            \n",
            "__________________________________________________________________________________________________\n",
            "input_290 (InputLayer)          (None, 100)          0                                            \n",
            "__________________________________________________________________________________________________\n",
            "sequential_14 (Sequential)      (None, 6)            12902       input_288[0][0]                  \n",
            "__________________________________________________________________________________________________\n",
            "sequential_16 (Sequential)      (None, 6)            77254       input_289[0][0]                  \n",
            "__________________________________________________________________________________________________\n",
            "sequential_15 (Sequential)      (None, 6)            44390       input_290[0][0]                  \n",
            "__________________________________________________________________________________________________\n",
            "model_103 (Model)               (None, 6)            134534      input_288[0][0]                  \n",
            "                                                                 input_289[0][0]                  \n",
            "                                                                 input_290[0][0]                  \n",
            "__________________________________________________________________________________________________\n",
            "concatenate_104 (Concatenate)   (None, 24)           0           sequential_14[12][0]             \n",
            "                                                                 sequential_16[12][0]             \n",
            "                                                                 sequential_15[12][0]             \n",
            "                                                                 model_103[12][0]                 \n",
            "__________________________________________________________________________________________________\n",
            "dropout_78 (Dropout)            (None, 24)           0           concatenate_104[0][0]            \n",
            "__________________________________________________________________________________________________\n",
            "dense_633 (Dense)               (None, 32)           800         dropout_78[0][0]                 \n",
            "__________________________________________________________________________________________________\n",
            "dense_634 (Dense)               (None, 6)            198         dense_633[0][0]                  \n",
            "==================================================================================================\n",
            "Total params: 270,078\n",
            "Trainable params: 1,592\n",
            "Non-trainable params: 268,486\n",
            "__________________________________________________________________________________________________\n",
            "None\n",
            "Train on 5229 samples, validate on 581 samples\n",
            "Epoch 1/100\n",
            "5229/5229 [==============================] - 21s 4ms/step - loss: 1.6206 - acc: 0.3748 - val_loss: 1.2530 - val_acc: 0.7866\n",
            "Epoch 2/100\n",
            "5229/5229 [==============================] - 1s 103us/step - loss: 1.1060 - acc: 0.7485 - val_loss: 0.8189 - val_acc: 0.9002\n",
            "Epoch 3/100\n",
            "5229/5229 [==============================] - 1s 107us/step - loss: 0.8037 - acc: 0.8271 - val_loss: 0.5631 - val_acc: 0.9174\n",
            "Epoch 4/100\n",
            "5229/5229 [==============================] - 1s 105us/step - loss: 0.6507 - acc: 0.8336 - val_loss: 0.4304 - val_acc: 0.9243\n",
            "Epoch 5/100\n",
            "5229/5229 [==============================] - 1s 106us/step - loss: 0.5506 - acc: 0.8548 - val_loss: 0.3557 - val_acc: 0.9260\n",
            "Epoch 6/100\n",
            "5229/5229 [==============================] - 1s 107us/step - loss: 0.4989 - acc: 0.8558 - val_loss: 0.3157 - val_acc: 0.9277\n",
            "Epoch 7/100\n",
            "5229/5229 [==============================] - 1s 108us/step - loss: 0.4591 - acc: 0.8614 - val_loss: 0.2954 - val_acc: 0.9294\n",
            "Epoch 8/100\n",
            "5229/5229 [==============================] - 1s 104us/step - loss: 0.4394 - acc: 0.8656 - val_loss: 0.2822 - val_acc: 0.9294\n",
            "Epoch 9/100\n",
            "5229/5229 [==============================] - 1s 111us/step - loss: 0.4303 - acc: 0.8644 - val_loss: 0.2728 - val_acc: 0.9312\n",
            "Epoch 10/100\n",
            "5229/5229 [==============================] - 1s 105us/step - loss: 0.4133 - acc: 0.8724 - val_loss: 0.2679 - val_acc: 0.9294\n",
            "Epoch 11/100\n",
            "5229/5229 [==============================] - 1s 109us/step - loss: 0.4246 - acc: 0.8610 - val_loss: 0.2619 - val_acc: 0.9277\n",
            "Epoch 12/100\n",
            "5229/5229 [==============================] - 1s 107us/step - loss: 0.4226 - acc: 0.8663 - val_loss: 0.2626 - val_acc: 0.9294\n",
            "Epoch 13/100\n",
            "5229/5229 [==============================] - 1s 104us/step - loss: 0.4166 - acc: 0.8646 - val_loss: 0.2629 - val_acc: 0.9294\n",
            "Epoch 14/100\n",
            "5229/5229 [==============================] - 1s 109us/step - loss: 0.3995 - acc: 0.8684 - val_loss: 0.2630 - val_acc: 0.9294\n",
            "Epoch 00014: early stopping\n",
            "1623/1623 [==============================] - 0s 255us/step\n",
            "[1.3928720193811206, 0.5502156499573572]\n"
          ],
          "name": "stdout"
        }
      ]
    },
    {
      "cell_type": "code",
      "metadata": {
        "id": "cD_O2a-YGTJx",
        "colab_type": "code",
        "colab": {}
      },
      "source": [
        "model.save(\"ensemble_lf.h5\")"
      ],
      "execution_count": 0,
      "outputs": []
    },
    {
      "cell_type": "code",
      "metadata": {
        "id": "ZOvKj8lpIjJ_",
        "colab_type": "code",
        "colab": {}
      },
      "source": [
        "files.download(\"ensemble_lf.h5\")"
      ],
      "execution_count": 0,
      "outputs": []
    },
    {
      "cell_type": "code",
      "metadata": {
        "id": "x53yi2dUJZdw",
        "colab_type": "code",
        "colab": {
          "base_uri": "https://localhost:8080/",
          "height": 467
        },
        "outputId": "5eaad86f-4a0e-493e-e5c3-0ec0d3b10983"
      },
      "source": [
        "y_pred = np.argmax(model.predict([Test_audio,Test_visual,Test_text]),axis=1)\n",
        "y_true = np.argmax(Test_labels,axis=1)\n",
        "cm = confusion_matrix(y_true,y_pred)\n",
        "df = pd.DataFrame(cm,index=[\"happy\",\"sad\",\"neutral\",\"angry\",\"excited\",\"frustrate\"],columns=[\"happy\",\"sad\",\"neutral\",\"angry\",\"excited\",\"frustrate\"])\n",
        "plt.figure(figsize = (10,7),)\n",
        "print(\"Ensemble RESULTS\")\n",
        "sn.heatmap(cm, annot=True,xticklabels=True,yticklabels=True)"
      ],
      "execution_count": 226,
      "outputs": [
        {
          "output_type": "stream",
          "text": [
            "Ensemble RESULTS\n"
          ],
          "name": "stdout"
        },
        {
          "output_type": "execute_result",
          "data": {
            "text/plain": [
              "<matplotlib.axes._subplots.AxesSubplot at 0x7f7cc2763c18>"
            ]
          },
          "metadata": {
            "tags": []
          },
          "execution_count": 226
        },
        {
          "output_type": "display_data",
          "data": {
            "image/png": "[encoded data removed]",
            "text/plain": [
              "<Figure size 720x504 with 2 Axes>"
            ]
          },
          "metadata": {
            "tags": []
          }
        }
      ]
    },
    {
      "cell_type": "code",
      "metadata": {
        "id": "IIHNV06nJomX",
        "colab_type": "code",
        "colab": {}
      },
      "source": [
        ""
      ],
      "execution_count": 0,
      "outputs": []
    }
  ]
}
{
 "cells": [
  {
   "cell_type": "code",
   "execution_count": 102,
   "metadata": {},
   "outputs": [],
   "source": [
    "import pandas as pd\n",
    "import numpy as np\n",
    "import pickle"
   ]
  },
  {
   "cell_type": "code",
   "execution_count": 103,
   "metadata": {},
   "outputs": [
    {
     "name": "stdout",
     "output_type": "stream",
     "text": [
      "120\n",
      "31\n"
     ]
    }
   ],
   "source": [
    "videoIDs, videoSpeakers, videoLabels, videoText, videoAudio, videoVisual, videoSentence, trainVid, testVid = pickle.load(open(\"./IEMOCAP_features_raw.pkl\", \"rb\"), encoding='latin1')\n",
    "print(len(trainVid))\n",
    "print(len(testVid))"
   ]
  },
  {
   "cell_type": "code",
   "execution_count": 104,
   "metadata": {
    "scrolled": true
   },
   "outputs": [
    {
     "name": "stdout",
     "output_type": "stream",
     "text": [
      "Ses03F_impro02\n",
      "Ses03M_script02_1\n"
     ]
    }
   ],
   "source": [
    "vid1 = list(trainVid)[33]\n",
    "vid2 = list(trainVid)[66]\n",
    "print(vid1)\n",
    "print(vid2)"
   ]
  },
  {
   "cell_type": "code",
   "execution_count": 105,
   "metadata": {},
   "outputs": [
    {
     "name": "stdout",
     "output_type": "stream",
     "text": [
      "60\n"
     ]
    },
    {
     "data": {
      "text/plain": [
       "(100,)"
      ]
     },
     "execution_count": 105,
     "metadata": {},
     "output_type": "execute_result"
    }
   ],
   "source": [
    "print(len(videoAudio[vid1]))\n",
    "videoAudio[vid1][35].shape"
   ]
  },
  {
   "cell_type": "code",
   "execution_count": 106,
   "metadata": {},
   "outputs": [
    {
     "name": "stdout",
     "output_type": "stream",
     "text": [
      "37\n"
     ]
    },
    {
     "data": {
      "text/plain": [
       "(100,)"
      ]
     },
     "execution_count": 106,
     "metadata": {},
     "output_type": "execute_result"
    }
   ],
   "source": [
    "print(len(videoAudio[vid2]))\n",
    "videoAudio[vid2][35].shape"
   ]
  },
  {
   "cell_type": "code",
   "execution_count": 107,
   "metadata": {},
   "outputs": [
    {
     "name": "stdout",
     "output_type": "stream",
     "text": [
      "5810\n"
     ]
    }
   ],
   "source": [
    "i=0\n",
    "for vid in trainVid:\n",
    "    i+=len(videoLabels[vid])\n",
    "print(i)"
   ]
  },
  {
   "cell_type": "code",
   "execution_count": 124,
   "metadata": {},
   "outputs": [],
   "source": [
    "audio = []\n",
    "text = []\n",
    "labels = []\n",
    "video = []\n",
    "names = []\n",
    "for vid in testVid:\n",
    "    for i,name in enumerate(videoIDs[vid]):\n",
    "        audio.append(videoAudio[vid][i])\n",
    "        video.append(videoVisual[vid][i])\n",
    "        text.append(videoText[vid][i])\n",
    "        names.append(vid+name)\n",
    "        labels.append(videoLabels[vid][i])"
   ]
  },
  {
   "cell_type": "code",
   "execution_count": 125,
   "metadata": {},
   "outputs": [],
   "source": [
    "audio = np.array(audio)\n",
    "video = np.array(video)\n",
    "text = np.array(text)\n",
    "labels = np.array(labels)\n"
   ]
  },
  {
   "cell_type": "code",
   "execution_count": 126,
   "metadata": {},
   "outputs": [],
   "source": [
    "from keras.utils.np_utils import to_categorical   \n",
    "labels = to_categorical(labels, num_classes=6)"
   ]
  },
  {
   "cell_type": "code",
   "execution_count": 127,
   "metadata": {},
   "outputs": [
    {
     "name": "stdout",
     "output_type": "stream",
     "text": [
      "(1623, 100)\n",
      "(1623, 512)\n",
      "(1623, 100)\n",
      "(1623, 6)\n"
     ]
    }
   ],
   "source": [
    "print(audio.shape)\n",
    "print(video.shape)\n",
    "print(text.shape)\n",
    "print(labels.shape)"
   ]
  },
  {
   "cell_type": "code",
   "execution_count": 117,
   "metadata": {},
   "outputs": [],
   "source": [
    "np.save(\"Test_audio\",audio)\n",
    "np.save(\"Test_visual\",video)\n",
    "np.save(\"Test_text\",text)\n",
    "np.save(\"Test_lanels\",labels)"
   ]
  },
  {
   "cell_type": "code",
   "execution_count": 119,
   "metadata": {},
   "outputs": [
    {
     "data": {
      "text/plain": [
       "array([0.        , 0.        , 0.        , 0.01393198, 0.        ,\n",
       "       0.        , 0.        , 0.        , 0.01076804, 0.        ,\n",
       "       0.01034722, 0.        , 0.        , 0.        , 0.00249386,\n",
       "       0.        , 0.00960064, 0.        , 0.02847066, 0.01308978,\n",
       "       0.        , 0.07090954, 0.01749593, 0.        , 0.        ,\n",
       "       0.        , 0.        , 0.        , 0.        , 0.        ,\n",
       "       0.        , 0.        , 0.        , 0.        , 0.        ,\n",
       "       0.0184703 , 0.        , 0.        , 0.        , 0.        ,\n",
       "       0.        , 0.        , 0.        , 0.        , 0.00614555,\n",
       "       0.        , 0.01110785, 0.        , 0.        , 0.        ,\n",
       "       0.        , 0.        , 0.        , 0.        , 0.        ,\n",
       "       0.        , 0.        , 0.        , 0.01103974, 0.        ,\n",
       "       0.04825714, 0.        , 0.        , 0.        , 0.        ,\n",
       "       0.        , 0.        , 0.        , 0.        , 0.        ,\n",
       "       0.04356086, 0.03422979, 0.1007857 , 0.        , 0.        ,\n",
       "       0.        , 0.        , 0.08663408, 0.        , 0.        ,\n",
       "       0.        , 0.01944636, 0.        , 0.        , 0.        ,\n",
       "       0.        , 0.        , 0.        , 0.01740524, 0.        ,\n",
       "       0.        , 0.        , 0.00461718, 0.        , 0.        ,\n",
       "       0.        , 0.        , 0.        , 0.        , 0.        ,\n",
       "       0.02880071, 0.02279448, 0.        , 0.05526103, 0.        ,\n",
       "       0.        , 0.        , 0.        , 0.        , 0.        ,\n",
       "       0.02098495, 0.        , 0.04616065, 0.        , 0.        ,\n",
       "       0.        , 0.        , 0.        , 0.        , 0.        ,\n",
       "       0.03648126, 0.        , 0.        , 0.        , 0.        ,\n",
       "       0.        , 0.        , 0.00183949, 0.        , 0.        ,\n",
       "       0.        , 0.        , 0.1111965 , 0.        , 0.        ,\n",
       "       0.        , 0.01286683, 0.        , 0.        , 0.        ,\n",
       "       0.08914037, 0.00988657, 0.        , 0.01008387, 0.0239736 ,\n",
       "       0.02869141, 0.        , 0.        , 0.        , 0.        ,\n",
       "       0.        , 0.        , 0.06287615, 0.        , 0.        ,\n",
       "       0.        , 0.        , 0.        , 0.        , 0.        ,\n",
       "       0.        , 0.        , 0.        , 0.        , 0.        ,\n",
       "       0.        , 0.03193494, 0.        , 0.        , 0.        ,\n",
       "       0.        , 0.        , 0.        , 0.04840252, 0.        ,\n",
       "       0.        , 0.        , 0.        , 0.        , 0.        ,\n",
       "       0.        , 0.        , 0.        , 0.0027616 , 0.        ,\n",
       "       0.        , 0.        , 0.        , 0.        , 0.06339717,\n",
       "       0.        , 0.01942142, 0.        , 0.        , 0.        ,\n",
       "       0.        , 0.00454515, 0.        , 0.        , 0.        ,\n",
       "       0.        , 0.        , 0.        , 0.        , 0.02708227,\n",
       "       0.        , 0.03558821, 0.        , 0.        , 0.        ,\n",
       "       0.00997015, 0.        , 0.        , 0.        , 0.03200318,\n",
       "       0.        , 0.04863587, 0.01005747, 0.        , 0.        ,\n",
       "       0.        , 0.00979168, 0.        , 0.        , 0.        ,\n",
       "       0.        , 0.        , 0.00245376, 0.06477177, 0.00191101,\n",
       "       0.        , 0.05224342, 0.        , 0.        , 0.        ,\n",
       "       0.0342284 , 0.00335604, 0.        , 0.04758137, 0.        ,\n",
       "       0.03651395, 0.        , 0.        , 0.        , 0.        ,\n",
       "       0.        , 0.        , 0.        , 0.06149665, 0.        ,\n",
       "       0.        , 0.        , 0.        , 0.        , 0.        ,\n",
       "       0.        , 0.        , 0.        , 0.        , 0.        ,\n",
       "       0.06757481, 0.        , 0.        , 0.        , 0.        ,\n",
       "       0.07114232, 0.        , 0.04755192, 0.03342272, 0.        ,\n",
       "       0.        , 0.        , 0.        , 0.        , 0.        ,\n",
       "       0.        , 0.        , 0.0365625 , 0.0818252 , 0.        ,\n",
       "       0.        , 0.        , 0.        , 0.        , 0.        ,\n",
       "       0.        , 0.05352841, 0.        , 0.        , 0.01234693,\n",
       "       0.        , 0.        , 0.        , 0.03319196, 0.04337059,\n",
       "       0.        , 0.        , 0.        , 0.        , 0.06343922,\n",
       "       0.        , 0.        , 0.03240295, 0.03468558, 0.00716003,\n",
       "       0.01513578, 0.        , 0.05063169, 0.00075437, 0.        ,\n",
       "       0.        , 0.01969313, 0.00588576, 0.        , 0.02590899,\n",
       "       0.00415538, 0.        , 0.        , 0.        , 0.        ,\n",
       "       0.        , 0.        , 0.        , 0.        , 0.        ,\n",
       "       0.        , 0.        , 0.        , 0.0216663 , 0.00292294,\n",
       "       0.01560608, 0.        , 0.05745013, 0.02246357, 0.        ,\n",
       "       0.04397659, 0.        , 0.        , 0.02656006, 0.        ,\n",
       "       0.        , 0.00754685, 0.        , 0.        , 0.        ,\n",
       "       0.01101483, 0.00466825, 0.        , 0.04030252, 0.        ,\n",
       "       0.        , 0.        , 0.01411884, 0.        , 0.        ,\n",
       "       0.        , 0.        , 0.        , 0.        , 0.        ,\n",
       "       0.07036299, 0.        , 0.        , 0.        , 0.        ,\n",
       "       0.        , 0.04130277, 0.        , 0.        , 0.07123364,\n",
       "       0.07624799, 0.        , 0.        , 0.01050162, 0.        ,\n",
       "       0.        , 0.        , 0.        , 0.        , 0.        ,\n",
       "       0.        , 0.        , 0.        , 0.        , 0.        ,\n",
       "       0.        , 0.        , 0.01634634, 0.        , 0.        ,\n",
       "       0.03077353, 0.        , 0.        , 0.        , 0.02379589,\n",
       "       0.        , 0.        , 0.03122816, 0.03236722, 0.00491326,\n",
       "       0.06904505, 0.01953864, 0.        , 0.        , 0.        ,\n",
       "       0.09281537, 0.        , 0.        , 0.        , 0.        ,\n",
       "       0.        , 0.03690258, 0.        , 0.        , 0.        ,\n",
       "       0.02014507, 0.01094252, 0.03202133, 0.08607505, 0.00623158,\n",
       "       0.        , 0.        , 0.        , 0.        , 0.        ,\n",
       "       0.06222552, 0.        , 0.        , 0.01634375, 0.        ,\n",
       "       0.03907638, 0.        , 0.02825278, 0.00508437, 0.        ,\n",
       "       0.00033997, 0.        , 0.        , 0.        , 0.        ,\n",
       "       0.        , 0.00228398, 0.        , 0.        , 0.        ,\n",
       "       0.        , 0.06012588, 0.        , 0.01563747, 0.        ,\n",
       "       0.        , 0.        , 0.        , 0.        , 0.        ,\n",
       "       0.        , 0.        , 0.        , 0.        , 0.        ,\n",
       "       0.00987656, 0.00964368, 0.04803988, 0.01183385, 0.01790303,\n",
       "       0.        , 0.        , 0.04413025, 0.        , 0.        ,\n",
       "       0.00198088, 0.00260305, 0.        , 0.00630522, 0.06987199,\n",
       "       0.        , 0.        , 0.        , 0.        , 0.        ,\n",
       "       0.        , 0.        , 0.        , 0.        , 0.        ,\n",
       "       0.        , 0.        , 0.        , 0.02461396, 0.07657938,\n",
       "       0.00657763, 0.01945606, 0.        , 0.        , 0.        ,\n",
       "       0.        , 0.        , 0.02258924, 0.        , 0.        ,\n",
       "       0.        , 0.        , 0.        , 0.        , 0.        ,\n",
       "       0.00210846, 0.        , 0.        , 0.00648267, 0.01989196,\n",
       "       0.        , 0.        ], dtype=float32)"
      ]
     },
     "execution_count": 119,
     "metadata": {},
     "output_type": "execute_result"
    }
   ],
   "source": [
    "video[9]"
   ]
  },
  {
   "cell_type": "code",
   "execution_count": null,
   "metadata": {},
   "outputs": [],
   "source": []
  }
 ],
 "metadata": {
  "kernelspec": {
   "display_name": "Python 3",
   "language": "python",
   "name": "python3"
  },
  "language_info": {
   "codemirror_mode": {
    "name": "ipython",
    "version": 3
   },
   "file_extension": ".py",
   "mimetype": "text/x-python",
   "name": "python",
   "nbconvert_exporter": "python",
   "pygments_lexer": "ipython3",
   "version": "3.6.8"
  }
 },
 "nbformat": 4,
 "nbformat_minor": 2
}

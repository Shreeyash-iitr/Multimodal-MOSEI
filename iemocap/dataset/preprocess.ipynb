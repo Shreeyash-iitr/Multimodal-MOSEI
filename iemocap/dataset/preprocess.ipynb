{
 "cells": [
  {
   "cell_type": "code",
   "execution_count": 102,
   "metadata": {},
   "outputs": [],
   "source": [
    "import pandas as pd\n",
    "import numpy as np\n",
    "import pickle"
   ]
  },
  {
   "cell_type": "code",
   "execution_count": 103,
   "metadata": {},
   "outputs": [
    {
     "name": "stdout",
     "output_type": "stream",
     "text": [
      "120\n",
      "31\n"
     ]
    }
   ],
   "source": [
    "videoIDs, videoSpeakers, videoLabels, videoText, videoAudio, videoVisual, videoSentence, trainVid, testVid = pickle.load(open(\"./IEMOCAP_features_raw.pkl\", \"rb\"), encoding='latin1')\n",
    "print(len(trainVid))\n",
    "print(len(testVid))"
   ]
  },
  {
   "cell_type": "code",
   "execution_count": 104,
   "metadata": {
    "scrolled": true
   },
   "outputs": [
    {
     "name": "stdout",
     "output_type": "stream",
     "text": [
      "Ses03F_impro02\n",
      "Ses03M_script02_1\n"
     ]
    }
   ],
   "source": [
    "vid1 = list(trainVid)[33]\n",
    "vid2 = list(trainVid)[66]\n",
    "print(vid1)\n",
    "print(vid2)"
   ]
  },
  {
   "cell_type": "code",
   "execution_count": 105,
   "metadata": {},
   "outputs": [
    {
     "name": "stdout",
     "output_type": "stream",
     "text": [
      "60\n"
     ]
    },
    {
     "data": {
      "text/plain": [
       "(100,)"
      ]
     },
     "execution_count": 105,
     "metadata": {},
     "output_type": "execute_result"
    }
   ],
   "source": [
    "print(len(videoAudio[vid1]))\n",
    "videoAudio[vid1][35].shape"
   ]
  },
  {
   "cell_type": "code",
   "execution_count": 106,
   "metadata": {},
   "outputs": [
    {
     "name": "stdout",
     "output_type": "stream",
     "text": [
      "37\n"
     ]
    },
    {
     "data": {
      "text/plain": [
       "(100,)"
      ]
     },
     "execution_count": 106,
     "metadata": {},
     "output_type": "execute_result"
    }
   ],
   "source": [
    "print(len(videoAudio[vid2]))\n",
    "videoAudio[vid2][35].shape"
   ]
  },
  {
   "cell_type": "code",
   "execution_count": 107,
   "metadata": {},
   "outputs": [
    {
     "name": "stdout",
     "output_type": "stream",
     "text": [
      "5810\n"
     ]
    }
   ],
   "source": [
    "i=0\n",
    "for vid in trainVid:\n",
    "    i+=len(videoLabels[vid])\n",
    "print(i)"
   ]
  },
  {
   "cell_type": "code",
   "execution_count": 108,
   "metadata": {},
   "outputs": [],
   "source": [
    "audio = []\n",
    "text = []\n",
    "labels = []\n",
    "video = []\n",
    "names = []\n",
    "for vid in testVid:\n",
    "    for i,name in enumerate(videoIDs[vid]):\n",
    "        audio.append(videoAudio[vid][i])\n",
    "        video.append(videoVisual[vid][i])\n",
    "        text.append(videoText[vid][i])\n",
    "        names.append(vid+name)\n",
    "        labels.append(videoLabels[vid][i])"
   ]
  },
  {
   "cell_type": "code",
   "execution_count": 109,
   "metadata": {},
   "outputs": [],
   "source": [
    "audio = np.array(audio)\n",
    "video = np.array(video)\n",
    "text = np.array(text)\n",
    "labels = np.array(labels)\n"
   ]
  },
  {
   "cell_type": "code",
   "execution_count": 110,
   "metadata": {},
   "outputs": [],
   "source": [
    "from keras.utils.np_utils import to_categorical   \n",
    "labels = to_categorical(labels, num_classes=6)"
   ]
  },
  {
   "cell_type": "code",
   "execution_count": 111,
   "metadata": {},
   "outputs": [
    {
     "name": "stdout",
     "output_type": "stream",
     "text": [
      "(5810, 100)\n",
      "(5810, 512)\n",
      "(5810, 100)\n",
      "(5810, 6)\n"
     ]
    }
   ],
   "source": [
    "print(audio.shape)\n",
    "print(video.shape)\n",
    "print(text.shape)\n",
    "print(labels.shape)"
   ]
  },
  {
   "cell_type": "code",
   "execution_count": 112,
   "metadata": {},
   "outputs": [],
   "source": [
    "np.save(\"Train_audio\",audio)\n",
    "np.save(\"Train_visual\",video)\n",
    "np.save(\"Train_text\",text)\n",
    "np.save(\"Train_lanels\",labels)"
   ]
  },
  {
   "cell_type": "code",
   "execution_count": null,
   "metadata": {},
   "outputs": [],
   "source": []
  }
 ],
 "metadata": {
  "kernelspec": {
   "display_name": "Python 3",
   "language": "python",
   "name": "python3"
  },
  "language_info": {
   "codemirror_mode": {
    "name": "ipython",
    "version": 3
   },
   "file_extension": ".py",
   "mimetype": "text/x-python",
   "name": "python",
   "nbconvert_exporter": "python",
   "pygments_lexer": "ipython3",
   "version": "3.6.8"
  }
 },
 "nbformat": 4,
 "nbformat_minor": 2
}

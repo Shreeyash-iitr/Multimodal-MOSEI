{
  "nbformat": 4,
  "nbformat_minor": 0,
  "metadata": {
    "colab": {
      "name": "iemocap_LF.ipynb",
      "version": "0.3.2",
      "provenance": []
    },
    "kernelspec": {
      "name": "python3",
      "display_name": "Python 3"
    },
    "accelerator": "GPU"
  },
  "cells": [
    {
      "cell_type": "code",
      "metadata": {
        "id": "PtnBFIpsEdgv",
        "colab_type": "code",
        "colab": {}
      },
      "source": [
        "!wget \"http://immortal.multicomp.cs.cmu.edu/raw_datasets/old_processed_data/iemocap/data.zip\""
      ],
      "execution_count": 0,
      "outputs": []
    },
    {
      "cell_type": "code",
      "metadata": {
        "id": "41BrB4MhF67s",
        "colab_type": "code",
        "colab": {
          "base_uri": "https://localhost:8080/",
          "height": 121
        },
        "outputId": "657bd7ca-83c9-4159-fea2-7966d513db94"
      },
      "source": [
        "!git clone \"https://github.com/convman/Multimodal.git\""
      ],
      "execution_count": 8,
      "outputs": [
        {
          "output_type": "stream",
          "text": [
            "Cloning into 'Multimodal'...\n",
            "remote: Enumerating objects: 350, done.\u001b[K\n",
            "remote: Total 350 (delta 0), reused 0 (delta 0), pack-reused 350\u001b[K\n",
            "Receiving objects: 100% (350/350), 892.26 MiB | 41.29 MiB/s, done.\n",
            "Resolving deltas: 100% (108/108), done.\n",
            "Checking out files: 100% (148/148), done.\n"
          ],
          "name": "stdout"
        }
      ]
    },
    {
      "cell_type": "code",
      "metadata": {
        "id": "ufcKGk2EErU9",
        "colab_type": "code",
        "colab": {}
      },
      "source": [
        "!unzip -P \"hello_iemocap_2008\" data.zip"
      ],
      "execution_count": 0,
      "outputs": []
    },
    {
      "cell_type": "code",
      "metadata": {
        "id": "lU24JucBE4GY",
        "colab_type": "code",
        "colab": {
          "base_uri": "https://localhost:8080/",
          "height": 87
        },
        "outputId": "734abcc9-6030-460d-d4b6-cdecce32edc4"
      },
      "source": [
        "import pickle\n",
        "\n",
        "Train_video = pickle.load(open(\"data/facet_train.p\",'rb'),encoding='latin1')\n",
        "Test_video = pickle.load(open(\"data/facet_test.p\",'rb'),encoding='latin1')\n",
        "Valid_video = pickle.load(open(\"data/facet_valid.p\",'rb'),encoding='latin1')\n",
        "\n",
        "Train_text = pickle.load(open(\"data/text_train.p\",'rb'),encoding='latin1')\n",
        "Test_text = pickle.load(open(\"data/text_test.p\",'rb'),encoding='latin1')\n",
        "Valid_text = pickle.load(open(\"data/text_valid.p\",'rb'),encoding='latin1')\n",
        "\n",
        "Train_audio = pickle.load(open(\"data/covarep_train.p\",'rb'),encoding='latin1')\n",
        "Test_audio = pickle.load(open(\"data/covarep_test.p\",'rb'),encoding='latin1')\n",
        "Valid_audio = pickle.load(open(\"data/covarep_valid.p\",'rb'),encoding='latin1')\n",
        "\n",
        "Y_train =  pickle.load(open(\"data/y_train.p\",'rb'),encoding='latin1')\n",
        "Y_test =  pickle.load(open(\"data/y_test.p\",'rb'),encoding='latin1')\n",
        "Y_valid =  pickle.load(open(\"data/y_valid.p\",'rb'),encoding='latin1')\n",
        "\n",
        "Y_train = Y_train[:,1:-1]  # selecting only emotion label and ignoring others and unknown\n",
        "Y_test = Y_test[:,1:-1]    # regarding 11 features:\n",
        "Y_valid = Y_valid[:,1:-1]  # Other Anger Excited Fear Sad Surprised Frustrated Happy Neutral Disgust (unknown)\n",
        "\n",
        "print(Train_video.shape,Test_video.shape,Valid_video.shape)\n",
        "print(Train_text.shape,Test_text.shape,Valid_text.shape)\n",
        "print(Train_audio.shape,Test_audio.shape,Valid_audio.shape)\n",
        "\n",
        "\n",
        "\n",
        "Y_train = Y_train[:,[0,1,3,5,6,7]]\n",
        "Y_test = Y_test[:,[0,1,3,5,6,7]]\n",
        "Y_valid = Y_valid[:,[0,1,3,5,6,7]]\n",
        "target_names = ['Anger','Excited','Sad','Frustrated','Happy','Neutral']\n",
        "map = {0:\"Anger\",1:\"Excited\",2:\"Fear\",3:\"Sad\",4:\"Surprised\",5:\"Frustrated\",6:\"Happy\",7:\"Neutral\",8:\"Disgust\"}\n",
        "print(Y_train.shape,Y_test.shape,Y_valid.shape)"
      ],
      "execution_count": 5,
      "outputs": [
        {
          "output_type": "stream",
          "text": [
            "(6373, 21, 35) (1807, 21, 35) (1775, 21, 35)\n",
            "(6373, 21, 300) (1807, 21, 300) (1775, 21, 300)\n",
            "(6373, 21, 74) (1807, 21, 74) (1775, 21, 74)\n",
            "(6373, 6) (1807, 6) (1775, 6)\n"
          ],
          "name": "stdout"
        }
      ]
    },
    {
      "cell_type": "code",
      "metadata": {
        "id": "okLWT9o1FHLE",
        "colab_type": "code",
        "colab": {}
      },
      "source": [
        "import pandas as pd\n",
        "import numpy as np\n",
        "import h5py\n",
        "from keras.models import load_model\n",
        "import numpy as np\n",
        "import matplotlib.pyplot as plt\n",
        "import seaborn as sn\n",
        "import pandas as pd\n",
        "from sklearn.model_selection import train_test_split\n",
        "from sklearn.metrics import confusion_matrix, f1_score, classification_report\n",
        "from sklearn.utils.multiclass import unique_labels\n",
        "import keras\n",
        "import tensorflow as tf\n",
        "from time import time\n",
        "import scipy\n",
        "from scipy.io import savemat\n",
        "from keras import layers\n",
        "from google.colab import files\t\n",
        "from keras.models import load_model\n",
        "from keras.models import Model,Sequential,Model\n",
        "from keras.layers import *\n",
        "from keras.callbacks import TensorBoard\n",
        "from keras import callbacks\n",
        "from keras.callbacks import *\n",
        "%matplotlib inline"
      ],
      "execution_count": 0,
      "outputs": []
    },
    {
      "cell_type": "code",
      "metadata": {
        "id": "bKaGudesFcvv",
        "colab_type": "code",
        "colab": {
          "base_uri": "https://localhost:8080/",
          "height": 69
        },
        "outputId": "e4c15766-19b4-4dfb-fd82-8fe521de2a5f"
      },
      "source": [
        "Train_concat = np.concatenate((Train_audio,Train_text,Train_video),axis=-1)\n",
        "Test_concat = np.concatenate((Test_audio,Test_text,Test_video),axis=-1)\n",
        "Valid_concat = np.concatenate((Valid_audio,Valid_text,Valid_video),axis=-1)\n",
        "\n",
        "print(Train_concat.shape)\n",
        "print(Test_concat.shape)\n",
        "print(Valid_concat.shape)"
      ],
      "execution_count": 7,
      "outputs": [
        {
          "output_type": "stream",
          "text": [
            "(6373, 21, 409)\n",
            "(1807, 21, 409)\n",
            "(1775, 21, 409)\n"
          ],
          "name": "stdout"
        }
      ]
    },
    {
      "cell_type": "code",
      "metadata": {
        "id": "ExHB-Os4LnEa",
        "colab_type": "code",
        "colab": {}
      },
      "source": [
        "model = load_model(\"Multimodal/iemocap sdk/multimodal/v2 - late fusion/weights/late_fusion.h5\")"
      ],
      "execution_count": 0,
      "outputs": []
    },
    {
      "cell_type": "code",
      "metadata": {
        "id": "8z_0psarSu57",
        "colab_type": "code",
        "colab": {
          "base_uri": "https://localhost:8080/",
          "height": 485
        },
        "outputId": "78c67f1f-6873-444b-a71d-a78c6faed1f0"
      },
      "source": [
        "model.summary()"
      ],
      "execution_count": 30,
      "outputs": [
        {
          "output_type": "stream",
          "text": [
            "__________________________________________________________________________________________________\n",
            "Layer (type)                    Output Shape         Param #     Connected to                     \n",
            "==================================================================================================\n",
            "input_76 (InputLayer)           (None, 21, 74)       0                                            \n",
            "__________________________________________________________________________________________________\n",
            "input_77 (InputLayer)           (None, 21, 35)       0                                            \n",
            "__________________________________________________________________________________________________\n",
            "input_78 (InputLayer)           (None, 21, 300)      0                                            \n",
            "__________________________________________________________________________________________________\n",
            "sequential_5 (Sequential)       (None, 64)           194688      input_76[0][0]                   \n",
            "__________________________________________________________________________________________________\n",
            "sequential_4 (Sequential)       (None, 64)           66944       input_77[0][0]                   \n",
            "__________________________________________________________________________________________________\n",
            "sequential_6 (Sequential)       (None, 64)           858240      input_78[0][0]                   \n",
            "__________________________________________________________________________________________________\n",
            "concatenate_13 (Concatenate)    (None, 192)          0           sequential_5[1][0]               \n",
            "                                                                 sequential_4[1][0]               \n",
            "                                                                 sequential_6[1][0]               \n",
            "__________________________________________________________________________________________________\n",
            "dense_150 (Dense)               (None, 64)           12352       concatenate_13[0][0]             \n",
            "__________________________________________________________________________________________________\n",
            "dense_151 (Dense)               (None, 6)            390         dense_150[0][0]                  \n",
            "==================================================================================================\n",
            "Total params: 1,132,614\n",
            "Trainable params: 12,742\n",
            "Non-trainable params: 1,119,872\n",
            "__________________________________________________________________________________________________\n"
          ],
          "name": "stdout"
        }
      ]
    },
    {
      "cell_type": "code",
      "metadata": {
        "id": "it2R28cAULnD",
        "colab_type": "code",
        "colab": {
          "base_uri": "https://localhost:8080/",
          "height": 451
        },
        "outputId": "9756ddf8-24ba-4138-b397-12a455a3702f"
      },
      "source": [
        "m = Model(model.input,model.get_layer(\"dense_150\").output)\n",
        "m.summary()"
      ],
      "execution_count": 31,
      "outputs": [
        {
          "output_type": "stream",
          "text": [
            "__________________________________________________________________________________________________\n",
            "Layer (type)                    Output Shape         Param #     Connected to                     \n",
            "==================================================================================================\n",
            "input_76 (InputLayer)           (None, 21, 74)       0                                            \n",
            "__________________________________________________________________________________________________\n",
            "input_77 (InputLayer)           (None, 21, 35)       0                                            \n",
            "__________________________________________________________________________________________________\n",
            "input_78 (InputLayer)           (None, 21, 300)      0                                            \n",
            "__________________________________________________________________________________________________\n",
            "sequential_5 (Sequential)       (None, 64)           194688      input_76[0][0]                   \n",
            "__________________________________________________________________________________________________\n",
            "sequential_4 (Sequential)       (None, 64)           66944       input_77[0][0]                   \n",
            "__________________________________________________________________________________________________\n",
            "sequential_6 (Sequential)       (None, 64)           858240      input_78[0][0]                   \n",
            "__________________________________________________________________________________________________\n",
            "concatenate_13 (Concatenate)    (None, 192)          0           sequential_5[1][0]               \n",
            "                                                                 sequential_4[1][0]               \n",
            "                                                                 sequential_6[1][0]               \n",
            "__________________________________________________________________________________________________\n",
            "dense_150 (Dense)               (None, 64)           12352       concatenate_13[0][0]             \n",
            "==================================================================================================\n",
            "Total params: 1,132,224\n",
            "Trainable params: 12,352\n",
            "Non-trainable params: 1,119,872\n",
            "__________________________________________________________________________________________________\n"
          ],
          "name": "stdout"
        }
      ]
    },
    {
      "cell_type": "code",
      "metadata": {
        "id": "SRrq_I_vSwNu",
        "colab_type": "code",
        "colab": {
          "base_uri": "https://localhost:8080/",
          "height": 35
        },
        "outputId": "cd74cec1-ee21-46cd-f04b-e554949bbbfc"
      },
      "source": [
        "Dtrain = m.predict([Train_audio,Train_video,Train_text])\n",
        "Dtest = m.predict([Test_audio,Test_video,Test_text])\n",
        "print(Dtrain.shape,Dtest.shape)\n",
        "\n",
        "savemat(\"Dtrain.mat\",{'val':Dtrain})\n",
        "savemat(\"Dtest.mat\",{'val':Dtest})\n",
        "\n",
        "files.download(\"Dtrain.mat\")\n",
        "files.download(\"Dtest.mat\")"
      ],
      "execution_count": 32,
      "outputs": [
        {
          "output_type": "stream",
          "text": [
            "(6373, 64) (1807, 64)\n"
          ],
          "name": "stdout"
        }
      ]
    },
    {
      "cell_type": "code",
      "metadata": {
        "id": "AlUKUWc2VC1T",
        "colab_type": "code",
        "colab": {}
      },
      "source": [
        ""
      ],
      "execution_count": 0,
      "outputs": []
    }
  ]
}
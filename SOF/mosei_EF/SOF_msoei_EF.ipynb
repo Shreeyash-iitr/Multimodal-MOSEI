{
  "nbformat": 4,
  "nbformat_minor": 0,
  "metadata": {
    "colab": {
      "name": "SOF_msoei_EF.ipynb",
      "version": "0.3.2",
      "provenance": []
    },
    "kernelspec": {
      "name": "python3",
      "display_name": "Python 3"
    },
    "accelerator": "GPU"
  },
  "cells": [
    {
      "cell_type": "code",
      "metadata": {
        "id": "WMDfLdHHJtWi",
        "colab_type": "code",
        "colab": {}
      },
      "source": [
        "!git clone \"https://github.com/convman/Multimodal-MOSEI.git\""
      ],
      "execution_count": 0,
      "outputs": []
    },
    {
      "cell_type": "code",
      "metadata": {
        "id": "YerE7zgFKGna",
        "colab_type": "code",
        "colab": {}
      },
      "source": [
        "cd Multimodal/"
      ],
      "execution_count": 0,
      "outputs": []
    },
    {
      "cell_type": "code",
      "metadata": {
        "id": "RrzbCA0qKIgS",
        "colab_type": "code",
        "colab": {}
      },
      "source": [
        "!chmod +x data/dataset_download.sh\n",
        "!./data/dataset_download.sh"
      ],
      "execution_count": 0,
      "outputs": []
    },
    {
      "cell_type": "code",
      "metadata": {
        "id": "N6pKEO0jKbwT",
        "colab_type": "code",
        "colab": {}
      },
      "source": [
        "from keras.models import load_model\n",
        "import keras\n",
        "import matplotlib.pyplot as plt\n",
        "import seaborn as sn\n",
        "import pandas as pd\n",
        "import tensorflow as tf\n",
        "from time import time\n",
        "from keras import layers\n",
        "import pandas as pd\n",
        "import numpy as np\n",
        "import h5py\n",
        "from google.colab import files  \n",
        "from keras.models import load_model\n",
        "from keras.models import Model,Sequential,Model\n",
        "from scipy.io import savemat\n",
        "from keras.layers import *\n",
        "from keras.callbacks import TensorBoard\n",
        "from sklearn.model_selection import train_test_split\n",
        "from sklearn.metrics import confusion_matrix\n",
        "from sklearn.utils.multiclass import unique_labels\n",
        "from keras import callbacks\n",
        "from keras.callbacks import *\n",
        "%matplotlib inline"
      ],
      "execution_count": 0,
      "outputs": []
    },
    {
      "cell_type": "code",
      "metadata": {
        "id": "-EjB-NszMZGo",
        "colab_type": "code",
        "colab": {
          "base_uri": "https://localhost:8080/",
          "height": 139
        },
        "outputId": "a99e4eae-71ce-4c1b-c058-be2ddc4fd40e"
      },
      "source": [
        "Test_labels_fear = pd.read_csv(\"mosi2uni_Test_labels_fear.csv\",header=None)\n",
        "Train_labels_fear = pd.read_csv(\"mosi2uni_Train_labels_fear.csv\",header=None)\n",
        "\n",
        "video_train = h5py.File(\"video_train.h5\",\"r\")\n",
        "print(list(video_train.keys()))\n",
        "video_train = np.array(video_train.get('d1'))\n",
        "\n",
        "video_test = h5py.File(\"video_test.h5\",\"r\")\n",
        "print(list(video_test.keys()))\n",
        "video_test = np.array(video_test.get('d1'))\n",
        "\n",
        "audio_train = h5py.File(\"audio_train.h5\",\"r\")\n",
        "print(list(audio_train.keys()))\n",
        "audio_train = np.array(audio_train.get('d1'))\n",
        "\n",
        "audio_test = h5py.File(\"audio_test.h5\",\"r\")\n",
        "print(list(audio_test.keys()))\n",
        "audio_test = np.array(audio_test.get('d1'))\n",
        "\n",
        "text_train_emb = h5py.File(\"text_train_emb.h5\",\"r\")\n",
        "print(list(text_train_emb.keys()))\n",
        "text_train_emb = np.array(text_train_emb.get('d1'))\n",
        "\n",
        "text_test_emb = h5py.File(\"text_test_emb.h5\",\"r\")\n",
        "print(list(text_test_emb.keys()))\n",
        "text_test_emb = np.array(text_test_emb.get('d1'))\n",
        "text_test_emb.shape"
      ],
      "execution_count": 9,
      "outputs": [
        {
          "output_type": "stream",
          "text": [
            "['d1']\n",
            "['d1']\n",
            "['d1']\n",
            "['d1']\n",
            "['d1']\n",
            "['d1']\n"
          ],
          "name": "stdout"
        },
        {
          "output_type": "execute_result",
          "data": {
            "text/plain": [
              "(4832, 20, 300)"
            ]
          },
          "metadata": {
            "tags": []
          },
          "execution_count": 9
        }
      ]
    },
    {
      "cell_type": "code",
      "metadata": {
        "id": "TH4P1D1_Mkvs",
        "colab_type": "code",
        "colab": {}
      },
      "source": [
        "concat_train = np.concatenate((video_train,audio_train),axis=-1)\n",
        "concat_train = np.concatenate((concat_train, text_train_emb),axis=-1)\n",
        "\n",
        "concat_test = np.concatenate((video_test,audio_test),axis=-1)\n",
        "concat_test = np.concatenate((concat_test, text_test_emb),axis=-1)"
      ],
      "execution_count": 0,
      "outputs": []
    },
    {
      "cell_type": "code",
      "metadata": {
        "id": "FU42b3pjLQl5",
        "colab_type": "code",
        "colab": {}
      },
      "source": [
        "model_fear = load_model(\"multimodal baselines/v2 - early fusion/weights/early_fusion_fear.h5\")"
      ],
      "execution_count": 0,
      "outputs": []
    },
    {
      "cell_type": "code",
      "metadata": {
        "id": "BSU9WK9SLuxJ",
        "colab_type": "code",
        "colab": {}
      },
      "source": [
        "model = Sequential()\n",
        "for layer in model_fear.layers[:-3]:\n",
        "  layer.trainable = False\n",
        "  model.add(layer)\n"
      ],
      "execution_count": 0,
      "outputs": []
    },
    {
      "cell_type": "code",
      "metadata": {
        "id": "A8yobdttMEO1",
        "colab_type": "code",
        "colab": {
          "base_uri": "https://localhost:8080/",
          "height": 485
        },
        "outputId": "02507c5a-c9f2-45cc-b717-ee5f5a5887bd"
      },
      "source": [
        "model.summary()"
      ],
      "execution_count": 8,
      "outputs": [
        {
          "output_type": "stream",
          "text": [
            "_________________________________________________________________\n",
            "Layer (type)                 Output Shape              Param #   \n",
            "=================================================================\n",
            "lstm_1 (LSTM)                (None, 20, 256)           681984    \n",
            "_________________________________________________________________\n",
            "lstm_2 (LSTM)                (None, 20, 256)           525312    \n",
            "_________________________________________________________________\n",
            "lstm_3 (LSTM)                (None, 20, 128)           197120    \n",
            "_________________________________________________________________\n",
            "lstm_4 (LSTM)                (None, 20, 128)           131584    \n",
            "_________________________________________________________________\n",
            "lstm_5 (LSTM)                (None, 20, 64)            49408     \n",
            "_________________________________________________________________\n",
            "lstm_6 (LSTM)                (None, 20, 64)            33024     \n",
            "_________________________________________________________________\n",
            "lstm_7 (LSTM)                (None, 20, 32)            12416     \n",
            "_________________________________________________________________\n",
            "lstm_8 (LSTM)                (None, 20, 32)            8320      \n",
            "_________________________________________________________________\n",
            "flatten_1 (Flatten)          (None, 640)               0         \n",
            "_________________________________________________________________\n",
            "dense_1 (Dense)              (None, 64)                41024     \n",
            "=================================================================\n",
            "Total params: 1,680,192\n",
            "Trainable params: 0\n",
            "Non-trainable params: 1,680,192\n",
            "_________________________________________________________________\n"
          ],
          "name": "stdout"
        }
      ]
    },
    {
      "cell_type": "code",
      "metadata": {
        "id": "yiRbJ_6fMGP1",
        "colab_type": "code",
        "colab": {}
      },
      "source": [
        "fear_train = model.predict(concat_train)"
      ],
      "execution_count": 0,
      "outputs": []
    },
    {
      "cell_type": "code",
      "metadata": {
        "id": "aY85NczhNG7Z",
        "colab_type": "code",
        "colab": {
          "base_uri": "https://localhost:8080/",
          "height": 35
        },
        "outputId": "06bd6434-1efc-4eee-9ca6-e2ea52956859"
      },
      "source": [
        "fear_train.shape"
      ],
      "execution_count": 12,
      "outputs": [
        {
          "output_type": "execute_result",
          "data": {
            "text/plain": [
              "(15290, 64)"
            ]
          },
          "metadata": {
            "tags": []
          },
          "execution_count": 12
        }
      ]
    },
    {
      "cell_type": "code",
      "metadata": {
        "id": "VARQIgHINhTJ",
        "colab_type": "code",
        "colab": {
          "base_uri": "https://localhost:8080/",
          "height": 35
        },
        "outputId": "ddb81240-6bb1-446a-ae09-6a3f04e07240"
      },
      "source": [
        "model_fear = load_model(\"multimodal baselines/v2 - early fusion/weights/early_fusion_fear.h5\")\n",
        "model = Sequential()\n",
        "for layer in model_fear.layers[:-3]:\n",
        "  layer.trainable = False\n",
        "  model.add(layer)\n",
        "\n",
        "fear_train = model.predict(concat_train)\n",
        "fear_test = model.predict(concat_test)\n",
        "savemat(\"Dtrain_fear.mat\",{'val':fear_train})\n",
        "savemat(\"Dtest_fear.mat\",{'val':fear_test})\n",
        "print('fear : ',fear_train.shape,fear_test.shape)\n"
      ],
      "execution_count": 15,
      "outputs": [
        {
          "output_type": "stream",
          "text": [
            "fear :  (15290, 64) (4832, 64)\n"
          ],
          "name": "stdout"
        }
      ]
    },
    {
      "cell_type": "code",
      "metadata": {
        "id": "whCp2QeAO35y",
        "colab_type": "code",
        "colab": {
          "base_uri": "https://localhost:8080/",
          "height": 35
        },
        "outputId": "dd32d67b-d43c-42e9-9b6a-e08851558ee7"
      },
      "source": [
        "model_happy = load_model(\"multimodal baselines/v2 - early fusion/weights/early_fusion_happy.h5\")\n",
        "model = Sequential()\n",
        "for layer in model_happy.layers[:-3]:\n",
        "  layer.trainable = False\n",
        "  model.add(layer)\n",
        "\n",
        "happy_train = model.predict(concat_train)\n",
        "happy_test = model.predict(concat_test)\n",
        "savemat(\"Dtrain_happy.mat\",{'val':happy_train})\n",
        "savemat(\"Dtest_happy.mat\",{'val':happy_test})\n",
        "print('happy : ',happy_train.shape,happy_test.shape)\n"
      ],
      "execution_count": 16,
      "outputs": [
        {
          "output_type": "stream",
          "text": [
            "happy :  (15290, 64) (4832, 64)\n"
          ],
          "name": "stdout"
        }
      ]
    },
    {
      "cell_type": "code",
      "metadata": {
        "id": "v7GsBCLXO9L3",
        "colab_type": "code",
        "colab": {
          "base_uri": "https://localhost:8080/",
          "height": 35
        },
        "outputId": "4e288f30-003b-4260-9031-dff46cc072c5"
      },
      "source": [
        "model_disgust = load_model(\"multimodal baselines/v2 - early fusion/weights/early_fusion_disgust.h5\")\n",
        "model = Sequential()\n",
        "for layer in model_disgust.layers[:-3]:\n",
        "  layer.trainable = False\n",
        "  model.add(layer)\n",
        "\n",
        "disgust_train = model.predict(concat_train)\n",
        "disgust_test = model.predict(concat_test)\n",
        "savemat(\"Dtrain_disgust.mat\",{'val':disgust_train})\n",
        "savemat(\"Dtest_disgust.mat\",{'val':disgust_test})\n",
        "print('disgust : ',disgust_train.shape,disgust_test.shape)\n"
      ],
      "execution_count": 17,
      "outputs": [
        {
          "output_type": "stream",
          "text": [
            "disgust :  (15290, 64) (4832, 64)\n"
          ],
          "name": "stdout"
        }
      ]
    },
    {
      "cell_type": "code",
      "metadata": {
        "id": "wPONEu0gPB1q",
        "colab_type": "code",
        "colab": {
          "base_uri": "https://localhost:8080/",
          "height": 35
        },
        "outputId": "6d22b249-1aa2-4de9-ec3d-7ef73845828f"
      },
      "source": [
        "model_sad = load_model(\"multimodal baselines/v2 - early fusion/weights/early_fusion_sad.h5\")\n",
        "model = Sequential()\n",
        "for layer in model_sad.layers[:-3]:\n",
        "  layer.trainable = False\n",
        "  model.add(layer)\n",
        "\n",
        "sad_train = model.predict(concat_train)\n",
        "sad_test = model.predict(concat_test)\n",
        "savemat(\"Dtrain_sad.mat\",{'val':sad_train})\n",
        "savemat(\"Dtest_sad.mat\",{'val':sad_test})\n",
        "print('sad : ',sad_train.shape,sad_test.shape)\n"
      ],
      "execution_count": 18,
      "outputs": [
        {
          "output_type": "stream",
          "text": [
            "sad :  (15290, 64) (4832, 64)\n"
          ],
          "name": "stdout"
        }
      ]
    },
    {
      "cell_type": "code",
      "metadata": {
        "id": "O-Vil9RZPGki",
        "colab_type": "code",
        "colab": {
          "base_uri": "https://localhost:8080/",
          "height": 35
        },
        "outputId": "3d77e11a-9e40-476b-93c5-fefe5ee1e964"
      },
      "source": [
        "model_angry = load_model(\"multimodal baselines/v2 - early fusion/weights/early_fusion_angry.h5\")\n",
        "model = Sequential()\n",
        "for layer in model_angry.layers[:-3]:\n",
        "  layer.trainable = False\n",
        "  model.add(layer)\n",
        "\n",
        "angry_train = model.predict(concat_train)\n",
        "angry_test = model.predict(concat_test)\n",
        "savemat(\"Dtrain_angry.mat\",{'val':angry_train})\n",
        "savemat(\"Dtest_angry.mat\",{'val':angry_test})\n",
        "print('angry : ',angry_train.shape,angry_test.shape)\n"
      ],
      "execution_count": 19,
      "outputs": [
        {
          "output_type": "stream",
          "text": [
            "angry :  (15290, 64) (4832, 64)\n"
          ],
          "name": "stdout"
        }
      ]
    },
    {
      "cell_type": "code",
      "metadata": {
        "id": "cNg36Nf7PJff",
        "colab_type": "code",
        "colab": {
          "base_uri": "https://localhost:8080/",
          "height": 35
        },
        "outputId": "b53f95d4-d147-4686-ce00-0129783ff834"
      },
      "source": [
        "model_surprise = load_model(\"multimodal baselines/v2 - early fusion/weights/early_fusion_surprise.h5\")\n",
        "model = Sequential()\n",
        "for layer in model_surprise.layers[:-3]:\n",
        "  layer.trainable = False\n",
        "  model.add(layer)\n",
        "\n",
        "surprise_train = model.predict(concat_train)\n",
        "surprise_test = model.predict(concat_test)\n",
        "savemat(\"Dtrain_surprise.mat\",{'val':surprise_train})\n",
        "savemat(\"Dtest_surprise.mat\",{'val':surprise_test})\n",
        "print('surprise : ',surprise_train.shape,surprise_test.shape)\n"
      ],
      "execution_count": 20,
      "outputs": [
        {
          "output_type": "stream",
          "text": [
            "surprise :  (15290, 64) (4832, 64)\n"
          ],
          "name": "stdout"
        }
      ]
    },
    {
      "cell_type": "code",
      "metadata": {
        "id": "d0dXPHCAPQtH",
        "colab_type": "code",
        "colab": {}
      },
      "source": [
        "files.download(\"Dtest_happy.mat\")\n",
        "files.download(\"Dtrain_happy.mat\")\n",
        "\n",
        "files.download(\"Dtest_angry.mat\")\n",
        "files.download(\"Dtrain_angry.mat\")\n",
        "\n",
        "files.download(\"Dtest_surprise.mat\")\n",
        "files.download(\"Dtrain_surprise.mat\")\n",
        "\n",
        "files.download(\"Dtest_disgust.mat\")\n",
        "files.download(\"Dtrain_disgust.mat\")\n",
        "\n",
        "files.download(\"Dtest_fear.mat\")\n",
        "files.download(\"Dtrain_fear.mat\")\n",
        "\n",
        "files.download(\"Dtest_sad.mat\")\n",
        "files.download(\"Dtrain_sad.mat\")"
      ],
      "execution_count": 0,
      "outputs": []
    },
    {
      "cell_type": "code",
      "metadata": {
        "id": "l0rkxE3sRalG",
        "colab_type": "code",
        "colab": {}
      },
      "source": [
        ""
      ],
      "execution_count": 0,
      "outputs": []
    }
  ]
}
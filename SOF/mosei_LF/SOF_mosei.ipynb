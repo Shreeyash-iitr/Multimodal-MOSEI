{
  "nbformat": 4,
  "nbformat_minor": 0,
  "metadata": {
    "colab": {
      "name": "SOF_mosei.ipynb",
      "version": "0.3.2",
      "provenance": []
    },
    "kernelspec": {
      "name": "python3",
      "display_name": "Python 3"
    },
    "accelerator": "GPU"
  },
  "cells": [
    {
      "cell_type": "code",
      "metadata": {
        "id": "3U7sLAwRQ2K0",
        "colab_type": "code",
        "colab": {}
      },
      "source": [
        "!git clone \"https://github.com/convman/Multimodal.git\""
      ],
      "execution_count": 0,
      "outputs": []
    },
    {
      "cell_type": "code",
      "metadata": {
        "id": "A0OO38RcSVWc",
        "colab_type": "code",
        "colab": {}
      },
      "source": [
        "cd Multimodal/"
      ],
      "execution_count": 0,
      "outputs": []
    },
    {
      "cell_type": "code",
      "metadata": {
        "id": "vqI9G4FlSi6J",
        "colab_type": "code",
        "colab": {}
      },
      "source": [
        "!chmod +x data/dataset_download.sh\n",
        "!./data/dataset_download.sh"
      ],
      "execution_count": 0,
      "outputs": []
    },
    {
      "cell_type": "code",
      "metadata": {
        "id": "m3RdvyZHSuYd",
        "colab_type": "code",
        "outputId": "476854b1-33d2-41f0-c2de-6f1f2cd30c16",
        "colab": {
          "base_uri": "https://localhost:8080/",
          "height": 35
        }
      },
      "source": [
        "import pandas as pd\n",
        "import numpy as np\n",
        "import h5py\n",
        "\n",
        "Test_labels_fear = pd.read_csv(\"mosi2uni_Test_labels_fear.csv\",header=None)\n",
        "Train_labels_fear = pd.read_csv(\"mosi2uni_Train_labels_fear.csv\",header=None)\n",
        "\n",
        "video_train = h5py.File(\"video_train.h5\",\"r\")\n",
        "video_train = np.array(video_train.get('d1'))\n",
        "\n",
        "video_test = h5py.File(\"video_test.h5\",\"r\")\n",
        "video_test = np.array(video_test.get('d1'))\n",
        "\n",
        "audio_train = h5py.File(\"audio_train.h5\",\"r\")\n",
        "audio_train = np.array(audio_train.get('d1'))\n",
        "\n",
        "audio_test = h5py.File(\"audio_test.h5\",\"r\")\n",
        "audio_test = np.array(audio_test.get('d1'))\n",
        "\n",
        "text_train_emb = h5py.File(\"text_train_emb.h5\",\"r\")\n",
        "text_train_emb = np.array(text_train_emb.get('d1'))\n",
        "\n",
        "text_test_emb = h5py.File(\"text_test_emb.h5\",\"r\")\n",
        "text_test_emb = np.array(text_test_emb.get('d1'))\n",
        "print(text_test_emb.shape)"
      ],
      "execution_count": 0,
      "outputs": [
        {
          "output_type": "stream",
          "text": [
            "(4832, 20, 300)\n"
          ],
          "name": "stdout"
        }
      ]
    },
    {
      "cell_type": "code",
      "metadata": {
        "id": "jJ1lWYl8S15K",
        "colab_type": "code",
        "outputId": "2264b0c0-cf86-4765-e18f-946a06436d94",
        "colab": {
          "base_uri": "https://localhost:8080/",
          "height": 35
        }
      },
      "source": [
        "concat_test = np.concatenate((video_test,audio_test,text_test_emb),axis=-1)\n",
        "concat_train = np.concatenate((video_train,audio_train,text_train_emb),axis=-1)\n",
        "print(concat_test.shape,concat_train.shape)"
      ],
      "execution_count": 0,
      "outputs": [
        {
          "output_type": "stream",
          "text": [
            "(4832, 20, 409) (15290, 20, 409)\n"
          ],
          "name": "stdout"
        }
      ]
    },
    {
      "cell_type": "code",
      "metadata": {
        "id": "CGM9OkHgTXX7",
        "colab_type": "code",
        "outputId": "c27af369-b439-4ec5-8257-ea1ff8450da7",
        "colab": {
          "base_uri": "https://localhost:8080/",
          "height": 35
        }
      },
      "source": [
        "concat_test = concat_test.reshape((4832,-1))\n",
        "concat_train = concat_train.reshape((15290,-1))\n",
        "print(concat_test.shape,concat_train.shape)"
      ],
      "execution_count": 0,
      "outputs": [
        {
          "output_type": "stream",
          "text": [
            "(4832, 8180) (15290, 8180)\n"
          ],
          "name": "stdout"
        }
      ]
    },
    {
      "cell_type": "code",
      "metadata": {
        "id": "b8_4NDa4Uc8e",
        "colab_type": "code",
        "colab": {}
      },
      "source": [
        "from scipy.io import savemat"
      ],
      "execution_count": 0,
      "outputs": []
    },
    {
      "cell_type": "code",
      "metadata": {
        "id": "qRCN4oW3Ul_d",
        "colab_type": "code",
        "colab": {}
      },
      "source": [
        "savemat(\"Dtrain.mat\",{'val':concat_train})\n",
        "savemat(\"Dtest.mat\",{'val':concat_test})"
      ],
      "execution_count": 0,
      "outputs": []
    },
    {
      "cell_type": "code",
      "metadata": {
        "id": "S0l06X3wuYkO",
        "colab_type": "code",
        "colab": {}
      },
      "source": [
        "files.download(\"Dtrain.mat\")"
      ],
      "execution_count": 0,
      "outputs": []
    },
    {
      "cell_type": "code",
      "metadata": {
        "id": "73BchuEwuejI",
        "colab_type": "code",
        "colab": {}
      },
      "source": [
        "files.download(\"Dtest.mat\")"
      ],
      "execution_count": 0,
      "outputs": []
    },
    {
      "cell_type": "code",
      "metadata": {
        "id": "HTt5grPeU91u",
        "colab_type": "code",
        "colab": {}
      },
      "source": [
        "Ltrain_fear = Train_labels_fear+1\n",
        "Ltest_fear = Test_labels_fear+1\n",
        "print(Ltrain_fear,Ltest_fear.shape)"
      ],
      "execution_count": 0,
      "outputs": []
    },
    {
      "cell_type": "code",
      "metadata": {
        "id": "OBqQohpc5L4v",
        "colab_type": "code",
        "colab": {}
      },
      "source": [
        "import scipy"
      ],
      "execution_count": 0,
      "outputs": []
    },
    {
      "cell_type": "code",
      "metadata": {
        "id": "RyaUgFYdVIin",
        "colab_type": "code",
        "colab": {}
      },
      "source": [
        "savemat(\"Ltrain_fear.mat\",{'val':Ltrain_fear})\n",
        "savemat(\"Ltest_fear.mat\",{'val':Ltest_fear})"
      ],
      "execution_count": 0,
      "outputs": []
    },
    {
      "cell_type": "code",
      "metadata": {
        "id": "BqxvJqMEWCpm",
        "colab_type": "code",
        "outputId": "8b272140-4329-40d3-839f-341547f662fe",
        "colab": {
          "base_uri": "https://localhost:8080/",
          "height": 35
        }
      },
      "source": [
        "print(concat_test.shape,concat_train.shape)"
      ],
      "execution_count": 0,
      "outputs": [
        {
          "output_type": "stream",
          "text": [
            "(4832, 8180) (15290, 8180)\n"
          ],
          "name": "stdout"
        }
      ]
    },
    {
      "cell_type": "code",
      "metadata": {
        "id": "CEYn5-x_X0Kn",
        "colab_type": "code",
        "colab": {}
      },
      "source": [
        "train_2class = pd.read_csv(\"mosi2uni_Train_labels_2class.csv\",header=None)\n",
        "train_5class = pd.read_csv(\"mosi2uni_Train_labels_5class.csv\",header=None)\n",
        "train_7class = pd.read_csv(\"mosi2uni_Train_labels_7class.csv\",header=None)\n",
        "\n",
        "test_2class = pd.read_csv(\"mosi2uni_Test_labels_2class.csv\",header=None)\n",
        "test_5class = pd.read_csv(\"mosi2uni_Test_labels_5class.csv\",header=None)\n",
        "test_7class = pd.read_csv(\"mosi2uni_Test_labels_7class.csv\",header=None)\n",
        "\n",
        "train_2class.loc[train_2class[0]>1] = 1\n",
        "train_5class.loc[train_5class[0]>4] = 4\n",
        "train_7class.loc[train_7class[0]>6] = 6\n",
        "\n",
        "test_2class.loc[test_2class[0]>1] = 1\n",
        "test_5class.loc[test_5class[0]>4] = 4\n",
        "test_7class.loc[test_7class[0]>6] = 6"
      ],
      "execution_count": 0,
      "outputs": []
    },
    {
      "cell_type": "code",
      "metadata": {
        "id": "XKN9CTfXYc0D",
        "colab_type": "code",
        "outputId": "62df01c9-a477-4fbf-e03f-f37c8066714e",
        "colab": {
          "base_uri": "https://localhost:8080/",
          "height": 35
        }
      },
      "source": [
        "print(np.array(train_5class+1).shape)"
      ],
      "execution_count": 0,
      "outputs": [
        {
          "output_type": "stream",
          "text": [
            "(15290, 1)\n"
          ],
          "name": "stdout"
        }
      ]
    },
    {
      "cell_type": "code",
      "metadata": {
        "id": "YEd08UvWY-Kl",
        "colab_type": "code",
        "colab": {}
      },
      "source": [
        "savemat(\"Ltrain_2class.mat\",{'val':train_2class+1})\n",
        "savemat(\"Ltest_2class.mat\",{'val':test_2class+1})\n",
        "\n",
        "savemat(\"Ltrain_5class.mat\",{'val':train_5class+1})\n",
        "savemat(\"Ltest_5class.mat\",{'val':test_5class+1})\n",
        "\n",
        "savemat(\"Ltrain_7class.mat\",{'val':train_7class+1})\n",
        "savemat(\"Ltest_7class.mat\",{'val':test_7class+1})"
      ],
      "execution_count": 0,
      "outputs": []
    },
    {
      "cell_type": "code",
      "metadata": {
        "id": "F1AqaQwbXADR",
        "colab_type": "code",
        "colab": {}
      },
      "source": [
        "train_2class = pd.read_csv(\"mosi2uni_Train_labels_7class.csv\",header=None)\n",
        "# train_2class = train_2class+1\n",
        "# savemat(\"Ltrain_2class.mat\",{'val':train_2class})"
      ],
      "execution_count": 0,
      "outputs": []
    },
    {
      "cell_type": "code",
      "metadata": {
        "id": "DNHeZ7gRWKjc",
        "colab_type": "code",
        "colab": {}
      },
      "source": [
        "Test_labels_happy = pd.read_csv(\"mosi2uni_Test_labels_happy.csv\",header=None)\n",
        "Train_labels_happy = pd.read_csv(\"mosi2uni_Train_labels_happy.csv\",header=None)\n",
        "\n",
        "Ltrain_happy = Train_labels_happy+1\n",
        "Ltest_happy = Test_labels_happy+1\n",
        "\n",
        "savemat(\"Ltrain_happy.mat\",{'val':Ltrain_happy})\n",
        "savemat(\"Ltest_happy.mat\",{'val':Ltest_happy})\n",
        "\n",
        "Test_labels_sad = pd.read_csv(\"mosi2uni_Test_labels_sad.csv\",header=None)\n",
        "Train_labels_sad = pd.read_csv(\"mosi2uni_Train_labels_sad.csv\",header=None)\n",
        "\n",
        "Ltrain_sad = Train_labels_sad+1\n",
        "Ltest_sad = Test_labels_sad+1\n",
        "\n",
        "savemat(\"Ltrain_sad.mat\",{'val':Ltrain_sad})\n",
        "savemat(\"Ltest_sad.mat\",{'val':Ltest_sad})\n",
        "\n",
        "Test_labels_surprise = pd.read_csv(\"mosi2uni_Test_labels_surprise.csv\",header=None)\n",
        "Train_labels_surprise = pd.read_csv(\"mosi2uni_Train_labels_surprise.csv\",header=None)\n",
        "\n",
        "Ltrain_surprise = Train_labels_surprise+1\n",
        "Ltest_surprise = Test_labels_surprise+1\n",
        "\n",
        "savemat(\"Ltrain_surprise.mat\",{'val':Ltrain_surprise})\n",
        "savemat(\"Ltest_surprise.mat\",{'val':Ltest_surprise})\n",
        "\n",
        "Test_labels_angry = pd.read_csv(\"mosi2uni_Test_labels_angry.csv\",header=None)\n",
        "Train_labels_angry = pd.read_csv(\"mosi2uni_Train_labels_angry.csv\",header=None)\n",
        "\n",
        "Ltrain_angry = Train_labels_angry+1\n",
        "Ltest_angry = Test_labels_angry+1\n",
        "\n",
        "savemat(\"Ltrain_angry.mat\",{'val':Ltrain_angry})\n",
        "savemat(\"Ltest_angry.mat\",{'val':Ltest_angry})\n",
        "\n",
        "Test_labels_disgust = pd.read_csv(\"mosi2uni_Test_labels_disgust.csv\",header=None)\n",
        "Train_labels_disgust = pd.read_csv(\"mosi2uni_Train_labels_disgust.csv\",header=None)\n",
        "\n",
        "Ltrain_disgust = Train_labels_disgust+1\n",
        "Ltest_disgust = Test_labels_disgust+1\n",
        "\n",
        "savemat(\"Ltrain_disgust.mat\",{'val':Ltrain_disgust})\n",
        "savemat(\"Ltest_disgust.mat\",{'val':Ltest_disgust})"
      ],
      "execution_count": 0,
      "outputs": []
    },
    {
      "cell_type": "code",
      "metadata": {
        "id": "sfOLcanT5ZL-",
        "colab_type": "code",
        "outputId": "f32ae086-843b-45e8-f2a2-b0c37673db05",
        "colab": {
          "base_uri": "https://localhost:8080/",
          "height": 35
        }
      },
      "source": [
        "np.array(Ltrain_happy).shape"
      ],
      "execution_count": 0,
      "outputs": [
        {
          "output_type": "execute_result",
          "data": {
            "text/plain": [
              "(15290, 1)"
            ]
          },
          "metadata": {
            "tags": []
          },
          "execution_count": 94
        }
      ]
    },
    {
      "cell_type": "code",
      "metadata": {
        "id": "UjraUOqCWxp-",
        "colab_type": "code",
        "colab": {}
      },
      "source": [
        "savemat(\"Ltrain_sad.mat\",{'val':np.array(Ltrain_sad)})\n",
        "savemat(\"Ltest_sad.mat\",{'val':np.array(Ltest_sad)})\n",
        "\n",
        "savemat(\"Ltrain_surprise.mat\",{'val':np.array(Ltrain_surprise)})\n",
        "savemat(\"Ltest_surprise.mat\",{'val':np.array(Ltest_surprise)})\n",
        "\n",
        "savemat(\"Ltrain_angry.mat\",{'val':np.array(Ltrain_angry)})\n",
        "savemat(\"Ltest_angry.mat\",{'val':np.array(Ltest_angry)})\n",
        "\n",
        "savemat(\"Ltrain_disgust.mat\",{'val':np.array(Ltrain_disgust)})\n",
        "savemat(\"Ltest_disgust.mat\",{'val':np.array(Ltest_disgust)})\n",
        "\n",
        "savemat(\"Ltrain_fear.mat\",{'val':np.array(Ltrain_fear)})\n",
        "savemat(\"Ltest_fear.mat\",{'val':np.array(Ltest_fear)})"
      ],
      "execution_count": 0,
      "outputs": []
    },
    {
      "cell_type": "code",
      "metadata": {
        "id": "XqxwEP7G4eeF",
        "colab_type": "code",
        "colab": {}
      },
      "source": [
        "files.download(\"Ltrain_sad.mat\")\n",
        "files.download(\"Ltest_sad.mat\")\n",
        "\n",
        "files.download(\"Ltrain_surprise.mat\")\n",
        "files.download(\"Ltest_surprise.mat\")\n",
        "\n",
        "files.download(\"Ltrain_angry.mat\")\n",
        "files.download(\"Ltest_angry.mat\")\n",
        "\n",
        "files.download(\"Ltrain_disgust.mat\")\n",
        "files.download(\"Ltest_disgust.mat\")\n",
        "\n",
        "files.download(\"Ltrain_fear.mat\")\n",
        "files.download(\"Ltest_fear.mat\")"
      ],
      "execution_count": 0,
      "outputs": []
    },
    {
      "cell_type": "code",
      "metadata": {
        "id": "XQEIp7TQ5HGS",
        "colab_type": "code",
        "colab": {}
      },
      "source": [
        "x = scipy.io.loadmat(\"Ltrain_happy.mat\")"
      ],
      "execution_count": 0,
      "outputs": []
    },
    {
      "cell_type": "code",
      "metadata": {
        "id": "gUX5utbP5U4S",
        "colab_type": "code",
        "outputId": "d8a7638f-ab77-4e9c-ead6-76b7bba9b779",
        "colab": {
          "base_uri": "https://localhost:8080/",
          "height": 191
        }
      },
      "source": [
        "x"
      ],
      "execution_count": 0,
      "outputs": [
        {
          "output_type": "execute_result",
          "data": {
            "text/plain": [
              "{'__globals__': [],\n",
              " '__header__': b'MATLAB 5.0 MAT-file Platform: posix, Created on: Mon Jul  8 09:27:07 2019',\n",
              " '__version__': '1.0',\n",
              " 'val': array([[2],\n",
              "        [1],\n",
              "        [1],\n",
              "        ...,\n",
              "        [1],\n",
              "        [1],\n",
              "        [2]])}"
            ]
          },
          "metadata": {
            "tags": []
          },
          "execution_count": 97
        }
      ]
    },
    {
      "cell_type": "code",
      "metadata": {
        "id": "0Sj9UXe1ZrbM",
        "colab_type": "code",
        "colab": {}
      },
      "source": [
        "l = [\"Dtest.mat\",\"Dtrain.mat\",\"Ltest_2class.mat\",\"Ltest_5class.mat\",\"Ltest_7class.mat\",\"Ltest_angry.mat\",\"Ltest_disgust.mat\"\n",
        "    ,\"Ltest_fear.mat\",\"Ltest_happy.mat\",\"Ltest_sad.mat\",\"Ltest_surprise.mat\",\"Ltrain_2class.mat\",\"Ltrain_5class.mat\",\n",
        "    \"Ltrain_7class.mat\",\"Ltrain_angry.mat\",\"Ltrain_disgust.mat\",\"Ltrain_fear.mat\",\"Ltrain_happy.mat\",\"Ltrain_sad.mat\",\"Ltrain_surprise.mat\"]"
      ],
      "execution_count": 0,
      "outputs": []
    },
    {
      "cell_type": "code",
      "metadata": {
        "id": "cyu5xVG1ZuC-",
        "colab_type": "code",
        "colab": {}
      },
      "source": [
        "for name in l:\n",
        "  files.download(name)"
      ],
      "execution_count": 0,
      "outputs": []
    },
    {
      "cell_type": "code",
      "metadata": {
        "id": "jRS1uEMlaxJc",
        "colab_type": "code",
        "outputId": "2bf445bf-6ee7-4ed7-bc62-594099cd54b0",
        "colab": {
          "base_uri": "https://localhost:8080/",
          "height": 35
        }
      },
      "source": [
        "from keras.models import load_model\n",
        "import keras\n",
        "from google.colab import files\t\n",
        "from keras.models import load_model\n",
        "from keras.models import Model,Sequential,Model\n",
        "from keras.layers import LSTM,Dense,Input,concatenate\n",
        "from keras import callbacks\n",
        "from keras.layers import *\n",
        "from keras.callbacks import EarlyStopping, ModelCheckpoint\n",
        "\n"
      ],
      "execution_count": 0,
      "outputs": [
        {
          "output_type": "stream",
          "text": [
            "Using TensorFlow backend.\n"
          ],
          "name": "stderr"
        }
      ]
    },
    {
      "cell_type": "code",
      "metadata": {
        "id": "gFDOrYVRcmo2",
        "colab_type": "code",
        "colab": {}
      },
      "source": [
        "\n",
        "\n",
        "i1 = Input(shape=(20,35),name='i1')\n",
        "i2 = Input(shape=(20,74),name='i2')\n",
        "i3 = Input(shape=(20,300),name='i3')\n"
      ],
      "execution_count": 0,
      "outputs": []
    },
    {
      "cell_type": "code",
      "metadata": {
        "id": "p_WE24f7cybA",
        "colab_type": "code",
        "colab": {}
      },
      "source": [
        ""
      ],
      "execution_count": 0,
      "outputs": []
    },
    {
      "cell_type": "code",
      "metadata": {
        "id": "o5XKBaDVdBHV",
        "colab_type": "code",
        "outputId": "e4a18112-5da2-4da8-e785-648fe0a2f45c",
        "colab": {
          "base_uri": "https://localhost:8080/",
          "height": 433
        }
      },
      "source": [
        "model_audio_disgust = load_model(\"unimodal baselines/weights/audio/weights_rnn_disgust.h5\")\n",
        "model_video_disgust = load_model(\"unimodal baselines/weights/video/weights_rnn_disgust.h5\")\n",
        "model_text_disgust = load_model(\"unimodal baselines/weights/text/weights_rnn_disgust.h5\")\n",
        "\n",
        "v = Sequential()\n",
        "a = Sequential()\n",
        "t = Sequential()\n",
        "\n",
        "for layer in model_audio_disgust.layers[:-1]:   \n",
        "    layer.trainable = False\n",
        "    a.add(layer)\n",
        "for layer in model_text_disgust.layers[:-1]:   \n",
        "    layer.trainable = False\n",
        "    t.add(layer)\n",
        "for layer in model_video_disgust.layers[:-1]:   \n",
        "    layer.trainable = False\n",
        "    v.add(layer)\n",
        "\n",
        "i1 = Input(shape=(20,35),name='i1')\n",
        "i2 = Input(shape=(20,74),name='i2')\n",
        "i3 = Input(shape=(20,300),name='i3')\n",
        "\n",
        "o1 = v(i1)\n",
        "o2 = a(i2)\n",
        "o3 = t(i3)\n",
        "\n",
        "merged = concatenate([o1,o2,o3])\n",
        "model = Model([i1,i2,i3],merged)\n",
        "print(model.summary())\n",
        "train_surprise = model.predict([video_train,audio_train,text_train_emb])\n",
        "savemat(\"Dtrain_disgust.mat\",{'val':train_surprise})\n",
        "\n",
        "test_surprise = model.predict([video_test,audio_test,text_test_emb])\n",
        "savemat(\"Dtest_disgust.mat\",{'val':test_surprise})"
      ],
      "execution_count": 0,
      "outputs": [
        {
          "output_type": "stream",
          "text": [
            "__________________________________________________________________________________________________\n",
            "Layer (type)                    Output Shape         Param #     Connected to                     \n",
            "==================================================================================================\n",
            "i1 (InputLayer)                 (None, 20, 35)       0                                            \n",
            "__________________________________________________________________________________________________\n",
            "i2 (InputLayer)                 (None, 20, 74)       0                                            \n",
            "__________________________________________________________________________________________________\n",
            "i3 (InputLayer)                 (None, 20, 300)      0                                            \n",
            "__________________________________________________________________________________________________\n",
            "sequential_4 (Sequential)       (None, 32)           1258304     i1[0][0]                         \n",
            "__________________________________________________________________________________________________\n",
            "sequential_5 (Sequential)       (None, 32)           1298240     i2[0][0]                         \n",
            "__________________________________________________________________________________________________\n",
            "sequential_6 (Sequential)       (None, 32)           1529664     i3[0][0]                         \n",
            "__________________________________________________________________________________________________\n",
            "concatenate_2 (Concatenate)     (None, 96)           0           sequential_4[1][0]               \n",
            "                                                                 sequential_5[1][0]               \n",
            "                                                                 sequential_6[1][0]               \n",
            "==================================================================================================\n",
            "Total params: 4,086,208\n",
            "Trainable params: 0\n",
            "Non-trainable params: 4,086,208\n",
            "__________________________________________________________________________________________________\n",
            "None\n"
          ],
          "name": "stdout"
        }
      ]
    },
    {
      "cell_type": "code",
      "metadata": {
        "id": "ZBBOnCVSdlfq",
        "colab_type": "code",
        "outputId": "3cf18854-9625-46bb-be20-4f5b9de95241",
        "colab": {
          "base_uri": "https://localhost:8080/",
          "height": 433
        }
      },
      "source": [
        "model_audio_fear = load_model(\"unimodal baselines/weights/audio/weights_rnn_fear.h5\")\n",
        "model_video_fear = load_model(\"unimodal baselines/weights/video/weights_rnn_fear.h5\")\n",
        "model_text_fear = load_model(\"unimodal baselines/weights/text/weights_rnn_fear.h5\")\n",
        "\n",
        "v = Sequential()\n",
        "a = Sequential()\n",
        "t = Sequential()\n",
        "\n",
        "for layer in model_audio_fear.layers[:-1]:   \n",
        "    layer.trainable = False\n",
        "    a.add(layer)\n",
        "for layer in model_text_fear.layers[:-1]:   \n",
        "    layer.trainable = False\n",
        "    t.add(layer)\n",
        "for layer in model_video_fear.layers[:-1]:   \n",
        "    layer.trainable = False\n",
        "    v.add(layer)\n",
        "\n",
        "i1 = Input(shape=(20,35),name='i1')\n",
        "i2 = Input(shape=(20,74),name='i2')\n",
        "i3 = Input(shape=(20,300),name='i3')\n",
        "\n",
        "o1 = v(i1)\n",
        "o2 = a(i2)\n",
        "o3 = t(i3)\n",
        "\n",
        "merged = concatenate([o1,o2,o3])\n",
        "model = Model([i1,i2,i3],merged)\n",
        "print(model.summary())\n",
        "train_fear = model.predict([video_train,audio_train,text_train_emb])\n",
        "savemat(\"Dtrain_fear.mat\",{'val':train_fear})\n",
        "\n",
        "test_fear = model.predict([video_test,audio_test,text_test_emb])\n",
        "savemat(\"Dtest_fear.mat\",{'val':test_fear})"
      ],
      "execution_count": 0,
      "outputs": [
        {
          "output_type": "stream",
          "text": [
            "__________________________________________________________________________________________________\n",
            "Layer (type)                    Output Shape         Param #     Connected to                     \n",
            "==================================================================================================\n",
            "i1 (InputLayer)                 (None, 20, 35)       0                                            \n",
            "__________________________________________________________________________________________________\n",
            "i2 (InputLayer)                 (None, 20, 74)       0                                            \n",
            "__________________________________________________________________________________________________\n",
            "i3 (InputLayer)                 (None, 20, 300)      0                                            \n",
            "__________________________________________________________________________________________________\n",
            "sequential_7 (Sequential)       (None, 32)           1258304     i1[0][0]                         \n",
            "__________________________________________________________________________________________________\n",
            "sequential_8 (Sequential)       (None, 32)           1298240     i2[0][0]                         \n",
            "__________________________________________________________________________________________________\n",
            "sequential_9 (Sequential)       (None, 32)           1529664     i3[0][0]                         \n",
            "__________________________________________________________________________________________________\n",
            "concatenate_3 (Concatenate)     (None, 96)           0           sequential_7[1][0]               \n",
            "                                                                 sequential_8[1][0]               \n",
            "                                                                 sequential_9[1][0]               \n",
            "==================================================================================================\n",
            "Total params: 4,086,208\n",
            "Trainable params: 0\n",
            "Non-trainable params: 4,086,208\n",
            "__________________________________________________________________________________________________\n",
            "None\n"
          ],
          "name": "stdout"
        }
      ]
    },
    {
      "cell_type": "code",
      "metadata": {
        "id": "qtyqWFVMeUqt",
        "colab_type": "code",
        "outputId": "c2f991b8-08d0-4207-86b5-a2846b6c8828",
        "colab": {
          "base_uri": "https://localhost:8080/",
          "height": 433
        }
      },
      "source": [
        "model_audio_happy = load_model(\"unimodal baselines/weights/audio/weights_rnn_happy.h5\")\n",
        "model_video_happy = load_model(\"unimodal baselines/weights/video/weights_rnn_happy.h5\")\n",
        "model_text_happy = load_model(\"unimodal baselines/weights/text/weights_rnn_happy.h5\")\n",
        "\n",
        "v = Sequential()\n",
        "a = Sequential()\n",
        "t = Sequential()\n",
        "\n",
        "for layer in model_audio_happy.layers[:-1]:   \n",
        "    layer.trainable = False\n",
        "    a.add(layer)\n",
        "for layer in model_text_happy.layers[:-1]:   \n",
        "    layer.trainable = False\n",
        "    t.add(layer)\n",
        "for layer in model_video_happy.layers[:-1]:   \n",
        "    layer.trainable = False\n",
        "    v.add(layer)\n",
        "\n",
        "i1 = Input(shape=(20,35),name='i1')\n",
        "i2 = Input(shape=(20,74),name='i2')\n",
        "i3 = Input(shape=(20,300),name='i3')\n",
        "\n",
        "o1 = v(i1)\n",
        "o2 = a(i2)\n",
        "o3 = t(i3)\n",
        "\n",
        "merged = concatenate([o1,o2,o3])\n",
        "model = Model([i1,i2,i3],merged)\n",
        "print(model.summary())\n",
        "train_happy = model.predict([video_train,audio_train,text_train_emb])\n",
        "savemat(\"Dtrain_happy.mat\",{'val':train_happy})\n",
        "\n",
        "test_happy = model.predict([video_test,audio_test,text_test_emb])\n",
        "savemat(\"Dtest_happy.mat\",{'val':test_happy})"
      ],
      "execution_count": 0,
      "outputs": [
        {
          "output_type": "stream",
          "text": [
            "__________________________________________________________________________________________________\n",
            "Layer (type)                    Output Shape         Param #     Connected to                     \n",
            "==================================================================================================\n",
            "i1 (InputLayer)                 (None, 20, 35)       0                                            \n",
            "__________________________________________________________________________________________________\n",
            "i2 (InputLayer)                 (None, 20, 74)       0                                            \n",
            "__________________________________________________________________________________________________\n",
            "i3 (InputLayer)                 (None, 20, 300)      0                                            \n",
            "__________________________________________________________________________________________________\n",
            "sequential_10 (Sequential)      (None, 32)           1258304     i1[0][0]                         \n",
            "__________________________________________________________________________________________________\n",
            "sequential_11 (Sequential)      (None, 32)           1298240     i2[0][0]                         \n",
            "__________________________________________________________________________________________________\n",
            "sequential_12 (Sequential)      (None, 32)           1529664     i3[0][0]                         \n",
            "__________________________________________________________________________________________________\n",
            "concatenate_4 (Concatenate)     (None, 96)           0           sequential_10[1][0]              \n",
            "                                                                 sequential_11[1][0]              \n",
            "                                                                 sequential_12[1][0]              \n",
            "==================================================================================================\n",
            "Total params: 4,086,208\n",
            "Trainable params: 0\n",
            "Non-trainable params: 4,086,208\n",
            "__________________________________________________________________________________________________\n",
            "None\n"
          ],
          "name": "stdout"
        }
      ]
    },
    {
      "cell_type": "code",
      "metadata": {
        "id": "xfA6loISoeem",
        "colab_type": "code",
        "outputId": "4c8cc6ad-c454-4fc0-f538-8ff621ac1572",
        "colab": {
          "base_uri": "https://localhost:8080/",
          "height": 433
        }
      },
      "source": [
        "model_audio_angry = load_model(\"unimodal baselines/weights/audio/weights_rnn_angry.h5\")\n",
        "model_video_angry = load_model(\"unimodal baselines/weights/video/weights_rnn_angry.h5\")\n",
        "model_text_angry = load_model(\"unimodal baselines/weights/text/weights_rnn_angry.h5\")\n",
        "\n",
        "v = Sequential()\n",
        "a = Sequential()\n",
        "t = Sequential()\n",
        "\n",
        "for layer in model_audio_angry.layers[:-1]:   \n",
        "    layer.trainable = False\n",
        "    a.add(layer)\n",
        "for layer in model_text_angry.layers[:-1]:   \n",
        "    layer.trainable = False\n",
        "    t.add(layer)\n",
        "for layer in model_video_angry.layers[:-1]:   \n",
        "    layer.trainable = False\n",
        "    v.add(layer)\n",
        "\n",
        "i1 = Input(shape=(20,35),name='i1')\n",
        "i2 = Input(shape=(20,74),name='i2')\n",
        "i3 = Input(shape=(20,300),name='i3')\n",
        "\n",
        "o1 = v(i1)\n",
        "o2 = a(i2)\n",
        "o3 = t(i3)\n",
        "\n",
        "merged = concatenate([o1,o2,o3])\n",
        "model = Model([i1,i2,i3],merged)\n",
        "print(model.summary())\n",
        "train_angry = model.predict([video_train,audio_train,text_train_emb])\n",
        "savemat(\"Dtrain_angry.mat\",{'val':train_angry})\n",
        "\n",
        "test_angry = model.predict([video_test,audio_test,text_test_emb])\n",
        "savemat(\"Dtest_angry.mat\",{'val':test_angry})"
      ],
      "execution_count": 0,
      "outputs": [
        {
          "output_type": "stream",
          "text": [
            "__________________________________________________________________________________________________\n",
            "Layer (type)                    Output Shape         Param #     Connected to                     \n",
            "==================================================================================================\n",
            "i1 (InputLayer)                 (None, 20, 35)       0                                            \n",
            "__________________________________________________________________________________________________\n",
            "i2 (InputLayer)                 (None, 20, 74)       0                                            \n",
            "__________________________________________________________________________________________________\n",
            "i3 (InputLayer)                 (None, 20, 300)      0                                            \n",
            "__________________________________________________________________________________________________\n",
            "sequential_13 (Sequential)      (None, 32)           1258304     i1[0][0]                         \n",
            "__________________________________________________________________________________________________\n",
            "sequential_14 (Sequential)      (None, 32)           1298240     i2[0][0]                         \n",
            "__________________________________________________________________________________________________\n",
            "sequential_15 (Sequential)      (None, 32)           1529664     i3[0][0]                         \n",
            "__________________________________________________________________________________________________\n",
            "concatenate_5 (Concatenate)     (None, 96)           0           sequential_13[1][0]              \n",
            "                                                                 sequential_14[1][0]              \n",
            "                                                                 sequential_15[1][0]              \n",
            "==================================================================================================\n",
            "Total params: 4,086,208\n",
            "Trainable params: 0\n",
            "Non-trainable params: 4,086,208\n",
            "__________________________________________________________________________________________________\n",
            "None\n"
          ],
          "name": "stdout"
        }
      ]
    },
    {
      "cell_type": "code",
      "metadata": {
        "id": "ZoO3SYZhowmH",
        "colab_type": "code",
        "outputId": "a32e9625-b132-4e94-d659-05199b52fa39",
        "colab": {
          "base_uri": "https://localhost:8080/",
          "height": 433
        }
      },
      "source": [
        "model_audio_surprise = load_model(\"unimodal baselines/weights/audio/weights_rnn_surprise.h5\")\n",
        "model_video_surprise = load_model(\"unimodal baselines/weights/video/weights_rnn_surprise.h5\")\n",
        "model_text_surprise = load_model(\"unimodal baselines/weights/text/weights_rnn_surprise.h5\")\n",
        "\n",
        "v = Sequential()\n",
        "a = Sequential()\n",
        "t = Sequential()\n",
        "\n",
        "for layer in model_audio_surprise.layers[:-1]:   \n",
        "    layer.trainable = False\n",
        "    a.add(layer)\n",
        "for layer in model_text_surprise.layers[:-1]:   \n",
        "    layer.trainable = False\n",
        "    t.add(layer)\n",
        "for layer in model_video_surprise.layers[:-1]:   \n",
        "    layer.trainable = False\n",
        "    v.add(layer)\n",
        "\n",
        "i1 = Input(shape=(20,35),name='i1')\n",
        "i2 = Input(shape=(20,74),name='i2')\n",
        "i3 = Input(shape=(20,300),name='i3')\n",
        "\n",
        "o1 = v(i1)\n",
        "o2 = a(i2)\n",
        "o3 = t(i3)\n",
        "\n",
        "merged = concatenate([o1,o2,o3])\n",
        "model = Model([i1,i2,i3],merged)\n",
        "print(model.summary())\n",
        "train_surprise = model.predict([video_train,audio_train,text_train_emb])\n",
        "savemat(\"Dtrain_surprise.mat\",{'val':train_surprise})\n",
        "\n",
        "test_surprise = model.predict([video_test,audio_test,text_test_emb])\n",
        "savemat(\"Dtest_surprise.mat\",{'val':test_surprise})"
      ],
      "execution_count": 0,
      "outputs": [
        {
          "output_type": "stream",
          "text": [
            "__________________________________________________________________________________________________\n",
            "Layer (type)                    Output Shape         Param #     Connected to                     \n",
            "==================================================================================================\n",
            "i1 (InputLayer)                 (None, 20, 35)       0                                            \n",
            "__________________________________________________________________________________________________\n",
            "i2 (InputLayer)                 (None, 20, 74)       0                                            \n",
            "__________________________________________________________________________________________________\n",
            "i3 (InputLayer)                 (None, 20, 300)      0                                            \n",
            "__________________________________________________________________________________________________\n",
            "sequential_16 (Sequential)      (None, 32)           1258304     i1[0][0]                         \n",
            "__________________________________________________________________________________________________\n",
            "sequential_17 (Sequential)      (None, 32)           1298240     i2[0][0]                         \n",
            "__________________________________________________________________________________________________\n",
            "sequential_18 (Sequential)      (None, 32)           1529664     i3[0][0]                         \n",
            "__________________________________________________________________________________________________\n",
            "concatenate_6 (Concatenate)     (None, 96)           0           sequential_16[1][0]              \n",
            "                                                                 sequential_17[1][0]              \n",
            "                                                                 sequential_18[1][0]              \n",
            "==================================================================================================\n",
            "Total params: 4,086,208\n",
            "Trainable params: 0\n",
            "Non-trainable params: 4,086,208\n",
            "__________________________________________________________________________________________________\n",
            "None\n"
          ],
          "name": "stdout"
        }
      ]
    },
    {
      "cell_type": "code",
      "metadata": {
        "id": "_QM6F49Ro34D",
        "colab_type": "code",
        "outputId": "6201b20d-7f61-4eb7-9c32-c6509fc87d57",
        "colab": {
          "base_uri": "https://localhost:8080/",
          "height": 433
        }
      },
      "source": [
        "model_audio_sad = load_model(\"unimodal baselines/weights/audio/weights_rnn_sad.h5\")\n",
        "model_video_sad = load_model(\"unimodal baselines/weights/video/weights_rnn_sad.h5\")\n",
        "model_text_sad = load_model(\"unimodal baselines/weights/text/weights_rnn_sad.h5\")\n",
        "\n",
        "v = Sequential()\n",
        "a = Sequential()\n",
        "t = Sequential()\n",
        "\n",
        "for layer in model_audio_sad.layers[:-1]:   \n",
        "    layer.trainable = False\n",
        "    a.add(layer)\n",
        "for layer in model_text_sad.layers[:-1]:   \n",
        "    layer.trainable = False\n",
        "    t.add(layer)\n",
        "for layer in model_video_sad.layers[:-1]:   \n",
        "    layer.trainable = False\n",
        "    v.add(layer)\n",
        "\n",
        "i1 = Input(shape=(20,35),name='i1')\n",
        "i2 = Input(shape=(20,74),name='i2')\n",
        "i3 = Input(shape=(20,300),name='i3')\n",
        "\n",
        "o1 = v(i1)\n",
        "o2 = a(i2)\n",
        "o3 = t(i3)\n",
        "\n",
        "merged = concatenate([o1,o2,o3])\n",
        "model = Model([i1,i2,i3],merged)\n",
        "print(model.summary())\n",
        "train_sad = model.predict([video_train,audio_train,text_train_emb])\n",
        "savemat(\"Dtrain_sad.mat\",{'val':train_sad})\n",
        "\n",
        "test_sad = model.predict([video_test,audio_test,text_test_emb])\n",
        "savemat(\"Dtest_sad.mat\",{'val':test_sad})"
      ],
      "execution_count": 0,
      "outputs": [
        {
          "output_type": "stream",
          "text": [
            "__________________________________________________________________________________________________\n",
            "Layer (type)                    Output Shape         Param #     Connected to                     \n",
            "==================================================================================================\n",
            "i1 (InputLayer)                 (None, 20, 35)       0                                            \n",
            "__________________________________________________________________________________________________\n",
            "i2 (InputLayer)                 (None, 20, 74)       0                                            \n",
            "__________________________________________________________________________________________________\n",
            "i3 (InputLayer)                 (None, 20, 300)      0                                            \n",
            "__________________________________________________________________________________________________\n",
            "sequential_19 (Sequential)      (None, 32)           1258304     i1[0][0]                         \n",
            "__________________________________________________________________________________________________\n",
            "sequential_20 (Sequential)      (None, 32)           1298240     i2[0][0]                         \n",
            "__________________________________________________________________________________________________\n",
            "sequential_21 (Sequential)      (None, 32)           1529664     i3[0][0]                         \n",
            "__________________________________________________________________________________________________\n",
            "concatenate_7 (Concatenate)     (None, 96)           0           sequential_19[1][0]              \n",
            "                                                                 sequential_20[1][0]              \n",
            "                                                                 sequential_21[1][0]              \n",
            "==================================================================================================\n",
            "Total params: 4,086,208\n",
            "Trainable params: 0\n",
            "Non-trainable params: 4,086,208\n",
            "__________________________________________________________________________________________________\n",
            "None\n"
          ],
          "name": "stdout"
        }
      ]
    },
    {
      "cell_type": "code",
      "metadata": {
        "id": "jDId7oqCo5yd",
        "colab_type": "code",
        "outputId": "2375a562-7334-44f0-d84a-d861963ae945",
        "colab": {
          "base_uri": "https://localhost:8080/",
          "height": 35
        }
      },
      "source": [
        "print(train_sad.shape,test_sad.shape)"
      ],
      "execution_count": 0,
      "outputs": [
        {
          "output_type": "stream",
          "text": [
            "(15290, 96) (4832, 96)\n"
          ],
          "name": "stdout"
        }
      ]
    },
    {
      "cell_type": "code",
      "metadata": {
        "id": "0RkrFyJhyW-l",
        "colab_type": "code",
        "outputId": "2a63561d-552d-46c4-f236-7d818c01f806",
        "colab": {
          "resources": {
            "http://localhost:17745/content/Multimodal/Dtest_sad.mat": {
              "data": "CjwhRE9DVFlQRSBodG1sPgo8aHRtbCBsYW5nPWVuPgogIDxtZXRhIGNoYXJzZXQ9dXRmLTg+CiAgPG1ldGEgbmFtZT12aWV3cG9ydCBjb250ZW50PSJpbml0aWFsLXNjYWxlPTEsIG1pbmltdW0tc2NhbGU9MSwgd2lkdGg9ZGV2aWNlLXdpZHRoIj4KICA8dGl0bGU+RXJyb3IgNTAwIChJbnRlcm5hbCBTZXJ2ZXIgRXJyb3IpISExPC90aXRsZT4KICA8c3R5bGU+CiAgICAqe21hcmdpbjowO3BhZGRpbmc6MH1odG1sLGNvZGV7Zm9udDoxNXB4LzIycHggYXJpYWwsc2Fucy1zZXJpZn1odG1se2JhY2tncm91bmQ6I2ZmZjtjb2xvcjojMjIyO3BhZGRpbmc6MTVweH1ib2R5e21hcmdpbjo3JSBhdXRvIDA7bWF4LXdpZHRoOjM5MHB4O21pbi1oZWlnaHQ6MTgwcHg7cGFkZGluZzozMHB4IDAgMTVweH0qID4gYm9keXtiYWNrZ3JvdW5kOnVybCgvL3d3dy5nb29nbGUuY29tL2ltYWdlcy9lcnJvcnMvcm9ib3QucG5nKSAxMDAlIDVweCBuby1yZXBlYXQ7cGFkZGluZy1yaWdodDoyMDVweH1we21hcmdpbjoxMXB4IDAgMjJweDtvdmVyZmxvdzpoaWRkZW59aW5ze2NvbG9yOiM3Nzc7dGV4dC1kZWNvcmF0aW9uOm5vbmV9YSBpbWd7Ym9yZGVyOjB9QG1lZGlhIHNjcmVlbiBhbmQgKG1heC13aWR0aDo3NzJweCl7Ym9keXtiYWNrZ3JvdW5kOm5vbmU7bWFyZ2luLXRvcDowO21heC13aWR0aDpub25lO3BhZGRpbmctcmlnaHQ6MH19I2xvZ297YmFja2dyb3VuZDp1cmwoLy93d3cuZ29vZ2xlLmNvbS9pbWFnZXMvbG9nb3MvZXJyb3JwYWdlL2Vycm9yX2xvZ28tMTUweDU0LnBuZykgbm8tcmVwZWF0O21hcmdpbi1sZWZ0Oi01cHh9QG1lZGlhIG9ubHkgc2NyZWVuIGFuZCAobWluLXJlc29sdXRpb246MTkyZHBpKXsjbG9nb3tiYWNrZ3JvdW5kOnVybCgvL3d3dy5nb29nbGUuY29tL2ltYWdlcy9sb2dvcy9lcnJvcnBhZ2UvZXJyb3JfbG9nby0xNTB4NTQtMngucG5nKSBuby1yZXBlYXQgMCUgMCUvMTAwJSAxMDAlOy1tb3otYm9yZGVyLWltYWdlOnVybCgvL3d3dy5nb29nbGUuY29tL2ltYWdlcy9sb2dvcy9lcnJvcnBhZ2UvZXJyb3JfbG9nby0xNTB4NTQtMngucG5nKSAwfX1AbWVkaWEgb25seSBzY3JlZW4gYW5kICgtd2Via2l0LW1pbi1kZXZpY2UtcGl4ZWwtcmF0aW86Mil7I2xvZ297YmFja2dyb3VuZDp1cmwoLy93d3cuZ29vZ2xlLmNvbS9pbWFnZXMvbG9nb3MvZXJyb3JwYWdlL2Vycm9yX2xvZ28tMTUweDU0LTJ4LnBuZykgbm8tcmVwZWF0Oy13ZWJraXQtYmFja2dyb3VuZC1zaXplOjEwMCUgMTAwJX19I2xvZ297ZGlzcGxheTppbmxpbmUtYmxvY2s7aGVpZ2h0OjU0cHg7d2lkdGg6MTUwcHh9CiAgPC9zdHlsZT4KICA8YSBocmVmPS8vd3d3Lmdvb2dsZS5jb20vPjxzcGFuIGlkPWxvZ28gYXJpYS1sYWJlbD1Hb29nbGU+PC9zcGFuPjwvYT4KICA8cD48Yj41MDAuPC9iPiA8aW5zPlRoYXTigJlzIGFuIGVycm9yLjwvaW5zPgogIDxwPiAgPGlucz5UaGF04oCZcyBhbGwgd2Uga25vdy48L2lucz4K",
              "ok": false,
              "headers": [
                [
                  "content-length",
                  "1461"
                ],
                [
                  "content-type",
                  "text/html; charset=utf-8"
                ]
              ],
              "status": 500,
              "status_text": ""
            },
            "http://localhost:15284/content/Multimodal/Dtrain_sad.mat": {
              "data": "CjwhRE9DVFlQRSBodG1sPgo8aHRtbCBsYW5nPWVuPgogIDxtZXRhIGNoYXJzZXQ9dXRmLTg+CiAgPG1ldGEgbmFtZT12aWV3cG9ydCBjb250ZW50PSJpbml0aWFsLXNjYWxlPTEsIG1pbmltdW0tc2NhbGU9MSwgd2lkdGg9ZGV2aWNlLXdpZHRoIj4KICA8dGl0bGU+RXJyb3IgNTAwIChJbnRlcm5hbCBTZXJ2ZXIgRXJyb3IpISExPC90aXRsZT4KICA8c3R5bGU+CiAgICAqe21hcmdpbjowO3BhZGRpbmc6MH1odG1sLGNvZGV7Zm9udDoxNXB4LzIycHggYXJpYWwsc2Fucy1zZXJpZn1odG1se2JhY2tncm91bmQ6I2ZmZjtjb2xvcjojMjIyO3BhZGRpbmc6MTVweH1ib2R5e21hcmdpbjo3JSBhdXRvIDA7bWF4LXdpZHRoOjM5MHB4O21pbi1oZWlnaHQ6MTgwcHg7cGFkZGluZzozMHB4IDAgMTVweH0qID4gYm9keXtiYWNrZ3JvdW5kOnVybCgvL3d3dy5nb29nbGUuY29tL2ltYWdlcy9lcnJvcnMvcm9ib3QucG5nKSAxMDAlIDVweCBuby1yZXBlYXQ7cGFkZGluZy1yaWdodDoyMDVweH1we21hcmdpbjoxMXB4IDAgMjJweDtvdmVyZmxvdzpoaWRkZW59aW5ze2NvbG9yOiM3Nzc7dGV4dC1kZWNvcmF0aW9uOm5vbmV9YSBpbWd7Ym9yZGVyOjB9QG1lZGlhIHNjcmVlbiBhbmQgKG1heC13aWR0aDo3NzJweCl7Ym9keXtiYWNrZ3JvdW5kOm5vbmU7bWFyZ2luLXRvcDowO21heC13aWR0aDpub25lO3BhZGRpbmctcmlnaHQ6MH19I2xvZ297YmFja2dyb3VuZDp1cmwoLy93d3cuZ29vZ2xlLmNvbS9pbWFnZXMvbG9nb3MvZXJyb3JwYWdlL2Vycm9yX2xvZ28tMTUweDU0LnBuZykgbm8tcmVwZWF0O21hcmdpbi1sZWZ0Oi01cHh9QG1lZGlhIG9ubHkgc2NyZWVuIGFuZCAobWluLXJlc29sdXRpb246MTkyZHBpKXsjbG9nb3tiYWNrZ3JvdW5kOnVybCgvL3d3dy5nb29nbGUuY29tL2ltYWdlcy9sb2dvcy9lcnJvcnBhZ2UvZXJyb3JfbG9nby0xNTB4NTQtMngucG5nKSBuby1yZXBlYXQgMCUgMCUvMTAwJSAxMDAlOy1tb3otYm9yZGVyLWltYWdlOnVybCgvL3d3dy5nb29nbGUuY29tL2ltYWdlcy9sb2dvcy9lcnJvcnBhZ2UvZXJyb3JfbG9nby0xNTB4NTQtMngucG5nKSAwfX1AbWVkaWEgb25seSBzY3JlZW4gYW5kICgtd2Via2l0LW1pbi1kZXZpY2UtcGl4ZWwtcmF0aW86Mil7I2xvZ297YmFja2dyb3VuZDp1cmwoLy93d3cuZ29vZ2xlLmNvbS9pbWFnZXMvbG9nb3MvZXJyb3JwYWdlL2Vycm9yX2xvZ28tMTUweDU0LTJ4LnBuZykgbm8tcmVwZWF0Oy13ZWJraXQtYmFja2dyb3VuZC1zaXplOjEwMCUgMTAwJX19I2xvZ297ZGlzcGxheTppbmxpbmUtYmxvY2s7aGVpZ2h0OjU0cHg7d2lkdGg6MTUwcHh9CiAgPC9zdHlsZT4KICA8YSBocmVmPS8vd3d3Lmdvb2dsZS5jb20vPjxzcGFuIGlkPWxvZ28gYXJpYS1sYWJlbD1Hb29nbGU+PC9zcGFuPjwvYT4KICA8cD48Yj41MDAuPC9iPiA8aW5zPlRoYXTigJlzIGFuIGVycm9yLjwvaW5zPgogIDxwPiAgPGlucz5UaGF04oCZcyBhbGwgd2Uga25vdy48L2lucz4K",
              "ok": false,
              "headers": [
                [
                  "content-length",
                  "1461"
                ],
                [
                  "content-type",
                  "text/html; charset=utf-8"
                ]
              ],
              "status": 500,
              "status_text": ""
            },
            "http://localhost:20573/content/Multimodal/Dtest_happy.mat": {
              "data": "CjwhRE9DVFlQRSBodG1sPgo8aHRtbCBsYW5nPWVuPgogIDxtZXRhIGNoYXJzZXQ9dXRmLTg+CiAgPG1ldGEgbmFtZT12aWV3cG9ydCBjb250ZW50PSJpbml0aWFsLXNjYWxlPTEsIG1pbmltdW0tc2NhbGU9MSwgd2lkdGg9ZGV2aWNlLXdpZHRoIj4KICA8dGl0bGU+RXJyb3IgNTAwIChJbnRlcm5hbCBTZXJ2ZXIgRXJyb3IpISExPC90aXRsZT4KICA8c3R5bGU+CiAgICAqe21hcmdpbjowO3BhZGRpbmc6MH1odG1sLGNvZGV7Zm9udDoxNXB4LzIycHggYXJpYWwsc2Fucy1zZXJpZn1odG1se2JhY2tncm91bmQ6I2ZmZjtjb2xvcjojMjIyO3BhZGRpbmc6MTVweH1ib2R5e21hcmdpbjo3JSBhdXRvIDA7bWF4LXdpZHRoOjM5MHB4O21pbi1oZWlnaHQ6MTgwcHg7cGFkZGluZzozMHB4IDAgMTVweH0qID4gYm9keXtiYWNrZ3JvdW5kOnVybCgvL3d3dy5nb29nbGUuY29tL2ltYWdlcy9lcnJvcnMvcm9ib3QucG5nKSAxMDAlIDVweCBuby1yZXBlYXQ7cGFkZGluZy1yaWdodDoyMDVweH1we21hcmdpbjoxMXB4IDAgMjJweDtvdmVyZmxvdzpoaWRkZW59aW5ze2NvbG9yOiM3Nzc7dGV4dC1kZWNvcmF0aW9uOm5vbmV9YSBpbWd7Ym9yZGVyOjB9QG1lZGlhIHNjcmVlbiBhbmQgKG1heC13aWR0aDo3NzJweCl7Ym9keXtiYWNrZ3JvdW5kOm5vbmU7bWFyZ2luLXRvcDowO21heC13aWR0aDpub25lO3BhZGRpbmctcmlnaHQ6MH19I2xvZ297YmFja2dyb3VuZDp1cmwoLy93d3cuZ29vZ2xlLmNvbS9pbWFnZXMvbG9nb3MvZXJyb3JwYWdlL2Vycm9yX2xvZ28tMTUweDU0LnBuZykgbm8tcmVwZWF0O21hcmdpbi1sZWZ0Oi01cHh9QG1lZGlhIG9ubHkgc2NyZWVuIGFuZCAobWluLXJlc29sdXRpb246MTkyZHBpKXsjbG9nb3tiYWNrZ3JvdW5kOnVybCgvL3d3dy5nb29nbGUuY29tL2ltYWdlcy9sb2dvcy9lcnJvcnBhZ2UvZXJyb3JfbG9nby0xNTB4NTQtMngucG5nKSBuby1yZXBlYXQgMCUgMCUvMTAwJSAxMDAlOy1tb3otYm9yZGVyLWltYWdlOnVybCgvL3d3dy5nb29nbGUuY29tL2ltYWdlcy9sb2dvcy9lcnJvcnBhZ2UvZXJyb3JfbG9nby0xNTB4NTQtMngucG5nKSAwfX1AbWVkaWEgb25seSBzY3JlZW4gYW5kICgtd2Via2l0LW1pbi1kZXZpY2UtcGl4ZWwtcmF0aW86Mil7I2xvZ297YmFja2dyb3VuZDp1cmwoLy93d3cuZ29vZ2xlLmNvbS9pbWFnZXMvbG9nb3MvZXJyb3JwYWdlL2Vycm9yX2xvZ28tMTUweDU0LTJ4LnBuZykgbm8tcmVwZWF0Oy13ZWJraXQtYmFja2dyb3VuZC1zaXplOjEwMCUgMTAwJX19I2xvZ297ZGlzcGxheTppbmxpbmUtYmxvY2s7aGVpZ2h0OjU0cHg7d2lkdGg6MTUwcHh9CiAgPC9zdHlsZT4KICA8YSBocmVmPS8vd3d3Lmdvb2dsZS5jb20vPjxzcGFuIGlkPWxvZ28gYXJpYS1sYWJlbD1Hb29nbGU+PC9zcGFuPjwvYT4KICA8cD48Yj41MDAuPC9iPiA8aW5zPlRoYXTigJlzIGFuIGVycm9yLjwvaW5zPgogIDxwPiAgPGlucz5UaGF04oCZcyBhbGwgd2Uga25vdy48L2lucz4K",
              "ok": false,
              "headers": [
                [
                  "content-length",
                  "1461"
                ],
                [
                  "content-type",
                  "text/html; charset=utf-8"
                ]
              ],
              "status": 500,
              "status_text": ""
            }
          },
          "base_uri": "https://localhost:8080/",
          "height": 381
        }
      },
      "source": [
        "files.download(\"Dtest_sad.mat\")\n",
        "files.download(\"Dtrain_sad.mat\")\n",
        "\n"
      ],
      "execution_count": 0,
      "outputs": [
        {
          "output_type": "error",
          "ename": "KeyboardInterrupt",
          "evalue": "ignored",
          "traceback": [
            "\u001b[0;31m---------------------------------------------------------------------------\u001b[0m",
            "\u001b[0;31mKeyboardInterrupt\u001b[0m                         Traceback (most recent call last)",
            "\u001b[0;32m<ipython-input-77-55b620bb2bc6>\u001b[0m in \u001b[0;36m<module>\u001b[0;34m()\u001b[0m\n\u001b[1;32m      2\u001b[0m \u001b[0mfiles\u001b[0m\u001b[0;34m.\u001b[0m\u001b[0mdownload\u001b[0m\u001b[0;34m(\u001b[0m\u001b[0;34m\"Dtrain_sad.mat\"\u001b[0m\u001b[0;34m)\u001b[0m\u001b[0;34m\u001b[0m\u001b[0;34m\u001b[0m\u001b[0m\n\u001b[1;32m      3\u001b[0m \u001b[0;34m\u001b[0m\u001b[0m\n\u001b[0;32m----> 4\u001b[0;31m \u001b[0mfiles\u001b[0m\u001b[0;34m.\u001b[0m\u001b[0mdownload\u001b[0m\u001b[0;34m(\u001b[0m\u001b[0;34m\"Dtest_happy.mat\"\u001b[0m\u001b[0;34m)\u001b[0m\u001b[0;34m\u001b[0m\u001b[0;34m\u001b[0m\u001b[0m\n\u001b[0m\u001b[1;32m      5\u001b[0m \u001b[0mfiles\u001b[0m\u001b[0;34m.\u001b[0m\u001b[0mdownload\u001b[0m\u001b[0;34m(\u001b[0m\u001b[0;34m\"Dtrain_happy.mat\"\u001b[0m\u001b[0;34m)\u001b[0m\u001b[0;34m\u001b[0m\u001b[0;34m\u001b[0m\u001b[0m\n\u001b[1;32m      6\u001b[0m \u001b[0;34m\u001b[0m\u001b[0m\n",
            "\u001b[0;32m/usr/local/lib/python3.6/dist-packages/google/colab/files.py\u001b[0m in \u001b[0;36mdownload\u001b[0;34m(filename)\u001b[0m\n\u001b[1;32m    176\u001b[0m       \u001b[0;34m'port'\u001b[0m\u001b[0;34m:\u001b[0m \u001b[0mport\u001b[0m\u001b[0;34m,\u001b[0m\u001b[0;34m\u001b[0m\u001b[0;34m\u001b[0m\u001b[0m\n\u001b[1;32m    177\u001b[0m       \u001b[0;34m'path'\u001b[0m\u001b[0;34m:\u001b[0m \u001b[0m_os\u001b[0m\u001b[0;34m.\u001b[0m\u001b[0mpath\u001b[0m\u001b[0;34m.\u001b[0m\u001b[0mabspath\u001b[0m\u001b[0;34m(\u001b[0m\u001b[0mfilename\u001b[0m\u001b[0;34m)\u001b[0m\u001b[0;34m,\u001b[0m\u001b[0;34m\u001b[0m\u001b[0;34m\u001b[0m\u001b[0m\n\u001b[0;32m--> 178\u001b[0;31m       \u001b[0;34m'name'\u001b[0m\u001b[0;34m:\u001b[0m \u001b[0m_os\u001b[0m\u001b[0;34m.\u001b[0m\u001b[0mpath\u001b[0m\u001b[0;34m.\u001b[0m\u001b[0mbasename\u001b[0m\u001b[0;34m(\u001b[0m\u001b[0mfilename\u001b[0m\u001b[0;34m)\u001b[0m\u001b[0;34m,\u001b[0m\u001b[0;34m\u001b[0m\u001b[0;34m\u001b[0m\u001b[0m\n\u001b[0m\u001b[1;32m    179\u001b[0m   })\n",
            "\u001b[0;32m/usr/local/lib/python3.6/dist-packages/google/colab/output/_js.py\u001b[0m in \u001b[0;36meval_js\u001b[0;34m(script, ignore_result)\u001b[0m\n\u001b[1;32m     37\u001b[0m   \u001b[0;32mif\u001b[0m \u001b[0mignore_result\u001b[0m\u001b[0;34m:\u001b[0m\u001b[0;34m\u001b[0m\u001b[0;34m\u001b[0m\u001b[0m\n\u001b[1;32m     38\u001b[0m     \u001b[0;32mreturn\u001b[0m\u001b[0;34m\u001b[0m\u001b[0;34m\u001b[0m\u001b[0m\n\u001b[0;32m---> 39\u001b[0;31m   \u001b[0;32mreturn\u001b[0m \u001b[0m_message\u001b[0m\u001b[0;34m.\u001b[0m\u001b[0mread_reply_from_input\u001b[0m\u001b[0;34m(\u001b[0m\u001b[0mrequest_id\u001b[0m\u001b[0;34m)\u001b[0m\u001b[0;34m\u001b[0m\u001b[0;34m\u001b[0m\u001b[0m\n\u001b[0m\u001b[1;32m     40\u001b[0m \u001b[0;34m\u001b[0m\u001b[0m\n\u001b[1;32m     41\u001b[0m \u001b[0;34m\u001b[0m\u001b[0m\n",
            "\u001b[0;32m/usr/local/lib/python3.6/dist-packages/google/colab/_message.py\u001b[0m in \u001b[0;36mread_reply_from_input\u001b[0;34m(message_id, timeout_sec)\u001b[0m\n\u001b[1;32m     99\u001b[0m     \u001b[0mreply\u001b[0m \u001b[0;34m=\u001b[0m \u001b[0m_read_next_input_message\u001b[0m\u001b[0;34m(\u001b[0m\u001b[0;34m)\u001b[0m\u001b[0;34m\u001b[0m\u001b[0;34m\u001b[0m\u001b[0m\n\u001b[1;32m    100\u001b[0m     \u001b[0;32mif\u001b[0m \u001b[0mreply\u001b[0m \u001b[0;34m==\u001b[0m \u001b[0m_NOT_READY\u001b[0m \u001b[0;32mor\u001b[0m \u001b[0;32mnot\u001b[0m \u001b[0misinstance\u001b[0m\u001b[0;34m(\u001b[0m\u001b[0mreply\u001b[0m\u001b[0;34m,\u001b[0m \u001b[0mdict\u001b[0m\u001b[0;34m)\u001b[0m\u001b[0;34m:\u001b[0m\u001b[0;34m\u001b[0m\u001b[0;34m\u001b[0m\u001b[0m\n\u001b[0;32m--> 101\u001b[0;31m       \u001b[0mtime\u001b[0m\u001b[0;34m.\u001b[0m\u001b[0msleep\u001b[0m\u001b[0;34m(\u001b[0m\u001b[0;36m0.025\u001b[0m\u001b[0;34m)\u001b[0m\u001b[0;34m\u001b[0m\u001b[0;34m\u001b[0m\u001b[0m\n\u001b[0m\u001b[1;32m    102\u001b[0m       \u001b[0;32mcontinue\u001b[0m\u001b[0;34m\u001b[0m\u001b[0;34m\u001b[0m\u001b[0m\n\u001b[1;32m    103\u001b[0m     if (reply.get('type') == 'colab_reply' and\n",
            "\u001b[0;31mKeyboardInterrupt\u001b[0m: "
          ]
        }
      ]
    },
    {
      "cell_type": "code",
      "metadata": {
        "id": "5OwUkHEa0W9g",
        "colab_type": "code",
        "colab": {}
      },
      "source": [
        "files.download(\"Dtest_happy.mat\")\n",
        "files.download(\"Dtrain_happy.mat\")\n",
        "\n",
        "files.download(\"Dtest_angry.mat\")\n",
        "files.download(\"Dtrain_angry.mat\")\n",
        "\n",
        "files.download(\"Dtest_surprise.mat\")\n",
        "files.download(\"Dtrain_surprise.mat\")\n",
        "\n",
        "files.download(\"Dtest_disgust.mat\")\n",
        "files.download(\"Dtrain_disgust.mat\")\n",
        "\n",
        "files.download(\"Dtest_fear.mat\")\n",
        "files.download(\"Dtrain_fear.mat\")"
      ],
      "execution_count": 0,
      "outputs": []
    },
    {
      "cell_type": "code",
      "metadata": {
        "id": "-6K4dH_-1zh4",
        "colab_type": "code",
        "colab": {}
      },
      "source": [
        ""
      ],
      "execution_count": 0,
      "outputs": []
    }
  ]
}
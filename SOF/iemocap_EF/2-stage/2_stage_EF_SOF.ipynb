{
  "nbformat": 4,
  "nbformat_minor": 0,
  "metadata": {
    "colab": {
      "name": "2-stage_EF_SOF.ipynb",
      "version": "0.3.2",
      "provenance": []
    },
    "kernelspec": {
      "name": "python3",
      "display_name": "Python 3"
    },
    "accelerator": "GPU"
  },
  "cells": [
    {
      "cell_type": "code",
      "metadata": {
        "id": "pC-HLM4r-0x3",
        "colab_type": "code",
        "outputId": "be21f2a2-458a-4ca5-a1fd-9afd7343e4f8",
        "colab": {
          "base_uri": "https://localhost:8080/",
          "height": 208
        }
      },
      "source": [
        "!wget \"http://immortal.multicomp.cs.cmu.edu/raw_datasets/old_processed_data/iemocap/data.zip\""
      ],
      "execution_count": 0,
      "outputs": [
        {
          "output_type": "stream",
          "text": [
            "--2019-07-10 08:26:17--  http://immortal.multicomp.cs.cmu.edu/raw_datasets/old_processed_data/iemocap/data.zip\n",
            "Resolving immortal.multicomp.cs.cmu.edu (immortal.multicomp.cs.cmu.edu)... 128.2.211.216\n",
            "Connecting to immortal.multicomp.cs.cmu.edu (immortal.multicomp.cs.cmu.edu)|128.2.211.216|:80... connected.\n",
            "HTTP request sent, awaiting response... 200 OK\n",
            "Length: 311438653 (297M) [application/zip]\n",
            "Saving to: ‘data.zip’\n",
            "\n",
            "data.zip            100%[===================>] 297.01M  9.85MB/s    in 42s     \n",
            "\n",
            "2019-07-10 08:26:59 (7.15 MB/s) - ‘data.zip’ saved [311438653/311438653]\n",
            "\n"
          ],
          "name": "stdout"
        }
      ]
    },
    {
      "cell_type": "code",
      "metadata": {
        "id": "_2O0sqZB-7j3",
        "colab_type": "code",
        "outputId": "274a7bce-6d39-4fd3-e296-59fddab0a73a",
        "colab": {
          "base_uri": "https://localhost:8080/",
          "height": 156
        }
      },
      "source": [
        "!git clone \"https://github.com/convman/Multimodal.git\""
      ],
      "execution_count": 0,
      "outputs": [
        {
          "output_type": "stream",
          "text": [
            "Cloning into 'Multimodal'...\n",
            "remote: Enumerating objects: 55, done.\u001b[K\n",
            "remote: Counting objects: 100% (55/55), done.\u001b[K\n",
            "remote: Compressing objects: 100% (51/51), done.\u001b[K\n",
            "remote: Total 405 (delta 36), reused 0 (delta 0), pack-reused 350\u001b[K\n",
            "Receiving objects: 100% (405/405), 895.11 MiB | 31.29 MiB/s, done.\n",
            "Resolving deltas: 100% (144/144), done.\n",
            "Checking out files: 100% (192/192), done.\n"
          ],
          "name": "stdout"
        }
      ]
    },
    {
      "cell_type": "code",
      "metadata": {
        "id": "FsZBhyBk_Wx7",
        "colab_type": "code",
        "outputId": "656ac65d-11e1-46d1-bad8-8c74db85ba1b",
        "colab": {
          "base_uri": "https://localhost:8080/",
          "height": 260
        }
      },
      "source": [
        "!unzip -P \"hello_iemocap_2008\" data.zip"
      ],
      "execution_count": 0,
      "outputs": [
        {
          "output_type": "stream",
          "text": [
            "Archive:  data.zip\n",
            "   creating: data/\n",
            "  inflating: data/facet_valid.p      \n",
            "  inflating: data/facet_test.p       \n",
            "  inflating: data/covarep_test.p     \n",
            "  inflating: data/facet_train.p      \n",
            "  inflating: data/text_train.p       \n",
            "  inflating: data/y_test.p           \n",
            "  inflating: data/text_test.p        \n",
            "  inflating: data/text_valid.p       \n",
            "  inflating: data/covarep_valid.p    \n",
            "  inflating: data/y_valid.p          \n",
            "  inflating: data/y_train.p          \n",
            "  inflating: data/covarep_train.p    \n"
          ],
          "name": "stdout"
        }
      ]
    },
    {
      "cell_type": "code",
      "metadata": {
        "id": "11hCCzU8_ZK6",
        "colab_type": "code",
        "outputId": "d4b71773-3e82-405a-f3ee-6a6174cfacbd",
        "colab": {
          "base_uri": "https://localhost:8080/",
          "height": 87
        }
      },
      "source": [
        "import pickle\n",
        "\n",
        "Train_video = pickle.load(open(\"data/facet_train.p\",'rb'),encoding='latin1')\n",
        "Test_video = pickle.load(open(\"data/facet_test.p\",'rb'),encoding='latin1')\n",
        "Valid_video = pickle.load(open(\"data/facet_valid.p\",'rb'),encoding='latin1')\n",
        "\n",
        "Train_text = pickle.load(open(\"data/text_train.p\",'rb'),encoding='latin1')\n",
        "Test_text = pickle.load(open(\"data/text_test.p\",'rb'),encoding='latin1')\n",
        "Valid_text = pickle.load(open(\"data/text_valid.p\",'rb'),encoding='latin1')\n",
        "\n",
        "Train_audio = pickle.load(open(\"data/covarep_train.p\",'rb'),encoding='latin1')\n",
        "Test_audio = pickle.load(open(\"data/covarep_test.p\",'rb'),encoding='latin1')\n",
        "Valid_audio = pickle.load(open(\"data/covarep_valid.p\",'rb'),encoding='latin1')\n",
        "\n",
        "Y_train =  pickle.load(open(\"data/y_train.p\",'rb'),encoding='latin1')\n",
        "Y_test =  pickle.load(open(\"data/y_test.p\",'rb'),encoding='latin1')\n",
        "Y_valid =  pickle.load(open(\"data/y_valid.p\",'rb'),encoding='latin1')\n",
        "\n",
        "Y_train = Y_train[:,1:-1]  # selecting only emotion label and ignoring others and unknown\n",
        "Y_test = Y_test[:,1:-1]    # regarding 11 features:\n",
        "Y_valid = Y_valid[:,1:-1]  # Other Anger Excited Fear Sad Surprised Frustrated Happy Neutral Disgust (unknown)\n",
        "\n",
        "print(Train_video.shape,Test_video.shape,Valid_video.shape)\n",
        "print(Train_text.shape,Test_text.shape,Valid_text.shape)\n",
        "print(Train_audio.shape,Test_audio.shape,Valid_audio.shape)\n",
        "\n",
        "\n",
        "\n",
        "Y_train = Y_train[:,[0,1,3,5,6,7]]\n",
        "Y_test = Y_test[:,[0,1,3,5,6,7]]\n",
        "Y_valid = Y_valid[:,[0,1,3,5,6,7]]\n",
        "target_names = ['Anger','Excited','Sad','Frustrated','Happy','Neutral']\n",
        "map = {0:\"Anger\",1:\"Excited\",2:\"Fear\",3:\"Sad\",4:\"Surprised\",5:\"Frustrated\",6:\"Happy\",7:\"Neutral\",8:\"Disgust\"}\n",
        "print(Y_train.shape,Y_test.shape,Y_valid.shape)"
      ],
      "execution_count": 0,
      "outputs": [
        {
          "output_type": "stream",
          "text": [
            "(6373, 21, 35) (1807, 21, 35) (1775, 21, 35)\n",
            "(6373, 21, 300) (1807, 21, 300) (1775, 21, 300)\n",
            "(6373, 21, 74) (1807, 21, 74) (1775, 21, 74)\n",
            "(6373, 6) (1807, 6) (1775, 6)\n"
          ],
          "name": "stdout"
        }
      ]
    },
    {
      "cell_type": "code",
      "metadata": {
        "id": "ufytbkr9_ezO",
        "colab_type": "code",
        "outputId": "8570e486-eaf6-43a0-fde6-97f4e24ebe3c",
        "colab": {
          "base_uri": "https://localhost:8080/",
          "height": 35
        }
      },
      "source": [
        "import pandas as pd\n",
        "import numpy as np\n",
        "import h5py\n",
        "from keras.models import load_model\n",
        "import numpy as np\n",
        "import matplotlib.pyplot as plt\n",
        "import seaborn as sn\n",
        "import pandas as pd\n",
        "from sklearn.model_selection import train_test_split\n",
        "from sklearn.metrics import confusion_matrix, f1_score, classification_report\n",
        "from sklearn.utils.multiclass import unique_labels\n",
        "import keras\n",
        "import tensorflow as tf\n",
        "from time import time\n",
        "import scipy\n",
        "from scipy.io import savemat\n",
        "from keras import layers\n",
        "from google.colab import files\t\n",
        "from keras.models import load_model\n",
        "from keras.models import Model,Sequential,Model\n",
        "from keras.layers import *\n",
        "from keras.callbacks import TensorBoard\n",
        "from keras import callbacks\n",
        "from keras.callbacks import *\n",
        "%matplotlib inline"
      ],
      "execution_count": 0,
      "outputs": [
        {
          "output_type": "stream",
          "text": [
            "Using TensorFlow backend.\n"
          ],
          "name": "stderr"
        }
      ]
    },
    {
      "cell_type": "code",
      "metadata": {
        "id": "TfW3i1mM_hkS",
        "colab_type": "code",
        "outputId": "e11165f1-ec44-4dff-f1c7-785daa04eb53",
        "colab": {
          "base_uri": "https://localhost:8080/",
          "height": 69
        }
      },
      "source": [
        "Train_concat = np.concatenate((Train_audio,Train_text,Train_video),axis=-1)\n",
        "Test_concat = np.concatenate((Test_audio,Test_text,Test_video),axis=-1)\n",
        "Valid_concat = np.concatenate((Valid_audio,Valid_text,Valid_video),axis=-1)\n",
        "\n",
        "print(Train_concat.shape)\n",
        "print(Test_concat.shape)\n",
        "print(Valid_concat.shape)"
      ],
      "execution_count": 0,
      "outputs": [
        {
          "output_type": "stream",
          "text": [
            "(6373, 21, 409)\n",
            "(1807, 21, 409)\n",
            "(1775, 21, 409)\n"
          ],
          "name": "stdout"
        }
      ]
    },
    {
      "cell_type": "code",
      "metadata": {
        "id": "dJxkAjbF_kZe",
        "colab_type": "code",
        "outputId": "06b939b9-9942-4a50-8ae6-4e845cb52a08",
        "colab": {
          "base_uri": "https://localhost:8080/",
          "height": 35
        }
      },
      "source": [
        "x = Y_test.argmax(axis=-1)+1\n",
        "e1=[]\n",
        "e2=[]\n",
        "e3=[]\n",
        "e4=[]\n",
        "e5=[]\n",
        "e6=[]\n",
        "\n",
        "print(x)"
      ],
      "execution_count": 0,
      "outputs": [
        {
          "output_type": "stream",
          "text": [
            "[6 6 5 ... 2 6 6]\n"
          ],
          "name": "stdout"
        }
      ]
    },
    {
      "cell_type": "code",
      "metadata": {
        "id": "h9Eq0RnX_2bE",
        "colab_type": "code",
        "colab": {}
      },
      "source": [
        "\n",
        "for i in range(x.shape[0]):\n",
        "    if x[i]==1:\n",
        "        e1.append(2)\n",
        "    else:\n",
        "        e1.append(1)\n",
        "   "
      ],
      "execution_count": 0,
      "outputs": []
    },
    {
      "cell_type": "code",
      "metadata": {
        "id": "qSSOp12oAQaC",
        "colab_type": "code",
        "colab": {}
      },
      "source": [
        "\n",
        "for i in range(x.shape[0]):\n",
        "    if x[i]==2:\n",
        "        e2.append(2)\n",
        "    else:\n",
        "        e2.append(1)\n",
        "   "
      ],
      "execution_count": 0,
      "outputs": []
    },
    {
      "cell_type": "code",
      "metadata": {
        "id": "ZP2t04VsIF8H",
        "colab_type": "code",
        "colab": {}
      },
      "source": [
        "\n",
        "for i in range(x.shape[0]):\n",
        "    if x[i]==3:\n",
        "        e3.append(2)\n",
        "    else:\n",
        "        e3.append(1)\n",
        "   "
      ],
      "execution_count": 0,
      "outputs": []
    },
    {
      "cell_type": "code",
      "metadata": {
        "id": "m9PgOkTNIcy1",
        "colab_type": "code",
        "colab": {}
      },
      "source": [
        "\n",
        "for i in range(x.shape[0]):\n",
        "    if x[i]==4:\n",
        "        e4.append(2)\n",
        "    else:\n",
        "        e4.append(1)\n",
        "   "
      ],
      "execution_count": 0,
      "outputs": []
    },
    {
      "cell_type": "code",
      "metadata": {
        "id": "mYR5l1rcIfK5",
        "colab_type": "code",
        "colab": {}
      },
      "source": [
        "\n",
        "for i in range(x.shape[0]):\n",
        "    if x[i]==5:\n",
        "        e5.append(2)\n",
        "    else:\n",
        "        e5.append(1)\n",
        "   "
      ],
      "execution_count": 0,
      "outputs": []
    },
    {
      "cell_type": "code",
      "metadata": {
        "id": "eMOVAal9IhzZ",
        "colab_type": "code",
        "colab": {}
      },
      "source": [
        "\n",
        "for i in range(x.shape[0]):\n",
        "    if x[i]==6:\n",
        "        e6.append(2)\n",
        "    else:\n",
        "        e6.append(1)\n",
        "   "
      ],
      "execution_count": 0,
      "outputs": []
    },
    {
      "cell_type": "code",
      "metadata": {
        "id": "URdIsUlyJBM_",
        "colab_type": "code",
        "outputId": "71d6784c-1f06-47fe-e2c2-d6f7933ddce3",
        "colab": {
          "base_uri": "https://localhost:8080/",
          "height": 139
        }
      },
      "source": [
        "np.array(e1).reshape((1807,1))"
      ],
      "execution_count": 0,
      "outputs": [
        {
          "output_type": "execute_result",
          "data": {
            "text/plain": [
              "array([[1],\n",
              "       [1],\n",
              "       [1],\n",
              "       ...,\n",
              "       [1],\n",
              "       [1],\n",
              "       [1]])"
            ]
          },
          "metadata": {
            "tags": []
          },
          "execution_count": 46
        }
      ]
    },
    {
      "cell_type": "code",
      "metadata": {
        "id": "rKYMQ9KOIkCf",
        "colab_type": "code",
        "colab": {}
      },
      "source": [
        "savemat(\"Ltest_e1.mat\",{'val':np.array(e1).reshape((1807,1))})\n",
        "savemat(\"Ltest_e2.mat\",{'val':np.array(e2).reshape((1807,1))})\n",
        "savemat(\"Ltest_e3.mat\",{'val':np.array(e3).reshape((1807,1))})\n",
        "savemat(\"Ltest_e4.mat\",{'val':np.array(e4).reshape((1807,1))})\n",
        "savemat(\"Ltest_e5.mat\",{'val':np.array(e5).reshape((1807,1))})\n",
        "savemat(\"Ltest_e6.mat\",{'val':np.array(e6).reshape((1807,1))})"
      ],
      "execution_count": 0,
      "outputs": []
    },
    {
      "cell_type": "code",
      "metadata": {
        "id": "-artrPNIImSn",
        "colab_type": "code",
        "colab": {}
      },
      "source": [
        "files.download(\"Ltest_e1.mat\")\n",
        "files.download(\"Ltest_e2.mat\")\n",
        "files.download(\"Ltest_e3.mat\")\n",
        "files.download(\"Ltest_e4.mat\")\n",
        "files.download(\"Ltest_e5.mat\")\n",
        "files.download(\"Ltest_e6.mat\")"
      ],
      "execution_count": 0,
      "outputs": []
    },
    {
      "cell_type": "code",
      "metadata": {
        "id": "L1aPvS4-KMF1",
        "colab_type": "code",
        "colab": {}
      },
      "source": [
        ""
      ],
      "execution_count": 0,
      "outputs": []
    },
    {
      "cell_type": "code",
      "metadata": {
        "id": "peXwZXycsMpD",
        "colab_type": "code",
        "outputId": "c75d2c90-e1b7-47e2-e24d-38cd6630c53f",
        "colab": {
          "resources": {
            "http://localhost:8080/nbextensions/google.colab/files.js": {
              "data": "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",
              "ok": true,
              "headers": [
                [
                  "content-type",
                  "application/javascript"
                ]
              ],
              "status": 200,
              "status_text": ""
            }
          },
          "base_uri": "https://localhost:8080/",
          "height": 110
        }
      },
      "source": [
        "from google.colab import files\n",
        "\n",
        "uploaded = files.upload()\n"
      ],
      "execution_count": 0,
      "outputs": [
        {
          "output_type": "display_data",
          "data": {
            "text/html": [
              "\n",
              "     <input type=\"file\" id=\"files-b33bc2dc-ba94-4419-a9c7-882b029ac68a\" name=\"files[]\" multiple disabled />\n",
              "     <output id=\"result-b33bc2dc-ba94-4419-a9c7-882b029ac68a\">\n",
              "      Upload widget is only available when the cell has been executed in the\n",
              "      current browser session. Please rerun this cell to enable.\n",
              "      </output>\n",
              "      <script src=\"/nbextensions/google.colab/files.js\"></script> "
            ],
            "text/plain": [
              "<IPython.core.display.HTML object>"
            ]
          },
          "metadata": {
            "tags": []
          }
        },
        {
          "output_type": "stream",
          "text": [
            "Saving Ltrain.mat to Ltrain.mat\n",
            "Saving Ltest.mat to Ltest.mat\n"
          ],
          "name": "stdout"
        }
      ]
    },
    {
      "cell_type": "code",
      "metadata": {
        "id": "iDJ7uD-nsPM-",
        "colab_type": "code",
        "colab": {}
      },
      "source": [
        "mat = scipy.io.loadmat('sof_prob.mat')"
      ],
      "execution_count": 0,
      "outputs": []
    },
    {
      "cell_type": "code",
      "metadata": {
        "id": "95qUL0YRtPZr",
        "colab_type": "code",
        "colab": {}
      },
      "source": [
        "Ltrain = scipy.io.loadmat('Ltrain.mat')\n",
        "Ltest = scipy.io.loadmat('Ltest.mat')"
      ],
      "execution_count": 0,
      "outputs": []
    },
    {
      "cell_type": "code",
      "metadata": {
        "id": "YAMIoMAMsma6",
        "colab_type": "code",
        "colab": {}
      },
      "source": [
        "Dtest = mat['Dtest']\n",
        "Dtrain = mat['Dtrain']"
      ],
      "execution_count": 0,
      "outputs": []
    },
    {
      "cell_type": "code",
      "metadata": {
        "id": "jCRXdCwrsnMj",
        "colab_type": "code",
        "outputId": "86b9605f-a77c-43ef-dc76-756a1cf8713a",
        "colab": {
          "base_uri": "https://localhost:8080/",
          "height": 35
        }
      },
      "source": [
        "print(Dtrain.shape,Dtest.shape)"
      ],
      "execution_count": 63,
      "outputs": [
        {
          "output_type": "stream",
          "text": [
            "(6373, 12) (1807, 12)\n"
          ],
          "name": "stdout"
        }
      ]
    },
    {
      "cell_type": "code",
      "metadata": {
        "id": "mGdLbOiesxzK",
        "colab_type": "code",
        "outputId": "fba9021f-35b4-4127-969c-64b8fa4d3c57",
        "colab": {
          "base_uri": "https://localhost:8080/",
          "height": 35
        }
      },
      "source": [
        "print(Y_train.shape,Y_test.shape)"
      ],
      "execution_count": 65,
      "outputs": [
        {
          "output_type": "stream",
          "text": [
            "(6373, 6) (1807, 6)\n"
          ],
          "name": "stdout"
        }
      ]
    },
    {
      "cell_type": "code",
      "metadata": {
        "id": "ckvdG40ysz5W",
        "colab_type": "code",
        "outputId": "4e034d03-dfab-4503-e047-4caafd5aad1b",
        "colab": {
          "base_uri": "https://localhost:8080/",
          "height": 919
        }
      },
      "source": [
        "am = Sequential()\n",
        "am.add(Dense(32,activation='relu'))\n",
        "\n",
        "am.add(Dense(6,activation='softmax'))\n",
        "am.compile('adam','categorical_crossentropy',metrics=['accuracy'])\n",
        "\n",
        "es = EarlyStopping(monitor='val_acc',mode='max' ,patience=5, min_delta=0.0001,verbose=1)\n",
        "reduce_lr = ReduceLROnPlateau(monitor='val_acc', factor=0.2,patience=2,min_lr=0.00001)\n",
        "am.fit(Dtrain,Y_train,128,epochs=100,validation_split=0.1,callbacks=[es,reduce_lr])\n",
        "print(am.summary())"
      ],
      "execution_count": 86,
      "outputs": [
        {
          "output_type": "stream",
          "text": [
            "Train on 5735 samples, validate on 638 samples\n",
            "Epoch 1/100\n",
            "5735/5735 [==============================] - 1s 135us/step - loss: 1.1953 - acc: 0.2581 - val_loss: 1.3038 - val_acc: 0.2524\n",
            "Epoch 2/100\n",
            "5735/5735 [==============================] - 0s 35us/step - loss: 1.1108 - acc: 0.3027 - val_loss: 1.2173 - val_acc: 0.2602\n",
            "Epoch 3/100\n",
            "5735/5735 [==============================] - 0s 36us/step - loss: 1.0414 - acc: 0.3376 - val_loss: 1.1575 - val_acc: 0.2806\n",
            "Epoch 4/100\n",
            "5735/5735 [==============================] - 0s 34us/step - loss: 0.9791 - acc: 0.3555 - val_loss: 1.0933 - val_acc: 0.2978\n",
            "Epoch 5/100\n",
            "5735/5735 [==============================] - 0s 37us/step - loss: 0.9275 - acc: 0.3718 - val_loss: 1.0474 - val_acc: 0.3072\n",
            "Epoch 6/100\n",
            "5735/5735 [==============================] - 0s 36us/step - loss: 0.8867 - acc: 0.3817 - val_loss: 0.9956 - val_acc: 0.3260\n",
            "Epoch 7/100\n",
            "5735/5735 [==============================] - 0s 35us/step - loss: 0.8553 - acc: 0.3855 - val_loss: 0.9714 - val_acc: 0.3480\n",
            "Epoch 8/100\n",
            "5735/5735 [==============================] - 0s 37us/step - loss: 0.8297 - acc: 0.3958 - val_loss: 0.9448 - val_acc: 0.3542\n",
            "Epoch 9/100\n",
            "5735/5735 [==============================] - 0s 36us/step - loss: 0.8101 - acc: 0.3979 - val_loss: 0.9195 - val_acc: 0.3683\n",
            "Epoch 10/100\n",
            "5735/5735 [==============================] - 0s 37us/step - loss: 0.7948 - acc: 0.4073 - val_loss: 0.9034 - val_acc: 0.3699\n",
            "Epoch 11/100\n",
            "5735/5735 [==============================] - 0s 36us/step - loss: 0.7823 - acc: 0.4157 - val_loss: 0.8940 - val_acc: 0.3683\n",
            "Epoch 12/100\n",
            "5735/5735 [==============================] - 0s 34us/step - loss: 0.7705 - acc: 0.4178 - val_loss: 0.8865 - val_acc: 0.3824\n",
            "Epoch 13/100\n",
            "5735/5735 [==============================] - 0s 36us/step - loss: 0.7616 - acc: 0.4310 - val_loss: 0.8810 - val_acc: 0.3683\n",
            "Epoch 14/100\n",
            "5735/5735 [==============================] - 0s 38us/step - loss: 0.7530 - acc: 0.4352 - val_loss: 0.8761 - val_acc: 0.4122\n",
            "Epoch 15/100\n",
            "5735/5735 [==============================] - 0s 36us/step - loss: 0.7464 - acc: 0.4394 - val_loss: 0.8636 - val_acc: 0.4028\n",
            "Epoch 16/100\n",
            "5735/5735 [==============================] - 0s 41us/step - loss: 0.7392 - acc: 0.4525 - val_loss: 0.8607 - val_acc: 0.4044\n",
            "Epoch 17/100\n",
            "5735/5735 [==============================] - 0s 36us/step - loss: 0.7347 - acc: 0.4473 - val_loss: 0.8568 - val_acc: 0.4091\n",
            "Epoch 18/100\n",
            "5735/5735 [==============================] - 0s 36us/step - loss: 0.7329 - acc: 0.4495 - val_loss: 0.8551 - val_acc: 0.4091\n",
            "Epoch 19/100\n",
            "5735/5735 [==============================] - 0s 35us/step - loss: 0.7319 - acc: 0.4495 - val_loss: 0.8543 - val_acc: 0.4091\n",
            "Epoch 00019: early stopping\n",
            "_________________________________________________________________\n",
            "Layer (type)                 Output Shape              Param #   \n",
            "=================================================================\n",
            "dense_30 (Dense)             (None, 32)                416       \n",
            "_________________________________________________________________\n",
            "dense_31 (Dense)             (None, 6)                 198       \n",
            "=================================================================\n",
            "Total params: 614\n",
            "Trainable params: 614\n",
            "Non-trainable params: 0\n",
            "_________________________________________________________________\n",
            "None\n"
          ],
          "name": "stdout"
        }
      ]
    },
    {
      "cell_type": "code",
      "metadata": {
        "id": "BqGtNBVYtYZM",
        "colab_type": "code",
        "colab": {
          "base_uri": "https://localhost:8080/",
          "height": 52
        },
        "outputId": "4665cb32-e220-447b-99d6-70983f463cc1"
      },
      "source": [
        "print(am.evaluate(Dtest,Y_test))"
      ],
      "execution_count": 87,
      "outputs": [
        {
          "output_type": "stream",
          "text": [
            "1807/1807 [==============================] - 0s 65us/step\n",
            "[1.1995984503229349, 0.32263420035678114]\n"
          ],
          "name": "stdout"
        }
      ]
    },
    {
      "cell_type": "code",
      "metadata": {
        "id": "9QGiWc-u_i6F",
        "colab_type": "code",
        "colab": {
          "base_uri": "https://localhost:8080/",
          "height": 710
        },
        "outputId": "0c808fb0-f7d3-4ddd-d1a3-6abffeead58a"
      },
      "source": [
        "print(\"###############################################################\")\n",
        "y_pred = np.argmax(am.predict(Dtest),axis=1)\n",
        "y_true = np.argmax(Y_test,axis=1)\n",
        "cm = confusion_matrix(y_true,y_pred)\n",
        "np.save(\"cm_video.npy\",cm)\n",
        "df = pd.DataFrame(cm)\n",
        "plt.figure(figsize = (10,7),)\n",
        "print(\"UNIMODAL VISUAL RESULTS\")\n",
        "print(classification_report(y_true,y_pred,target_names=target_names))\n",
        "sn.heatmap(cm, annot=True,xticklabels=True,yticklabels=True)"
      ],
      "execution_count": 88,
      "outputs": [
        {
          "output_type": "stream",
          "text": [
            "###############################################################\n",
            "UNIMODAL VISUAL RESULTS\n",
            "              precision    recall  f1-score   support\n",
            "\n",
            "       Anger       0.62      0.12      0.20       677\n",
            "     Excited       0.26      0.64      0.37       141\n",
            "         Sad       0.44      0.38      0.41       193\n",
            "  Frustrated       0.25      0.62      0.35       278\n",
            "       Happy       0.08      0.02      0.03       135\n",
            "     Neutral       0.38      0.43      0.40       383\n",
            "\n",
            "    accuracy                           0.32      1807\n",
            "   macro avg       0.34      0.37      0.29      1807\n",
            "weighted avg       0.43      0.32      0.29      1807\n",
            "\n"
          ],
          "name": "stdout"
        },
        {
          "output_type": "execute_result",
          "data": {
            "text/plain": [
              "<matplotlib.axes._subplots.AxesSubplot at 0x7f4cefc38f98>"
            ]
          },
          "metadata": {
            "tags": []
          },
          "execution_count": 88
        },
        {
          "output_type": "display_data",
          "data": {
            "image/png": "[encoded data removed]",
            "text/plain": [
              "<Figure size 720x504 with 2 Axes>"
            ]
          },
          "metadata": {
            "tags": []
          }
        }
      ]
    },
    {
      "cell_type": "code",
      "metadata": {
        "id": "Vd9u-M0dBAOr",
        "colab_type": "code",
        "colab": {}
      },
      "source": [
        ""
      ],
      "execution_count": 0,
      "outputs": []
    }
  ]
}
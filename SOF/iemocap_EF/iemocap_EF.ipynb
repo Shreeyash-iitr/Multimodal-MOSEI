{
  "nbformat": 4,
  "nbformat_minor": 0,
  "metadata": {
    "colab": {
      "name": "iemocap_EF.ipynb",
      "version": "0.3.2",
      "provenance": []
    },
    "kernelspec": {
      "name": "python3",
      "display_name": "Python 3"
    },
    "accelerator": "GPU"
  },
  "cells": [
    {
      "cell_type": "code",
      "metadata": {
        "id": "PtnBFIpsEdgv",
        "colab_type": "code",
        "colab": {}
      },
      "source": [
        "!wget \"http://immortal.multicomp.cs.cmu.edu/raw_datasets/old_processed_data/iemocap/data.zip\""
      ],
      "execution_count": 0,
      "outputs": []
    },
    {
      "cell_type": "code",
      "metadata": {
        "id": "41BrB4MhF67s",
        "colab_type": "code",
        "colab": {
          "base_uri": "https://localhost:8080/",
          "height": 121
        },
        "outputId": "657bd7ca-83c9-4159-fea2-7966d513db94"
      },
      "source": [
        "!git clone \"https://github.com/convman/Multimodal.git\""
      ],
      "execution_count": 8,
      "outputs": [
        {
          "output_type": "stream",
          "text": [
            "Cloning into 'Multimodal'...\n",
            "remote: Enumerating objects: 350, done.\u001b[K\n",
            "remote: Total 350 (delta 0), reused 0 (delta 0), pack-reused 350\u001b[K\n",
            "Receiving objects: 100% (350/350), 892.26 MiB | 41.29 MiB/s, done.\n",
            "Resolving deltas: 100% (108/108), done.\n",
            "Checking out files: 100% (148/148), done.\n"
          ],
          "name": "stdout"
        }
      ]
    },
    {
      "cell_type": "code",
      "metadata": {
        "id": "ufcKGk2EErU9",
        "colab_type": "code",
        "colab": {}
      },
      "source": [
        "!unzip -P \"hello_iemocap_2008\" data.zip"
      ],
      "execution_count": 0,
      "outputs": []
    },
    {
      "cell_type": "code",
      "metadata": {
        "id": "lU24JucBE4GY",
        "colab_type": "code",
        "colab": {
          "base_uri": "https://localhost:8080/",
          "height": 87
        },
        "outputId": "734abcc9-6030-460d-d4b6-cdecce32edc4"
      },
      "source": [
        "import pickle\n",
        "\n",
        "Train_video = pickle.load(open(\"data/facet_train.p\",'rb'),encoding='latin1')\n",
        "Test_video = pickle.load(open(\"data/facet_test.p\",'rb'),encoding='latin1')\n",
        "Valid_video = pickle.load(open(\"data/facet_valid.p\",'rb'),encoding='latin1')\n",
        "\n",
        "Train_text = pickle.load(open(\"data/text_train.p\",'rb'),encoding='latin1')\n",
        "Test_text = pickle.load(open(\"data/text_test.p\",'rb'),encoding='latin1')\n",
        "Valid_text = pickle.load(open(\"data/text_valid.p\",'rb'),encoding='latin1')\n",
        "\n",
        "Train_audio = pickle.load(open(\"data/covarep_train.p\",'rb'),encoding='latin1')\n",
        "Test_audio = pickle.load(open(\"data/covarep_test.p\",'rb'),encoding='latin1')\n",
        "Valid_audio = pickle.load(open(\"data/covarep_valid.p\",'rb'),encoding='latin1')\n",
        "\n",
        "Y_train =  pickle.load(open(\"data/y_train.p\",'rb'),encoding='latin1')\n",
        "Y_test =  pickle.load(open(\"data/y_test.p\",'rb'),encoding='latin1')\n",
        "Y_valid =  pickle.load(open(\"data/y_valid.p\",'rb'),encoding='latin1')\n",
        "\n",
        "Y_train = Y_train[:,1:-1]  # selecting only emotion label and ignoring others and unknown\n",
        "Y_test = Y_test[:,1:-1]    # regarding 11 features:\n",
        "Y_valid = Y_valid[:,1:-1]  # Other Anger Excited Fear Sad Surprised Frustrated Happy Neutral Disgust (unknown)\n",
        "\n",
        "print(Train_video.shape,Test_video.shape,Valid_video.shape)\n",
        "print(Train_text.shape,Test_text.shape,Valid_text.shape)\n",
        "print(Train_audio.shape,Test_audio.shape,Valid_audio.shape)\n",
        "\n",
        "\n",
        "\n",
        "Y_train = Y_train[:,[0,1,3,5,6,7]]\n",
        "Y_test = Y_test[:,[0,1,3,5,6,7]]\n",
        "Y_valid = Y_valid[:,[0,1,3,5,6,7]]\n",
        "target_names = ['Anger','Excited','Sad','Frustrated','Happy','Neutral']\n",
        "map = {0:\"Anger\",1:\"Excited\",2:\"Fear\",3:\"Sad\",4:\"Surprised\",5:\"Frustrated\",6:\"Happy\",7:\"Neutral\",8:\"Disgust\"}\n",
        "print(Y_train.shape,Y_test.shape,Y_valid.shape)"
      ],
      "execution_count": 5,
      "outputs": [
        {
          "output_type": "stream",
          "text": [
            "(6373, 21, 35) (1807, 21, 35) (1775, 21, 35)\n",
            "(6373, 21, 300) (1807, 21, 300) (1775, 21, 300)\n",
            "(6373, 21, 74) (1807, 21, 74) (1775, 21, 74)\n",
            "(6373, 6) (1807, 6) (1775, 6)\n"
          ],
          "name": "stdout"
        }
      ]
    },
    {
      "cell_type": "code",
      "metadata": {
        "id": "okLWT9o1FHLE",
        "colab_type": "code",
        "colab": {}
      },
      "source": [
        "import pandas as pd\n",
        "import numpy as np\n",
        "import h5py\n",
        "from keras.models import load_model\n",
        "import numpy as np\n",
        "import matplotlib.pyplot as plt\n",
        "import seaborn as sn\n",
        "import pandas as pd\n",
        "from sklearn.model_selection import train_test_split\n",
        "from sklearn.metrics import confusion_matrix, f1_score, classification_report\n",
        "from sklearn.utils.multiclass import unique_labels\n",
        "import keras\n",
        "import tensorflow as tf\n",
        "from time import time\n",
        "import scipy\n",
        "from scipy.io import savemat\n",
        "from keras import layers\n",
        "from google.colab import files\t\n",
        "from keras.models import load_model\n",
        "from keras.models import Model,Sequential,Model\n",
        "from keras.layers import *\n",
        "from keras.callbacks import TensorBoard\n",
        "from keras import callbacks\n",
        "from keras.callbacks import *\n",
        "%matplotlib inline"
      ],
      "execution_count": 0,
      "outputs": []
    },
    {
      "cell_type": "code",
      "metadata": {
        "id": "bKaGudesFcvv",
        "colab_type": "code",
        "colab": {
          "base_uri": "https://localhost:8080/",
          "height": 69
        },
        "outputId": "e4c15766-19b4-4dfb-fd82-8fe521de2a5f"
      },
      "source": [
        "Train_concat = np.concatenate((Train_audio,Train_text,Train_video),axis=-1)\n",
        "Test_concat = np.concatenate((Test_audio,Test_text,Test_video),axis=-1)\n",
        "Valid_concat = np.concatenate((Valid_audio,Valid_text,Valid_video),axis=-1)\n",
        "\n",
        "print(Train_concat.shape)\n",
        "print(Test_concat.shape)\n",
        "print(Valid_concat.shape)"
      ],
      "execution_count": 7,
      "outputs": [
        {
          "output_type": "stream",
          "text": [
            "(6373, 21, 409)\n",
            "(1807, 21, 409)\n",
            "(1775, 21, 409)\n"
          ],
          "name": "stdout"
        }
      ]
    },
    {
      "cell_type": "code",
      "metadata": {
        "id": "sttAfaHhFgjG",
        "colab_type": "code",
        "colab": {}
      },
      "source": [
        "model = load_model(\"Multimodal/iemocap sdk/multimodal/v1 - early fusion/weights/early_fusion.h5\")"
      ],
      "execution_count": 0,
      "outputs": []
    },
    {
      "cell_type": "code",
      "metadata": {
        "id": "6Mm_XTeEGEzT",
        "colab_type": "code",
        "colab": {
          "base_uri": "https://localhost:8080/",
          "height": 347
        },
        "outputId": "f4d19d3c-8b94-41ee-a675-ecc67b8d8d43"
      },
      "source": [
        "m = Sequential()\n",
        "for layer in model.layers[:-1]:\n",
        "    layer.trainable = False\n",
        "    m.add(layer)\n",
        "    \n",
        "m.summary()"
      ],
      "execution_count": 10,
      "outputs": [
        {
          "output_type": "stream",
          "text": [
            "_________________________________________________________________\n",
            "Layer (type)                 Output Shape              Param #   \n",
            "=================================================================\n",
            "lstm_117 (LSTM)              (None, 21, 256)           681984    \n",
            "_________________________________________________________________\n",
            "lstm_118 (LSTM)              (None, 21, 128)           197120    \n",
            "_________________________________________________________________\n",
            "lstm_119 (LSTM)              (None, 64)                49408     \n",
            "_________________________________________________________________\n",
            "dense_112 (Dense)            (None, 64)                4160      \n",
            "_________________________________________________________________\n",
            "dropout_9 (Dropout)          (None, 64)                0         \n",
            "_________________________________________________________________\n",
            "dense_113 (Dense)            (None, 64)                4160      \n",
            "=================================================================\n",
            "Total params: 936,832\n",
            "Trainable params: 0\n",
            "Non-trainable params: 936,832\n",
            "_________________________________________________________________\n"
          ],
          "name": "stdout"
        }
      ]
    },
    {
      "cell_type": "code",
      "metadata": {
        "id": "Rwu8P2RRGq_Q",
        "colab_type": "code",
        "colab": {}
      },
      "source": [
        "Dtrain = m.predict(Train_concat)\n",
        "Dtest = m.predict(Test_concat)"
      ],
      "execution_count": 0,
      "outputs": []
    },
    {
      "cell_type": "code",
      "metadata": {
        "id": "5fHlKvM1G5-4",
        "colab_type": "code",
        "colab": {
          "base_uri": "https://localhost:8080/",
          "height": 35
        },
        "outputId": "f20a1d9d-dcc2-49d4-efef-265cfbb54e84"
      },
      "source": [
        "print(Dtrain.shape,Dtest.shape)"
      ],
      "execution_count": 17,
      "outputs": [
        {
          "output_type": "stream",
          "text": [
            "(6373, 64) (1807, 64)\n"
          ],
          "name": "stdout"
        }
      ]
    },
    {
      "cell_type": "code",
      "metadata": {
        "id": "Phph8-AEH9-c",
        "colab_type": "code",
        "colab": {}
      },
      "source": [
        "savemat(\"Dtrain.mat\",{'val':Dtrain})\n",
        "savemat(\"Dtest.mat\",{'val':Dtest})"
      ],
      "execution_count": 0,
      "outputs": []
    },
    {
      "cell_type": "code",
      "metadata": {
        "id": "BFQ3z-k7Lhqa",
        "colab_type": "code",
        "colab": {}
      },
      "source": [
        "files.download(\"Dtrain.mat\")\n",
        "files.download(\"Dtest.mat\")"
      ],
      "execution_count": 0,
      "outputs": []
    },
    {
      "cell_type": "code",
      "metadata": {
        "id": "ExHB-Os4LnEa",
        "colab_type": "code",
        "colab": {}
      },
      "source": [
        ""
      ],
      "execution_count": 0,
      "outputs": []
    }
  ]
}
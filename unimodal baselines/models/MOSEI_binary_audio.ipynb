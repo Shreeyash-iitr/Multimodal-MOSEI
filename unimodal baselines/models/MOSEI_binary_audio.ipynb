{
  "nbformat": 4,
  "nbformat_minor": 0,
  "metadata": {
    "colab": {
      "name": "MOSEI_binary_audio.ipynb",
      "version": "0.3.2",
      "provenance": [],
      "collapsed_sections": []
    },
    "kernelspec": {
      "name": "python3",
      "display_name": "Python 3"
    },
    "accelerator": "GPU"
  },
  "cells": [
    {
      "cell_type": "code",
      "metadata": {
        "id": "O8zthcqHDtxq",
        "colab_type": "code",
        "colab": {
          "base_uri": "https://localhost:8080/",
          "height": 121
        },
        "outputId": "ce119969-71e4-4157-b20b-efafcbeed7a9"
      },
      "source": [
        "!git clone \"https://github.com/convman/Multimodal-MOSEI\""
      ],
      "execution_count": 1,
      "outputs": [
        {
          "output_type": "stream",
          "text": [
            "Cloning into 'Multimodal-MOSEI'...\n",
            "remote: Enumerating objects: 33, done.\u001b[K\n",
            "remote: Counting objects: 100% (33/33), done.\u001b[K\n",
            "remote: Compressing objects: 100% (30/30), done.\u001b[K\n",
            "remote: Total 33 (delta 14), reused 0 (delta 0), pack-reused 0\u001b[K\n",
            "Unpacking objects: 100% (33/33), done.\n"
          ],
          "name": "stdout"
        }
      ]
    },
    {
      "cell_type": "code",
      "metadata": {
        "id": "e2aWnTqgD5Lt",
        "colab_type": "code",
        "colab": {
          "base_uri": "https://localhost:8080/",
          "height": 35
        },
        "outputId": "2d76028b-8bc8-49fd-8c0c-24978fb3a13b"
      },
      "source": [
        "cd Multimodal-MOSEI/data/"
      ],
      "execution_count": 2,
      "outputs": [
        {
          "output_type": "stream",
          "text": [
            "/content/Multimodal-MOSEI/data\n"
          ],
          "name": "stdout"
        }
      ]
    },
    {
      "cell_type": "code",
      "metadata": {
        "id": "D0qGUbIaD7KB",
        "colab_type": "code",
        "colab": {
          "base_uri": "https://localhost:8080/",
          "height": 52
        },
        "outputId": "06790c54-363d-4406-ed29-c782cd5f2b58"
      },
      "source": [
        "cd Multimodal-MOSEI/data/"
      ],
      "execution_count": 3,
      "outputs": [
        {
          "output_type": "stream",
          "text": [
            "[Errno 2] No such file or directory: 'Multimodal-MOSEI/data/'\n",
            "/content/Multimodal-MOSEI/data\n"
          ],
          "name": "stdout"
        }
      ]
    },
    {
      "cell_type": "code",
      "metadata": {
        "id": "Y8eDIFjqD8_t",
        "colab_type": "code",
        "colab": {
          "base_uri": "https://localhost:8080/",
          "height": 6711
        },
        "outputId": "cfcf92cd-7e64-439b-da65-15175bff041b"
      },
      "source": [
        "!chmod +x mosei.sh\n",
        "!./mosei.sh"
      ],
      "execution_count": 4,
      "outputs": [
        {
          "output_type": "stream",
          "text": [
            "--2019-06-20 08:45:45--  http://immortal.multicomp.cs.cmu.edu/raw_datasets/old_processed_data/cmu-mosei/data/audio_test.h5\n",
            "Resolving immortal.multicomp.cs.cmu.edu (immortal.multicomp.cs.cmu.edu)... 128.2.211.216\n",
            "Connecting to immortal.multicomp.cs.cmu.edu (immortal.multicomp.cs.cmu.edu)|128.2.211.216|:80... connected.\n",
            "HTTP request sent, awaiting response... 200 OK\n",
            "Length: 57213024 (55M)\n",
            "Saving to: ‘audio_test.h5’\n",
            "\n",
            "audio_test.h5       100%[===================>]  54.56M  4.67MB/s    in 13s     \n",
            "\n",
            "2019-06-20 08:45:58 (4.30 MB/s) - ‘audio_test.h5’ saved [57213024/57213024]\n",
            "\n",
            "--2019-06-20 08:45:58--  http://immortal.multicomp.cs.cmu.edu/raw_datasets/old_processed_data/cmu-mosei/data/audio_train.h5\n",
            "Resolving immortal.multicomp.cs.cmu.edu (immortal.multicomp.cs.cmu.edu)... 128.2.211.216\n",
            "Connecting to immortal.multicomp.cs.cmu.edu (immortal.multicomp.cs.cmu.edu)|128.2.211.216|:80... connected.\n",
            "HTTP request sent, awaiting response... 200 OK\n",
            "Length: 181035744 (173M)\n",
            "Saving to: ‘audio_train.h5’\n",
            "\n",
            "audio_train.h5      100%[===================>] 172.65M  4.82MB/s    in 38s     \n",
            "\n",
            "2019-06-20 08:46:36 (4.58 MB/s) - ‘audio_train.h5’ saved [181035744/181035744]\n",
            "\n",
            "--2019-06-20 08:46:36--  http://immortal.multicomp.cs.cmu.edu/raw_datasets/old_processed_data/cmu-mosei/data/audio_valid.h5\n",
            "Resolving immortal.multicomp.cs.cmu.edu (immortal.multicomp.cs.cmu.edu)... 128.2.211.216\n",
            "Connecting to immortal.multicomp.cs.cmu.edu (immortal.multicomp.cs.cmu.edu)|128.2.211.216|:80... connected.\n",
            "HTTP request sent, awaiting response... 200 OK\n",
            "Length: 27127584 (26M)\n",
            "Saving to: ‘audio_valid.h5’\n",
            "\n",
            "audio_valid.h5      100%[===================>]  25.87M  4.77MB/s    in 6.3s    \n",
            "\n",
            "2019-06-20 08:46:43 (4.08 MB/s) - ‘audio_valid.h5’ saved [27127584/27127584]\n",
            "\n",
            "--2019-06-20 08:46:43--  http://immortal.multicomp.cs.cmu.edu/raw_datasets/old_processed_data/cmu-mosei/data/ey_test.h5\n",
            "Resolving immortal.multicomp.cs.cmu.edu (immortal.multicomp.cs.cmu.edu)... 128.2.211.216\n",
            "Connecting to immortal.multicomp.cs.cmu.edu (immortal.multicomp.cs.cmu.edu)|128.2.211.216|:80... connected.\n",
            "HTTP request sent, awaiting response... 200 OK\n",
            "Length: 234080 (229K)\n",
            "Saving to: ‘ey_test.h5’\n",
            "\n",
            "ey_test.h5          100%[===================>] 228.59K   294KB/s    in 0.8s    \n",
            "\n",
            "2019-06-20 08:46:44 (294 KB/s) - ‘ey_test.h5’ saved [234080/234080]\n",
            "\n",
            "--2019-06-20 08:46:44--  http://immortal.multicomp.cs.cmu.edu/raw_datasets/old_processed_data/cmu-mosei/data/ey_train.h5\n",
            "Resolving immortal.multicomp.cs.cmu.edu (immortal.multicomp.cs.cmu.edu)... 128.2.211.216\n",
            "Connecting to immortal.multicomp.cs.cmu.edu (immortal.multicomp.cs.cmu.edu)|128.2.211.216|:80... connected.\n",
            "HTTP request sent, awaiting response... 200 OK\n",
            "Length: 736064 (719K)\n",
            "Saving to: ‘ey_train.h5’\n",
            "\n",
            "ey_train.h5         100%[===================>] 718.81K   737KB/s    in 1.0s    \n",
            "\n",
            "2019-06-20 08:46:45 (737 KB/s) - ‘ey_train.h5’ saved [736064/736064]\n",
            "\n",
            "--2019-06-20 08:46:45--  http://immortal.multicomp.cs.cmu.edu/raw_datasets/old_processed_data/cmu-mosei/data/ey_valid.h5\n",
            "Resolving immortal.multicomp.cs.cmu.edu (immortal.multicomp.cs.cmu.edu)... 128.2.211.216\n",
            "Connecting to immortal.multicomp.cs.cmu.edu (immortal.multicomp.cs.cmu.edu)|128.2.211.216|:80... connected.\n",
            "HTTP request sent, awaiting response... 200 OK\n",
            "Length: 112112 (109K)\n",
            "Saving to: ‘ey_valid.h5’\n",
            "\n",
            "ey_valid.h5         100%[===================>] 109.48K   190KB/s    in 0.6s    \n",
            "\n",
            "2019-06-20 08:46:46 (190 KB/s) - ‘ey_valid.h5’ saved [112112/112112]\n",
            "\n",
            "--2019-06-20 08:46:46--  http://immortal.multicomp.cs.cmu.edu/raw_datasets/old_processed_data/cmu-mosei/data/text_test_emb.h5\n",
            "Resolving immortal.multicomp.cs.cmu.edu (immortal.multicomp.cs.cmu.edu)... 128.2.211.216\n",
            "Connecting to immortal.multicomp.cs.cmu.edu (immortal.multicomp.cs.cmu.edu)|128.2.211.216|:80... connected.\n",
            "HTTP request sent, awaiting response... 200 OK\n",
            "Length: 231938144 (221M)\n",
            "Saving to: ‘text_test_emb.h5’\n",
            "\n",
            "text_test_emb.h5    100%[===================>] 221.19M  4.87MB/s    in 47s     \n",
            "\n",
            "2019-06-20 08:47:34 (4.67 MB/s) - ‘text_test_emb.h5’ saved [231938144/231938144]\n",
            "\n",
            "--2019-06-20 08:47:34--  http://immortal.multicomp.cs.cmu.edu/raw_datasets/old_processed_data/cmu-mosei/data/text_train_emb.h5\n",
            "Resolving immortal.multicomp.cs.cmu.edu (immortal.multicomp.cs.cmu.edu)... 128.2.211.216\n",
            "Connecting to immortal.multicomp.cs.cmu.edu (immortal.multicomp.cs.cmu.edu)|128.2.211.216|:80... connected.\n",
            "HTTP request sent, awaiting response... 200 OK\n",
            "Length: 733922144 (700M)\n",
            "Saving to: ‘text_train_emb.h5’\n",
            "\n",
            "text_train_emb.h5   100%[===================>] 699.92M  4.86MB/s    in 2m 29s  \n",
            "\n",
            "2019-06-20 08:50:03 (4.71 MB/s) - ‘text_train_emb.h5’ saved [733922144/733922144]\n",
            "\n",
            "--2019-06-20 08:50:03--  http://immortal.multicomp.cs.cmu.edu/raw_datasets/old_processed_data/cmu-mosei/data/text_valid_emb.h5\n",
            "Resolving immortal.multicomp.cs.cmu.edu (immortal.multicomp.cs.cmu.edu)... 128.2.211.216\n",
            "Connecting to immortal.multicomp.cs.cmu.edu (immortal.multicomp.cs.cmu.edu)|128.2.211.216|:80... connected.\n",
            "HTTP request sent, awaiting response... 200 OK\n",
            "Length: 109970144 (105M)\n",
            "Saving to: ‘text_valid_emb.h5’\n",
            "\n",
            "text_valid_emb.h5   100%[===================>] 104.88M  4.91MB/s    in 23s     \n",
            "\n",
            "2019-06-20 08:50:26 (4.59 MB/s) - ‘text_valid_emb.h5’ saved [109970144/109970144]\n",
            "\n",
            "--2019-06-20 08:50:26--  http://immortal.multicomp.cs.cmu.edu/raw_datasets/old_processed_data/cmu-mosei/data/video_test.h5\n",
            "Resolving immortal.multicomp.cs.cmu.edu (immortal.multicomp.cs.cmu.edu)... 128.2.211.216\n",
            "Connecting to immortal.multicomp.cs.cmu.edu (immortal.multicomp.cs.cmu.edu)|128.2.211.216|:80... connected.\n",
            "HTTP request sent, awaiting response... 200 OK\n",
            "Length: 27061344 (26M)\n",
            "Saving to: ‘video_test.h5’\n",
            "\n",
            "video_test.h5       100%[===================>]  25.81M  4.82MB/s    in 6.4s    \n",
            "\n",
            "2019-06-20 08:50:33 (4.06 MB/s) - ‘video_test.h5’ saved [27061344/27061344]\n",
            "\n",
            "--2019-06-20 08:50:33--  http://immortal.multicomp.cs.cmu.edu/raw_datasets/old_processed_data/cmu-mosei/data/video_train.h5\n",
            "Resolving immortal.multicomp.cs.cmu.edu (immortal.multicomp.cs.cmu.edu)... 128.2.211.216\n",
            "Connecting to immortal.multicomp.cs.cmu.edu (immortal.multicomp.cs.cmu.edu)|128.2.211.216|:80... connected.\n",
            "HTTP request sent, awaiting response... 200 OK\n",
            "Length: 85626144 (82M)\n",
            "Saving to: ‘video_train.h5’\n",
            "\n",
            "video_train.h5      100%[===================>]  81.66M  4.80MB/s    in 18s     \n",
            "\n",
            "2019-06-20 08:50:52 (4.52 MB/s) - ‘video_train.h5’ saved [85626144/85626144]\n",
            "\n",
            "--2019-06-20 08:50:52--  http://immortal.multicomp.cs.cmu.edu/raw_datasets/old_processed_data/cmu-mosei/data/video_valid.h5\n",
            "Resolving immortal.multicomp.cs.cmu.edu (immortal.multicomp.cs.cmu.edu)... 128.2.211.216\n",
            "Connecting to immortal.multicomp.cs.cmu.edu (immortal.multicomp.cs.cmu.edu)|128.2.211.216|:80... connected.\n",
            "HTTP request sent, awaiting response... 200 OK\n",
            "Length: 12831744 (12M)\n",
            "Saving to: ‘video_valid.h5’\n",
            "\n",
            "video_valid.h5      100%[===================>]  12.24M  3.52MB/s    in 3.5s    \n",
            "\n",
            "2019-06-20 08:50:55 (3.52 MB/s) - ‘video_valid.h5’ saved [12831744/12831744]\n",
            "\n",
            "--2019-06-20 08:50:55--  http://immortal.multicomp.cs.cmu.edu/raw_datasets/old_processed_data/cmu-mosei/data/y_test.h5\n",
            "Resolving immortal.multicomp.cs.cmu.edu (immortal.multicomp.cs.cmu.edu)... 128.2.211.216\n",
            "Connecting to immortal.multicomp.cs.cmu.edu (immortal.multicomp.cs.cmu.edu)|128.2.211.216|:80... connected.\n",
            "HTTP request sent, awaiting response... 200 OK\n",
            "Length: 40800 (40K)\n",
            "Saving to: ‘y_test.h5’\n",
            "\n",
            "y_test.h5           100%[===================>]  39.84K   201KB/s    in 0.2s    \n",
            "\n",
            "2019-06-20 08:50:56 (201 KB/s) - ‘y_test.h5’ saved [40800/40800]\n",
            "\n",
            "--2019-06-20 08:50:56--  http://immortal.multicomp.cs.cmu.edu/raw_datasets/old_processed_data/cmu-mosei/data/y_train.h5\n",
            "Resolving immortal.multicomp.cs.cmu.edu (immortal.multicomp.cs.cmu.edu)... 128.2.211.216\n",
            "Connecting to immortal.multicomp.cs.cmu.edu (immortal.multicomp.cs.cmu.edu)|128.2.211.216|:80... connected.\n",
            "HTTP request sent, awaiting response... 200 OK\n",
            "Length: 124464 (122K)\n",
            "Saving to: ‘y_train.h5’\n",
            "\n",
            "y_train.h5          100%[===================>] 121.55K   212KB/s    in 0.6s    \n",
            "\n",
            "2019-06-20 08:50:57 (212 KB/s) - ‘y_train.h5’ saved [124464/124464]\n",
            "\n",
            "--2019-06-20 08:50:57--  http://immortal.multicomp.cs.cmu.edu/raw_datasets/old_processed_data/cmu-mosei/data/y_valid.h5\n",
            "Resolving immortal.multicomp.cs.cmu.edu (immortal.multicomp.cs.cmu.edu)... 128.2.211.216\n",
            "Connecting to immortal.multicomp.cs.cmu.edu (immortal.multicomp.cs.cmu.edu)|128.2.211.216|:80... connected.\n",
            "HTTP request sent, awaiting response... 200 OK\n",
            "Length: 20472 (20K)\n",
            "Saving to: ‘y_valid.h5’\n",
            "\n",
            "y_valid.h5          100%[===================>]  19.99K   104KB/s    in 0.2s    \n",
            "\n",
            "2019-06-20 08:50:58 (104 KB/s) - ‘y_valid.h5’ saved [20472/20472]\n",
            "\n",
            "--2019-06-20 08:50:58--  http://immortal.multicomp.cs.cmu.edu/raw_datasets/old_processed_data/cmu-mosei/labels/mosi2uni_Test.csv\n",
            "Resolving immortal.multicomp.cs.cmu.edu (immortal.multicomp.cs.cmu.edu)... 128.2.211.216\n",
            "Connecting to immortal.multicomp.cs.cmu.edu (immortal.multicomp.cs.cmu.edu)|128.2.211.216|:80... connected.\n",
            "HTTP request sent, awaiting response... 200 OK\n",
            "Length: 309695106 (295M) [text/csv]\n",
            "Saving to: ‘mosi2uni_Test.csv’\n",
            "\n",
            "mosi2uni_Test.csv   100%[===================>] 295.35M  4.81MB/s    in 64s     \n",
            "\n",
            "2019-06-20 08:52:02 (4.62 MB/s) - ‘mosi2uni_Test.csv’ saved [309695106/309695106]\n",
            "\n",
            "--2019-06-20 08:52:02--  http://immortal.multicomp.cs.cmu.edu/raw_datasets/old_processed_data/cmu-mosei/labels/mosi2uni_Test_labels_2class.csv\n",
            "Resolving immortal.multicomp.cs.cmu.edu (immortal.multicomp.cs.cmu.edu)... 128.2.211.216\n",
            "Connecting to immortal.multicomp.cs.cmu.edu (immortal.multicomp.cs.cmu.edu)|128.2.211.216|:80... connected.\n",
            "HTTP request sent, awaiting response... 200 OK\n",
            "Length: 9664 (9.4K) [text/csv]\n",
            "Saving to: ‘mosi2uni_Test_labels_2class.csv’\n",
            "\n",
            "mosi2uni_Test_label 100%[===================>]   9.44K  --.-KB/s    in 0s      \n",
            "\n",
            "2019-06-20 08:52:02 (40.9 MB/s) - ‘mosi2uni_Test_labels_2class.csv’ saved [9664/9664]\n",
            "\n",
            "--2019-06-20 08:52:02--  http://immortal.multicomp.cs.cmu.edu/raw_datasets/old_processed_data/cmu-mosei/labels/mosi2uni_Test_labels_5class.csv\n",
            "Resolving immortal.multicomp.cs.cmu.edu (immortal.multicomp.cs.cmu.edu)... 128.2.211.216\n",
            "Connecting to immortal.multicomp.cs.cmu.edu (immortal.multicomp.cs.cmu.edu)|128.2.211.216|:80... connected.\n",
            "HTTP request sent, awaiting response... 200 OK\n",
            "Length: 9664 (9.4K) [text/csv]\n",
            "Saving to: ‘mosi2uni_Test_labels_5class.csv’\n",
            "\n",
            "mosi2uni_Test_label 100%[===================>]   9.44K  --.-KB/s    in 0s      \n",
            "\n",
            "2019-06-20 08:52:03 (120 MB/s) - ‘mosi2uni_Test_labels_5class.csv’ saved [9664/9664]\n",
            "\n",
            "--2019-06-20 08:52:03--  http://immortal.multicomp.cs.cmu.edu/raw_datasets/old_processed_data/cmu-mosei/labels/mosi2uni_Test_labels_7class.csv\n",
            "Resolving immortal.multicomp.cs.cmu.edu (immortal.multicomp.cs.cmu.edu)... 128.2.211.216\n",
            "Connecting to immortal.multicomp.cs.cmu.edu (immortal.multicomp.cs.cmu.edu)|128.2.211.216|:80... connected.\n",
            "HTTP request sent, awaiting response... 200 OK\n",
            "Length: 9664 (9.4K) [text/csv]\n",
            "Saving to: ‘mosi2uni_Test_labels_7class.csv’\n",
            "\n",
            "mosi2uni_Test_label 100%[===================>]   9.44K  --.-KB/s    in 0s      \n",
            "\n",
            "2019-06-20 08:52:03 (54.2 MB/s) - ‘mosi2uni_Test_labels_7class.csv’ saved [9664/9664]\n",
            "\n",
            "--2019-06-20 08:52:03--  http://immortal.multicomp.cs.cmu.edu/raw_datasets/old_processed_data/cmu-mosei/labels/mosi2uni_Test_labels_angry.csv\n",
            "Resolving immortal.multicomp.cs.cmu.edu (immortal.multicomp.cs.cmu.edu)... 128.2.211.216\n",
            "Connecting to immortal.multicomp.cs.cmu.edu (immortal.multicomp.cs.cmu.edu)|128.2.211.216|:80... connected.\n",
            "HTTP request sent, awaiting response... 200 OK\n",
            "Length: 9664 (9.4K) [text/csv]\n",
            "Saving to: ‘mosi2uni_Test_labels_angry.csv’\n",
            "\n",
            "mosi2uni_Test_label 100%[===================>]   9.44K  --.-KB/s    in 0s      \n",
            "\n",
            "2019-06-20 08:52:04 (112 MB/s) - ‘mosi2uni_Test_labels_angry.csv’ saved [9664/9664]\n",
            "\n",
            "--2019-06-20 08:52:04--  http://immortal.multicomp.cs.cmu.edu/raw_datasets/old_processed_data/cmu-mosei/labels/mosi2uni_Test_labels_disgust.csv\n",
            "Resolving immortal.multicomp.cs.cmu.edu (immortal.multicomp.cs.cmu.edu)... 128.2.211.216\n",
            "Connecting to immortal.multicomp.cs.cmu.edu (immortal.multicomp.cs.cmu.edu)|128.2.211.216|:80... connected.\n",
            "HTTP request sent, awaiting response... 200 OK\n",
            "Length: 9664 (9.4K) [text/csv]\n",
            "Saving to: ‘mosi2uni_Test_labels_disgust.csv’\n",
            "\n",
            "mosi2uni_Test_label 100%[===================>]   9.44K  --.-KB/s    in 0s      \n",
            "\n",
            "2019-06-20 08:52:04 (44.3 MB/s) - ‘mosi2uni_Test_labels_disgust.csv’ saved [9664/9664]\n",
            "\n",
            "--2019-06-20 08:52:04--  http://immortal.multicomp.cs.cmu.edu/raw_datasets/old_processed_data/cmu-mosei/labels/mosi2uni_Test_labels_fear.csv\n",
            "Resolving immortal.multicomp.cs.cmu.edu (immortal.multicomp.cs.cmu.edu)... 128.2.211.216\n",
            "Connecting to immortal.multicomp.cs.cmu.edu (immortal.multicomp.cs.cmu.edu)|128.2.211.216|:80... connected.\n",
            "HTTP request sent, awaiting response... 200 OK\n",
            "Length: 9664 (9.4K) [text/csv]\n",
            "Saving to: ‘mosi2uni_Test_labels_fear.csv’\n",
            "\n",
            "mosi2uni_Test_label 100%[===================>]   9.44K  --.-KB/s    in 0s      \n",
            "\n",
            "2019-06-20 08:52:04 (117 MB/s) - ‘mosi2uni_Test_labels_fear.csv’ saved [9664/9664]\n",
            "\n",
            "--2019-06-20 08:52:04--  http://immortal.multicomp.cs.cmu.edu/raw_datasets/old_processed_data/cmu-mosei/labels/mosi2uni_Test_labels_happy.csv\n",
            "Resolving immortal.multicomp.cs.cmu.edu (immortal.multicomp.cs.cmu.edu)... 128.2.211.216\n",
            "Connecting to immortal.multicomp.cs.cmu.edu (immortal.multicomp.cs.cmu.edu)|128.2.211.216|:80... connected.\n",
            "HTTP request sent, awaiting response... 200 OK\n",
            "Length: 9664 (9.4K) [text/csv]\n",
            "Saving to: ‘mosi2uni_Test_labels_happy.csv’\n",
            "\n",
            "mosi2uni_Test_label 100%[===================>]   9.44K  --.-KB/s    in 0s      \n",
            "\n",
            "2019-06-20 08:52:05 (44.7 MB/s) - ‘mosi2uni_Test_labels_happy.csv’ saved [9664/9664]\n",
            "\n",
            "--2019-06-20 08:52:05--  http://immortal.multicomp.cs.cmu.edu/raw_datasets/old_processed_data/cmu-mosei/labels/mosi2uni_Test_labels_sad.csv\n",
            "Resolving immortal.multicomp.cs.cmu.edu (immortal.multicomp.cs.cmu.edu)... 128.2.211.216\n",
            "Connecting to immortal.multicomp.cs.cmu.edu (immortal.multicomp.cs.cmu.edu)|128.2.211.216|:80... connected.\n",
            "HTTP request sent, awaiting response... 200 OK\n",
            "Length: 9664 (9.4K) [text/csv]\n",
            "Saving to: ‘mosi2uni_Test_labels_sad.csv’\n",
            "\n",
            "mosi2uni_Test_label 100%[===================>]   9.44K  --.-KB/s    in 0s      \n",
            "\n",
            "2019-06-20 08:52:05 (47.3 MB/s) - ‘mosi2uni_Test_labels_sad.csv’ saved [9664/9664]\n",
            "\n",
            "--2019-06-20 08:52:05--  http://immortal.multicomp.cs.cmu.edu/raw_datasets/old_processed_data/cmu-mosei/labels/mosi2uni_Test_labels_surprise.csv\n",
            "Resolving immortal.multicomp.cs.cmu.edu (immortal.multicomp.cs.cmu.edu)... 128.2.211.216\n",
            "Connecting to immortal.multicomp.cs.cmu.edu (immortal.multicomp.cs.cmu.edu)|128.2.211.216|:80... connected.\n",
            "HTTP request sent, awaiting response... 200 OK\n",
            "Length: 9664 (9.4K) [text/csv]\n",
            "Saving to: ‘mosi2uni_Test_labels_surprise.csv’\n",
            "\n",
            "mosi2uni_Test_label 100%[===================>]   9.44K  --.-KB/s    in 0s      \n",
            "\n",
            "2019-06-20 08:52:06 (42.7 MB/s) - ‘mosi2uni_Test_labels_surprise.csv’ saved [9664/9664]\n",
            "\n",
            "--2019-06-20 08:52:06--  http://immortal.multicomp.cs.cmu.edu/raw_datasets/old_processed_data/cmu-mosei/labels/mosi2uni_Train.csv\n",
            "Resolving immortal.multicomp.cs.cmu.edu (immortal.multicomp.cs.cmu.edu)... 128.2.211.216\n",
            "Connecting to immortal.multicomp.cs.cmu.edu (immortal.multicomp.cs.cmu.edu)|128.2.211.216|:80... connected.\n",
            "HTTP request sent, awaiting response... 200 OK\n",
            "Length: 993374219 (947M) [text/csv]\n",
            "Saving to: ‘mosi2uni_Train.csv’\n",
            "\n",
            "mosi2uni_Train.csv  100%[===================>] 947.36M  4.92MB/s    in 3m 20s  \n",
            "\n",
            "2019-06-20 08:55:26 (4.73 MB/s) - ‘mosi2uni_Train.csv’ saved [993374219/993374219]\n",
            "\n",
            "--2019-06-20 08:55:26--  http://immortal.multicomp.cs.cmu.edu/raw_datasets/old_processed_data/cmu-mosei/labels/mosi2uni_Train_labels_2class.csv\n",
            "Resolving immortal.multicomp.cs.cmu.edu (immortal.multicomp.cs.cmu.edu)... 128.2.211.216\n",
            "Connecting to immortal.multicomp.cs.cmu.edu (immortal.multicomp.cs.cmu.edu)|128.2.211.216|:80... connected.\n",
            "HTTP request sent, awaiting response... 200 OK\n",
            "Length: 30580 (30K) [text/csv]\n",
            "Saving to: ‘mosi2uni_Train_labels_2class.csv’\n",
            "\n",
            "mosi2uni_Train_labe 100%[===================>]  29.86K   154KB/s    in 0.2s    \n",
            "\n",
            "2019-06-20 08:55:27 (154 KB/s) - ‘mosi2uni_Train_labels_2class.csv’ saved [30580/30580]\n",
            "\n",
            "--2019-06-20 08:55:27--  http://immortal.multicomp.cs.cmu.edu/raw_datasets/old_processed_data/cmu-mosei/labels/mosi2uni_Train_labels_5class.csv\n",
            "Resolving immortal.multicomp.cs.cmu.edu (immortal.multicomp.cs.cmu.edu)... 128.2.211.216\n",
            "Connecting to immortal.multicomp.cs.cmu.edu (immortal.multicomp.cs.cmu.edu)|128.2.211.216|:80... connected.\n",
            "HTTP request sent, awaiting response... 200 OK\n",
            "Length: 30580 (30K) [text/csv]\n",
            "Saving to: ‘mosi2uni_Train_labels_5class.csv’\n",
            "\n",
            "mosi2uni_Train_labe 100%[===================>]  29.86K   153KB/s    in 0.2s    \n",
            "\n",
            "2019-06-20 08:55:28 (153 KB/s) - ‘mosi2uni_Train_labels_5class.csv’ saved [30580/30580]\n",
            "\n",
            "--2019-06-20 08:55:28--  http://immortal.multicomp.cs.cmu.edu/raw_datasets/old_processed_data/cmu-mosei/labels/mosi2uni_Train_labels_7class.csv\n",
            "Resolving immortal.multicomp.cs.cmu.edu (immortal.multicomp.cs.cmu.edu)... 128.2.211.216\n",
            "Connecting to immortal.multicomp.cs.cmu.edu (immortal.multicomp.cs.cmu.edu)|128.2.211.216|:80... connected.\n",
            "HTTP request sent, awaiting response... 200 OK\n",
            "Length: 30580 (30K) [text/csv]\n",
            "Saving to: ‘mosi2uni_Train_labels_7class.csv’\n",
            "\n",
            "mosi2uni_Train_labe 100%[===================>]  29.86K   156KB/s    in 0.2s    \n",
            "\n",
            "2019-06-20 08:55:28 (156 KB/s) - ‘mosi2uni_Train_labels_7class.csv’ saved [30580/30580]\n",
            "\n",
            "--2019-06-20 08:55:28--  http://immortal.multicomp.cs.cmu.edu/raw_datasets/old_processed_data/cmu-mosei/labels/mosi2uni_Train_labels_angry.csv\n",
            "Resolving immortal.multicomp.cs.cmu.edu (immortal.multicomp.cs.cmu.edu)... 128.2.211.216\n",
            "Connecting to immortal.multicomp.cs.cmu.edu (immortal.multicomp.cs.cmu.edu)|128.2.211.216|:80... connected.\n",
            "HTTP request sent, awaiting response... 200 OK\n",
            "Length: 30580 (30K) [text/csv]\n",
            "Saving to: ‘mosi2uni_Train_labels_angry.csv’\n",
            "\n",
            "mosi2uni_Train_labe 100%[===================>]  29.86K   153KB/s    in 0.2s    \n",
            "\n",
            "2019-06-20 08:55:29 (153 KB/s) - ‘mosi2uni_Train_labels_angry.csv’ saved [30580/30580]\n",
            "\n",
            "--2019-06-20 08:55:29--  http://immortal.multicomp.cs.cmu.edu/raw_datasets/old_processed_data/cmu-mosei/labels/mosi2uni_Train_labels_disgust.csv\n",
            "Resolving immortal.multicomp.cs.cmu.edu (immortal.multicomp.cs.cmu.edu)... 128.2.211.216\n",
            "Connecting to immortal.multicomp.cs.cmu.edu (immortal.multicomp.cs.cmu.edu)|128.2.211.216|:80... connected.\n",
            "HTTP request sent, awaiting response... 200 OK\n",
            "Length: 30580 (30K) [text/csv]\n",
            "Saving to: ‘mosi2uni_Train_labels_disgust.csv’\n",
            "\n",
            "mosi2uni_Train_labe 100%[===================>]  29.86K   153KB/s    in 0.2s    \n",
            "\n",
            "2019-06-20 08:55:29 (153 KB/s) - ‘mosi2uni_Train_labels_disgust.csv’ saved [30580/30580]\n",
            "\n",
            "--2019-06-20 08:55:29--  http://immortal.multicomp.cs.cmu.edu/raw_datasets/old_processed_data/cmu-mosei/labels/mosi2uni_Train_labels_fear.csv\n",
            "Resolving immortal.multicomp.cs.cmu.edu (immortal.multicomp.cs.cmu.edu)... 128.2.211.216\n",
            "Connecting to immortal.multicomp.cs.cmu.edu (immortal.multicomp.cs.cmu.edu)|128.2.211.216|:80... connected.\n",
            "HTTP request sent, awaiting response... 200 OK\n",
            "Length: 30580 (30K) [text/csv]\n",
            "Saving to: ‘mosi2uni_Train_labels_fear.csv’\n",
            "\n",
            "mosi2uni_Train_labe 100%[===================>]  29.86K   153KB/s    in 0.2s    \n",
            "\n",
            "2019-06-20 08:55:30 (153 KB/s) - ‘mosi2uni_Train_labels_fear.csv’ saved [30580/30580]\n",
            "\n",
            "--2019-06-20 08:55:30--  http://immortal.multicomp.cs.cmu.edu/raw_datasets/old_processed_data/cmu-mosei/labels/mosi2uni_Train_labels_happy.csv\n",
            "Resolving immortal.multicomp.cs.cmu.edu (immortal.multicomp.cs.cmu.edu)... 128.2.211.216\n",
            "Connecting to immortal.multicomp.cs.cmu.edu (immortal.multicomp.cs.cmu.edu)|128.2.211.216|:80... connected.\n",
            "HTTP request sent, awaiting response... 200 OK\n",
            "Length: 30580 (30K) [text/csv]\n",
            "Saving to: ‘mosi2uni_Train_labels_happy.csv’\n",
            "\n",
            "mosi2uni_Train_labe 100%[===================>]  29.86K   156KB/s    in 0.2s    \n",
            "\n",
            "2019-06-20 08:55:31 (156 KB/s) - ‘mosi2uni_Train_labels_happy.csv’ saved [30580/30580]\n",
            "\n",
            "--2019-06-20 08:55:31--  http://immortal.multicomp.cs.cmu.edu/raw_datasets/old_processed_data/cmu-mosei/labels/mosi2uni_Train_labels_sad.csv\n",
            "Resolving immortal.multicomp.cs.cmu.edu (immortal.multicomp.cs.cmu.edu)... 128.2.211.216\n",
            "Connecting to immortal.multicomp.cs.cmu.edu (immortal.multicomp.cs.cmu.edu)|128.2.211.216|:80... connected.\n",
            "HTTP request sent, awaiting response... 200 OK\n",
            "Length: 30580 (30K) [text/csv]\n",
            "Saving to: ‘mosi2uni_Train_labels_sad.csv’\n",
            "\n",
            "mosi2uni_Train_labe 100%[===================>]  29.86K   153KB/s    in 0.2s    \n",
            "\n",
            "2019-06-20 08:55:31 (153 KB/s) - ‘mosi2uni_Train_labels_sad.csv’ saved [30580/30580]\n",
            "\n",
            "--2019-06-20 08:55:31--  http://immortal.multicomp.cs.cmu.edu/raw_datasets/old_processed_data/cmu-mosei/labels/mosi2uni_Train_labels_surprise.csv\n",
            "Resolving immortal.multicomp.cs.cmu.edu (immortal.multicomp.cs.cmu.edu)... 128.2.211.216\n",
            "Connecting to immortal.multicomp.cs.cmu.edu (immortal.multicomp.cs.cmu.edu)|128.2.211.216|:80... connected.\n",
            "HTTP request sent, awaiting response... 200 OK\n",
            "Length: 30580 (30K) [text/csv]\n",
            "Saving to: ‘mosi2uni_Train_labels_surprise.csv’\n",
            "\n",
            "mosi2uni_Train_labe 100%[===================>]  29.86K   155KB/s    in 0.2s    \n",
            "\n",
            "2019-06-20 08:55:32 (155 KB/s) - ‘mosi2uni_Train_labels_surprise.csv’ saved [30580/30580]\n",
            "\n"
          ],
          "name": "stdout"
        }
      ]
    },
    {
      "cell_type": "code",
      "metadata": {
        "id": "29jAHn_rD-yn",
        "colab_type": "code",
        "colab": {
          "base_uri": "https://localhost:8080/",
          "height": 35
        },
        "outputId": "6e2f3721-80f9-49f6-af2b-13511a0cc7bd"
      },
      "source": [
        "cd labels"
      ],
      "execution_count": 5,
      "outputs": [
        {
          "output_type": "stream",
          "text": [
            "/content/Multimodal-MOSEI/data/labels\n"
          ],
          "name": "stdout"
        }
      ]
    },
    {
      "cell_type": "code",
      "metadata": {
        "id": "A1fnmbhJEBOB",
        "colab_type": "code",
        "colab": {}
      },
      "source": [
        "import numpy as np\n",
        "import h5py\n",
        "import pandas as pd"
      ],
      "execution_count": 0,
      "outputs": []
    },
    {
      "cell_type": "code",
      "metadata": {
        "id": "_XaQDCsDED6f",
        "colab_type": "code",
        "colab": {}
      },
      "source": [
        "Test_labels_surprise = pd.read_csv(\"mosi2uni_Test_labels_surprise.csv\",header=None)\n",
        "Test_labels_angry = pd.read_csv(\"mosi2uni_Test_labels_angry.csv\",header=None)\n",
        "Test_labels_disgust = pd.read_csv(\"mosi2uni_Test_labels_disgust.csv\",header=None)\n",
        "Test_labels_fear = pd.read_csv(\"mosi2uni_Test_labels_fear.csv\",header=None)\n",
        "Test_labels_happy = pd.read_csv(\"mosi2uni_Test_labels_happy.csv\",header=None)\n",
        "Test_labels_sad = pd.read_csv(\"mosi2uni_Test_labels_sad.csv\",header=None)"
      ],
      "execution_count": 0,
      "outputs": []
    },
    {
      "cell_type": "code",
      "metadata": {
        "id": "xqrYYJVtEGbQ",
        "colab_type": "code",
        "colab": {}
      },
      "source": [
        "Train_labels_surprise = pd.read_csv(\"mosi2uni_Train_labels_surprise.csv\",header=None)\n",
        "Train_labels_angry = pd.read_csv(\"mosi2uni_Train_labels_angry.csv\",header=None)\n",
        "Train_labels_disgust = pd.read_csv(\"mosi2uni_Train_labels_disgust.csv\",header=None)\n",
        "Train_labels_fear = pd.read_csv(\"mosi2uni_Train_labels_fear.csv\",header=None)\n",
        "Train_labels_happy = pd.read_csv(\"mosi2uni_Train_labels_happy.csv\",header=None)\n",
        "Train_labels_sad = pd.read_csv(\"mosi2uni_Train_labels_sad.csv\",header=None)"
      ],
      "execution_count": 0,
      "outputs": []
    },
    {
      "cell_type": "code",
      "metadata": {
        "id": "nZ4z-J_xEI_l",
        "colab_type": "code",
        "colab": {
          "base_uri": "https://localhost:8080/",
          "height": 52
        },
        "outputId": "22314d32-fb5b-4bdb-83c1-608668a4f93c"
      },
      "source": [
        "print(Test_labels_happy.shape)\n",
        "print(Train_labels_happy.shape)"
      ],
      "execution_count": 9,
      "outputs": [
        {
          "output_type": "stream",
          "text": [
            "(4832, 1)\n",
            "(15290, 1)\n"
          ],
          "name": "stdout"
        }
      ]
    },
    {
      "cell_type": "code",
      "metadata": {
        "id": "p9mJ0TRrEUKJ",
        "colab_type": "code",
        "colab": {
          "base_uri": "https://localhost:8080/",
          "height": 52
        },
        "outputId": "cf04d940-7dd8-4660-bb68-452d430b277e"
      },
      "source": [
        "audio_train = h5py.File(\"../data/audio_train.h5\",\"r\")\n",
        "print(list(audio_train.keys()))\n",
        "audio_train = np.array(audio_train.get('d1'))\n",
        "# text_train_emb = text_train_emb[0:15289]\n",
        "# text_train_emb = text_train_emb[1:]\n",
        "audio_train.shape"
      ],
      "execution_count": 11,
      "outputs": [
        {
          "output_type": "stream",
          "text": [
            "['d1']\n"
          ],
          "name": "stdout"
        },
        {
          "output_type": "execute_result",
          "data": {
            "text/plain": [
              "(15290, 20, 74)"
            ]
          },
          "metadata": {
            "tags": []
          },
          "execution_count": 11
        }
      ]
    },
    {
      "cell_type": "code",
      "metadata": {
        "id": "tadX_y6SEjfX",
        "colab_type": "code",
        "colab": {
          "base_uri": "https://localhost:8080/",
          "height": 52
        },
        "outputId": "881da113-b4a4-4e47-f63b-4c93238a1840"
      },
      "source": [
        "audio_test = h5py.File(\"../data/audio_test.h5\",\"r\")\n",
        "print(list(audio_test.keys()))\n",
        "audio_test = np.array(audio_test.get('d1'))\n",
        "# text_train_emb = text_train_emb[0:15289]\n",
        "# text_train_emb = text_train_emb[1:]\n",
        "audio_test.shape"
      ],
      "execution_count": 12,
      "outputs": [
        {
          "output_type": "stream",
          "text": [
            "['d1']\n"
          ],
          "name": "stdout"
        },
        {
          "output_type": "execute_result",
          "data": {
            "text/plain": [
              "(4832, 20, 74)"
            ]
          },
          "metadata": {
            "tags": []
          },
          "execution_count": 12
        }
      ]
    },
    {
      "cell_type": "code",
      "metadata": {
        "id": "o0FgtfMAEtiF",
        "colab_type": "code",
        "colab": {
          "base_uri": "https://localhost:8080/",
          "height": 35
        },
        "outputId": "c7ab1a9e-b99a-4b5c-87f7-e7f0a260f2b4"
      },
      "source": [
        "import keras\n",
        "from keras.models import load_model\n",
        "from keras.models import Model,Sequential,Model\n",
        "from keras.layers import LSTM,Dense,Input\n",
        "from keras import callbacks\n",
        "from keras.callbacks import EarlyStopping, ModelCheckpoint"
      ],
      "execution_count": 13,
      "outputs": [
        {
          "output_type": "stream",
          "text": [
            "Using TensorFlow backend.\n"
          ],
          "name": "stderr"
        }
      ]
    },
    {
      "cell_type": "code",
      "metadata": {
        "id": "Fq0QDDCMExw6",
        "colab_type": "code",
        "colab": {}
      },
      "source": [
        "i = Input(shape=(20,74))\n",
        "x = LSTM(units=256,return_sequences=True)(i)\n",
        "x = LSTM(units=256,return_sequences=True)(x)\n",
        "x = LSTM(units=128,return_sequences=True)(x)\n",
        "x = LSTM(units=128,return_sequences=True)(x)\n",
        "x = LSTM(units=64,return_sequences=True)(x)\n",
        "x = LSTM(units=64,return_sequences=True)(x)\n",
        "x = LSTM(units=32,return_sequences=True)(x)\n",
        "x = LSTM(units=32,return_sequences=False)(x)\n",
        "x = Dense(units=32,activation='relu')(x)\n",
        "x = Dense(units=32,activation='relu')(x)\n",
        "o = Dense(1,activation='sigmoid')(x)"
      ],
      "execution_count": 0,
      "outputs": []
    },
    {
      "cell_type": "code",
      "metadata": {
        "id": "wZyEvJTtFJGd",
        "colab_type": "code",
        "colab": {
          "base_uri": "https://localhost:8080/",
          "height": 555
        },
        "outputId": "30658124-e9fc-4d96-9f1e-964056b6e937"
      },
      "source": [
        "model_rnn_happy = Model(inputs=i,outputs=o)\n",
        "model_rnn_angry = Model(inputs=i,outputs=o)\n",
        "model_rnn_fear = Model(inputs=i,outputs=o)\n",
        "model_rnn_surprise = Model(inputs=i,outputs=o)\n",
        "model_rnn_disgust = Model(inputs=i,outputs=o)\n",
        "model_rnn_sad = Model(inputs=i,outputs=o)\n",
        "model_rnn_happy.summary()"
      ],
      "execution_count": 17,
      "outputs": [
        {
          "output_type": "stream",
          "text": [
            "_________________________________________________________________\n",
            "Layer (type)                 Output Shape              Param #   \n",
            "=================================================================\n",
            "input_2 (InputLayer)         (None, 20, 74)            0         \n",
            "_________________________________________________________________\n",
            "lstm_9 (LSTM)                (None, 20, 256)           338944    \n",
            "_________________________________________________________________\n",
            "lstm_10 (LSTM)               (None, 20, 256)           525312    \n",
            "_________________________________________________________________\n",
            "lstm_11 (LSTM)               (None, 20, 128)           197120    \n",
            "_________________________________________________________________\n",
            "lstm_12 (LSTM)               (None, 20, 128)           131584    \n",
            "_________________________________________________________________\n",
            "lstm_13 (LSTM)               (None, 20, 64)            49408     \n",
            "_________________________________________________________________\n",
            "lstm_14 (LSTM)               (None, 20, 64)            33024     \n",
            "_________________________________________________________________\n",
            "lstm_15 (LSTM)               (None, 20, 32)            12416     \n",
            "_________________________________________________________________\n",
            "lstm_16 (LSTM)               (None, 32)                8320      \n",
            "_________________________________________________________________\n",
            "dense_4 (Dense)              (None, 32)                1056      \n",
            "_________________________________________________________________\n",
            "dense_5 (Dense)              (None, 32)                1056      \n",
            "_________________________________________________________________\n",
            "dense_6 (Dense)              (None, 1)                 33        \n",
            "=================================================================\n",
            "Total params: 1,298,273\n",
            "Trainable params: 1,298,273\n",
            "Non-trainable params: 0\n",
            "_________________________________________________________________\n"
          ],
          "name": "stdout"
        }
      ]
    },
    {
      "cell_type": "code",
      "metadata": {
        "id": "lNgvpWTVHBAA",
        "colab_type": "code",
        "colab": {
          "base_uri": "https://localhost:8080/",
          "height": 35
        },
        "outputId": "67c31cf7-0218-4e4a-8368-6ffb9cf6df33"
      },
      "source": [
        "cd .."
      ],
      "execution_count": 19,
      "outputs": [
        {
          "output_type": "stream",
          "text": [
            "/content/Multimodal-MOSEI/data\n"
          ],
          "name": "stdout"
        }
      ]
    },
    {
      "cell_type": "code",
      "metadata": {
        "id": "S26wGzO-G3iC",
        "colab_type": "code",
        "colab": {
          "base_uri": "https://localhost:8080/",
          "height": 35
        },
        "outputId": "f313fc37-f442-45f6-8cf6-54ef4480569b"
      },
      "source": [
        "ls"
      ],
      "execution_count": 20,
      "outputs": [
        {
          "output_type": "stream",
          "text": [
            "\u001b[0m\u001b[01;34mdata\u001b[0m/  \u001b[01;34mlabels\u001b[0m/  modify_labels.ipynb  MOSEI_dataset.ipynb  \u001b[01;32mmosei.sh\u001b[0m*\n"
          ],
          "name": "stdout"
        }
      ]
    },
    {
      "cell_type": "code",
      "metadata": {
        "id": "vuCg3UuBG_oW",
        "colab_type": "code",
        "colab": {
          "base_uri": "https://localhost:8080/",
          "height": 748
        },
        "outputId": "23f6a375-d552-46e5-8a5a-05fb2fb5ff7c"
      },
      "source": [
        "model_rnn_happy.compile('adam','binary_crossentropy',metrics=['accuracy'])\n",
        "es = EarlyStopping(monitor='val_loss',mode='min' ,patience=5, min_delta=0.0001,verbose=1)\n",
        "mcp = ModelCheckpoint(\"weights_rnn_happy.h5\",monitor='val_loss',verbose=1)\n",
        "history_rnn_happy = model_rnn_happy.fit(audio_train,Train_labels_happy,64,20,validation_split=0.1,callbacks=[es, mcp])\n",
        "print(\"Evaluating the model=====================================================\")\n",
        "model_rnn_happy.evaluate(audio_test,Test_labels_happy)\n",
        "print(\"Saving the model=========================================================\")\n",
        "saved_rnn_happy = load_model('weights_rnn_happy.h5')\n",
        "print(\"Evaluating saved model===================================================\")\n",
        "saved_rnn_happy.evaluate(audio_test,Test_labels_happy)"
      ],
      "execution_count": 21,
      "outputs": [
        {
          "output_type": "stream",
          "text": [
            "W0620 08:59:49.114120 140116545861504 deprecation_wrapper.py:119] From /usr/local/lib/python3.6/dist-packages/keras/optimizers.py:790: The name tf.train.Optimizer is deprecated. Please use tf.compat.v1.train.Optimizer instead.\n",
            "\n",
            "W0620 08:59:49.146494 140116545861504 deprecation_wrapper.py:119] From /usr/local/lib/python3.6/dist-packages/keras/backend/tensorflow_backend.py:3376: The name tf.log is deprecated. Please use tf.math.log instead.\n",
            "\n",
            "W0620 08:59:49.152717 140116545861504 deprecation.py:323] From /usr/local/lib/python3.6/dist-packages/tensorflow/python/ops/nn_impl.py:180: add_dispatch_support.<locals>.wrapper (from tensorflow.python.ops.array_ops) is deprecated and will be removed in a future version.\n",
            "Instructions for updating:\n",
            "Use tf.where in 2.0, which has the same broadcast rule as np.where\n",
            "W0620 08:59:55.248973 140116545861504 deprecation_wrapper.py:119] From /usr/local/lib/python3.6/dist-packages/keras/backend/tensorflow_backend.py:986: The name tf.assign_add is deprecated. Please use tf.compat.v1.assign_add instead.\n",
            "\n"
          ],
          "name": "stderr"
        },
        {
          "output_type": "stream",
          "text": [
            "Train on 13761 samples, validate on 1529 samples\n",
            "Epoch 1/20\n",
            "13761/13761 [==============================] - 80s 6ms/step - loss: 0.6718 - acc: 0.6083 - val_loss: 0.6744 - val_acc: 0.5952\n",
            "\n",
            "Epoch 00001: saving model to weights_rnn_happy.h5\n",
            "Epoch 2/20\n",
            "13761/13761 [==============================] - 71s 5ms/step - loss: 0.6688 - acc: 0.6113 - val_loss: 0.6744 - val_acc: 0.5958\n",
            "\n",
            "Epoch 00002: saving model to weights_rnn_happy.h5\n",
            "Epoch 3/20\n",
            "13761/13761 [==============================] - 71s 5ms/step - loss: 0.6686 - acc: 0.6115 - val_loss: 0.6752 - val_acc: 0.5958\n",
            "\n",
            "Epoch 00003: saving model to weights_rnn_happy.h5\n",
            "Epoch 4/20\n",
            "13761/13761 [==============================] - 71s 5ms/step - loss: 0.6688 - acc: 0.6120 - val_loss: 0.6744 - val_acc: 0.5958\n",
            "\n",
            "Epoch 00004: saving model to weights_rnn_happy.h5\n",
            "Epoch 5/20\n",
            "13761/13761 [==============================] - 71s 5ms/step - loss: 0.6687 - acc: 0.6120 - val_loss: 0.6759 - val_acc: 0.5958\n",
            "\n",
            "Epoch 00005: saving model to weights_rnn_happy.h5\n",
            "Epoch 6/20\n",
            "13761/13761 [==============================] - 70s 5ms/step - loss: 0.6683 - acc: 0.6121 - val_loss: 0.6754 - val_acc: 0.5958\n",
            "\n",
            "Epoch 00006: saving model to weights_rnn_happy.h5\n",
            "Epoch 00006: early stopping\n",
            "Evaluating the model=====================================================\n",
            "4832/4832 [==============================] - 19s 4ms/step\n",
            "Saving the model=========================================================\n",
            "Evaluating saved model===================================================\n",
            "4832/4832 [==============================] - 20s 4ms/step\n"
          ],
          "name": "stdout"
        },
        {
          "output_type": "execute_result",
          "data": {
            "text/plain": [
              "[0.6640588974715859, 0.6189983443708609]"
            ]
          },
          "metadata": {
            "tags": []
          },
          "execution_count": 21
        }
      ]
    },
    {
      "cell_type": "code",
      "metadata": {
        "id": "OVjVvrqeHNtL",
        "colab_type": "code",
        "colab": {
          "base_uri": "https://localhost:8080/",
          "height": 572
        },
        "outputId": "80198152-6b72-4495-d75b-946abfdb455a"
      },
      "source": [
        "model_rnn_angry.compile('adam','binary_crossentropy',metrics=['accuracy'])\n",
        "es = EarlyStopping(monitor='val_loss',mode='min' ,patience=5, min_delta=0.0001,verbose=1)\n",
        "mcp = ModelCheckpoint(\"weights_rnn_angry.h5\",monitor='val_loss',verbose=1)\n",
        "history_rnn_angry = model_rnn_angry.fit(audio_train,Train_labels_angry,64,20,validation_split=0.1,callbacks=[es, mcp])\n",
        "print(\"Evaluating the model=====================================================\")\n",
        "model_rnn_angry.evaluate(audio_test,Test_labels_angry)\n",
        "print(\"Saving the model=========================================================\")\n",
        "saved_rnn_angry = load_model('weights_rnn_angry.h5')\n",
        "print(\"Evaluating saved model===================================================\")\n",
        "saved_rnn_angry.evaluate(audio_test,Test_labels_angry)"
      ],
      "execution_count": 22,
      "outputs": [
        {
          "output_type": "stream",
          "text": [
            "Train on 13761 samples, validate on 1529 samples\n",
            "Epoch 1/20\n",
            "13761/13761 [==============================] - 78s 6ms/step - loss: 0.5448 - acc: 0.7335 - val_loss: 0.4725 - val_acc: 0.8234\n",
            "\n",
            "Epoch 00001: saving model to weights_rnn_angry.h5\n",
            "Epoch 2/20\n",
            "13761/13761 [==============================] - 71s 5ms/step - loss: 0.5187 - acc: 0.7694 - val_loss: 0.4771 - val_acc: 0.8234\n",
            "\n",
            "Epoch 00002: saving model to weights_rnn_angry.h5\n",
            "Epoch 3/20\n",
            "13761/13761 [==============================] - 71s 5ms/step - loss: 0.5188 - acc: 0.7694 - val_loss: 0.4791 - val_acc: 0.8234\n",
            "\n",
            "Epoch 00003: saving model to weights_rnn_angry.h5\n",
            "Epoch 4/20\n",
            "13761/13761 [==============================] - 71s 5ms/step - loss: 0.5185 - acc: 0.7694 - val_loss: 0.4733 - val_acc: 0.8234\n",
            "\n",
            "Epoch 00004: saving model to weights_rnn_angry.h5\n",
            "Epoch 5/20\n",
            "13761/13761 [==============================] - 71s 5ms/step - loss: 0.5182 - acc: 0.7694 - val_loss: 0.4804 - val_acc: 0.8234\n",
            "\n",
            "Epoch 00005: saving model to weights_rnn_angry.h5\n",
            "Epoch 6/20\n",
            "13761/13761 [==============================] - 71s 5ms/step - loss: 0.5181 - acc: 0.7694 - val_loss: 0.4765 - val_acc: 0.8234\n",
            "\n",
            "Epoch 00006: saving model to weights_rnn_angry.h5\n",
            "Epoch 00006: early stopping\n",
            "Evaluating the model=====================================================\n",
            "4832/4832 [==============================] - 18s 4ms/step\n",
            "Saving the model=========================================================\n",
            "Evaluating saved model===================================================\n",
            "4832/4832 [==============================] - 22s 4ms/step\n"
          ],
          "name": "stdout"
        },
        {
          "output_type": "execute_result",
          "data": {
            "text/plain": [
              "[0.49170361212547253, 0.7990480132450332]"
            ]
          },
          "metadata": {
            "tags": []
          },
          "execution_count": 22
        }
      ]
    },
    {
      "cell_type": "code",
      "metadata": {
        "id": "EdSN6kEaHd8Q",
        "colab_type": "code",
        "colab": {
          "base_uri": "https://localhost:8080/",
          "height": 711
        },
        "outputId": "9abbd618-494a-4efc-f3ed-3e418f2797d6"
      },
      "source": [
        "model_rnn_sad.compile('adam','binary_crossentropy',metrics=['accuracy'])\n",
        "es = EarlyStopping(monitor='val_loss',mode='min' ,patience=5, min_delta=0.0001,verbose=1)\n",
        "mcp = ModelCheckpoint(\"weights_rnn_sad.h5\",monitor='val_loss',verbose=1)\n",
        "history_rnn_sad = model_rnn_sad.fit(audio_train,Train_labels_sad,64,20,validation_split=0.1,callbacks=[es, mcp])\n",
        "print(\"Evaluating the model=====================================================\")\n",
        "model_rnn_sad.evaluate(audio_test,Test_labels_sad)\n",
        "print(\"Saving the model=========================================================\")\n",
        "saved_rnn_sad = load_model('weights_rnn_sad.h5')\n",
        "print(\"Evaluating saved model===================================================\")\n",
        "saved_rnn_sad.evaluate(audio_test,Test_labels_sad)"
      ],
      "execution_count": 23,
      "outputs": [
        {
          "output_type": "stream",
          "text": [
            "Train on 13761 samples, validate on 1529 samples\n",
            "Epoch 1/20\n",
            "13761/13761 [==============================] - 82s 6ms/step - loss: 0.5615 - acc: 0.7425 - val_loss: 0.5382 - val_acc: 0.7626\n",
            "\n",
            "Epoch 00001: saving model to weights_rnn_sad.h5\n",
            "Epoch 2/20\n",
            "13761/13761 [==============================] - 72s 5ms/step - loss: 0.5612 - acc: 0.7425 - val_loss: 0.5399 - val_acc: 0.7626\n",
            "\n",
            "Epoch 00002: saving model to weights_rnn_sad.h5\n",
            "Epoch 3/20\n",
            "13761/13761 [==============================] - 72s 5ms/step - loss: 0.5615 - acc: 0.7425 - val_loss: 0.5344 - val_acc: 0.7626\n",
            "\n",
            "Epoch 00003: saving model to weights_rnn_sad.h5\n",
            "Epoch 4/20\n",
            "13761/13761 [==============================] - 71s 5ms/step - loss: 0.5644 - acc: 0.7425 - val_loss: 0.5395 - val_acc: 0.7626\n",
            "\n",
            "Epoch 00004: saving model to weights_rnn_sad.h5\n",
            "Epoch 5/20\n",
            "13761/13761 [==============================] - 70s 5ms/step - loss: 0.5603 - acc: 0.7425 - val_loss: 0.5361 - val_acc: 0.7626\n",
            "\n",
            "Epoch 00005: saving model to weights_rnn_sad.h5\n",
            "Epoch 6/20\n",
            "13761/13761 [==============================] - 72s 5ms/step - loss: 0.5608 - acc: 0.7425 - val_loss: 0.5361 - val_acc: 0.7626\n",
            "\n",
            "Epoch 00006: saving model to weights_rnn_sad.h5\n",
            "Epoch 7/20\n",
            "13761/13761 [==============================] - 72s 5ms/step - loss: 0.5625 - acc: 0.7425 - val_loss: 0.5358 - val_acc: 0.7626\n",
            "\n",
            "Epoch 00007: saving model to weights_rnn_sad.h5\n",
            "Epoch 8/20\n",
            "13761/13761 [==============================] - 72s 5ms/step - loss: 0.5619 - acc: 0.7425 - val_loss: 0.5384 - val_acc: 0.7626\n",
            "\n",
            "Epoch 00008: saving model to weights_rnn_sad.h5\n",
            "Epoch 00008: early stopping\n",
            "Evaluating the model=====================================================\n",
            "4832/4832 [==============================] - 19s 4ms/step\n",
            "Saving the model=========================================================\n",
            "Evaluating saved model===================================================\n",
            "4832/4832 [==============================] - 22s 5ms/step\n"
          ],
          "name": "stdout"
        },
        {
          "output_type": "execute_result",
          "data": {
            "text/plain": [
              "[0.5739543893874086, 0.7239238410596026]"
            ]
          },
          "metadata": {
            "tags": []
          },
          "execution_count": 23
        }
      ]
    },
    {
      "cell_type": "code",
      "metadata": {
        "id": "Xg0eHhcSHqw6",
        "colab_type": "code",
        "colab": {
          "base_uri": "https://localhost:8080/",
          "height": 780
        },
        "outputId": "9c2c9982-f23f-48b4-cf04-5081cb897dca"
      },
      "source": [
        "model_rnn_disgust.compile('adam','binary_crossentropy',metrics=['accuracy'])\n",
        "es = EarlyStopping(monitor='val_loss',mode='min' ,patience=5, min_delta=0.0001,verbose=1)\n",
        "mcp = ModelCheckpoint(\"weights_rnn_disgust.h5\",monitor='val_loss',verbose=1)\n",
        "history_rnn_disgust = model_rnn_disgust.fit(audio_train,Train_labels_disgust,64,20,validation_split=0.1,callbacks=[es, mcp])\n",
        "print(\"Evaluating the model=====================================================\")\n",
        "model_rnn_disgust.evaluate(audio_test,Test_labels_disgust)\n",
        "print(\"Saving the model=========================================================\")\n",
        "saved_rnn_disgust = load_model('weights_rnn_disgust.h5')\n",
        "print(\"Evaluating saved model===================================================\")\n",
        "saved_rnn_disgust.evaluate(audio_test,Test_labels_disgust)"
      ],
      "execution_count": 24,
      "outputs": [
        {
          "output_type": "stream",
          "text": [
            "Train on 13761 samples, validate on 1529 samples\n",
            "Epoch 1/20\n",
            "13761/13761 [==============================] - 84s 6ms/step - loss: 0.4235 - acc: 0.8191 - val_loss: 0.3779 - val_acc: 0.8489\n",
            "\n",
            "Epoch 00001: saving model to weights_rnn_disgust.h5\n",
            "Epoch 2/20\n",
            "13761/13761 [==============================] - 71s 5ms/step - loss: 0.4222 - acc: 0.8191 - val_loss: 0.3807 - val_acc: 0.8489\n",
            "\n",
            "Epoch 00002: saving model to weights_rnn_disgust.h5\n",
            "Epoch 3/20\n",
            "13761/13761 [==============================] - 71s 5ms/step - loss: 0.4218 - acc: 0.8191 - val_loss: 0.3772 - val_acc: 0.8489\n",
            "\n",
            "Epoch 00003: saving model to weights_rnn_disgust.h5\n",
            "Epoch 4/20\n",
            "13761/13761 [==============================] - 71s 5ms/step - loss: 0.4218 - acc: 0.8191 - val_loss: 0.3771 - val_acc: 0.8489\n",
            "\n",
            "Epoch 00004: saving model to weights_rnn_disgust.h5\n",
            "Epoch 5/20\n",
            "13761/13761 [==============================] - 71s 5ms/step - loss: 0.4214 - acc: 0.8191 - val_loss: 0.3822 - val_acc: 0.8489\n",
            "\n",
            "Epoch 00005: saving model to weights_rnn_disgust.h5\n",
            "Epoch 6/20\n",
            "13761/13761 [==============================] - 73s 5ms/step - loss: 0.4215 - acc: 0.8191 - val_loss: 0.3771 - val_acc: 0.8489\n",
            "\n",
            "Epoch 00006: saving model to weights_rnn_disgust.h5\n",
            "Epoch 7/20\n",
            "13761/13761 [==============================] - 72s 5ms/step - loss: 0.4217 - acc: 0.8191 - val_loss: 0.3780 - val_acc: 0.8489\n",
            "\n",
            "Epoch 00007: saving model to weights_rnn_disgust.h5\n",
            "Epoch 8/20\n",
            "13761/13761 [==============================] - 71s 5ms/step - loss: 0.4218 - acc: 0.8191 - val_loss: 0.3776 - val_acc: 0.8489\n",
            "\n",
            "Epoch 00008: saving model to weights_rnn_disgust.h5\n",
            "Epoch 9/20\n",
            "13761/13761 [==============================] - 71s 5ms/step - loss: 0.4218 - acc: 0.8191 - val_loss: 0.3776 - val_acc: 0.8489\n",
            "\n",
            "Epoch 00009: saving model to weights_rnn_disgust.h5\n",
            "Epoch 00009: early stopping\n",
            "Evaluating the model=====================================================\n",
            "4832/4832 [==============================] - 18s 4ms/step\n",
            "Saving the model=========================================================\n",
            "Evaluating saved model===================================================\n",
            "4832/4832 [==============================] - 24s 5ms/step\n"
          ],
          "name": "stdout"
        },
        {
          "output_type": "execute_result",
          "data": {
            "text/plain": [
              "[0.4269385475492635, 0.8091887417218543]"
            ]
          },
          "metadata": {
            "tags": []
          },
          "execution_count": 24
        }
      ]
    },
    {
      "cell_type": "code",
      "metadata": {
        "id": "Gaac04qUHz9i",
        "colab_type": "code",
        "colab": {
          "base_uri": "https://localhost:8080/",
          "height": 849
        },
        "outputId": "30b747da-0ed8-4d1b-c693-f6165112bd90"
      },
      "source": [
        "model_rnn_fear.compile('adam','binary_crossentropy',metrics=['accuracy'])\n",
        "es = EarlyStopping(monitor='val_loss',mode='min' ,patience=5, min_delta=0.0001,verbose=1)\n",
        "mcp = ModelCheckpoint(\"weights_rnn_fear.h5\",monitor='val_loss',verbose=1)\n",
        "history_rnn_fear = model_rnn_fear.fit(audio_train,Train_labels_fear,64,20,validation_split=0.1,callbacks=[es, mcp])\n",
        "print(\"Evaluating the model=====================================================\")\n",
        "model_rnn_fear.evaluate(audio_test,Test_labels_fear)\n",
        "print(\"Saving the model=========================================================\")\n",
        "saved_rnn_fear = load_model('weights_rnn_fear.h5')\n",
        "print(\"Evaluating saved model===================================================\")\n",
        "saved_rnn_fear.evaluate(audio_test,Test_labels_fear)"
      ],
      "execution_count": 25,
      "outputs": [
        {
          "output_type": "stream",
          "text": [
            "Train on 13761 samples, validate on 1529 samples\n",
            "Epoch 1/20\n",
            "13761/13761 [==============================] - 89s 6ms/step - loss: 0.2934 - acc: 0.9140 - val_loss: 0.3031 - val_acc: 0.9111\n",
            "\n",
            "Epoch 00001: saving model to weights_rnn_fear.h5\n",
            "Epoch 2/20\n",
            "13761/13761 [==============================] - 73s 5ms/step - loss: 0.2784 - acc: 0.9140 - val_loss: 0.3106 - val_acc: 0.9111\n",
            "\n",
            "Epoch 00002: saving model to weights_rnn_fear.h5\n",
            "Epoch 3/20\n",
            "13761/13761 [==============================] - 73s 5ms/step - loss: 0.2787 - acc: 0.9140 - val_loss: 0.3045 - val_acc: 0.9111\n",
            "\n",
            "Epoch 00003: saving model to weights_rnn_fear.h5\n",
            "Epoch 4/20\n",
            "13761/13761 [==============================] - 72s 5ms/step - loss: 0.2786 - acc: 0.9140 - val_loss: 0.3020 - val_acc: 0.9111\n",
            "\n",
            "Epoch 00004: saving model to weights_rnn_fear.h5\n",
            "Epoch 5/20\n",
            "13761/13761 [==============================] - 72s 5ms/step - loss: 0.2784 - acc: 0.9140 - val_loss: 0.2981 - val_acc: 0.9111\n",
            "\n",
            "Epoch 00005: saving model to weights_rnn_fear.h5\n",
            "Epoch 6/20\n",
            "13761/13761 [==============================] - 73s 5ms/step - loss: 0.2786 - acc: 0.9140 - val_loss: 0.3046 - val_acc: 0.9111\n",
            "\n",
            "Epoch 00006: saving model to weights_rnn_fear.h5\n",
            "Epoch 7/20\n",
            "13761/13761 [==============================] - 73s 5ms/step - loss: 0.2786 - acc: 0.9140 - val_loss: 0.3008 - val_acc: 0.9111\n",
            "\n",
            "Epoch 00007: saving model to weights_rnn_fear.h5\n",
            "Epoch 8/20\n",
            "13761/13761 [==============================] - 73s 5ms/step - loss: 0.2784 - acc: 0.9140 - val_loss: 0.3055 - val_acc: 0.9111\n",
            "\n",
            "Epoch 00008: saving model to weights_rnn_fear.h5\n",
            "Epoch 9/20\n",
            "13761/13761 [==============================] - 74s 5ms/step - loss: 0.2783 - acc: 0.9140 - val_loss: 0.3001 - val_acc: 0.9111\n",
            "\n",
            "Epoch 00009: saving model to weights_rnn_fear.h5\n",
            "Epoch 10/20\n",
            "13761/13761 [==============================] - 74s 5ms/step - loss: 0.2783 - acc: 0.9140 - val_loss: 0.3020 - val_acc: 0.9111\n",
            "\n",
            "Epoch 00010: saving model to weights_rnn_fear.h5\n",
            "Epoch 00010: early stopping\n",
            "Evaluating the model=====================================================\n",
            "4832/4832 [==============================] - 20s 4ms/step\n",
            "Saving the model=========================================================\n",
            "Evaluating saved model===================================================\n",
            "4832/4832 [==============================] - 25s 5ms/step\n"
          ],
          "name": "stdout"
        },
        {
          "output_type": "execute_result",
          "data": {
            "text/plain": [
              "[0.23769394973206598, 0.9312913907284768]"
            ]
          },
          "metadata": {
            "tags": []
          },
          "execution_count": 25
        }
      ]
    },
    {
      "cell_type": "code",
      "metadata": {
        "id": "5TYQ9HOkH_Tr",
        "colab_type": "code",
        "colab": {
          "base_uri": "https://localhost:8080/",
          "height": 849
        },
        "outputId": "2d9306fe-33c2-403d-9847-7d5dcda4232b"
      },
      "source": [
        "model_rnn_surprise.compile('adam','binary_crossentropy',metrics=['accuracy'])\n",
        "es = EarlyStopping(monitor='val_loss',mode='min' ,patience=5, min_delta=0.0001,verbose=1)\n",
        "mcp = ModelCheckpoint(\"weights_rnn_surprise.h5\",monitor='val_loss',verbose=1)\n",
        "history_rnn_surprise = model_rnn_surprise.fit(audio_train,Train_labels_surprise,64,20,validation_split=0.1,callbacks=[es, mcp])\n",
        "print(\"Evaluating the model=====================================================\")\n",
        "model_rnn_surprise.evaluate(audio_test,Test_labels_surprise)\n",
        "print(\"Saving the model=========================================================\")\n",
        "saved_rnn_surprise = load_model('weights_rnn_surprise.h5')\n",
        "print(\"Evaluating saved model===================================================\")\n",
        "saved_rnn_surprise.evaluate(audio_test,Test_labels_surprise)"
      ],
      "execution_count": 26,
      "outputs": [
        {
          "output_type": "stream",
          "text": [
            "Train on 13761 samples, validate on 1529 samples\n",
            "Epoch 1/20\n",
            "13761/13761 [==============================] - 92s 7ms/step - loss: 0.3328 - acc: 0.8966 - val_loss: 0.3035 - val_acc: 0.9091\n",
            "\n",
            "Epoch 00001: saving model to weights_rnn_surprise.h5\n",
            "Epoch 2/20\n",
            "13761/13761 [==============================] - 73s 5ms/step - loss: 0.3317 - acc: 0.8966 - val_loss: 0.3061 - val_acc: 0.9091\n",
            "\n",
            "Epoch 00002: saving model to weights_rnn_surprise.h5\n",
            "Epoch 3/20\n",
            "13761/13761 [==============================] - 73s 5ms/step - loss: 0.3320 - acc: 0.8966 - val_loss: 0.3021 - val_acc: 0.9091\n",
            "\n",
            "Epoch 00003: saving model to weights_rnn_surprise.h5\n",
            "Epoch 4/20\n",
            "13761/13761 [==============================] - 73s 5ms/step - loss: 0.3312 - acc: 0.8966 - val_loss: 0.3023 - val_acc: 0.9091\n",
            "\n",
            "Epoch 00004: saving model to weights_rnn_surprise.h5\n",
            "Epoch 5/20\n",
            "13761/13761 [==============================] - 74s 5ms/step - loss: 0.3310 - acc: 0.8966 - val_loss: 0.3019 - val_acc: 0.9091\n",
            "\n",
            "Epoch 00005: saving model to weights_rnn_surprise.h5\n",
            "Epoch 6/20\n",
            "13761/13761 [==============================] - 73s 5ms/step - loss: 0.3312 - acc: 0.8966 - val_loss: 0.3045 - val_acc: 0.9091\n",
            "\n",
            "Epoch 00006: saving model to weights_rnn_surprise.h5\n",
            "Epoch 7/20\n",
            "13761/13761 [==============================] - 73s 5ms/step - loss: 0.3310 - acc: 0.8966 - val_loss: 0.3026 - val_acc: 0.9091\n",
            "\n",
            "Epoch 00007: saving model to weights_rnn_surprise.h5\n",
            "Epoch 8/20\n",
            "13761/13761 [==============================] - 73s 5ms/step - loss: 0.3312 - acc: 0.8966 - val_loss: 0.3022 - val_acc: 0.9091\n",
            "\n",
            "Epoch 00008: saving model to weights_rnn_surprise.h5\n",
            "Epoch 9/20\n",
            "13761/13761 [==============================] - 73s 5ms/step - loss: 0.3330 - acc: 0.8966 - val_loss: 0.3051 - val_acc: 0.9091\n",
            "\n",
            "Epoch 00009: saving model to weights_rnn_surprise.h5\n",
            "Epoch 10/20\n",
            "13761/13761 [==============================] - 73s 5ms/step - loss: 0.3339 - acc: 0.8966 - val_loss: 0.3049 - val_acc: 0.9091\n",
            "\n",
            "Epoch 00010: saving model to weights_rnn_surprise.h5\n",
            "Epoch 00010: early stopping\n",
            "Evaluating the model=====================================================\n",
            "4832/4832 [==============================] - 20s 4ms/step\n",
            "Saving the model=========================================================\n",
            "Evaluating saved model===================================================\n",
            "4832/4832 [==============================] - 26s 5ms/step\n"
          ],
          "name": "stdout"
        },
        {
          "output_type": "execute_result",
          "data": {
            "text/plain": [
              "[0.32328462176370304, 0.9008692052980133]"
            ]
          },
          "metadata": {
            "tags": []
          },
          "execution_count": 26
        }
      ]
    },
    {
      "cell_type": "code",
      "metadata": {
        "id": "UnVDOf8fIGDg",
        "colab_type": "code",
        "colab": {
          "base_uri": "https://localhost:8080/",
          "height": 87
        },
        "outputId": "7cf60c78-3327-453f-c604-1828be47a56b"
      },
      "source": [
        "ls"
      ],
      "execution_count": 27,
      "outputs": [
        {
          "output_type": "stream",
          "text": [
            "\u001b[0m\u001b[01;34mdata\u001b[0m/                \u001b[01;32mmosei.sh\u001b[0m*               weights_rnn_happy.h5\n",
            "\u001b[01;34mlabels\u001b[0m/              weights_rnn_angry.h5    weights_rnn_sad.h5\n",
            "modify_labels.ipynb  weights_rnn_disgust.h5  weights_rnn_surprise.h5\n",
            "MOSEI_dataset.ipynb  weights_rnn_fear.h5\n"
          ],
          "name": "stdout"
        }
      ]
    },
    {
      "cell_type": "code",
      "metadata": {
        "id": "lVqAzoSjV0eK",
        "colab_type": "code",
        "colab": {}
      },
      "source": [
        "from google.colab import files\n",
        "files.download('weights_rnn_angry.h5')\n",
        "files.download('weights_rnn_disgust.h5')\n",
        "files.download('weights_rnn_fear.h5')\n",
        "files.download('weights_rnn_happy.h5')\n",
        "files.download('weights_rnn_sad.h5')\n",
        "files.download('weights_rnn_surprise.h5')"
      ],
      "execution_count": 0,
      "outputs": []
    },
    {
      "cell_type": "code",
      "metadata": {
        "id": "VyuH9VCKXUtc",
        "colab_type": "code",
        "colab": {}
      },
      "source": [
        ""
      ],
      "execution_count": 0,
      "outputs": []
    }
  ]
}
{
  "nbformat": 4,
  "nbformat_minor": 0,
  "metadata": {
    "colab": {
      "name": "MOSEI_binary_text.ipynb",
      "version": "0.3.2",
      "provenance": [],
      "collapsed_sections": []
    },
    "kernelspec": {
      "name": "python3",
      "display_name": "Python 3"
    },
    "accelerator": "GPU"
  },
  "cells": [
    {
      "cell_type": "code",
      "metadata": {
        "id": "WrzlZQWDCgO-",
        "colab_type": "code",
        "colab": {
          "base_uri": "https://localhost:8080/",
          "height": 35
        },
        "outputId": "846cc403-e6f0-4456-f502-baaedf7d9775"
      },
      "source": [
        "!git clone \"https://github.com/convman/Multimodal-MOSEI\""
      ],
      "execution_count": 1,
      "outputs": [
        {
          "output_type": "stream",
          "text": [
            "fatal: destination path 'Multimodal-MOSEI' already exists and is not an empty directory.\n"
          ],
          "name": "stdout"
        }
      ]
    },
    {
      "cell_type": "code",
      "metadata": {
        "id": "m8cI9MZwCtRo",
        "colab_type": "code",
        "colab": {
          "base_uri": "https://localhost:8080/",
          "height": 35
        },
        "outputId": "2a198e34-f357-4c24-c369-cb6739aca451"
      },
      "source": [
        "cd Multimodal-MOSEI/data/"
      ],
      "execution_count": 3,
      "outputs": [
        {
          "output_type": "stream",
          "text": [
            "/content/Multimodal-MOSEI/data\n"
          ],
          "name": "stdout"
        }
      ]
    },
    {
      "cell_type": "code",
      "metadata": {
        "id": "tp69x-EYCxUv",
        "colab_type": "code",
        "colab": {}
      },
      "source": [
        "!chmod +x mosei.sh\n",
        "!./mosei.sh"
      ],
      "execution_count": 0,
      "outputs": []
    },
    {
      "cell_type": "code",
      "metadata": {
        "id": "FNCJH4UDCyIB",
        "colab_type": "code",
        "colab": {
          "base_uri": "https://localhost:8080/",
          "height": 121
        },
        "outputId": "533f54da-853a-4438-b3f1-ced440ca3f03"
      },
      "source": [
        "ls"
      ],
      "execution_count": 4,
      "outputs": [
        {
          "output_type": "stream",
          "text": [
            "\u001b[0m\u001b[01;34mdata\u001b[0m/                weights_cnn_happy.h5    weights_rnn_sad.h5\n",
            "\u001b[01;34mlabels\u001b[0m/              weights_rnn_angry.h5    y_test_onehot.csv\n",
            "modify_labels.ipynb  weights_rnn_disgust.h5  y_train_onehot.csv\n",
            "MOSEI_dataset.ipynb  weights_rnn_fear.h5     y_valid_onehot.csv\n",
            "\u001b[01;32mmosei.sh\u001b[0m*            weights_rnn.h5\n",
            "weights_cnn.h5       weights_rnn_happy.h5\n"
          ],
          "name": "stdout"
        }
      ]
    },
    {
      "cell_type": "code",
      "metadata": {
        "id": "qVCDVh2NDbT2",
        "colab_type": "code",
        "colab": {
          "base_uri": "https://localhost:8080/",
          "height": 35
        },
        "outputId": "f15a93dd-90f1-4ac4-9ad4-093646a7b33a"
      },
      "source": [
        "cd labels"
      ],
      "execution_count": 5,
      "outputs": [
        {
          "output_type": "stream",
          "text": [
            "/content/Multimodal-MOSEI/data/labels\n"
          ],
          "name": "stdout"
        }
      ]
    },
    {
      "cell_type": "code",
      "metadata": {
        "id": "-CP_lt6BDlRm",
        "colab_type": "code",
        "colab": {}
      },
      "source": [
        "import numpy as np\n",
        "import h5py\n",
        "import pandas as pd"
      ],
      "execution_count": 0,
      "outputs": []
    },
    {
      "cell_type": "code",
      "metadata": {
        "id": "bG20SCWrDsRa",
        "colab_type": "code",
        "colab": {}
      },
      "source": [
        "Test_labels_surprise = pd.read_csv(\"mosi2uni_Test_labels_surprise.csv\",header=None)\n",
        "Test_labels_angry = pd.read_csv(\"mosi2uni_Test_labels_angry.csv\",header=None)\n",
        "Test_labels_disgust = pd.read_csv(\"mosi2uni_Test_labels_disgust.csv\",header=None)\n",
        "Test_labels_fear = pd.read_csv(\"mosi2uni_Test_labels_fear.csv\",header=None)\n",
        "Test_labels_happy = pd.read_csv(\"mosi2uni_Test_labels_happy.csv\",header=None)\n",
        "Test_labels_sad = pd.read_csv(\"mosi2uni_Test_labels_sad.csv\",header=None)"
      ],
      "execution_count": 0,
      "outputs": []
    },
    {
      "cell_type": "code",
      "metadata": {
        "id": "_VmWUFGbVzmg",
        "colab_type": "code",
        "colab": {}
      },
      "source": [
        "Train_labels_surprise = pd.read_csv(\"mosi2uni_Train_labels_surprise.csv\",header=None)\n",
        "Train_labels_angry = pd.read_csv(\"mosi2uni_Train_labels_angry.csv\",header=None)\n",
        "Train_labels_disgust = pd.read_csv(\"mosi2uni_Train_labels_disgust.csv\",header=None)\n",
        "Train_labels_fear = pd.read_csv(\"mosi2uni_Train_labels_fear.csv\",header=None)\n",
        "Train_labels_happy = pd.read_csv(\"mosi2uni_Train_labels_happy.csv\",header=None)\n",
        "Train_labels_sad = pd.read_csv(\"mosi2uni_Train_labels_sad.csv\",header=None)"
      ],
      "execution_count": 0,
      "outputs": []
    },
    {
      "cell_type": "code",
      "metadata": {
        "id": "5l_N0JB8p4tQ",
        "colab_type": "code",
        "colab": {
          "base_uri": "https://localhost:8080/",
          "height": 35
        },
        "outputId": "7c865018-dd99-40ba-a8db-0fd7b15355b5"
      },
      "source": [
        "Test_labels_happy.shape"
      ],
      "execution_count": 10,
      "outputs": [
        {
          "output_type": "execute_result",
          "data": {
            "text/plain": [
              "(4832, 1)"
            ]
          },
          "metadata": {
            "tags": []
          },
          "execution_count": 10
        }
      ]
    },
    {
      "cell_type": "code",
      "metadata": {
        "id": "nQGz8ytOPWjl",
        "colab_type": "code",
        "colab": {
          "base_uri": "https://localhost:8080/",
          "height": 52
        },
        "outputId": "da560f9c-1078-4395-a4bf-5622b6d262f4"
      },
      "source": [
        "print(Test_labels_happy.shape)\n",
        "print(Train_labels_happy.shape)"
      ],
      "execution_count": 11,
      "outputs": [
        {
          "output_type": "stream",
          "text": [
            "(4832, 1)\n",
            "(15290, 1)\n"
          ],
          "name": "stdout"
        }
      ]
    },
    {
      "cell_type": "code",
      "metadata": {
        "id": "SIBrHZKTPcAf",
        "colab_type": "code",
        "colab": {
          "base_uri": "https://localhost:8080/",
          "height": 52
        },
        "outputId": "1aaa31e6-5d63-4ed4-fdbe-064f486b6726"
      },
      "source": [
        "text_train_emb = h5py.File(\"../data/text_train_emb.h5\",\"r\")\n",
        "print(list(text_train_emb.keys()))\n",
        "text_train_emb = np.array(text_train_emb.get('d1'))\n",
        "# text_train_emb = text_train_emb[0:15289]\n",
        "# text_train_emb = text_train_emb[1:]\n",
        "text_train_emb.shape"
      ],
      "execution_count": 13,
      "outputs": [
        {
          "output_type": "stream",
          "text": [
            "['d1']\n"
          ],
          "name": "stdout"
        },
        {
          "output_type": "execute_result",
          "data": {
            "text/plain": [
              "(15290, 20, 300)"
            ]
          },
          "metadata": {
            "tags": []
          },
          "execution_count": 13
        }
      ]
    },
    {
      "cell_type": "code",
      "metadata": {
        "id": "O0RmBE79QSWR",
        "colab_type": "code",
        "colab": {
          "base_uri": "https://localhost:8080/",
          "height": 52
        },
        "outputId": "0131998b-5523-45d2-a7de-68c6d98a8d31"
      },
      "source": [
        "text_test_emb = h5py.File(\"../data/text_test_emb.h5\",\"r\")\n",
        "print(list(text_test_emb.keys()))\n",
        "text_test_emb = np.array(text_test_emb.get('d1'))\n",
        "# text_test_emb= text_test_emb[0:4831]\n",
        "# text_test_emb= text_test_emb[1:]\n",
        "text_test_emb.shape"
      ],
      "execution_count": 14,
      "outputs": [
        {
          "output_type": "stream",
          "text": [
            "['d1']\n"
          ],
          "name": "stdout"
        },
        {
          "output_type": "execute_result",
          "data": {
            "text/plain": [
              "(4832, 20, 300)"
            ]
          },
          "metadata": {
            "tags": []
          },
          "execution_count": 14
        }
      ]
    },
    {
      "cell_type": "code",
      "metadata": {
        "id": "8rVxEYSBQsWH",
        "colab_type": "code",
        "colab": {}
      },
      "source": [
        "import keras\n",
        "from keras.models import load_model\n",
        "from keras.models import Model,Sequential,Model\n",
        "from keras.layers import LSTM,Dense,Input\n",
        "from keras import callbacks\n",
        "from keras.callbacks import EarlyStopping, ModelCheckpoint"
      ],
      "execution_count": 0,
      "outputs": []
    },
    {
      "cell_type": "code",
      "metadata": {
        "id": "x9DReQUNRvab",
        "colab_type": "code",
        "colab": {}
      },
      "source": [
        "i = Input(shape=(20,300))\n",
        "x = LSTM(units=256,return_sequences=True)(i)\n",
        "x = LSTM(units=256,return_sequences=True)(x)\n",
        "x = LSTM(units=128,return_sequences=True)(x)\n",
        "x = LSTM(units=128,return_sequences=True)(x)\n",
        "x = LSTM(units=64,return_sequences=True)(x)\n",
        "x = LSTM(units=64,return_sequences=True)(x)\n",
        "x = LSTM(units=32,return_sequences=True)(x)\n",
        "x = LSTM(units=32,return_sequences=False)(x)\n",
        "x = Dense(units=32,activation='relu')(x)\n",
        "x = Dense(units=32,activation='relu')(x)\n",
        "o = Dense(1,activation='sigmoid')(x)"
      ],
      "execution_count": 0,
      "outputs": []
    },
    {
      "cell_type": "code",
      "metadata": {
        "id": "0X0Mf3Qtp3UN",
        "colab_type": "code",
        "colab": {}
      },
      "source": [
        "model_rnn_happy = Model(inputs=i,outputs=o)\n",
        "model_rnn_angry = Model(inputs=i,outputs=o)\n",
        "model_rnn_fear = Model(inputs=i,outputs=o)\n",
        "model_rnn_surprise = Model(inputs=i,outputs=o)\n",
        "model_rnn_disgust = Model(inputs=i,outputs=o)\n",
        "model_rnn_sad = Model(inputs=i,outputs=o)"
      ],
      "execution_count": 0,
      "outputs": []
    },
    {
      "cell_type": "code",
      "metadata": {
        "id": "EYNQnx2sR2Gh",
        "colab_type": "code",
        "colab": {
          "base_uri": "https://localhost:8080/",
          "height": 555
        },
        "outputId": "5d3dfb52-2b63-4bab-dde9-f458f0df5318"
      },
      "source": [
        "model_rnn_happy.summary()"
      ],
      "execution_count": 40,
      "outputs": [
        {
          "output_type": "stream",
          "text": [
            "_________________________________________________________________\n",
            "Layer (type)                 Output Shape              Param #   \n",
            "=================================================================\n",
            "input_5 (InputLayer)         (None, 20, 300)           0         \n",
            "_________________________________________________________________\n",
            "lstm_26 (LSTM)               (None, 20, 256)           570368    \n",
            "_________________________________________________________________\n",
            "lstm_27 (LSTM)               (None, 20, 256)           525312    \n",
            "_________________________________________________________________\n",
            "lstm_28 (LSTM)               (None, 20, 128)           197120    \n",
            "_________________________________________________________________\n",
            "lstm_29 (LSTM)               (None, 20, 128)           131584    \n",
            "_________________________________________________________________\n",
            "lstm_30 (LSTM)               (None, 20, 64)            49408     \n",
            "_________________________________________________________________\n",
            "lstm_31 (LSTM)               (None, 20, 64)            33024     \n",
            "_________________________________________________________________\n",
            "lstm_32 (LSTM)               (None, 20, 32)            12416     \n",
            "_________________________________________________________________\n",
            "lstm_33 (LSTM)               (None, 32)                8320      \n",
            "_________________________________________________________________\n",
            "dense_10 (Dense)             (None, 32)                1056      \n",
            "_________________________________________________________________\n",
            "dense_11 (Dense)             (None, 32)                1056      \n",
            "_________________________________________________________________\n",
            "dense_12 (Dense)             (None, 1)                 33        \n",
            "=================================================================\n",
            "Total params: 1,529,697\n",
            "Trainable params: 1,529,697\n",
            "Non-trainable params: 0\n",
            "_________________________________________________________________\n"
          ],
          "name": "stdout"
        }
      ]
    },
    {
      "cell_type": "code",
      "metadata": {
        "id": "3WidVi7-7fYC",
        "colab_type": "code",
        "colab": {
          "base_uri": "https://localhost:8080/",
          "height": 52
        },
        "outputId": "85f891bb-4269-4eb8-9cd7-33d7e4b1ed84"
      },
      "source": [
        "ls"
      ],
      "execution_count": 41,
      "outputs": [
        {
          "output_type": "stream",
          "text": [
            "\u001b[0m\u001b[01;34mdata\u001b[0m/    modify_labels.ipynb  \u001b[01;32mmosei.sh\u001b[0m*          y_train_onehot.csv\n",
            "\u001b[01;34mlabels\u001b[0m/  MOSEI_dataset.ipynb  y_test_onehot.csv  y_valid_onehot.csv\n"
          ],
          "name": "stdout"
        }
      ]
    },
    {
      "cell_type": "code",
      "metadata": {
        "id": "VfnArUjXSBl-",
        "colab_type": "code",
        "colab": {
          "base_uri": "https://localhost:8080/",
          "height": 904
        },
        "outputId": "ddec3bc6-551e-4067-d446-9de3a1471039"
      },
      "source": [
        "model_rnn_happy.compile('adam','binary_crossentropy',metrics=['accuracy'])\n",
        "es = EarlyStopping(monitor='val_loss',mode='min' ,patience=5, min_delta=0.0001,verbose=1)\n",
        "mcp = ModelCheckpoint(\"weights_rnn_happy.h5\",monitor='val_loss',verbose=1)\n",
        "history_rnn_happy = model_rnn_happy.fit(text_train_emb,Train_labels_happy,64,20,validation_split=0.1,callbacks=[es, mcp])\n",
        "print(\"Evaluating the model=====================================================\")\n",
        "model_rnn_happy.evaluate(text_test_emb,Test_labels_happy)\n",
        "print(\"Saving the model=========================================================\")\n",
        "saved_rnn_happy = load_model('weights_rnn_happy.h5')\n",
        "print(\"Evaluating saved model===================================================\")\n",
        "saved_rnn_happy.evaluate(text_test_emb,Test_labels_happy)"
      ],
      "execution_count": 42,
      "outputs": [
        {
          "output_type": "stream",
          "text": [
            "W0620 08:13:05.425816 140375192561536 deprecation_wrapper.py:119] From /usr/local/lib/python3.6/dist-packages/keras/backend/tensorflow_backend.py:986: The name tf.assign_add is deprecated. Please use tf.compat.v1.assign_add instead.\n",
            "\n"
          ],
          "name": "stderr"
        },
        {
          "output_type": "stream",
          "text": [
            "Train on 13761 samples, validate on 1529 samples\n",
            "Epoch 1/20\n",
            "13761/13761 [==============================] - 61s 4ms/step - loss: 0.6807 - acc: 0.5731 - val_loss: 0.6807 - val_acc: 0.5742\n",
            "\n",
            "Epoch 00001: saving model to weights_rnn_happy.h5\n",
            "Epoch 2/20\n",
            "13761/13761 [==============================] - 52s 4ms/step - loss: 0.6693 - acc: 0.6021 - val_loss: 0.6614 - val_acc: 0.6154\n",
            "\n",
            "Epoch 00002: saving model to weights_rnn_happy.h5\n",
            "Epoch 3/20\n",
            "13761/13761 [==============================] - 51s 4ms/step - loss: 0.6518 - acc: 0.6254 - val_loss: 0.6511 - val_acc: 0.6279\n",
            "\n",
            "Epoch 00003: saving model to weights_rnn_happy.h5\n",
            "Epoch 4/20\n",
            "13761/13761 [==============================] - 51s 4ms/step - loss: 0.6431 - acc: 0.6399 - val_loss: 0.6496 - val_acc: 0.6187\n",
            "\n",
            "Epoch 00004: saving model to weights_rnn_happy.h5\n",
            "Epoch 5/20\n",
            "13761/13761 [==============================] - 51s 4ms/step - loss: 0.6332 - acc: 0.6502 - val_loss: 0.6452 - val_acc: 0.6318\n",
            "\n",
            "Epoch 00005: saving model to weights_rnn_happy.h5\n",
            "Epoch 6/20\n",
            "13761/13761 [==============================] - 51s 4ms/step - loss: 0.6216 - acc: 0.6651 - val_loss: 0.6471 - val_acc: 0.6305\n",
            "\n",
            "Epoch 00006: saving model to weights_rnn_happy.h5\n",
            "Epoch 7/20\n",
            "13761/13761 [==============================] - 50s 4ms/step - loss: 0.6131 - acc: 0.6722 - val_loss: 0.6467 - val_acc: 0.6285\n",
            "\n",
            "Epoch 00007: saving model to weights_rnn_happy.h5\n",
            "Epoch 8/20\n",
            "13761/13761 [==============================] - 50s 4ms/step - loss: 0.5939 - acc: 0.6947 - val_loss: 0.6783 - val_acc: 0.6154\n",
            "\n",
            "Epoch 00008: saving model to weights_rnn_happy.h5\n",
            "Epoch 9/20\n",
            "13761/13761 [==============================] - 51s 4ms/step - loss: 0.5774 - acc: 0.7106 - val_loss: 0.6797 - val_acc: 0.6259\n",
            "\n",
            "Epoch 00009: saving model to weights_rnn_happy.h5\n",
            "Epoch 10/20\n",
            "13761/13761 [==============================] - 50s 4ms/step - loss: 0.5399 - acc: 0.7428 - val_loss: 0.6919 - val_acc: 0.6200\n",
            "\n",
            "Epoch 00010: saving model to weights_rnn_happy.h5\n",
            "Epoch 00010: early stopping\n",
            "Evaluating the model=====================================================\n",
            "4832/4832 [==============================] - 13s 3ms/step\n",
            "Saving the model=========================================================\n",
            "Evaluating saved model===================================================\n",
            "4832/4832 [==============================] - 15s 3ms/step\n"
          ],
          "name": "stdout"
        },
        {
          "output_type": "execute_result",
          "data": {
            "text/plain": [
              "[0.7062204468329221, 0.6148592715231788]"
            ]
          },
          "metadata": {
            "tags": []
          },
          "execution_count": 42
        }
      ]
    },
    {
      "cell_type": "code",
      "metadata": {
        "id": "Z2eUZ0jXYkB2",
        "colab_type": "code",
        "colab": {
          "base_uri": "https://localhost:8080/",
          "height": 572
        },
        "outputId": "c88746ff-f544-4f0d-d641-435234b80a68"
      },
      "source": [
        "model_rnn_angry.compile('adam','binary_crossentropy',metrics=['accuracy'])\n",
        "es = EarlyStopping(monitor='val_loss',mode='min' ,patience=5, min_delta=0.0001,verbose=1)\n",
        "mcp = ModelCheckpoint(\"weights_rnn_angry.h5\",monitor='val_loss',verbose=1)\n",
        "history_rnn_angry = model_rnn_angry.fit(text_train_emb,Train_labels_angry,64,20,validation_split=0.1,callbacks=[es, mcp])\n",
        "print(\"Evaluating the model=====================================================\")\n",
        "model_rnn_angry.evaluate(text_test_emb,Test_labels_angry)\n",
        "print(\"Saving the model=========================================================\")\n",
        "saved_rnn_angry = load_model('weights_rnn_angry.h5')\n",
        "print(\"Evaluating saved model===================================================\")\n",
        "saved_rnn_angry.evaluate(text_test_emb,Test_labels_angry)"
      ],
      "execution_count": 43,
      "outputs": [
        {
          "output_type": "stream",
          "text": [
            "Train on 13761 samples, validate on 1529 samples\n",
            "Epoch 1/20\n",
            "13761/13761 [==============================] - 58s 4ms/step - loss: 0.5261 - acc: 0.7635 - val_loss: 0.4550 - val_acc: 0.8234\n",
            "\n",
            "Epoch 00001: saving model to weights_rnn_angry.h5\n",
            "Epoch 2/20\n",
            "13761/13761 [==============================] - 51s 4ms/step - loss: 0.4995 - acc: 0.7700 - val_loss: 0.4584 - val_acc: 0.8169\n",
            "\n",
            "Epoch 00002: saving model to weights_rnn_angry.h5\n",
            "Epoch 3/20\n",
            "13761/13761 [==============================] - 51s 4ms/step - loss: 0.4779 - acc: 0.7774 - val_loss: 0.4572 - val_acc: 0.8136\n",
            "\n",
            "Epoch 00003: saving model to weights_rnn_angry.h5\n",
            "Epoch 4/20\n",
            "13761/13761 [==============================] - 51s 4ms/step - loss: 0.4410 - acc: 0.7984 - val_loss: 0.4840 - val_acc: 0.7835\n",
            "\n",
            "Epoch 00004: saving model to weights_rnn_angry.h5\n",
            "Epoch 5/20\n",
            "13761/13761 [==============================] - 51s 4ms/step - loss: 0.3889 - acc: 0.8250 - val_loss: 0.5421 - val_acc: 0.7698\n",
            "\n",
            "Epoch 00005: saving model to weights_rnn_angry.h5\n",
            "Epoch 6/20\n",
            "13761/13761 [==============================] - 51s 4ms/step - loss: 0.3235 - acc: 0.8635 - val_loss: 0.5318 - val_acc: 0.7861\n",
            "\n",
            "Epoch 00006: saving model to weights_rnn_angry.h5\n",
            "Epoch 00006: early stopping\n",
            "Evaluating the model=====================================================\n",
            "4832/4832 [==============================] - 14s 3ms/step\n",
            "Saving the model=========================================================\n",
            "Evaluating saved model===================================================\n",
            "4832/4832 [==============================] - 16s 3ms/step\n"
          ],
          "name": "stdout"
        },
        {
          "output_type": "execute_result",
          "data": {
            "text/plain": [
              "[0.5514814281799146, 0.7754552980132451]"
            ]
          },
          "metadata": {
            "tags": []
          },
          "execution_count": 43
        }
      ]
    },
    {
      "cell_type": "code",
      "metadata": {
        "id": "LUbD6nKDZQQy",
        "colab_type": "code",
        "colab": {
          "base_uri": "https://localhost:8080/",
          "height": 572
        },
        "outputId": "1a8471f3-3a75-4627-a7ba-d1a3abbf74ec"
      },
      "source": [
        "model_rnn_disgust.compile('adam','binary_crossentropy',metrics=['accuracy'])\n",
        "es = EarlyStopping(monitor='val_loss',mode='min' ,patience=5, min_delta=0.0001,verbose=1)\n",
        "mcp = ModelCheckpoint(\"weights_rnn_disgust.h5\",monitor='val_loss',verbose=1)\n",
        "history_rnn_disgust = model_rnn_disgust.fit(text_train_emb,Train_labels_disgust,64,20,validation_split=0.1,callbacks=[es, mcp])\n",
        "print(\"Evaluating the model=====================================================\")\n",
        "model_rnn_disgust.evaluate(text_test_emb,Test_labels_disgust)\n",
        "print(\"Saving the model=========================================================\")\n",
        "saved_rnn_disgust = load_model('weights_rnn_disgust.h5')\n",
        "print(\"Evaluating saved model===================================================\")\n",
        "saved_rnn_disgust.evaluate(text_test_emb,Test_labels_disgust)"
      ],
      "execution_count": 44,
      "outputs": [
        {
          "output_type": "stream",
          "text": [
            "Train on 13761 samples, validate on 1529 samples\n",
            "Epoch 1/20\n",
            "13761/13761 [==============================] - 61s 4ms/step - loss: 0.3827 - acc: 0.8262 - val_loss: 0.3699 - val_acc: 0.8502\n",
            "\n",
            "Epoch 00001: saving model to weights_rnn_disgust.h5\n",
            "Epoch 2/20\n",
            "13761/13761 [==============================] - 51s 4ms/step - loss: 0.3370 - acc: 0.8473 - val_loss: 0.3934 - val_acc: 0.8143\n",
            "\n",
            "Epoch 00002: saving model to weights_rnn_disgust.h5\n",
            "Epoch 3/20\n",
            "13761/13761 [==============================] - 51s 4ms/step - loss: 0.2871 - acc: 0.8727 - val_loss: 0.4279 - val_acc: 0.8201\n",
            "\n",
            "Epoch 00003: saving model to weights_rnn_disgust.h5\n",
            "Epoch 4/20\n",
            "13761/13761 [==============================] - 51s 4ms/step - loss: 0.2244 - acc: 0.9100 - val_loss: 0.4989 - val_acc: 0.7992\n",
            "\n",
            "Epoch 00004: saving model to weights_rnn_disgust.h5\n",
            "Epoch 5/20\n",
            "13761/13761 [==============================] - 51s 4ms/step - loss: 0.1774 - acc: 0.9318 - val_loss: 0.5349 - val_acc: 0.7979\n",
            "\n",
            "Epoch 00005: saving model to weights_rnn_disgust.h5\n",
            "Epoch 6/20\n",
            "13761/13761 [==============================] - 51s 4ms/step - loss: 0.1374 - acc: 0.9516 - val_loss: 0.5707 - val_acc: 0.8143\n",
            "\n",
            "Epoch 00006: saving model to weights_rnn_disgust.h5\n",
            "Epoch 00006: early stopping\n",
            "Evaluating the model=====================================================\n",
            "4832/4832 [==============================] - 13s 3ms/step\n",
            "Saving the model=========================================================\n",
            "Evaluating saved model===================================================\n",
            "4832/4832 [==============================] - 16s 3ms/step\n"
          ],
          "name": "stdout"
        },
        {
          "output_type": "execute_result",
          "data": {
            "text/plain": [
              "[0.6969439076222727, 0.7781456953642384]"
            ]
          },
          "metadata": {
            "tags": []
          },
          "execution_count": 44
        }
      ]
    },
    {
      "cell_type": "code",
      "metadata": {
        "id": "Z_LtE1WJZb85",
        "colab_type": "code",
        "colab": {
          "base_uri": "https://localhost:8080/",
          "height": 572
        },
        "outputId": "e1cafec9-97c5-49dd-f023-cbda612d07a1"
      },
      "source": [
        "model_rnn_fear.compile('adam','binary_crossentropy',metrics=['accuracy'])\n",
        "es = EarlyStopping(monitor='val_loss',mode='min' ,patience=5, min_delta=0.0001,verbose=1)\n",
        "mcp = ModelCheckpoint(\"weights_rnn_fear.h5\",monitor='val_loss',verbose=1)\n",
        "history_rnn_fear = model_rnn_fear.fit(text_train_emb,Train_labels_fear,64,20,validation_split=0.1,callbacks=[es, mcp])\n",
        "print(\"Evaluating the model=====================================================\")\n",
        "model_rnn_fear.evaluate(text_test_emb,Test_labels_fear)\n",
        "print(\"Saving the model=========================================================\")\n",
        "saved_rnn_fear = load_model('weights_rnn_fear.h5')\n",
        "print(\"Evaluating saved model===================================================\")\n",
        "saved_rnn_fear.evaluate(text_test_emb,Test_labels_fear)"
      ],
      "execution_count": 45,
      "outputs": [
        {
          "output_type": "stream",
          "text": [
            "Train on 13761 samples, validate on 1529 samples\n",
            "Epoch 1/20\n",
            "13761/13761 [==============================] - 63s 5ms/step - loss: 0.2957 - acc: 0.9113 - val_loss: 0.2971 - val_acc: 0.9111\n",
            "\n",
            "Epoch 00001: saving model to weights_rnn_fear.h5\n",
            "Epoch 2/20\n",
            "13761/13761 [==============================] - 51s 4ms/step - loss: 0.2767 - acc: 0.9140 - val_loss: 0.2971 - val_acc: 0.9111\n",
            "\n",
            "Epoch 00002: saving model to weights_rnn_fear.h5\n",
            "Epoch 3/20\n",
            "13761/13761 [==============================] - 51s 4ms/step - loss: 0.2506 - acc: 0.9148 - val_loss: 0.3198 - val_acc: 0.9065\n",
            "\n",
            "Epoch 00003: saving model to weights_rnn_fear.h5\n",
            "Epoch 4/20\n",
            "13761/13761 [==============================] - 51s 4ms/step - loss: 0.1990 - acc: 0.9292 - val_loss: 0.3604 - val_acc: 0.9012\n",
            "\n",
            "Epoch 00004: saving model to weights_rnn_fear.h5\n",
            "Epoch 5/20\n",
            "13761/13761 [==============================] - 51s 4ms/step - loss: 0.1430 - acc: 0.9498 - val_loss: 0.3652 - val_acc: 0.8901\n",
            "\n",
            "Epoch 00005: saving model to weights_rnn_fear.h5\n",
            "Epoch 6/20\n",
            "13761/13761 [==============================] - 51s 4ms/step - loss: 0.0985 - acc: 0.9655 - val_loss: 0.4044 - val_acc: 0.8836\n",
            "\n",
            "Epoch 00006: saving model to weights_rnn_fear.h5\n",
            "Epoch 00006: early stopping\n",
            "Evaluating the model=====================================================\n",
            "4832/4832 [==============================] - 13s 3ms/step\n",
            "Saving the model=========================================================\n",
            "Evaluating saved model===================================================\n",
            "4832/4832 [==============================] - 17s 4ms/step\n"
          ],
          "name": "stdout"
        },
        {
          "output_type": "execute_result",
          "data": {
            "text/plain": [
              "[0.31313243837694066, 0.9045943708609272]"
            ]
          },
          "metadata": {
            "tags": []
          },
          "execution_count": 45
        }
      ]
    },
    {
      "cell_type": "code",
      "metadata": {
        "id": "t365WOQ-ZwxJ",
        "colab_type": "code",
        "colab": {
          "base_uri": "https://localhost:8080/",
          "height": 572
        },
        "outputId": "43efb4ec-b35b-42e0-a9dd-768388233c06"
      },
      "source": [
        "model_rnn_sad.compile('adam','binary_crossentropy',metrics=['accuracy'])\n",
        "es = EarlyStopping(monitor='val_loss',mode='min' ,patience=5, min_delta=0.0001,verbose=1)\n",
        "mcp = ModelCheckpoint(\"weights_rnn_sad.h5\",monitor='val_loss',verbose=1)\n",
        "history_rnn_sad = model_rnn_sad.fit(text_train_emb,Train_labels_sad,64,20,validation_split=0.1,callbacks=[es, mcp])\n",
        "print(\"Evaluating the model=====================================================\")\n",
        "model_rnn_sad.evaluate(text_test_emb,Test_labels_sad)\n",
        "print(\"Saving the model=========================================================\")\n",
        "saved_rnn_sad = load_model('weights_rnn_sad.h5')\n",
        "print(\"Evaluating saved model===================================================\")\n",
        "saved_rnn_sad.evaluate(text_test_emb,Test_labels_sad)"
      ],
      "execution_count": 46,
      "outputs": [
        {
          "output_type": "stream",
          "text": [
            "Train on 13761 samples, validate on 1529 samples\n",
            "Epoch 1/20\n",
            "13761/13761 [==============================] - 64s 5ms/step - loss: 0.5647 - acc: 0.7384 - val_loss: 0.5282 - val_acc: 0.7619\n",
            "\n",
            "Epoch 00001: saving model to weights_rnn_sad.h5\n",
            "Epoch 2/20\n",
            "13761/13761 [==============================] - 51s 4ms/step - loss: 0.5052 - acc: 0.7543 - val_loss: 0.5391 - val_acc: 0.7449\n",
            "\n",
            "Epoch 00002: saving model to weights_rnn_sad.h5\n",
            "Epoch 3/20\n",
            "13761/13761 [==============================] - 51s 4ms/step - loss: 0.4137 - acc: 0.8062 - val_loss: 0.6021 - val_acc: 0.7279\n",
            "\n",
            "Epoch 00003: saving model to weights_rnn_sad.h5\n",
            "Epoch 4/20\n",
            "13761/13761 [==============================] - 51s 4ms/step - loss: 0.2965 - acc: 0.8704 - val_loss: 0.7356 - val_acc: 0.6808\n",
            "\n",
            "Epoch 00004: saving model to weights_rnn_sad.h5\n",
            "Epoch 5/20\n",
            "13761/13761 [==============================] - 50s 4ms/step - loss: 0.2047 - acc: 0.9140 - val_loss: 0.8761 - val_acc: 0.6854\n",
            "\n",
            "Epoch 00005: saving model to weights_rnn_sad.h5\n",
            "Epoch 6/20\n",
            "13761/13761 [==============================] - 50s 4ms/step - loss: 0.1541 - acc: 0.9395 - val_loss: 1.0532 - val_acc: 0.6972\n",
            "\n",
            "Epoch 00006: saving model to weights_rnn_sad.h5\n",
            "Epoch 00006: early stopping\n",
            "Evaluating the model=====================================================\n",
            "4832/4832 [==============================] - 13s 3ms/step\n",
            "Saving the model=========================================================\n",
            "Evaluating saved model===================================================\n",
            "4832/4832 [==============================] - 18s 4ms/step\n"
          ],
          "name": "stdout"
        },
        {
          "output_type": "execute_result",
          "data": {
            "text/plain": [
              "[1.1716919887243518, 0.6612168874172185]"
            ]
          },
          "metadata": {
            "tags": []
          },
          "execution_count": 46
        }
      ]
    },
    {
      "cell_type": "code",
      "metadata": {
        "id": "akt6fqJ29uMk",
        "colab_type": "code",
        "colab": {
          "base_uri": "https://localhost:8080/",
          "height": 641
        },
        "outputId": "4b2285dc-9792-40d0-b674-29284b611a41"
      },
      "source": [
        "model_rnn_surprise.compile('adam','binary_crossentropy',metrics=['accuracy'])\n",
        "es = EarlyStopping(monitor='val_loss',mode='min' ,patience=5, min_delta=0.0001,verbose=1)\n",
        "mcp = ModelCheckpoint(\"weights_rnn_surprise.h5\",monitor='val_loss',verbose=1)\n",
        "history_rnn_surprise = model_rnn_surprise.fit(text_train_emb,Train_labels_surprise,64,20,validation_split=0.1,callbacks=[es, mcp])\n",
        "print(\"Evaluating the model=====================================================\")\n",
        "model_rnn_surprise.evaluate(text_test_emb,Test_labels_surprise)\n",
        "print(\"Saving the model=========================================================\")\n",
        "saved_rnn_surprise = load_model('weights_rnn_surprise.h5')\n",
        "print(\"Evaluating saved model===================================================\")\n",
        "saved_rnn_surprise.evaluate(text_test_emb,Test_labels_surprise)"
      ],
      "execution_count": 47,
      "outputs": [
        {
          "output_type": "stream",
          "text": [
            "Train on 13761 samples, validate on 1529 samples\n",
            "Epoch 1/20\n",
            "13761/13761 [==============================] - 67s 5ms/step - loss: 0.3499 - acc: 0.8887 - val_loss: 0.2966 - val_acc: 0.9091\n",
            "\n",
            "Epoch 00001: saving model to weights_rnn_surprise.h5\n",
            "Epoch 2/20\n",
            "13761/13761 [==============================] - 51s 4ms/step - loss: 0.3151 - acc: 0.8966 - val_loss: 0.2959 - val_acc: 0.9091\n",
            "\n",
            "Epoch 00002: saving model to weights_rnn_surprise.h5\n",
            "Epoch 3/20\n",
            "13761/13761 [==============================] - 50s 4ms/step - loss: 0.2852 - acc: 0.8977 - val_loss: 0.3130 - val_acc: 0.9078\n",
            "\n",
            "Epoch 00003: saving model to weights_rnn_surprise.h5\n",
            "Epoch 4/20\n",
            "13761/13761 [==============================] - 50s 4ms/step - loss: 0.2191 - acc: 0.9182 - val_loss: 0.3428 - val_acc: 0.8960\n",
            "\n",
            "Epoch 00004: saving model to weights_rnn_surprise.h5\n",
            "Epoch 5/20\n",
            "13761/13761 [==============================] - 50s 4ms/step - loss: 0.1428 - acc: 0.9462 - val_loss: 0.4047 - val_acc: 0.8672\n",
            "\n",
            "Epoch 00005: saving model to weights_rnn_surprise.h5\n",
            "Epoch 6/20\n",
            "13761/13761 [==============================] - 50s 4ms/step - loss: 0.0944 - acc: 0.9675 - val_loss: 0.4887 - val_acc: 0.8613\n",
            "\n",
            "Epoch 00006: saving model to weights_rnn_surprise.h5\n",
            "Epoch 7/20\n",
            "13761/13761 [==============================] - 51s 4ms/step - loss: 0.0677 - acc: 0.9776 - val_loss: 0.6111 - val_acc: 0.8770\n",
            "\n",
            "Epoch 00007: saving model to weights_rnn_surprise.h5\n",
            "Epoch 00007: early stopping\n",
            "Evaluating the model=====================================================\n",
            "4832/4832 [==============================] - 14s 3ms/step\n",
            "Saving the model=========================================================\n",
            "Evaluating saved model===================================================\n",
            "4832/4832 [==============================] - 19s 4ms/step\n"
          ],
          "name": "stdout"
        },
        {
          "output_type": "execute_result",
          "data": {
            "text/plain": [
              "[0.6632042229776919, 0.8727235099337748]"
            ]
          },
          "metadata": {
            "tags": []
          },
          "execution_count": 47
        }
      ]
    },
    {
      "cell_type": "code",
      "metadata": {
        "id": "YcUj8J6aIyEx",
        "colab_type": "code",
        "colab": {
          "base_uri": "https://localhost:8080/",
          "height": 104
        },
        "outputId": "0976ab02-6ba5-4d64-ed2d-79e89ff92de5"
      },
      "source": [
        "ls"
      ],
      "execution_count": 48,
      "outputs": [
        {
          "output_type": "stream",
          "text": [
            "\u001b[0m\u001b[01;34mdata\u001b[0m/                weights_rnn_angry.h5    weights_rnn_surprise.h5\n",
            "\u001b[01;34mlabels\u001b[0m/              weights_rnn_disgust.h5  y_test_onehot.csv\n",
            "modify_labels.ipynb  weights_rnn_fear.h5     y_train_onehot.csv\n",
            "MOSEI_dataset.ipynb  weights_rnn_happy.h5    y_valid_onehot.csv\n",
            "\u001b[01;32mmosei.sh\u001b[0m*            weights_rnn_sad.h5\n"
          ],
          "name": "stdout"
        }
      ]
    },
    {
      "cell_type": "code",
      "metadata": {
        "id": "hRA7-sjNIttC",
        "colab_type": "code",
        "colab": {}
      },
      "source": [
        "from google.colab import files\n",
        "files.download('weights_rnn_angry.h5')\n",
        "files.download('weights_rnn_disgust.h5')\n",
        "files.download('weights_rnn_fear.h5')\n",
        "files.download('weights_rnn_happy.h5')\n",
        "files.download('weights_rnn_sad.h5')\n",
        "files.download('weights_rnn_surprise.h5')"
      ],
      "execution_count": 0,
      "outputs": []
    },
    {
      "cell_type": "code",
      "metadata": {
        "id": "73yeQjXWT9--",
        "colab_type": "code",
        "colab": {}
      },
      "source": [
        "from keras.layers import Conv1D,MaxPool1D,Flatten"
      ],
      "execution_count": 0,
      "outputs": []
    },
    {
      "cell_type": "code",
      "metadata": {
        "id": "F5YIilneURZ8",
        "colab_type": "code",
        "colab": {}
      },
      "source": [
        "model_cnn = Sequential()\n",
        "model_cnn.add(Conv1D(32,3,padding='same',activation = 'relu',input_shape=(20,300)))\n",
        "model_cnn.add(Conv1D(32,3,padding='same',activation = 'relu'))\n",
        "model_cnn.add(MaxPool1D(2))\n",
        "model_cnn.add(Conv1D(64,3,padding='same',activation = 'relu'))\n",
        "model_cnn.add(Conv1D(64,3,padding='same',activation = 'relu'))\n",
        "model_cnn.add(MaxPool1D(2))\n",
        "model_cnn.add(Conv1D(128,3,padding='same',activation = 'relu'))\n",
        "model_cnn.add(Conv1D(128,3,padding='same',activation = 'relu'))\n",
        "model_cnn.add(MaxPool1D(2))\n",
        "model_cnn.add(Flatten())\n",
        "model_cnn.add(Dense(1024,activation='relu'))\n",
        "model_cnn.add(Dense(512,activation='relu'))\n",
        "model_cnn.add(Dense(128,activation='relu'))\n",
        "model_cnn.add(Dense(1,activation='sigmoid'))"
      ],
      "execution_count": 0,
      "outputs": []
    },
    {
      "cell_type": "code",
      "metadata": {
        "id": "UlIicbFTUWw2",
        "colab_type": "code",
        "colab": {
          "base_uri": "https://localhost:8080/",
          "height": 624
        },
        "outputId": "211e5a0a-6212-4e8d-e01c-f8fe7a99f77c"
      },
      "source": [
        "model_cnn.summary()"
      ],
      "execution_count": 82,
      "outputs": [
        {
          "output_type": "stream",
          "text": [
            "_________________________________________________________________\n",
            "Layer (type)                 Output Shape              Param #   \n",
            "=================================================================\n",
            "conv1d_7 (Conv1D)            (None, 20, 32)            28832     \n",
            "_________________________________________________________________\n",
            "conv1d_8 (Conv1D)            (None, 20, 32)            3104      \n",
            "_________________________________________________________________\n",
            "max_pooling1d_4 (MaxPooling1 (None, 10, 32)            0         \n",
            "_________________________________________________________________\n",
            "conv1d_9 (Conv1D)            (None, 10, 64)            6208      \n",
            "_________________________________________________________________\n",
            "conv1d_10 (Conv1D)           (None, 10, 64)            12352     \n",
            "_________________________________________________________________\n",
            "max_pooling1d_5 (MaxPooling1 (None, 5, 64)             0         \n",
            "_________________________________________________________________\n",
            "conv1d_11 (Conv1D)           (None, 5, 128)            24704     \n",
            "_________________________________________________________________\n",
            "conv1d_12 (Conv1D)           (None, 5, 128)            49280     \n",
            "_________________________________________________________________\n",
            "max_pooling1d_6 (MaxPooling1 (None, 2, 128)            0         \n",
            "_________________________________________________________________\n",
            "flatten_2 (Flatten)          (None, 256)               0         \n",
            "_________________________________________________________________\n",
            "dense_11 (Dense)             (None, 1024)              263168    \n",
            "_________________________________________________________________\n",
            "dense_12 (Dense)             (None, 512)               524800    \n",
            "_________________________________________________________________\n",
            "dense_13 (Dense)             (None, 128)               65664     \n",
            "_________________________________________________________________\n",
            "dense_14 (Dense)             (None, 1)                 129       \n",
            "=================================================================\n",
            "Total params: 978,241\n",
            "Trainable params: 978,241\n",
            "Non-trainable params: 0\n",
            "_________________________________________________________________\n"
          ],
          "name": "stdout"
        }
      ]
    },
    {
      "cell_type": "code",
      "metadata": {
        "id": "qQF8b-qDUZGA",
        "colab_type": "code",
        "colab": {}
      },
      "source": [
        "model_cnn.compile('adam','binary_crossentropy',['accuracy'])"
      ],
      "execution_count": 0,
      "outputs": []
    },
    {
      "cell_type": "code",
      "metadata": {
        "id": "PGV1DFwkUbz3",
        "colab_type": "code",
        "colab": {}
      },
      "source": [
        "es = EarlyStopping(monitor='val_loss',mode='min' ,patience=5, min_delta=0.0001)\n",
        "mcp = ModelCheckpoint(\"weights_cnn_happy.h5\",monitor='val_loss',verbose=1)"
      ],
      "execution_count": 0,
      "outputs": []
    },
    {
      "cell_type": "code",
      "metadata": {
        "id": "P4oWSsWEUlKF",
        "colab_type": "code",
        "colab": {
          "base_uri": "https://localhost:8080/",
          "height": 520
        },
        "outputId": "38bb9aa9-4ffb-4131-9afe-2929fbea69d9"
      },
      "source": [
        "history_cnn = model_cnn.fit(text_train_emb,Train_labels_happy,64,20,validation_split=0.1,callbacks=[es,mcp])"
      ],
      "execution_count": 86,
      "outputs": [
        {
          "output_type": "stream",
          "text": [
            "Train on 13760 samples, validate on 1529 samples\n",
            "Epoch 1/20\n",
            "13760/13760 [==============================] - 12s 876us/step - loss: 0.6675 - acc: 0.5930 - val_loss: 0.6526 - val_acc: 0.6050\n",
            "\n",
            "Epoch 00001: saving model to weights_cnn_happy.h5\n",
            "Epoch 2/20\n",
            "13760/13760 [==============================] - 2s 150us/step - loss: 0.6417 - acc: 0.6383 - val_loss: 0.6492 - val_acc: 0.6135\n",
            "\n",
            "Epoch 00002: saving model to weights_cnn_happy.h5\n",
            "Epoch 3/20\n",
            "13760/13760 [==============================] - 2s 145us/step - loss: 0.6274 - acc: 0.6587 - val_loss: 0.6507 - val_acc: 0.6167\n",
            "\n",
            "Epoch 00003: saving model to weights_cnn_happy.h5\n",
            "Epoch 4/20\n",
            "13760/13760 [==============================] - 2s 145us/step - loss: 0.5986 - acc: 0.6882 - val_loss: 0.6532 - val_acc: 0.6409\n",
            "\n",
            "Epoch 00004: saving model to weights_cnn_happy.h5\n",
            "Epoch 5/20\n",
            "13760/13760 [==============================] - 2s 144us/step - loss: 0.5598 - acc: 0.7174 - val_loss: 0.6872 - val_acc: 0.6128\n",
            "\n",
            "Epoch 00005: saving model to weights_cnn_happy.h5\n",
            "Epoch 6/20\n",
            "13760/13760 [==============================] - 2s 144us/step - loss: 0.5089 - acc: 0.7558 - val_loss: 0.7467 - val_acc: 0.6037\n",
            "\n",
            "Epoch 00006: saving model to weights_cnn_happy.h5\n",
            "Epoch 7/20\n",
            "13760/13760 [==============================] - 2s 148us/step - loss: 0.4576 - acc: 0.7918 - val_loss: 0.7800 - val_acc: 0.5873\n",
            "\n",
            "Epoch 00007: saving model to weights_cnn_happy.h5\n"
          ],
          "name": "stdout"
        }
      ]
    },
    {
      "cell_type": "code",
      "metadata": {
        "id": "YmcecToyWwk9",
        "colab_type": "code",
        "colab": {
          "base_uri": "https://localhost:8080/",
          "height": 52
        },
        "outputId": "7bff7183-446a-4c73-8d26-93586f6cb10c"
      },
      "source": [
        "model_cnn.evaluate(text_test_emb,Test_labels_happy)"
      ],
      "execution_count": 88,
      "outputs": [
        {
          "output_type": "stream",
          "text": [
            "4831/4831 [==============================] - 1s 114us/step\n"
          ],
          "name": "stdout"
        },
        {
          "output_type": "execute_result",
          "data": {
            "text/plain": [
              "[0.7884256262829574, 0.5864210306944203]"
            ]
          },
          "metadata": {
            "tags": []
          },
          "execution_count": 88
        }
      ]
    },
    {
      "cell_type": "code",
      "metadata": {
        "id": "F1eoYD2sW2dL",
        "colab_type": "code",
        "colab": {
          "base_uri": "https://localhost:8080/",
          "height": 52
        },
        "outputId": "2c77efeb-e741-4e6d-bee1-4659f9d7872c"
      },
      "source": [
        "from keras.models import load_model\n",
        "saved_cnn = load_model('weights_cnn_happy.h5')\n",
        "saved_cnn.evaluate(text_test_emb,Test_labels_happy)"
      ],
      "execution_count": 89,
      "outputs": [
        {
          "output_type": "stream",
          "text": [
            "4831/4831 [==============================] - 4s 774us/step\n"
          ],
          "name": "stdout"
        },
        {
          "output_type": "execute_result",
          "data": {
            "text/plain": [
              "[0.7884256262829574, 0.5864210306944203]"
            ]
          },
          "metadata": {
            "tags": []
          },
          "execution_count": 89
        }
      ]
    },
    {
      "cell_type": "code",
      "metadata": {
        "id": "QNal_L2DX0CG",
        "colab_type": "code",
        "colab": {}
      },
      "source": [
        ""
      ],
      "execution_count": 0,
      "outputs": []
    }
  ]
}
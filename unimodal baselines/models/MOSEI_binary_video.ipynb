{
  "nbformat": 4,
  "nbformat_minor": 0,
  "metadata": {
    "colab": {
      "name": "MOSEI_binary_video.ipynb",
      "version": "0.3.2",
      "provenance": [],
      "collapsed_sections": []
    },
    "kernelspec": {
      "name": "python3",
      "display_name": "Python 3"
    },
    "accelerator": "GPU"
  },
  "cells": [
    {
      "cell_type": "code",
      "metadata": {
        "id": "_JOnOqP5-T9z",
        "colab_type": "code",
        "colab": {
          "base_uri": "https://localhost:8080/",
          "height": 121
        },
        "outputId": "c5d11834-4ba7-4cf1-c8e9-79bfecb1cd26"
      },
      "source": [
        "!git clone \"https://github.com/convman/Multimodal-MOSEI\""
      ],
      "execution_count": 1,
      "outputs": [
        {
          "output_type": "stream",
          "text": [
            "Cloning into 'Multimodal-MOSEI'...\n",
            "remote: Enumerating objects: 33, done.\u001b[K\n",
            "remote: Counting objects: 100% (33/33), done.\u001b[K\n",
            "remote: Compressing objects: 100% (30/30), done.\u001b[K\n",
            "remote: Total 33 (delta 14), reused 0 (delta 0), pack-reused 0\u001b[K\n",
            "Unpacking objects: 100% (33/33), done.\n"
          ],
          "name": "stdout"
        }
      ]
    },
    {
      "cell_type": "code",
      "metadata": {
        "id": "K1Ij7rosALbg",
        "colab_type": "code",
        "colab": {
          "base_uri": "https://localhost:8080/",
          "height": 35
        },
        "outputId": "06e3eba6-55fa-40c1-9ed1-6c9a62077aab"
      },
      "source": [
        "cd Multimodal-MOSEI/data/"
      ],
      "execution_count": 2,
      "outputs": [
        {
          "output_type": "stream",
          "text": [
            "/content/Multimodal-MOSEI/data\n"
          ],
          "name": "stdout"
        }
      ]
    },
    {
      "cell_type": "code",
      "metadata": {
        "id": "Rjpq_Q1JANQ9",
        "colab_type": "code",
        "colab": {}
      },
      "source": [
        "!chmod +x mosei.sh\n",
        "!./mosei.sh"
      ],
      "execution_count": 0,
      "outputs": []
    },
    {
      "cell_type": "code",
      "metadata": {
        "id": "8EnJ9yA6APHw",
        "colab_type": "code",
        "colab": {
          "base_uri": "https://localhost:8080/",
          "height": 35
        },
        "outputId": "7a843663-db3e-4f82-93a7-035b1bc1d4dd"
      },
      "source": [
        "cd labels"
      ],
      "execution_count": 4,
      "outputs": [
        {
          "output_type": "stream",
          "text": [
            "/content/Multimodal-MOSEI/data/labels\n"
          ],
          "name": "stdout"
        }
      ]
    },
    {
      "cell_type": "code",
      "metadata": {
        "id": "QDFPgiaaASqj",
        "colab_type": "code",
        "colab": {}
      },
      "source": [
        "import numpy as np\n",
        "import h5py\n",
        "import pandas as pd"
      ],
      "execution_count": 0,
      "outputs": []
    },
    {
      "cell_type": "code",
      "metadata": {
        "id": "Erpp1VLZAUwh",
        "colab_type": "code",
        "colab": {}
      },
      "source": [
        "Test_labels_surprise = pd.read_csv(\"mosi2uni_Test_labels_surprise.csv\",header=None)\n",
        "Test_labels_angry = pd.read_csv(\"mosi2uni_Test_labels_angry.csv\",header=None)\n",
        "Test_labels_disgust = pd.read_csv(\"mosi2uni_Test_labels_disgust.csv\",header=None)\n",
        "Test_labels_fear = pd.read_csv(\"mosi2uni_Test_labels_fear.csv\",header=None)\n",
        "Test_labels_happy = pd.read_csv(\"mosi2uni_Test_labels_happy.csv\",header=None)\n",
        "Test_labels_sad = pd.read_csv(\"mosi2uni_Test_labels_sad.csv\",header=None)"
      ],
      "execution_count": 0,
      "outputs": []
    },
    {
      "cell_type": "code",
      "metadata": {
        "id": "6UyWkszAAXO2",
        "colab_type": "code",
        "colab": {}
      },
      "source": [
        "Train_labels_surprise = pd.read_csv(\"mosi2uni_Train_labels_surprise.csv\",header=None)\n",
        "Train_labels_angry = pd.read_csv(\"mosi2uni_Train_labels_angry.csv\",header=None)\n",
        "Train_labels_disgust = pd.read_csv(\"mosi2uni_Train_labels_disgust.csv\",header=None)\n",
        "Train_labels_fear = pd.read_csv(\"mosi2uni_Train_labels_fear.csv\",header=None)\n",
        "Train_labels_happy = pd.read_csv(\"mosi2uni_Train_labels_happy.csv\",header=None)\n",
        "Train_labels_sad = pd.read_csv(\"mosi2uni_Train_labels_sad.csv\",header=None)"
      ],
      "execution_count": 0,
      "outputs": []
    },
    {
      "cell_type": "code",
      "metadata": {
        "id": "MCb1trqwAZss",
        "colab_type": "code",
        "colab": {
          "base_uri": "https://localhost:8080/",
          "height": 52
        },
        "outputId": "f9f80ffa-575f-422f-bf6f-8505a3968b9d"
      },
      "source": [
        "print(Test_labels_happy.shape)\n",
        "print(Train_labels_happy.shape)"
      ],
      "execution_count": 8,
      "outputs": [
        {
          "output_type": "stream",
          "text": [
            "(4832, 1)\n",
            "(15290, 1)\n"
          ],
          "name": "stdout"
        }
      ]
    },
    {
      "cell_type": "code",
      "metadata": {
        "id": "BVXtmY5lAhtM",
        "colab_type": "code",
        "colab": {
          "base_uri": "https://localhost:8080/",
          "height": 52
        },
        "outputId": "103ee749-e369-43a7-c750-a4008c0679d4"
      },
      "source": [
        "video_train = h5py.File(\"../data/video_train.h5\",\"r\")\n",
        "print(list(video_train.keys()))\n",
        "video_train = np.array(video_train.get('d1'))\n",
        "# text_train_emb = text_train_emb[0:15289]\n",
        "# text_train_emb = text_train_emb[1:]\n",
        "video_train.shape"
      ],
      "execution_count": 9,
      "outputs": [
        {
          "output_type": "stream",
          "text": [
            "['d1']\n"
          ],
          "name": "stdout"
        },
        {
          "output_type": "execute_result",
          "data": {
            "text/plain": [
              "(15290, 20, 35)"
            ]
          },
          "metadata": {
            "tags": []
          },
          "execution_count": 9
        }
      ]
    },
    {
      "cell_type": "code",
      "metadata": {
        "id": "6_2odkrTBBj1",
        "colab_type": "code",
        "colab": {
          "base_uri": "https://localhost:8080/",
          "height": 52
        },
        "outputId": "53ce679e-2dd1-4d1d-d5ee-436b4d191dc7"
      },
      "source": [
        "video_test = h5py.File(\"../data/video_test.h5\",\"r\")\n",
        "print(list(video_test.keys()))\n",
        "video_test = np.array(video_test.get('d1'))\n",
        "# text_train_emb = text_train_emb[0:15289]\n",
        "# text_train_emb = text_train_emb[1:]\n",
        "video_test.shape"
      ],
      "execution_count": 10,
      "outputs": [
        {
          "output_type": "stream",
          "text": [
            "['d1']\n"
          ],
          "name": "stdout"
        },
        {
          "output_type": "execute_result",
          "data": {
            "text/plain": [
              "(4832, 20, 35)"
            ]
          },
          "metadata": {
            "tags": []
          },
          "execution_count": 10
        }
      ]
    },
    {
      "cell_type": "code",
      "metadata": {
        "id": "GXZSuC3gBZ8S",
        "colab_type": "code",
        "colab": {
          "base_uri": "https://localhost:8080/",
          "height": 35
        },
        "outputId": "b3750a4b-6dae-47f2-936e-b3f29642e653"
      },
      "source": [
        "import keras\n",
        "from keras.models import load_model\n",
        "from keras.models import Model,Sequential,Model\n",
        "from keras.layers import LSTM,Dense,Input\n",
        "from keras import callbacks\n",
        "from keras.callbacks import EarlyStopping, ModelCheckpoint"
      ],
      "execution_count": 11,
      "outputs": [
        {
          "output_type": "stream",
          "text": [
            "Using TensorFlow backend.\n"
          ],
          "name": "stderr"
        }
      ]
    },
    {
      "cell_type": "code",
      "metadata": {
        "id": "1eEfFv6NBecK",
        "colab_type": "code",
        "colab": {}
      },
      "source": [
        "i = Input(shape=(20,35))\n",
        "x = LSTM(units=256,return_sequences=True)(i)\n",
        "x = LSTM(units=256,return_sequences=True)(x)\n",
        "x = LSTM(units=128,return_sequences=True)(x)\n",
        "x = LSTM(units=128,return_sequences=True)(x)\n",
        "x = LSTM(units=64,return_sequences=True)(x)\n",
        "x = LSTM(units=64,return_sequences=True)(x)\n",
        "x = LSTM(units=32,return_sequences=True)(x)\n",
        "x = LSTM(units=32,return_sequences=False)(x)\n",
        "x = Dense(units=32,activation='relu')(x)\n",
        "x = Dense(units=32,activation='relu')(x)\n",
        "o = Dense(1,activation='sigmoid')(x)"
      ],
      "execution_count": 0,
      "outputs": []
    },
    {
      "cell_type": "code",
      "metadata": {
        "id": "bKOT4nwxBjJR",
        "colab_type": "code",
        "colab": {}
      },
      "source": [
        "model_rnn_happy = Model(inputs=i,outputs=o)\n",
        "model_rnn_angry = Model(inputs=i,outputs=o)\n",
        "model_rnn_fear = Model(inputs=i,outputs=o)\n",
        "model_rnn_surprise = Model(inputs=i,outputs=o)\n",
        "model_rnn_disgust = Model(inputs=i,outputs=o)\n",
        "model_rnn_sad = Model(inputs=i,outputs=o)"
      ],
      "execution_count": 0,
      "outputs": []
    },
    {
      "cell_type": "code",
      "metadata": {
        "id": "QT2gnYMsBqxH",
        "colab_type": "code",
        "colab": {
          "base_uri": "https://localhost:8080/",
          "height": 555
        },
        "outputId": "a7aeb44d-8da9-41bc-d5b6-017b6f5ed101"
      },
      "source": [
        "model_rnn_happy.summary()"
      ],
      "execution_count": 20,
      "outputs": [
        {
          "output_type": "stream",
          "text": [
            "_________________________________________________________________\n",
            "Layer (type)                 Output Shape              Param #   \n",
            "=================================================================\n",
            "input_2 (InputLayer)         (None, 20, 35)            0         \n",
            "_________________________________________________________________\n",
            "lstm_9 (LSTM)                (None, 20, 256)           299008    \n",
            "_________________________________________________________________\n",
            "lstm_10 (LSTM)               (None, 20, 256)           525312    \n",
            "_________________________________________________________________\n",
            "lstm_11 (LSTM)               (None, 20, 128)           197120    \n",
            "_________________________________________________________________\n",
            "lstm_12 (LSTM)               (None, 20, 128)           131584    \n",
            "_________________________________________________________________\n",
            "lstm_13 (LSTM)               (None, 20, 64)            49408     \n",
            "_________________________________________________________________\n",
            "lstm_14 (LSTM)               (None, 20, 64)            33024     \n",
            "_________________________________________________________________\n",
            "lstm_15 (LSTM)               (None, 20, 32)            12416     \n",
            "_________________________________________________________________\n",
            "lstm_16 (LSTM)               (None, 32)                8320      \n",
            "_________________________________________________________________\n",
            "dense_4 (Dense)              (None, 32)                1056      \n",
            "_________________________________________________________________\n",
            "dense_5 (Dense)              (None, 32)                1056      \n",
            "_________________________________________________________________\n",
            "dense_6 (Dense)              (None, 1)                 33        \n",
            "=================================================================\n",
            "Total params: 1,258,337\n",
            "Trainable params: 1,258,337\n",
            "Non-trainable params: 0\n",
            "_________________________________________________________________\n"
          ],
          "name": "stdout"
        }
      ]
    },
    {
      "cell_type": "code",
      "metadata": {
        "id": "JIDSxK4pBuum",
        "colab_type": "code",
        "colab": {}
      },
      "source": [
        "# cd data/"
      ],
      "execution_count": 0,
      "outputs": []
    },
    {
      "cell_type": "code",
      "metadata": {
        "id": "bwcAh2nnBzkZ",
        "colab_type": "code",
        "colab": {
          "base_uri": "https://localhost:8080/",
          "height": 35
        },
        "outputId": "0797ba81-6560-4871-920c-aa6d05d6346a"
      },
      "source": [
        "ls"
      ],
      "execution_count": 26,
      "outputs": [
        {
          "output_type": "stream",
          "text": [
            "\u001b[0m\u001b[01;34mdata\u001b[0m/  \u001b[01;34mlabels\u001b[0m/  modify_labels.ipynb  MOSEI_dataset.ipynb  \u001b[01;32mmosei.sh\u001b[0m*\n"
          ],
          "name": "stdout"
        }
      ]
    },
    {
      "cell_type": "code",
      "metadata": {
        "id": "h6RIrtyqB0Ex",
        "colab_type": "code",
        "colab": {
          "base_uri": "https://localhost:8080/",
          "height": 973
        },
        "outputId": "7384e066-ee0c-43a7-950e-10c69b12575a"
      },
      "source": [
        "model_rnn_happy.compile('adam','binary_crossentropy',metrics=['accuracy'])\n",
        "es = EarlyStopping(monitor='val_loss',mode='min' ,patience=5, min_delta=0.0001,verbose=1)\n",
        "mcp = ModelCheckpoint(\"weights_rnn_happy.h5\",monitor='val_loss',verbose=1)\n",
        "history_rnn_happy = model_rnn_happy.fit(video_train,Train_labels_happy,64,20,validation_split=0.1,callbacks=[es, mcp])\n",
        "print(\"Evaluating the model=====================================================\")\n",
        "model_rnn_happy.evaluate(video_test,Test_labels_happy)\n",
        "print(\"Saving the model=========================================================\")\n",
        "saved_rnn_happy = load_model('weights_rnn_happy.h5')\n",
        "print(\"Evaluating saved model===================================================\")\n",
        "saved_rnn_happy.evaluate(video_test,Test_labels_happy)"
      ],
      "execution_count": 27,
      "outputs": [
        {
          "output_type": "stream",
          "text": [
            "W0620 08:38:02.686558 140199368533888 deprecation_wrapper.py:119] From /usr/local/lib/python3.6/dist-packages/keras/backend/tensorflow_backend.py:986: The name tf.assign_add is deprecated. Please use tf.compat.v1.assign_add instead.\n",
            "\n"
          ],
          "name": "stderr"
        },
        {
          "output_type": "stream",
          "text": [
            "Train on 13761 samples, validate on 1529 samples\n",
            "Epoch 1/20\n",
            "13761/13761 [==============================] - 58s 4ms/step - loss: 0.6663 - acc: 0.6116 - val_loss: 0.6822 - val_acc: 0.6030\n",
            "\n",
            "Epoch 00001: saving model to weights_rnn_happy.h5\n",
            "Epoch 2/20\n",
            "13761/13761 [==============================] - 50s 4ms/step - loss: 0.6503 - acc: 0.6318 - val_loss: 0.6642 - val_acc: 0.6050\n",
            "\n",
            "Epoch 00002: saving model to weights_rnn_happy.h5\n",
            "Epoch 3/20\n",
            "13761/13761 [==============================] - 50s 4ms/step - loss: 0.6379 - acc: 0.6460 - val_loss: 0.6549 - val_acc: 0.6154\n",
            "\n",
            "Epoch 00003: saving model to weights_rnn_happy.h5\n",
            "Epoch 4/20\n",
            "13761/13761 [==============================] - 50s 4ms/step - loss: 0.6314 - acc: 0.6493 - val_loss: 0.6605 - val_acc: 0.6187\n",
            "\n",
            "Epoch 00004: saving model to weights_rnn_happy.h5\n",
            "Epoch 5/20\n",
            "13761/13761 [==============================] - 50s 4ms/step - loss: 0.6224 - acc: 0.6587 - val_loss: 0.6514 - val_acc: 0.6207\n",
            "\n",
            "Epoch 00005: saving model to weights_rnn_happy.h5\n",
            "Epoch 6/20\n",
            "13761/13761 [==============================] - 50s 4ms/step - loss: 0.6239 - acc: 0.6539 - val_loss: 0.6445 - val_acc: 0.6207\n",
            "\n",
            "Epoch 00006: saving model to weights_rnn_happy.h5\n",
            "Epoch 7/20\n",
            "13761/13761 [==============================] - 50s 4ms/step - loss: 0.6169 - acc: 0.6629 - val_loss: 0.6557 - val_acc: 0.6115\n",
            "\n",
            "Epoch 00007: saving model to weights_rnn_happy.h5\n",
            "Epoch 8/20\n",
            "13761/13761 [==============================] - 49s 4ms/step - loss: 0.6120 - acc: 0.6669 - val_loss: 0.6627 - val_acc: 0.6266\n",
            "\n",
            "Epoch 00008: saving model to weights_rnn_happy.h5\n",
            "Epoch 9/20\n",
            "13761/13761 [==============================] - 49s 4ms/step - loss: 0.6145 - acc: 0.6621 - val_loss: 0.6616 - val_acc: 0.6207\n",
            "\n",
            "Epoch 00009: saving model to weights_rnn_happy.h5\n",
            "Epoch 10/20\n",
            "13761/13761 [==============================] - 49s 4ms/step - loss: 0.6042 - acc: 0.6699 - val_loss: 0.6624 - val_acc: 0.6141\n",
            "\n",
            "Epoch 00010: saving model to weights_rnn_happy.h5\n",
            "Epoch 11/20\n",
            "13761/13761 [==============================] - 49s 4ms/step - loss: 0.6016 - acc: 0.6716 - val_loss: 0.6484 - val_acc: 0.6246\n",
            "\n",
            "Epoch 00011: saving model to weights_rnn_happy.h5\n",
            "Epoch 00011: early stopping\n",
            "Evaluating the model=====================================================\n",
            "4832/4832 [==============================] - 13s 3ms/step\n",
            "Saving the model=========================================================\n",
            "Evaluating saved model===================================================\n",
            "4832/4832 [==============================] - 14s 3ms/step\n"
          ],
          "name": "stdout"
        },
        {
          "output_type": "execute_result",
          "data": {
            "text/plain": [
              "[0.6223508188661361, 0.6504552980132451]"
            ]
          },
          "metadata": {
            "tags": []
          },
          "execution_count": 27
        }
      ]
    },
    {
      "cell_type": "code",
      "metadata": {
        "id": "iyr-SUjTCCuh",
        "colab_type": "code",
        "colab": {
          "base_uri": "https://localhost:8080/",
          "height": 711
        },
        "outputId": "428ac561-3109-4424-be5a-0d2e413476a6"
      },
      "source": [
        "model_rnn_angry.compile('adam','binary_crossentropy',metrics=['accuracy'])\n",
        "es = EarlyStopping(monitor='val_loss',mode='min' ,patience=5, min_delta=0.0001,verbose=1)\n",
        "mcp = ModelCheckpoint(\"weights_rnn_angry.h5\",monitor='val_loss',verbose=1)\n",
        "history_rnn_angry = model_rnn_angry.fit(video_train,Train_labels_angry,64,20,validation_split=0.1,callbacks=[es, mcp])\n",
        "print(\"Evaluating the model=====================================================\")\n",
        "model_rnn_angry.evaluate(video_test,Test_labels_angry)\n",
        "print(\"Saving the model=========================================================\")\n",
        "saved_rnn_angry = load_model('weights_rnn_angry.h5')\n",
        "print(\"Evaluating saved model===================================================\")\n",
        "saved_rnn_angry.evaluate(video_test,Test_labels_angry)"
      ],
      "execution_count": 28,
      "outputs": [
        {
          "output_type": "stream",
          "text": [
            "Train on 13761 samples, validate on 1529 samples\n",
            "Epoch 1/20\n",
            "13761/13761 [==============================] - 57s 4ms/step - loss: 0.5423 - acc: 0.7651 - val_loss: 0.4799 - val_acc: 0.8234\n",
            "\n",
            "Epoch 00001: saving model to weights_rnn_angry.h5\n",
            "Epoch 2/20\n",
            "13761/13761 [==============================] - 50s 4ms/step - loss: 0.5217 - acc: 0.7694 - val_loss: 0.4820 - val_acc: 0.8234\n",
            "\n",
            "Epoch 00002: saving model to weights_rnn_angry.h5\n",
            "Epoch 3/20\n",
            "13761/13761 [==============================] - 50s 4ms/step - loss: 0.5327 - acc: 0.7694 - val_loss: 0.4703 - val_acc: 0.8234\n",
            "\n",
            "Epoch 00003: saving model to weights_rnn_angry.h5\n",
            "Epoch 4/20\n",
            "13761/13761 [==============================] - 50s 4ms/step - loss: 0.5193 - acc: 0.7694 - val_loss: 0.4775 - val_acc: 0.8234\n",
            "\n",
            "Epoch 00004: saving model to weights_rnn_angry.h5\n",
            "Epoch 5/20\n",
            "13761/13761 [==============================] - 50s 4ms/step - loss: 0.5151 - acc: 0.7694 - val_loss: 0.4819 - val_acc: 0.8234\n",
            "\n",
            "Epoch 00005: saving model to weights_rnn_angry.h5\n",
            "Epoch 6/20\n",
            "13761/13761 [==============================] - 50s 4ms/step - loss: 0.5151 - acc: 0.7694 - val_loss: 0.4790 - val_acc: 0.8234\n",
            "\n",
            "Epoch 00006: saving model to weights_rnn_angry.h5\n",
            "Epoch 7/20\n",
            "13761/13761 [==============================] - 50s 4ms/step - loss: 0.5133 - acc: 0.7694 - val_loss: 0.4754 - val_acc: 0.8234\n",
            "\n",
            "Epoch 00007: saving model to weights_rnn_angry.h5\n",
            "Epoch 8/20\n",
            "13761/13761 [==============================] - 50s 4ms/step - loss: 0.5117 - acc: 0.7694 - val_loss: 0.4820 - val_acc: 0.8234\n",
            "\n",
            "Epoch 00008: saving model to weights_rnn_angry.h5\n",
            "Epoch 00008: early stopping\n",
            "Evaluating the model=====================================================\n",
            "4832/4832 [==============================] - 13s 3ms/step\n",
            "Saving the model=========================================================\n",
            "Evaluating saved model===================================================\n",
            "4832/4832 [==============================] - 15s 3ms/step\n"
          ],
          "name": "stdout"
        },
        {
          "output_type": "execute_result",
          "data": {
            "text/plain": [
              "[0.48475418600025555, 0.7990480132450332]"
            ]
          },
          "metadata": {
            "tags": []
          },
          "execution_count": 28
        }
      ]
    },
    {
      "cell_type": "code",
      "metadata": {
        "id": "AB-AhGM2Cxp0",
        "colab_type": "code",
        "colab": {
          "base_uri": "https://localhost:8080/",
          "height": 711
        },
        "outputId": "b25b98ec-f06f-47f1-c23d-82f80a2987ad"
      },
      "source": [
        "model_rnn_sad.compile('adam','binary_crossentropy',metrics=['accuracy'])\n",
        "es = EarlyStopping(monitor='val_loss',mode='min' ,patience=5, min_delta=0.0001,verbose=1)\n",
        "mcp = ModelCheckpoint(\"weights_rnn_sad.h5\",monitor='val_loss',verbose=1)\n",
        "history_rnn_sad = model_rnn_sad.fit(video_train,Train_labels_sad,64,20,validation_split=0.1,callbacks=[es, mcp])\n",
        "print(\"Evaluating the model=====================================================\")\n",
        "model_rnn_sad.evaluate(video_test,Test_labels_sad)\n",
        "print(\"Saving the model=========================================================\")\n",
        "saved_rnn_sad = load_model('weights_rnn_sad.h5')\n",
        "print(\"Evaluating saved model===================================================\")\n",
        "saved_rnn_sad.evaluate(video_test,Test_labels_sad)"
      ],
      "execution_count": 29,
      "outputs": [
        {
          "output_type": "stream",
          "text": [
            "Train on 13761 samples, validate on 1529 samples\n",
            "Epoch 1/20\n",
            "13761/13761 [==============================] - 59s 4ms/step - loss: 0.5574 - acc: 0.7425 - val_loss: 0.5268 - val_acc: 0.7626\n",
            "\n",
            "Epoch 00001: saving model to weights_rnn_sad.h5\n",
            "Epoch 2/20\n",
            "13761/13761 [==============================] - 50s 4ms/step - loss: 0.5490 - acc: 0.7425 - val_loss: 0.5285 - val_acc: 0.7626\n",
            "\n",
            "Epoch 00002: saving model to weights_rnn_sad.h5\n",
            "Epoch 3/20\n",
            "13761/13761 [==============================] - 50s 4ms/step - loss: 0.5457 - acc: 0.7425 - val_loss: 0.5266 - val_acc: 0.7626\n",
            "\n",
            "Epoch 00003: saving model to weights_rnn_sad.h5\n",
            "Epoch 4/20\n",
            "13761/13761 [==============================] - 50s 4ms/step - loss: 0.5420 - acc: 0.7425 - val_loss: 0.5332 - val_acc: 0.7626\n",
            "\n",
            "Epoch 00004: saving model to weights_rnn_sad.h5\n",
            "Epoch 5/20\n",
            "13761/13761 [==============================] - 50s 4ms/step - loss: 0.5357 - acc: 0.7425 - val_loss: 0.5437 - val_acc: 0.7626\n",
            "\n",
            "Epoch 00005: saving model to weights_rnn_sad.h5\n",
            "Epoch 6/20\n",
            "13761/13761 [==============================] - 50s 4ms/step - loss: 0.5299 - acc: 0.7425 - val_loss: 0.5346 - val_acc: 0.7626\n",
            "\n",
            "Epoch 00006: saving model to weights_rnn_sad.h5\n",
            "Epoch 7/20\n",
            "13761/13761 [==============================] - 48s 4ms/step - loss: 0.5316 - acc: 0.7425 - val_loss: 0.5394 - val_acc: 0.7626\n",
            "\n",
            "Epoch 00007: saving model to weights_rnn_sad.h5\n",
            "Epoch 8/20\n",
            "13761/13761 [==============================] - 48s 4ms/step - loss: 0.5188 - acc: 0.7421 - val_loss: 0.5551 - val_acc: 0.7194\n",
            "\n",
            "Epoch 00008: saving model to weights_rnn_sad.h5\n",
            "Epoch 00008: early stopping\n",
            "Evaluating the model=====================================================\n",
            "4832/4832 [==============================] - 13s 3ms/step\n",
            "Saving the model=========================================================\n",
            "Evaluating saved model===================================================\n",
            "4832/4832 [==============================] - 16s 3ms/step\n"
          ],
          "name": "stdout"
        },
        {
          "output_type": "execute_result",
          "data": {
            "text/plain": [
              "[0.5944412158222387, 0.6928807947019867]"
            ]
          },
          "metadata": {
            "tags": []
          },
          "execution_count": 29
        }
      ]
    },
    {
      "cell_type": "code",
      "metadata": {
        "id": "qHIk7weCC2Wp",
        "colab_type": "code",
        "colab": {
          "base_uri": "https://localhost:8080/",
          "height": 572
        },
        "outputId": "c57f3d8b-f9cf-46d9-8088-4717a00fdd70"
      },
      "source": [
        "model_rnn_disgust.compile('adam','binary_crossentropy',metrics=['accuracy'])\n",
        "es = EarlyStopping(monitor='val_loss',mode='min' ,patience=5, min_delta=0.0001,verbose=1)\n",
        "mcp = ModelCheckpoint(\"weights_rnn_disgust.h5\",monitor='val_loss',verbose=1)\n",
        "history_rnn_disgust = model_rnn_disgust.fit(video_train,Train_labels_disgust,64,20,validation_split=0.1,callbacks=[es, mcp])\n",
        "print(\"Evaluating the model=====================================================\")\n",
        "model_rnn_disgust.evaluate(video_test,Test_labels_disgust)\n",
        "print(\"Saving the model=========================================================\")\n",
        "saved_rnn_disgust = load_model('weights_rnn_disgust.h5')\n",
        "print(\"Evaluating saved model===================================================\")\n",
        "saved_rnn_disgust.evaluate(video_test,Test_labels_disgust)"
      ],
      "execution_count": 30,
      "outputs": [
        {
          "output_type": "stream",
          "text": [
            "Train on 13761 samples, validate on 1529 samples\n",
            "Epoch 1/20\n",
            "13761/13761 [==============================] - 60s 4ms/step - loss: 0.4241 - acc: 0.8181 - val_loss: 0.3832 - val_acc: 0.8489\n",
            "\n",
            "Epoch 00001: saving model to weights_rnn_disgust.h5\n",
            "Epoch 2/20\n",
            "13761/13761 [==============================] - 50s 4ms/step - loss: 0.4146 - acc: 0.8191 - val_loss: 0.3900 - val_acc: 0.8489\n",
            "\n",
            "Epoch 00002: saving model to weights_rnn_disgust.h5\n",
            "Epoch 3/20\n",
            "13761/13761 [==============================] - 50s 4ms/step - loss: 0.4100 - acc: 0.8191 - val_loss: 0.3906 - val_acc: 0.8489\n",
            "\n",
            "Epoch 00003: saving model to weights_rnn_disgust.h5\n",
            "Epoch 4/20\n",
            "13761/13761 [==============================] - 50s 4ms/step - loss: 0.4073 - acc: 0.8191 - val_loss: 0.3866 - val_acc: 0.8489\n",
            "\n",
            "Epoch 00004: saving model to weights_rnn_disgust.h5\n",
            "Epoch 5/20\n",
            "13761/13761 [==============================] - 50s 4ms/step - loss: 0.4008 - acc: 0.8191 - val_loss: 0.4014 - val_acc: 0.8489\n",
            "\n",
            "Epoch 00005: saving model to weights_rnn_disgust.h5\n",
            "Epoch 6/20\n",
            "13761/13761 [==============================] - 50s 4ms/step - loss: 0.3963 - acc: 0.8186 - val_loss: 0.4016 - val_acc: 0.8489\n",
            "\n",
            "Epoch 00006: saving model to weights_rnn_disgust.h5\n",
            "Epoch 00006: early stopping\n",
            "Evaluating the model=====================================================\n",
            "4832/4832 [==============================] - 13s 3ms/step\n",
            "Saving the model=========================================================\n",
            "Evaluating saved model===================================================\n",
            "4832/4832 [==============================] - 17s 3ms/step\n"
          ],
          "name": "stdout"
        },
        {
          "output_type": "execute_result",
          "data": {
            "text/plain": [
              "[0.4348587765796295, 0.8091887417218543]"
            ]
          },
          "metadata": {
            "tags": []
          },
          "execution_count": 30
        }
      ]
    },
    {
      "cell_type": "code",
      "metadata": {
        "id": "nHFOqArAC7v6",
        "colab_type": "code",
        "colab": {
          "base_uri": "https://localhost:8080/",
          "height": 572
        },
        "outputId": "0a2d4477-cf0e-40e5-9e1c-f42896361efe"
      },
      "source": [
        "model_rnn_fear.compile('adam','binary_crossentropy',metrics=['accuracy'])\n",
        "es = EarlyStopping(monitor='val_loss',mode='min' ,patience=5, min_delta=0.0001,verbose=1)\n",
        "mcp = ModelCheckpoint(\"weights_rnn_fear.h5\",monitor='val_loss',verbose=1)\n",
        "history_rnn_fear = model_rnn_fear.fit(video_train,Train_labels_fear,64,20,validation_split=0.1,callbacks=[es, mcp])\n",
        "print(\"Evaluating the model=====================================================\")\n",
        "model_rnn_fear.evaluate(video_test,Test_labels_fear)\n",
        "print(\"Saving the model=========================================================\")\n",
        "saved_rnn_fear = load_model('weights_rnn_fear.h5')\n",
        "print(\"Evaluating saved model===================================================\")\n",
        "saved_rnn_fear.evaluate(video_test,Test_labels_fear)"
      ],
      "execution_count": 31,
      "outputs": [
        {
          "output_type": "stream",
          "text": [
            "Train on 13761 samples, validate on 1529 samples\n",
            "Epoch 1/20\n",
            "13761/13761 [==============================] - 63s 5ms/step - loss: 0.2929 - acc: 0.9140 - val_loss: 0.3000 - val_acc: 0.9111\n",
            "\n",
            "Epoch 00001: saving model to weights_rnn_fear.h5\n",
            "Epoch 2/20\n",
            "13761/13761 [==============================] - 50s 4ms/step - loss: 0.2714 - acc: 0.9140 - val_loss: 0.3018 - val_acc: 0.9111\n",
            "\n",
            "Epoch 00002: saving model to weights_rnn_fear.h5\n",
            "Epoch 3/20\n",
            "13761/13761 [==============================] - 50s 4ms/step - loss: 0.2640 - acc: 0.9140 - val_loss: 0.3028 - val_acc: 0.9111\n",
            "\n",
            "Epoch 00003: saving model to weights_rnn_fear.h5\n",
            "Epoch 4/20\n",
            "13761/13761 [==============================] - 50s 4ms/step - loss: 0.2558 - acc: 0.9140 - val_loss: 0.3227 - val_acc: 0.9111\n",
            "\n",
            "Epoch 00004: saving model to weights_rnn_fear.h5\n",
            "Epoch 5/20\n",
            "13761/13761 [==============================] - 50s 4ms/step - loss: 0.2504 - acc: 0.9142 - val_loss: 0.3163 - val_acc: 0.9111\n",
            "\n",
            "Epoch 00005: saving model to weights_rnn_fear.h5\n",
            "Epoch 6/20\n",
            "13761/13761 [==============================] - 50s 4ms/step - loss: 0.2424 - acc: 0.9180 - val_loss: 0.3204 - val_acc: 0.9071\n",
            "\n",
            "Epoch 00006: saving model to weights_rnn_fear.h5\n",
            "Epoch 00006: early stopping\n",
            "Evaluating the model=====================================================\n",
            "4832/4832 [==============================] - 13s 3ms/step\n",
            "Saving the model=========================================================\n",
            "Evaluating saved model===================================================\n",
            "4832/4832 [==============================] - 18s 4ms/step\n"
          ],
          "name": "stdout"
        },
        {
          "output_type": "execute_result",
          "data": {
            "text/plain": [
              "[0.24568041919773778, 0.929635761589404]"
            ]
          },
          "metadata": {
            "tags": []
          },
          "execution_count": 31
        }
      ]
    },
    {
      "cell_type": "code",
      "metadata": {
        "id": "s1Z9D5l8DEA7",
        "colab_type": "code",
        "colab": {
          "base_uri": "https://localhost:8080/",
          "height": 641
        },
        "outputId": "5156b193-408f-4c4b-8ab3-5a56554f910a"
      },
      "source": [
        "model_rnn_surprise.compile('adam','binary_crossentropy',metrics=['accuracy'])\n",
        "es = EarlyStopping(monitor='val_loss',mode='min' ,patience=5, min_delta=0.0001,verbose=1)\n",
        "mcp = ModelCheckpoint(\"weights_rnn_surprise.h5\",monitor='val_loss',verbose=1)\n",
        "history_rnn_surprise = model_rnn_surprise.fit(video_train,Train_labels_surprise,64,20,validation_split=0.1,callbacks=[es, mcp])\n",
        "print(\"Evaluating the model=====================================================\")\n",
        "model_rnn_surprise.evaluate(video_test,Test_labels_surprise)\n",
        "print(\"Saving the model=========================================================\")\n",
        "saved_rnn_surprise = load_model('weights_rnn_surprise.h5')\n",
        "print(\"Evaluating saved model===================================================\")\n",
        "saved_rnn_surprise.evaluate(video_test,Test_labels_surprise)"
      ],
      "execution_count": 32,
      "outputs": [
        {
          "output_type": "stream",
          "text": [
            "Train on 13761 samples, validate on 1529 samples\n",
            "Epoch 1/20\n",
            "13761/13761 [==============================] - 65s 5ms/step - loss: 0.3323 - acc: 0.8966 - val_loss: 0.3016 - val_acc: 0.9091\n",
            "\n",
            "Epoch 00001: saving model to weights_rnn_surprise.h5\n",
            "Epoch 2/20\n",
            "13761/13761 [==============================] - 50s 4ms/step - loss: 0.3256 - acc: 0.8966 - val_loss: 0.3009 - val_acc: 0.9091\n",
            "\n",
            "Epoch 00002: saving model to weights_rnn_surprise.h5\n",
            "Epoch 3/20\n",
            "13761/13761 [==============================] - 50s 4ms/step - loss: 0.3256 - acc: 0.8966 - val_loss: 0.3109 - val_acc: 0.9091\n",
            "\n",
            "Epoch 00003: saving model to weights_rnn_surprise.h5\n",
            "Epoch 4/20\n",
            "13761/13761 [==============================] - 50s 4ms/step - loss: 0.3213 - acc: 0.8966 - val_loss: 0.3081 - val_acc: 0.9084\n",
            "\n",
            "Epoch 00004: saving model to weights_rnn_surprise.h5\n",
            "Epoch 5/20\n",
            "13761/13761 [==============================] - 50s 4ms/step - loss: 0.3191 - acc: 0.8983 - val_loss: 0.3091 - val_acc: 0.9071\n",
            "\n",
            "Epoch 00005: saving model to weights_rnn_surprise.h5\n",
            "Epoch 6/20\n",
            "13761/13761 [==============================] - 50s 4ms/step - loss: 0.3116 - acc: 0.9010 - val_loss: 0.3200 - val_acc: 0.8980\n",
            "\n",
            "Epoch 00006: saving model to weights_rnn_surprise.h5\n",
            "Epoch 7/20\n",
            "13761/13761 [==============================] - 50s 4ms/step - loss: 0.2991 - acc: 0.9048 - val_loss: 0.3312 - val_acc: 0.8829\n",
            "\n",
            "Epoch 00007: saving model to weights_rnn_surprise.h5\n",
            "Epoch 00007: early stopping\n",
            "Evaluating the model=====================================================\n",
            "4832/4832 [==============================] - 13s 3ms/step\n",
            "Saving the model=========================================================\n",
            "Evaluating saved model===================================================\n",
            "4832/4832 [==============================] - 18s 4ms/step\n"
          ],
          "name": "stdout"
        },
        {
          "output_type": "execute_result",
          "data": {
            "text/plain": [
              "[0.3484039660419849, 0.8845198675496688]"
            ]
          },
          "metadata": {
            "tags": []
          },
          "execution_count": 32
        }
      ]
    },
    {
      "cell_type": "code",
      "metadata": {
        "id": "qga5Ttk1DLk9",
        "colab_type": "code",
        "colab": {
          "base_uri": "https://localhost:8080/",
          "height": 87
        },
        "outputId": "ebde51cd-a258-46de-803e-bd1e56119d2a"
      },
      "source": [
        "ls"
      ],
      "execution_count": 33,
      "outputs": [
        {
          "output_type": "stream",
          "text": [
            "\u001b[0m\u001b[01;34mdata\u001b[0m/                \u001b[01;32mmosei.sh\u001b[0m*               weights_rnn_happy.h5\n",
            "\u001b[01;34mlabels\u001b[0m/              weights_rnn_angry.h5    weights_rnn_sad.h5\n",
            "modify_labels.ipynb  weights_rnn_disgust.h5  weights_rnn_surprise.h5\n",
            "MOSEI_dataset.ipynb  weights_rnn_fear.h5\n"
          ],
          "name": "stdout"
        }
      ]
    },
    {
      "cell_type": "code",
      "metadata": {
        "id": "6TxTkV5hLqg8",
        "colab_type": "code",
        "colab": {}
      },
      "source": [
        "from google.colab import files\n",
        "files.download('weights_rnn_angry.h5')\n",
        "files.download('weights_rnn_disgust.h5')\n",
        "files.download('weights_rnn_fear.h5')\n",
        "files.download('weights_rnn_happy.h5')\n",
        "files.download('weights_rnn_sad.h5')\n",
        "files.download('weights_rnn_surprise.h5')"
      ],
      "execution_count": 0,
      "outputs": []
    },
    {
      "cell_type": "code",
      "metadata": {
        "id": "o4ldv88oM-6B",
        "colab_type": "code",
        "colab": {}
      },
      "source": [
        ""
      ],
      "execution_count": 0,
      "outputs": []
    }
  ]
}
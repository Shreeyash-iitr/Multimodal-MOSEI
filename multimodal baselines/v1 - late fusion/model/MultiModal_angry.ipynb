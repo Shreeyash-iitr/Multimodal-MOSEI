{
  "nbformat": 4,
  "nbformat_minor": 0,
  "metadata": {
    "colab": {
      "name": "angry.ipynb",
      "version": "0.3.2",
      "provenance": []
    },
    "kernelspec": {
      "name": "python3",
      "display_name": "Python 3"
    },
    "accelerator": "GPU"
  },
  "cells": [
    {
      "cell_type": "code",
      "metadata": {
        "id": "EmcIKKNa1mhF",
        "colab_type": "code",
        "colab": {}
      },
      "source": [
        "!git clone \"https://github.com/convman/Multimodal-MOSEI.git\""
      ],
      "execution_count": 0,
      "outputs": []
    },
    {
      "cell_type": "code",
      "metadata": {
        "id": "d2WbeB-J10ZX",
        "colab_type": "code",
        "colab": {
          "base_uri": "https://localhost:8080/",
          "height": 35
        },
        "outputId": "21c3a959-4ac1-4e38-86b4-d8146cfcd09f"
      },
      "source": [
        "cd Multimodal-MOSEI/"
      ],
      "execution_count": 2,
      "outputs": [
        {
          "output_type": "stream",
          "text": [
            "/content/Multimodal-MOSEI\n"
          ],
          "name": "stdout"
        }
      ]
    },
    {
      "cell_type": "code",
      "metadata": {
        "id": "ulFNMNfV14Fn",
        "colab_type": "code",
        "colab": {
          "base_uri": "https://localhost:8080/",
          "height": 419
        },
        "outputId": "48f66355-571e-4171-9e3e-246138466607"
      },
      "source": [
        "!wget \"http://immortal.multicomp.cs.cmu.edu/raw_datasets/old_processed_data/cmu-mosei/labels/mosi2uni_Test_labels_angry.csv\"\n",
        "!wget \"http://immortal.multicomp.cs.cmu.edu/raw_datasets/old_processed_data/cmu-mosei/labels/mosi2uni_Train_labels_angry.csv\""
      ],
      "execution_count": 3,
      "outputs": [
        {
          "output_type": "stream",
          "text": [
            "--2019-06-21 11:42:27--  http://immortal.multicomp.cs.cmu.edu/raw_datasets/old_processed_data/cmu-mosei/labels/mosi2uni_Test_labels_angry.csv\n",
            "Resolving immortal.multicomp.cs.cmu.edu (immortal.multicomp.cs.cmu.edu)... 128.2.211.216\n",
            "Connecting to immortal.multicomp.cs.cmu.edu (immortal.multicomp.cs.cmu.edu)|128.2.211.216|:80... connected.\n",
            "HTTP request sent, awaiting response... 200 OK\n",
            "Length: 9664 (9.4K) [text/csv]\n",
            "Saving to: ‘mosi2uni_Test_labels_angry.csv’\n",
            "\n",
            "\r          mosi2uni_   0%[                    ]       0  --.-KB/s               \rmosi2uni_Test_label 100%[===================>]   9.44K  --.-KB/s    in 0s      \n",
            "\n",
            "2019-06-21 11:42:27 (147 MB/s) - ‘mosi2uni_Test_labels_angry.csv’ saved [9664/9664]\n",
            "\n",
            "--2019-06-21 11:42:30--  http://immortal.multicomp.cs.cmu.edu/raw_datasets/old_processed_data/cmu-mosei/labels/mosi2uni_Train_labels_angry.csv\n",
            "Resolving immortal.multicomp.cs.cmu.edu (immortal.multicomp.cs.cmu.edu)... 128.2.211.216\n",
            "Connecting to immortal.multicomp.cs.cmu.edu (immortal.multicomp.cs.cmu.edu)|128.2.211.216|:80... connected.\n",
            "HTTP request sent, awaiting response... 200 OK\n",
            "Length: 30580 (30K) [text/csv]\n",
            "Saving to: ‘mosi2uni_Train_labels_angry.csv’\n",
            "\n",
            "mosi2uni_Train_labe 100%[===================>]  29.86K  --.-KB/s    in 0.09s   \n",
            "\n",
            "2019-06-21 11:42:30 (341 KB/s) - ‘mosi2uni_Train_labels_angry.csv’ saved [30580/30580]\n",
            "\n"
          ],
          "name": "stdout"
        }
      ]
    },
    {
      "cell_type": "code",
      "metadata": {
        "id": "HBOJYabh2Bkx",
        "colab_type": "code",
        "colab": {}
      },
      "source": [
        "import pandas as pd\n",
        "import numpy as np\n",
        "import h5py\n",
        "\n",
        "Test_labels_angry = pd.read_csv(\"mosi2uni_Test_labels_angry.csv\",header=None)\n",
        "\n",
        "Train_labels_angry = pd.read_csv(\"mosi2uni_Train_labels_angry.csv\",header=None)"
      ],
      "execution_count": 0,
      "outputs": []
    },
    {
      "cell_type": "code",
      "metadata": {
        "id": "sITdZ7P52Lut",
        "colab_type": "code",
        "colab": {
          "base_uri": "https://localhost:8080/",
          "height": 1161
        },
        "outputId": "4074a8a5-6295-4bbf-d827-c7c5cde63688"
      },
      "source": [
        "!wget \"http://immortal.multicomp.cs.cmu.edu/raw_datasets/old_processed_data/cmu-mosei/data/audio_test.h5\"\n",
        "!wget \"http://immortal.multicomp.cs.cmu.edu/raw_datasets/old_processed_data/cmu-mosei/data/audio_train.h5\"\n",
        "!wget \"http://immortal.multicomp.cs.cmu.edu/raw_datasets/old_processed_data/cmu-mosei/data/text_test_emb.h5\"\n",
        "!wget \"http://immortal.multicomp.cs.cmu.edu/raw_datasets/old_processed_data/cmu-mosei/data/text_train_emb.h5\"\n",
        "!wget \"http://immortal.multicomp.cs.cmu.edu/raw_datasets/old_processed_data/cmu-mosei/data/video_test.h5\"\n",
        "!wget \"http://immortal.multicomp.cs.cmu.edu/raw_datasets/old_processed_data/cmu-mosei/data/video_train.h5\""
      ],
      "execution_count": 5,
      "outputs": [
        {
          "output_type": "stream",
          "text": [
            "--2019-06-21 11:43:33--  http://immortal.multicomp.cs.cmu.edu/raw_datasets/old_processed_data/cmu-mosei/data/audio_test.h5\n",
            "Resolving immortal.multicomp.cs.cmu.edu (immortal.multicomp.cs.cmu.edu)... 128.2.211.216\n",
            "Connecting to immortal.multicomp.cs.cmu.edu (immortal.multicomp.cs.cmu.edu)|128.2.211.216|:80... connected.\n",
            "HTTP request sent, awaiting response... 200 OK\n",
            "Length: 57213024 (55M)\n",
            "Saving to: ‘audio_test.h5’\n",
            "\n",
            "audio_test.h5       100%[===================>]  54.56M  10.8MB/s    in 5.5s    \n",
            "\n",
            "2019-06-21 11:43:39 (9.90 MB/s) - ‘audio_test.h5’ saved [57213024/57213024]\n",
            "\n",
            "--2019-06-21 11:43:40--  http://immortal.multicomp.cs.cmu.edu/raw_datasets/old_processed_data/cmu-mosei/data/audio_train.h5\n",
            "Resolving immortal.multicomp.cs.cmu.edu (immortal.multicomp.cs.cmu.edu)... 128.2.211.216\n",
            "Connecting to immortal.multicomp.cs.cmu.edu (immortal.multicomp.cs.cmu.edu)|128.2.211.216|:80... connected.\n",
            "HTTP request sent, awaiting response... 200 OK\n",
            "Length: 181035744 (173M)\n",
            "Saving to: ‘audio_train.h5’\n",
            "\n",
            "audio_train.h5      100%[===================>] 172.65M  10.8MB/s    in 17s     \n",
            "\n",
            "2019-06-21 11:43:57 (10.4 MB/s) - ‘audio_train.h5’ saved [181035744/181035744]\n",
            "\n",
            "--2019-06-21 11:43:59--  http://immortal.multicomp.cs.cmu.edu/raw_datasets/old_processed_data/cmu-mosei/data/text_test_emb.h5\n",
            "Resolving immortal.multicomp.cs.cmu.edu (immortal.multicomp.cs.cmu.edu)... 128.2.211.216\n",
            "Connecting to immortal.multicomp.cs.cmu.edu (immortal.multicomp.cs.cmu.edu)|128.2.211.216|:80... connected.\n",
            "HTTP request sent, awaiting response... 200 OK\n",
            "Length: 231938144 (221M)\n",
            "Saving to: ‘text_test_emb.h5’\n",
            "\n",
            "text_test_emb.h5    100%[===================>] 221.19M  10.9MB/s    in 21s     \n",
            "\n",
            "2019-06-21 11:44:20 (10.6 MB/s) - ‘text_test_emb.h5’ saved [231938144/231938144]\n",
            "\n",
            "--2019-06-21 11:44:22--  http://immortal.multicomp.cs.cmu.edu/raw_datasets/old_processed_data/cmu-mosei/data/text_train_emb.h5\n",
            "Resolving immortal.multicomp.cs.cmu.edu (immortal.multicomp.cs.cmu.edu)... 128.2.211.216\n",
            "Connecting to immortal.multicomp.cs.cmu.edu (immortal.multicomp.cs.cmu.edu)|128.2.211.216|:80... connected.\n",
            "HTTP request sent, awaiting response... 200 OK\n",
            "Length: 733922144 (700M)\n",
            "Saving to: ‘text_train_emb.h5’\n",
            "\n",
            "text_train_emb.h5   100%[===================>] 699.92M  11.0MB/s    in 66s     \n",
            "\n",
            "2019-06-21 11:45:28 (10.7 MB/s) - ‘text_train_emb.h5’ saved [733922144/733922144]\n",
            "\n",
            "--2019-06-21 11:45:31--  http://immortal.multicomp.cs.cmu.edu/raw_datasets/old_processed_data/cmu-mosei/data/video_test.h5\n",
            "Resolving immortal.multicomp.cs.cmu.edu (immortal.multicomp.cs.cmu.edu)... 128.2.211.216\n",
            "Connecting to immortal.multicomp.cs.cmu.edu (immortal.multicomp.cs.cmu.edu)|128.2.211.216|:80... connected.\n",
            "HTTP request sent, awaiting response... 200 OK\n",
            "Length: 27061344 (26M)\n",
            "Saving to: ‘video_test.h5’\n",
            "\n",
            "video_test.h5       100%[===================>]  25.81M  9.15MB/s    in 2.8s    \n",
            "\n",
            "2019-06-21 11:45:34 (9.15 MB/s) - ‘video_test.h5’ saved [27061344/27061344]\n",
            "\n",
            "--2019-06-21 11:45:36--  http://immortal.multicomp.cs.cmu.edu/raw_datasets/old_processed_data/cmu-mosei/data/video_train.h5\n",
            "Resolving immortal.multicomp.cs.cmu.edu (immortal.multicomp.cs.cmu.edu)... 128.2.211.216\n",
            "Connecting to immortal.multicomp.cs.cmu.edu (immortal.multicomp.cs.cmu.edu)|128.2.211.216|:80... connected.\n",
            "HTTP request sent, awaiting response... 200 OK\n",
            "Length: 85626144 (82M)\n",
            "Saving to: ‘video_train.h5’\n",
            "\n",
            "video_train.h5      100%[===================>]  81.66M  10.6MB/s    in 8.1s    \n",
            "\n",
            "2019-06-21 11:45:44 (10.1 MB/s) - ‘video_train.h5’ saved [85626144/85626144]\n",
            "\n"
          ],
          "name": "stdout"
        }
      ]
    },
    {
      "cell_type": "code",
      "metadata": {
        "id": "prtAYYIq2RwT",
        "colab_type": "code",
        "colab": {
          "base_uri": "https://localhost:8080/",
          "height": 52
        },
        "outputId": "83714c1f-5562-4cf2-e0a5-ea1c839ca3e1"
      },
      "source": [
        "video_train = h5py.File(\"video_train.h5\",\"r\")\n",
        "print(list(video_train.keys()))\n",
        "video_train = np.array(video_train.get('d1'))\n",
        "video_train.shape"
      ],
      "execution_count": 6,
      "outputs": [
        {
          "output_type": "stream",
          "text": [
            "['d1']\n"
          ],
          "name": "stdout"
        },
        {
          "output_type": "execute_result",
          "data": {
            "text/plain": [
              "(15290, 20, 35)"
            ]
          },
          "metadata": {
            "tags": []
          },
          "execution_count": 6
        }
      ]
    },
    {
      "cell_type": "code",
      "metadata": {
        "id": "-nn635Wl2UdC",
        "colab_type": "code",
        "colab": {
          "base_uri": "https://localhost:8080/",
          "height": 52
        },
        "outputId": "824f1ca9-c53e-45c8-f0c9-3df8e6899481"
      },
      "source": [
        "video_test = h5py.File(\"video_test.h5\",\"r\")\n",
        "print(list(video_test.keys()))\n",
        "video_test = np.array(video_test.get('d1'))\n",
        "video_test.shape"
      ],
      "execution_count": 7,
      "outputs": [
        {
          "output_type": "stream",
          "text": [
            "['d1']\n"
          ],
          "name": "stdout"
        },
        {
          "output_type": "execute_result",
          "data": {
            "text/plain": [
              "(4832, 20, 35)"
            ]
          },
          "metadata": {
            "tags": []
          },
          "execution_count": 7
        }
      ]
    },
    {
      "cell_type": "code",
      "metadata": {
        "id": "bl5LowcR2Wdx",
        "colab_type": "code",
        "colab": {
          "base_uri": "https://localhost:8080/",
          "height": 52
        },
        "outputId": "2c04db41-f3ea-4506-9be4-be7214394c6f"
      },
      "source": [
        "audio_train = h5py.File(\"audio_train.h5\",\"r\")\n",
        "print(list(audio_train.keys()))\n",
        "audio_train = np.array(audio_train.get('d1'))\n",
        "audio_train.shape"
      ],
      "execution_count": 8,
      "outputs": [
        {
          "output_type": "stream",
          "text": [
            "['d1']\n"
          ],
          "name": "stdout"
        },
        {
          "output_type": "execute_result",
          "data": {
            "text/plain": [
              "(15290, 20, 74)"
            ]
          },
          "metadata": {
            "tags": []
          },
          "execution_count": 8
        }
      ]
    },
    {
      "cell_type": "code",
      "metadata": {
        "id": "Ls2Fx3ce2Ydt",
        "colab_type": "code",
        "colab": {
          "base_uri": "https://localhost:8080/",
          "height": 52
        },
        "outputId": "2071c352-451f-4b87-da84-1bf80a53b619"
      },
      "source": [
        "audio_test = h5py.File(\"audio_test.h5\",\"r\")\n",
        "print(list(audio_test.keys()))\n",
        "audio_test = np.array(audio_test.get('d1'))\n",
        "audio_test.shape"
      ],
      "execution_count": 9,
      "outputs": [
        {
          "output_type": "stream",
          "text": [
            "['d1']\n"
          ],
          "name": "stdout"
        },
        {
          "output_type": "execute_result",
          "data": {
            "text/plain": [
              "(4832, 20, 74)"
            ]
          },
          "metadata": {
            "tags": []
          },
          "execution_count": 9
        }
      ]
    },
    {
      "cell_type": "code",
      "metadata": {
        "id": "ENRhFQKC2aMj",
        "colab_type": "code",
        "colab": {
          "base_uri": "https://localhost:8080/",
          "height": 52
        },
        "outputId": "77caa8e2-251d-41cd-be78-69e395f23013"
      },
      "source": [
        "text_train_emb = h5py.File(\"text_train_emb.h5\",\"r\")\n",
        "print(list(text_train_emb.keys()))\n",
        "text_train_emb = np.array(text_train_emb.get('d1'))\n",
        "text_train_emb.shape"
      ],
      "execution_count": 10,
      "outputs": [
        {
          "output_type": "stream",
          "text": [
            "['d1']\n"
          ],
          "name": "stdout"
        },
        {
          "output_type": "execute_result",
          "data": {
            "text/plain": [
              "(15290, 20, 300)"
            ]
          },
          "metadata": {
            "tags": []
          },
          "execution_count": 10
        }
      ]
    },
    {
      "cell_type": "code",
      "metadata": {
        "id": "QcVrkt0X2b5Q",
        "colab_type": "code",
        "colab": {
          "base_uri": "https://localhost:8080/",
          "height": 52
        },
        "outputId": "e2f0a1d3-0949-4185-8f19-1baac390a877"
      },
      "source": [
        "text_test_emb = h5py.File(\"text_test_emb.h5\",\"r\")\n",
        "print(list(text_test_emb.keys()))\n",
        "text_test_emb = np.array(text_test_emb.get('d1'))\n",
        "text_test_emb.shape"
      ],
      "execution_count": 11,
      "outputs": [
        {
          "output_type": "stream",
          "text": [
            "['d1']\n"
          ],
          "name": "stdout"
        },
        {
          "output_type": "execute_result",
          "data": {
            "text/plain": [
              "(4832, 20, 300)"
            ]
          },
          "metadata": {
            "tags": []
          },
          "execution_count": 11
        }
      ]
    },
    {
      "cell_type": "code",
      "metadata": {
        "id": "L5cR4qKo2drq",
        "colab_type": "code",
        "colab": {
          "base_uri": "https://localhost:8080/",
          "height": 35
        },
        "outputId": "b76583ea-dd29-42a8-cdd8-439796f156bd"
      },
      "source": [
        "from keras.models import load_model\n",
        "import keras\n",
        "from keras.models import load_model\n",
        "from keras.models import Model,Sequential,Model\n",
        "from keras.layers import LSTM,Dense,Input,concatenate\n",
        "from keras import callbacks\n",
        "from keras.callbacks import EarlyStopping, ModelCheckpoint"
      ],
      "execution_count": 12,
      "outputs": [
        {
          "output_type": "stream",
          "text": [
            "Using TensorFlow backend.\n"
          ],
          "name": "stderr"
        }
      ]
    },
    {
      "cell_type": "code",
      "metadata": {
        "id": "L81k2P6S2p1D",
        "colab_type": "code",
        "colab": {}
      },
      "source": [
        "model_audio_angry = load_model(\"unimodal baselines/weights/audio/weights_rnn_angry.h5\")\n",
        "model_video_angry = load_model(\"unimodal baselines/weights/video/weights_rnn_angry.h5\")\n",
        "model_text_angry = load_model(\"unimodal baselines/weights/text/weights_rnn_angry.h5\")"
      ],
      "execution_count": 0,
      "outputs": []
    },
    {
      "cell_type": "code",
      "metadata": {
        "id": "S0x7dWRa27ef",
        "colab_type": "code",
        "colab": {}
      },
      "source": [
        "angry_video = Sequential()\n",
        "angry_audio = Sequential()\n",
        "angry_text = Sequential()"
      ],
      "execution_count": 0,
      "outputs": []
    },
    {
      "cell_type": "code",
      "metadata": {
        "id": "tQiSXjH13C5B",
        "colab_type": "code",
        "colab": {}
      },
      "source": [
        "for layer in model_video_angry.layers[:-2]:   #(typical late fusion)\n",
        "    angry_video.add(layer)\n",
        "for layer in angry_video.layers:\n",
        "    layer.trainable = False\n",
        "angry_video.add(Dense(32,activation='relu'))"
      ],
      "execution_count": 0,
      "outputs": []
    },
    {
      "cell_type": "code",
      "metadata": {
        "id": "jmF8hoJY3VGj",
        "colab_type": "code",
        "colab": {}
      },
      "source": [
        "for layer in model_audio_angry.layers[:-2]:   #(typical late fusion)\n",
        "    angry_audio.add(layer)\n",
        "for layer in angry_audio.layers:\n",
        "    layer.trainable = False\n",
        "angry_audio.add(Dense(32,activation='relu'))"
      ],
      "execution_count": 0,
      "outputs": []
    },
    {
      "cell_type": "code",
      "metadata": {
        "id": "302bIIRa3guu",
        "colab_type": "code",
        "colab": {}
      },
      "source": [
        "for layer in model_text_angry.layers[:-2]:   #(typical late fusion)\n",
        "    angry_text.add(layer)\n",
        "for layer in angry_text.layers:\n",
        "    layer.trainable = False\n",
        "angry_text.add(Dense(32,activation='relu'))"
      ],
      "execution_count": 0,
      "outputs": []
    },
    {
      "cell_type": "code",
      "metadata": {
        "id": "7oPGVr1F3q-l",
        "colab_type": "code",
        "colab": {
          "base_uri": "https://localhost:8080/",
          "height": 485
        },
        "outputId": "8fda9a9c-c52b-483e-9091-646b78d071d1"
      },
      "source": [
        "angry_audio.summary()"
      ],
      "execution_count": 19,
      "outputs": [
        {
          "output_type": "stream",
          "text": [
            "_________________________________________________________________\n",
            "Layer (type)                 Output Shape              Param #   \n",
            "=================================================================\n",
            "lstm_9 (LSTM)                (None, 20, 256)           338944    \n",
            "_________________________________________________________________\n",
            "lstm_10 (LSTM)               (None, 20, 256)           525312    \n",
            "_________________________________________________________________\n",
            "lstm_11 (LSTM)               (None, 20, 128)           197120    \n",
            "_________________________________________________________________\n",
            "lstm_12 (LSTM)               (None, 20, 128)           131584    \n",
            "_________________________________________________________________\n",
            "lstm_13 (LSTM)               (None, 20, 64)            49408     \n",
            "_________________________________________________________________\n",
            "lstm_14 (LSTM)               (None, 20, 64)            33024     \n",
            "_________________________________________________________________\n",
            "lstm_15 (LSTM)               (None, 20, 32)            12416     \n",
            "_________________________________________________________________\n",
            "lstm_16 (LSTM)               (None, 32)                8320      \n",
            "_________________________________________________________________\n",
            "dense_4 (Dense)              (None, 32)                1056      \n",
            "_________________________________________________________________\n",
            "dense_2 (Dense)              (None, 32)                1056      \n",
            "=================================================================\n",
            "Total params: 1,298,240\n",
            "Trainable params: 1,056\n",
            "Non-trainable params: 1,297,184\n",
            "_________________________________________________________________\n"
          ],
          "name": "stdout"
        }
      ]
    },
    {
      "cell_type": "code",
      "metadata": {
        "id": "B0snQi8R3wd-",
        "colab_type": "code",
        "colab": {}
      },
      "source": [
        "i1 = Input(shape=(20,35),name='i1')\n",
        "i2 = Input(shape=(20,74),name='i2')\n",
        "i3 = Input(shape=(20,300),name='i3')"
      ],
      "execution_count": 0,
      "outputs": []
    },
    {
      "cell_type": "code",
      "metadata": {
        "id": "IK5vklDO3y0G",
        "colab_type": "code",
        "colab": {}
      },
      "source": [
        "o1 = angry_video(i1)\n",
        "o2 = angry_audio(i2)\n",
        "o3 = angry_text(i3)\n",
        "merge = concatenate([o1,o2,o3])\n",
        "y = Dense(32,activation='relu')(merge)\n",
        "y = Dense(32,activation='relu')(y)\n",
        "y = Dense(1,activation='sigmoid')(y)"
      ],
      "execution_count": 0,
      "outputs": []
    },
    {
      "cell_type": "code",
      "metadata": {
        "id": "4onQtldS32GO",
        "colab_type": "code",
        "colab": {
          "base_uri": "https://localhost:8080/",
          "height": 520
        },
        "outputId": "6a134cba-b655-423b-bf28-2597ca9664b9"
      },
      "source": [
        "model = Model(inputs=[i1,i2,i3],outputs=y)\n",
        "model.compile('adam','binary_crossentropy',metrics=['accuracy'])\n",
        "model.summary()\n"
      ],
      "execution_count": 23,
      "outputs": [
        {
          "output_type": "stream",
          "text": [
            "__________________________________________________________________________________________________\n",
            "Layer (type)                    Output Shape         Param #     Connected to                     \n",
            "==================================================================================================\n",
            "i1 (InputLayer)                 (None, 20, 35)       0                                            \n",
            "__________________________________________________________________________________________________\n",
            "i2 (InputLayer)                 (None, 20, 74)       0                                            \n",
            "__________________________________________________________________________________________________\n",
            "i3 (InputLayer)                 (None, 20, 300)      0                                            \n",
            "__________________________________________________________________________________________________\n",
            "sequential_1 (Sequential)       (None, 32)           1258304     i1[0][0]                         \n",
            "__________________________________________________________________________________________________\n",
            "sequential_2 (Sequential)       (None, 32)           1298240     i2[0][0]                         \n",
            "__________________________________________________________________________________________________\n",
            "sequential_3 (Sequential)       (None, 32)           1529664     i3[0][0]                         \n",
            "__________________________________________________________________________________________________\n",
            "concatenate_1 (Concatenate)     (None, 96)           0           sequential_1[1][0]               \n",
            "                                                                 sequential_2[1][0]               \n",
            "                                                                 sequential_3[1][0]               \n",
            "__________________________________________________________________________________________________\n",
            "dense_4 (Dense)                 (None, 32)           3104        concatenate_1[0][0]              \n",
            "__________________________________________________________________________________________________\n",
            "dense_5 (Dense)                 (None, 32)           1056        dense_4[0][0]                    \n",
            "__________________________________________________________________________________________________\n",
            "dense_6 (Dense)                 (None, 1)            33          dense_5[0][0]                    \n",
            "==================================================================================================\n",
            "Total params: 4,090,401\n",
            "Trainable params: 7,361\n",
            "Non-trainable params: 4,083,040\n",
            "__________________________________________________________________________________________________\n"
          ],
          "name": "stdout"
        }
      ]
    },
    {
      "cell_type": "code",
      "metadata": {
        "id": "NkMQbGn44Btq",
        "colab_type": "code",
        "colab": {
          "base_uri": "https://localhost:8080/",
          "height": 780
        },
        "outputId": "0d4db3d1-ecff-4a92-a004-2be9e46dd5ce"
      },
      "source": [
        "es = EarlyStopping(monitor='val_loss',mode='min' ,patience=5, min_delta=0.0001,verbose=1)\n",
        "mcp = ModelCheckpoint(\"multimodal_happy_2.h5\",monitor='val_loss',verbose=1)\n",
        "model.fit({'i1':video_train,'i2':audio_train,'i3':text_train_emb},Train_labels_angry,64,20,validation_split=0.1,callbacks=[es, mcp])\n",
        "model.evaluate({'i1':video_test,'i2':audio_test,'i3':text_test_emb},Test_labels_angry)"
      ],
      "execution_count": 25,
      "outputs": [
        {
          "output_type": "stream",
          "text": [
            "Train on 13761 samples, validate on 1529 samples\n",
            "Epoch 1/20\n",
            "13761/13761 [==============================] - 109s 8ms/step - loss: 0.3199 - acc: 0.8658 - val_loss: 0.7090 - val_acc: 0.7417\n",
            "\n",
            "Epoch 00001: saving model to multimodal_happy_2.h5\n",
            "Epoch 2/20\n",
            "13761/13761 [==============================] - 96s 7ms/step - loss: 0.2441 - acc: 0.9001 - val_loss: 0.7009 - val_acc: 0.7443\n",
            "\n",
            "Epoch 00002: saving model to multimodal_happy_2.h5\n",
            "Epoch 3/20\n",
            "13761/13761 [==============================] - 96s 7ms/step - loss: 0.2426 - acc: 0.9002 - val_loss: 0.7298 - val_acc: 0.7312\n",
            "\n",
            "Epoch 00003: saving model to multimodal_happy_2.h5\n",
            "Epoch 4/20\n",
            "13761/13761 [==============================] - 97s 7ms/step - loss: 0.2413 - acc: 0.9011 - val_loss: 0.7200 - val_acc: 0.7312\n",
            "\n",
            "Epoch 00004: saving model to multimodal_happy_2.h5\n",
            "Epoch 5/20\n",
            "13761/13761 [==============================] - 96s 7ms/step - loss: 0.2417 - acc: 0.9011 - val_loss: 0.6915 - val_acc: 0.7436\n",
            "\n",
            "Epoch 00005: saving model to multimodal_happy_2.h5\n",
            "Epoch 6/20\n",
            "13761/13761 [==============================] - 96s 7ms/step - loss: 0.2402 - acc: 0.9012 - val_loss: 0.7188 - val_acc: 0.7188\n",
            "\n",
            "Epoch 00006: saving model to multimodal_happy_2.h5\n",
            "Epoch 7/20\n",
            "13761/13761 [==============================] - 96s 7ms/step - loss: 0.2417 - acc: 0.9018 - val_loss: 0.7146 - val_acc: 0.7390\n",
            "\n",
            "Epoch 00007: saving model to multimodal_happy_2.h5\n",
            "Epoch 8/20\n",
            "13761/13761 [==============================] - 96s 7ms/step - loss: 0.2400 - acc: 0.9011 - val_loss: 0.7161 - val_acc: 0.7404\n",
            "\n",
            "Epoch 00008: saving model to multimodal_happy_2.h5\n",
            "Epoch 9/20\n",
            "13761/13761 [==============================] - 96s 7ms/step - loss: 0.2397 - acc: 0.9025 - val_loss: 0.6937 - val_acc: 0.7456\n",
            "\n",
            "Epoch 00009: saving model to multimodal_happy_2.h5\n",
            "Epoch 10/20\n",
            "13761/13761 [==============================] - 96s 7ms/step - loss: 0.2392 - acc: 0.9023 - val_loss: 0.7214 - val_acc: 0.7299\n",
            "\n",
            "Epoch 00010: saving model to multimodal_happy_2.h5\n",
            "Epoch 00010: early stopping\n",
            "4832/4832 [==============================] - 59s 12ms/step\n"
          ],
          "name": "stdout"
        },
        {
          "output_type": "execute_result",
          "data": {
            "text/plain": [
              "[0.7264178486059834, 0.7241307947019867]"
            ]
          },
          "metadata": {
            "tags": []
          },
          "execution_count": 25
        }
      ]
    },
    {
      "cell_type": "code",
      "metadata": {
        "id": "INNESz8P4Otf",
        "colab_type": "code",
        "colab": {}
      },
      "source": [
        "from google.colab import files\n",
        "files.download('multimodal_happy_2.h5')"
      ],
      "execution_count": 0,
      "outputs": []
    },
    {
      "cell_type": "code",
      "metadata": {
        "id": "8af2foBN8gWJ",
        "colab_type": "code",
        "colab": {}
      },
      "source": [
        ""
      ],
      "execution_count": 0,
      "outputs": []
    }
  ]
}
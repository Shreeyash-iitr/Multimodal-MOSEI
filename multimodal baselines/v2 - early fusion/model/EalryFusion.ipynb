{
  "nbformat": 4,
  "nbformat_minor": 0,
  "metadata": {
    "colab": {
      "name": "EalryFusion.ipynb",
      "version": "0.3.2",
      "provenance": [],
      "collapsed_sections": []
    },
    "kernelspec": {
      "name": "python3",
      "display_name": "Python 3"
    },
    "accelerator": "GPU"
  },
  "cells": [
    {
      "cell_type": "code",
      "metadata": {
        "id": "RfUg0KqoX6p6",
        "colab_type": "code",
        "colab": {}
      },
      "source": [
        "!wget \"http://immortal.multicomp.cs.cmu.edu/raw_datasets/old_processed_data/cmu-mosei/data/audio_test.h5\"\n",
        "!wget \"http://immortal.multicomp.cs.cmu.edu/raw_datasets/old_processed_data/cmu-mosei/data/audio_train.h5\"\n",
        "!wget \"http://immortal.multicomp.cs.cmu.edu/raw_datasets/old_processed_data/cmu-mosei/data/text_test_emb.h5\"\n",
        "!wget \"http://immortal.multicomp.cs.cmu.edu/raw_datasets/old_processed_data/cmu-mosei/data/text_train_emb.h5\"\n",
        "!wget \"http://immortal.multicomp.cs.cmu.edu/raw_datasets/old_processed_data/cmu-mosei/data/video_test.h5\"\n",
        "!wget \"http://immortal.multicomp.cs.cmu.edu/raw_datasets/old_processed_data/cmu-mosei/data/video_train.h5\"\n",
        "\n",
        "!wget \"http://immortal.multicomp.cs.cmu.edu/raw_datasets/old_processed_data/cmu-mosei/labels/mosi2uni_Test_labels_angry.csv\"\n",
        "!wget \"http://immortal.multicomp.cs.cmu.edu/raw_datasets/old_processed_data/cmu-mosei/labels/mosi2uni_Test_labels_disgust.csv\"\n",
        "!wget \"http://immortal.multicomp.cs.cmu.edu/raw_datasets/old_processed_data/cmu-mosei/labels/mosi2uni_Test_labels_fear.csv\"\n",
        "!wget \"http://immortal.multicomp.cs.cmu.edu/raw_datasets/old_processed_data/cmu-mosei/labels/mosi2uni_Test_labels_happy.csv\"\n",
        "!wget \"http://immortal.multicomp.cs.cmu.edu/raw_datasets/old_processed_data/cmu-mosei/labels/mosi2uni_Test_labels_sad.csv\"\n",
        "!wget \"http://immortal.multicomp.cs.cmu.edu/raw_datasets/old_processed_data/cmu-mosei/labels/mosi2uni_Test_labels_surprise.csv\"\n",
        "\n",
        "!wget \"http://immortal.multicomp.cs.cmu.edu/raw_datasets/old_processed_data/cmu-mosei/labels/mosi2uni_Train_labels_angry.csv\"\n",
        "!wget \"http://immortal.multicomp.cs.cmu.edu/raw_datasets/old_processed_data/cmu-mosei/labels/mosi2uni_Train_labels_disgust.csv\"\n",
        "!wget \"http://immortal.multicomp.cs.cmu.edu/raw_datasets/old_processed_data/cmu-mosei/labels/mosi2uni_Train_labels_fear.csv\"\n",
        "!wget \"http://immortal.multicomp.cs.cmu.edu/raw_datasets/old_processed_data/cmu-mosei/labels/mosi2uni_Train_labels_happy.csv\"\n",
        "!wget \"http://immortal.multicomp.cs.cmu.edu/raw_datasets/old_processed_data/cmu-mosei/labels/mosi2uni_Train_labels_sad.csv\"\n",
        "!wget \"http://immortal.multicomp.cs.cmu.edu/raw_datasets/old_processed_data/cmu-mosei/labels/mosi2uni_Train_labels_surprise.csv\""
      ],
      "execution_count": 0,
      "outputs": []
    },
    {
      "cell_type": "code",
      "metadata": {
        "id": "P_Bn2lbiW3N3",
        "colab_type": "code",
        "colab": {}
      },
      "source": [
        "import numpy as np\n",
        "import h5py\n",
        "import pandas as pd\n",
        "\n",
        "Test_labels_surprise = pd.read_csv(\"mosi2uni_Test_labels_surprise.csv\",header=None)\n",
        "Test_labels_angry = pd.read_csv(\"mosi2uni_Test_labels_angry.csv\",header=None)\n",
        "Test_labels_disgust = pd.read_csv(\"mosi2uni_Test_labels_disgust.csv\",header=None)\n",
        "Test_labels_fear = pd.read_csv(\"mosi2uni_Test_labels_fear.csv\",header=None)\n",
        "Test_labels_happy = pd.read_csv(\"mosi2uni_Test_labels_happy.csv\",header=None)\n",
        "Test_labels_sad = pd.read_csv(\"mosi2uni_Test_labels_sad.csv\",header=None)\n",
        "\n",
        "Train_labels_surprise = pd.read_csv(\"mosi2uni_Train_labels_surprise.csv\",header=None)\n",
        "Train_labels_angry = pd.read_csv(\"mosi2uni_Train_labels_angry.csv\",header=None)\n",
        "Train_labels_disgust = pd.read_csv(\"mosi2uni_Train_labels_disgust.csv\",header=None)\n",
        "Train_labels_fear = pd.read_csv(\"mosi2uni_Train_labels_fear.csv\",header=None)\n",
        "Train_labels_happy = pd.read_csv(\"mosi2uni_Train_labels_happy.csv\",header=None)\n",
        "Train_labels_sad = pd.read_csv(\"mosi2uni_Train_labels_sad.csv\",header=None)"
      ],
      "execution_count": 0,
      "outputs": []
    },
    {
      "cell_type": "code",
      "metadata": {
        "id": "1SuTspoZXulR",
        "colab_type": "code",
        "outputId": "b0570e80-b83e-4280-e710-2baefd5bdded",
        "colab": {
          "base_uri": "https://localhost:8080/",
          "height": 52
        }
      },
      "source": [
        "video_train = h5py.File(\"video_train.h5\",\"r\")\n",
        "print(list(video_train.keys()))\n",
        "video_train = np.array(video_train.get('d1'))\n",
        "video_train.shape"
      ],
      "execution_count": 0,
      "outputs": [
        {
          "output_type": "stream",
          "text": [
            "['d1']\n"
          ],
          "name": "stdout"
        },
        {
          "output_type": "execute_result",
          "data": {
            "text/plain": [
              "(15290, 20, 35)"
            ]
          },
          "metadata": {
            "tags": []
          },
          "execution_count": 5
        }
      ]
    },
    {
      "cell_type": "code",
      "metadata": {
        "id": "T24wzdv8YfMh",
        "colab_type": "code",
        "outputId": "0d1db260-f07d-452c-8670-f1ce8437675f",
        "colab": {
          "base_uri": "https://localhost:8080/",
          "height": 52
        }
      },
      "source": [
        "video_test = h5py.File(\"video_test.h5\",\"r\")\n",
        "print(list(video_test.keys()))\n",
        "video_test = np.array(video_test.get('d1'))\n",
        "video_test.shape"
      ],
      "execution_count": 0,
      "outputs": [
        {
          "output_type": "stream",
          "text": [
            "['d1']\n"
          ],
          "name": "stdout"
        },
        {
          "output_type": "execute_result",
          "data": {
            "text/plain": [
              "(4832, 20, 35)"
            ]
          },
          "metadata": {
            "tags": []
          },
          "execution_count": 6
        }
      ]
    },
    {
      "cell_type": "code",
      "metadata": {
        "id": "bepVrzKUYvk6",
        "colab_type": "code",
        "outputId": "874b002d-57c8-4aaf-8807-a5a102ad1045",
        "colab": {
          "base_uri": "https://localhost:8080/",
          "height": 52
        }
      },
      "source": [
        "audio_train = h5py.File(\"audio_train.h5\",\"r\")\n",
        "print(list(audio_train.keys()))\n",
        "audio_train = np.array(audio_train.get('d1'))\n",
        "audio_train.shape"
      ],
      "execution_count": 0,
      "outputs": [
        {
          "output_type": "stream",
          "text": [
            "['d1']\n"
          ],
          "name": "stdout"
        },
        {
          "output_type": "execute_result",
          "data": {
            "text/plain": [
              "(15290, 20, 74)"
            ]
          },
          "metadata": {
            "tags": []
          },
          "execution_count": 7
        }
      ]
    },
    {
      "cell_type": "code",
      "metadata": {
        "id": "ZDXakePMY1Wj",
        "colab_type": "code",
        "outputId": "258e0493-a19a-4107-a069-5db0f70fc74d",
        "colab": {
          "base_uri": "https://localhost:8080/",
          "height": 52
        }
      },
      "source": [
        "audio_test = h5py.File(\"audio_test.h5\",\"r\")\n",
        "print(list(audio_test.keys()))\n",
        "audio_test = np.array(audio_test.get('d1'))\n",
        "audio_test.shape"
      ],
      "execution_count": 0,
      "outputs": [
        {
          "output_type": "stream",
          "text": [
            "['d1']\n"
          ],
          "name": "stdout"
        },
        {
          "output_type": "execute_result",
          "data": {
            "text/plain": [
              "(4832, 20, 74)"
            ]
          },
          "metadata": {
            "tags": []
          },
          "execution_count": 8
        }
      ]
    },
    {
      "cell_type": "code",
      "metadata": {
        "id": "-UglOkUgZA2d",
        "colab_type": "code",
        "outputId": "3368c4e7-72e7-4098-f3ac-1931c50098d3",
        "colab": {
          "base_uri": "https://localhost:8080/",
          "height": 52
        }
      },
      "source": [
        "text_train_emb = h5py.File(\"text_train_emb.h5\",\"r\")\n",
        "print(list(text_train_emb.keys()))\n",
        "text_train_emb = np.array(text_train_emb.get('d1'))\n",
        "text_train_emb.shape"
      ],
      "execution_count": 0,
      "outputs": [
        {
          "output_type": "stream",
          "text": [
            "['d1']\n"
          ],
          "name": "stdout"
        },
        {
          "output_type": "execute_result",
          "data": {
            "text/plain": [
              "(15290, 20, 300)"
            ]
          },
          "metadata": {
            "tags": []
          },
          "execution_count": 9
        }
      ]
    },
    {
      "cell_type": "code",
      "metadata": {
        "id": "aO7KdPopZHaa",
        "colab_type": "code",
        "outputId": "10a26cb2-137d-4d5e-f7e8-cb6a19671c4b",
        "colab": {
          "base_uri": "https://localhost:8080/",
          "height": 52
        }
      },
      "source": [
        "text_test_emb = h5py.File(\"text_test_emb.h5\",\"r\")\n",
        "print(list(text_test_emb.keys()))\n",
        "text_test_emb = np.array(text_test_emb.get('d1'))\n",
        "text_test_emb.shape"
      ],
      "execution_count": 0,
      "outputs": [
        {
          "output_type": "stream",
          "text": [
            "['d1']\n"
          ],
          "name": "stdout"
        },
        {
          "output_type": "execute_result",
          "data": {
            "text/plain": [
              "(4832, 20, 300)"
            ]
          },
          "metadata": {
            "tags": []
          },
          "execution_count": 10
        }
      ]
    },
    {
      "cell_type": "markdown",
      "metadata": {
        "id": "I9fgGvgCa8nz",
        "colab_type": "text"
      },
      "source": [
        "This is example of Early Feature-wise Fusion where I am concatenaing features for three modalities and than train LSTM+DNN model on concatenated features."
      ]
    },
    {
      "cell_type": "code",
      "metadata": {
        "id": "IHka0VnpZOWG",
        "colab_type": "code",
        "outputId": "f17b40a3-fc5b-4e7b-e9d0-2fdf40c55031",
        "colab": {
          "base_uri": "https://localhost:8080/",
          "height": 35
        }
      },
      "source": [
        "concat_train = np.concatenate((video_train,audio_train),axis=-1)\n",
        "concat_train = np.concatenate((concat_train, text_train_emb),axis=-1)\n",
        "concat_train.shape"
      ],
      "execution_count": 0,
      "outputs": [
        {
          "output_type": "execute_result",
          "data": {
            "text/plain": [
              "(15290, 20, 409)"
            ]
          },
          "metadata": {
            "tags": []
          },
          "execution_count": 13
        }
      ]
    },
    {
      "cell_type": "code",
      "metadata": {
        "id": "aRBjoIixaUyA",
        "colab_type": "code",
        "outputId": "e955cd1e-0269-4f75-8b75-7d941f7b6435",
        "colab": {
          "base_uri": "https://localhost:8080/",
          "height": 35
        }
      },
      "source": [
        "concat_test = np.concatenate((video_test,audio_test),axis=-1)\n",
        "concat_test = np.concatenate((concat_test, text_test_emb),axis=-1)\n",
        "concat_test.shape"
      ],
      "execution_count": 0,
      "outputs": [
        {
          "output_type": "execute_result",
          "data": {
            "text/plain": [
              "(4832, 20, 409)"
            ]
          },
          "metadata": {
            "tags": []
          },
          "execution_count": 16
        }
      ]
    },
    {
      "cell_type": "code",
      "metadata": {
        "id": "IjZOC1WXaxgE",
        "colab_type": "code",
        "colab": {}
      },
      "source": [
        "import keras\n",
        "from google.colab import files\t\n",
        "from keras.models import load_model\n",
        "from keras.models import Model,Sequential,Model\n",
        "from keras.layers import LSTM,Dense,Input, Flatten,Dropout\n",
        "from keras import callbacks\n",
        "from keras.callbacks import EarlyStopping, ModelCheckpoint\n",
        "from keras.utils import plot_model"
      ],
      "execution_count": 0,
      "outputs": []
    },
    {
      "cell_type": "code",
      "metadata": {
        "id": "5juuuR8Mba0J",
        "colab_type": "code",
        "colab": {}
      },
      "source": [
        "i = Input(shape=(20,409))\n",
        "x = LSTM(units=256,return_sequences=True)(i)\n",
        "x = LSTM(units=256,return_sequences=True)(x)\n",
        "x = LSTM(units=128,return_sequences=True)(x)\n",
        "x = LSTM(units=128,return_sequences=True)(x)\n",
        "x = LSTM(units=64,return_sequences=True)(x)\n",
        "x = LSTM(units=64,return_sequences=True)(x)\n",
        "x = LSTM(units=32,return_sequences=True)(x)\n",
        "x = LSTM(units=32,return_sequences=True)(x)\n",
        "x = Flatten()(x)\n",
        "x = Dense(units=64,activation='relu')(x)\n",
        "x = Dropout(rate=0.15)(x)\n",
        "x = Dense(units=64,activation='relu')(x)\n",
        "o = Dense(1,activation='sigmoid')(x)"
      ],
      "execution_count": 0,
      "outputs": []
    },
    {
      "cell_type": "code",
      "metadata": {
        "id": "Pt53csgdcFh1",
        "colab_type": "code",
        "colab": {}
      },
      "source": [
        "model_rnn_happy = Model(inputs=i,outputs=o)\n",
        "model_rnn_angry = Model(inputs=i,outputs=o)\n",
        "model_rnn_fear = Model(inputs=i,outputs=o)\n",
        "model_rnn_surprise = Model(inputs=i,outputs=o)\n",
        "model_rnn_disgust = Model(inputs=i,outputs=o)\n",
        "model_rnn_sad = Model(inputs=i,outputs=o)"
      ],
      "execution_count": 0,
      "outputs": []
    },
    {
      "cell_type": "code",
      "metadata": {
        "id": "vaK8T_6ecTep",
        "colab_type": "code",
        "outputId": "bb434f80-8755-41bd-d5f9-f59a2ab243a5",
        "colab": {
          "base_uri": "https://localhost:8080/",
          "height": 624
        }
      },
      "source": [
        "model_rnn_happy.summary()"
      ],
      "execution_count": 0,
      "outputs": [
        {
          "output_type": "stream",
          "text": [
            "_________________________________________________________________\n",
            "Layer (type)                 Output Shape              Param #   \n",
            "=================================================================\n",
            "input_7 (InputLayer)         (None, 20, 409)           0         \n",
            "_________________________________________________________________\n",
            "lstm_49 (LSTM)               (None, 20, 256)           681984    \n",
            "_________________________________________________________________\n",
            "lstm_50 (LSTM)               (None, 20, 256)           525312    \n",
            "_________________________________________________________________\n",
            "lstm_51 (LSTM)               (None, 20, 128)           197120    \n",
            "_________________________________________________________________\n",
            "lstm_52 (LSTM)               (None, 20, 128)           131584    \n",
            "_________________________________________________________________\n",
            "lstm_53 (LSTM)               (None, 20, 64)            49408     \n",
            "_________________________________________________________________\n",
            "lstm_54 (LSTM)               (None, 20, 64)            33024     \n",
            "_________________________________________________________________\n",
            "lstm_55 (LSTM)               (None, 20, 32)            12416     \n",
            "_________________________________________________________________\n",
            "lstm_56 (LSTM)               (None, 20, 32)            8320      \n",
            "_________________________________________________________________\n",
            "flatten_7 (Flatten)          (None, 640)               0         \n",
            "_________________________________________________________________\n",
            "dense_11 (Dense)             (None, 64)                41024     \n",
            "_________________________________________________________________\n",
            "dropout_4 (Dropout)          (None, 64)                0         \n",
            "_________________________________________________________________\n",
            "dense_12 (Dense)             (None, 64)                4160      \n",
            "_________________________________________________________________\n",
            "dense_13 (Dense)             (None, 1)                 65        \n",
            "=================================================================\n",
            "Total params: 1,684,417\n",
            "Trainable params: 1,684,417\n",
            "Non-trainable params: 0\n",
            "_________________________________________________________________\n"
          ],
          "name": "stdout"
        }
      ]
    },
    {
      "cell_type": "code",
      "metadata": {
        "id": "rDMbgjrbdQJk",
        "colab_type": "code",
        "colab": {}
      },
      "source": [
        "plot_model(model_rnn_happy, to_file='early_fusion_happy.png',show_layer_names=True, show_shapes=True)\n",
        "files.download('early_fusion_happy.png')"
      ],
      "execution_count": 0,
      "outputs": []
    },
    {
      "cell_type": "code",
      "metadata": {
        "id": "DJRcuIjUe18y",
        "colab_type": "code",
        "colab": {
          "base_uri": "https://localhost:8080/",
          "height": 1216
        },
        "outputId": "2ec08063-fa18-4990-bede-0762a26ab02b"
      },
      "source": [
        "model_rnn_happy.compile('adam','binary_crossentropy',metrics=['accuracy'])\n",
        "es = EarlyStopping(monitor='val_loss',mode='min' ,patience=5, min_delta=0.0001,verbose=1)\n",
        "mcp = ModelCheckpoint(\"early_fusion_happy.h5\",monitor='val_loss',verbose=1)\n",
        "history_rnn_happy = model_rnn_happy.fit(concat_train,Train_labels_happy,batch_size=64,epochs=20,validation_split=0.1,callbacks=[es, mcp])\n",
        "print(\"Evaluating the model=====================================================\")\n",
        "print(model_rnn_happy.evaluate(concat_test,Test_labels_happy))\n",
        "print(\"Saving the model=========================================================\")\n",
        "saved_rnn_happy = load_model('early_fusion_happy.h5')\n",
        "print(\"Evaluating saved model===================================================\")\n",
        "saved_rnn_happy.evaluate(concat_test,Test_labels_happy)"
      ],
      "execution_count": 39,
      "outputs": [
        {
          "output_type": "stream",
          "text": [
            "W0624 08:03:22.033298 139711233992576 deprecation_wrapper.py:119] From /usr/local/lib/python3.6/dist-packages/keras/optimizers.py:790: The name tf.train.Optimizer is deprecated. Please use tf.compat.v1.train.Optimizer instead.\n",
            "\n",
            "W0624 08:03:22.069317 139711233992576 deprecation_wrapper.py:119] From /usr/local/lib/python3.6/dist-packages/keras/backend/tensorflow_backend.py:3376: The name tf.log is deprecated. Please use tf.math.log instead.\n",
            "\n",
            "W0624 08:03:22.077915 139711233992576 deprecation.py:323] From /usr/local/lib/python3.6/dist-packages/tensorflow/python/ops/nn_impl.py:180: add_dispatch_support.<locals>.wrapper (from tensorflow.python.ops.array_ops) is deprecated and will be removed in a future version.\n",
            "Instructions for updating:\n",
            "Use tf.where in 2.0, which has the same broadcast rule as np.where\n"
          ],
          "name": "stderr"
        },
        {
          "output_type": "stream",
          "text": [
            "Train on 13761 samples, validate on 1529 samples\n",
            "Epoch 1/20\n",
            "13761/13761 [==============================] - 83s 6ms/step - loss: 0.6604 - acc: 0.6067 - val_loss: 0.6849 - val_acc: 0.5899\n",
            "\n",
            "Epoch 00001: saving model to early_fusion_happy.h5\n",
            "Epoch 2/20\n",
            "13761/13761 [==============================] - 71s 5ms/step - loss: 0.6402 - acc: 0.6426 - val_loss: 0.6596 - val_acc: 0.6102\n",
            "\n",
            "Epoch 00002: saving model to early_fusion_happy.h5\n",
            "Epoch 3/20\n",
            "13761/13761 [==============================] - 71s 5ms/step - loss: 0.6237 - acc: 0.6601 - val_loss: 0.6512 - val_acc: 0.6246\n",
            "\n",
            "Epoch 00003: saving model to early_fusion_happy.h5\n",
            "Epoch 4/20\n",
            "13761/13761 [==============================] - 72s 5ms/step - loss: 0.6144 - acc: 0.6686 - val_loss: 0.6547 - val_acc: 0.6207\n",
            "\n",
            "Epoch 00004: saving model to early_fusion_happy.h5\n",
            "Epoch 5/20\n",
            "13761/13761 [==============================] - 71s 5ms/step - loss: 0.6034 - acc: 0.6779 - val_loss: 0.6765 - val_acc: 0.6174\n",
            "\n",
            "Epoch 00005: saving model to early_fusion_happy.h5\n",
            "Epoch 6/20\n",
            "13761/13761 [==============================] - 71s 5ms/step - loss: 0.5961 - acc: 0.6813 - val_loss: 0.6455 - val_acc: 0.6167\n",
            "\n",
            "Epoch 00006: saving model to early_fusion_happy.h5\n",
            "Epoch 7/20\n",
            "13761/13761 [==============================] - 72s 5ms/step - loss: 0.5817 - acc: 0.6930 - val_loss: 0.6485 - val_acc: 0.6207\n",
            "\n",
            "Epoch 00007: saving model to early_fusion_happy.h5\n",
            "Epoch 8/20\n",
            "13761/13761 [==============================] - 73s 5ms/step - loss: 0.5769 - acc: 0.7021 - val_loss: 0.6360 - val_acc: 0.6213\n",
            "\n",
            "Epoch 00008: saving model to early_fusion_happy.h5\n",
            "Epoch 9/20\n",
            "13761/13761 [==============================] - 72s 5ms/step - loss: 0.5649 - acc: 0.7074 - val_loss: 0.6573 - val_acc: 0.6337\n",
            "\n",
            "Epoch 00009: saving model to early_fusion_happy.h5\n",
            "Epoch 10/20\n",
            "13761/13761 [==============================] - 73s 5ms/step - loss: 0.5523 - acc: 0.7196 - val_loss: 0.6711 - val_acc: 0.6200\n",
            "\n",
            "Epoch 00010: saving model to early_fusion_happy.h5\n",
            "Epoch 11/20\n",
            "13761/13761 [==============================] - 73s 5ms/step - loss: 0.5311 - acc: 0.7398 - val_loss: 0.6769 - val_acc: 0.6004\n",
            "\n",
            "Epoch 00011: saving model to early_fusion_happy.h5\n",
            "Epoch 12/20\n",
            "13761/13761 [==============================] - 72s 5ms/step - loss: 0.5225 - acc: 0.7450 - val_loss: 0.7861 - val_acc: 0.6187\n",
            "\n",
            "Epoch 00012: saving model to early_fusion_happy.h5\n",
            "Epoch 13/20\n",
            "13761/13761 [==============================] - 72s 5ms/step - loss: 0.5021 - acc: 0.7575 - val_loss: 0.7276 - val_acc: 0.6187\n",
            "\n",
            "Epoch 00013: saving model to early_fusion_happy.h5\n",
            "Epoch 00013: early stopping\n",
            "Evaluating the model=====================================================\n",
            "4832/4832 [==============================] - 20s 4ms/step\n",
            "[0.6538063246288047, 0.668046357615894]\n",
            "Saving the model=========================================================\n",
            "Evaluating saved model===================================================\n",
            "4832/4832 [==============================] - 21s 4ms/step\n"
          ],
          "name": "stdout"
        },
        {
          "output_type": "execute_result",
          "data": {
            "text/plain": [
              "[0.6538063246288047, 0.668046357615894]"
            ]
          },
          "metadata": {
            "tags": []
          },
          "execution_count": 39
        }
      ]
    },
    {
      "cell_type": "code",
      "metadata": {
        "id": "ohRj4wYPfqX8",
        "colab_type": "code",
        "colab": {}
      },
      "source": [
        "files.download('early_fusion_happy.h5')"
      ],
      "execution_count": 0,
      "outputs": []
    },
    {
      "cell_type": "code",
      "metadata": {
        "id": "3OR6OXqNlKu-",
        "colab_type": "code",
        "colab": {
          "base_uri": "https://localhost:8080/",
          "height": 659
        },
        "outputId": "02635873-83c6-40dd-de43-a94411d50e66"
      },
      "source": [
        "model_rnn_sad.compile('adam','binary_crossentropy',metrics=['accuracy'])\n",
        "es = EarlyStopping(monitor='val_loss',mode='min' ,patience=5, min_delta=0.0001,verbose=1)\n",
        "mcp = ModelCheckpoint(\"early_fusion_sad.h5\",monitor='val_loss',verbose=1)\n",
        "history_rnn_sad = model_rnn_sad.fit(concat_train,Train_labels_sad,batch_size=64,epochs=20,validation_split=0.1,callbacks=[es, mcp])\n",
        "print(\"Evaluating the model=====================================================\")\n",
        "print(model_rnn_sad.evaluate(concat_test,Test_labels_sad))\n",
        "print(\"Saving the model=========================================================\")\n",
        "saved_rnn_sad = load_model('early_fusion_sad.h5')\n",
        "print(\"Evaluating saved model===================================================\")\n",
        "saved_rnn_sad.evaluate(concat_test,Test_labels_sad)"
      ],
      "execution_count": 41,
      "outputs": [
        {
          "output_type": "stream",
          "text": [
            "Train on 13761 samples, validate on 1529 samples\n",
            "Epoch 1/20\n",
            "13761/13761 [==============================] - 82s 6ms/step - loss: 0.5718 - acc: 0.7362 - val_loss: 0.5297 - val_acc: 0.7626\n",
            "\n",
            "Epoch 00001: saving model to early_fusion_sad.h5\n",
            "Epoch 2/20\n",
            "13761/13761 [==============================] - 73s 5ms/step - loss: 0.5502 - acc: 0.7425 - val_loss: 0.5245 - val_acc: 0.7626\n",
            "\n",
            "Epoch 00002: saving model to early_fusion_sad.h5\n",
            "Epoch 3/20\n",
            "13761/13761 [==============================] - 73s 5ms/step - loss: 0.5463 - acc: 0.7418 - val_loss: 0.5267 - val_acc: 0.7626\n",
            "\n",
            "Epoch 00003: saving model to early_fusion_sad.h5\n",
            "Epoch 4/20\n",
            "13761/13761 [==============================] - 72s 5ms/step - loss: 0.5289 - acc: 0.7438 - val_loss: 0.5441 - val_acc: 0.7475\n",
            "\n",
            "Epoch 00004: saving model to early_fusion_sad.h5\n",
            "Epoch 5/20\n",
            "13761/13761 [==============================] - 72s 5ms/step - loss: 0.5076 - acc: 0.7540 - val_loss: 0.5528 - val_acc: 0.7619\n",
            "\n",
            "Epoch 00005: saving model to early_fusion_sad.h5\n",
            "Epoch 6/20\n",
            "13761/13761 [==============================] - 72s 5ms/step - loss: 0.4800 - acc: 0.7727 - val_loss: 0.5603 - val_acc: 0.7554\n",
            "\n",
            "Epoch 00006: saving model to early_fusion_sad.h5\n",
            "Epoch 7/20\n",
            "13761/13761 [==============================] - 72s 5ms/step - loss: 0.4480 - acc: 0.7971 - val_loss: 0.5936 - val_acc: 0.7240\n",
            "\n",
            "Epoch 00007: saving model to early_fusion_sad.h5\n",
            "Epoch 00007: early stopping\n",
            "Evaluating the model=====================================================\n",
            "4832/4832 [==============================] - 20s 4ms/step\n",
            "[0.6280752976011756, 0.6988824503311258]\n",
            "Saving the model=========================================================\n",
            "Evaluating saved model===================================================\n",
            "4832/4832 [==============================] - 23s 5ms/step\n"
          ],
          "name": "stdout"
        },
        {
          "output_type": "execute_result",
          "data": {
            "text/plain": [
              "[0.6280752976011756, 0.6988824503311258]"
            ]
          },
          "metadata": {
            "tags": []
          },
          "execution_count": 41
        }
      ]
    },
    {
      "cell_type": "code",
      "metadata": {
        "id": "vmECXnJvlhPJ",
        "colab_type": "code",
        "colab": {}
      },
      "source": [
        "files.download('early_fusion_sad.h5')"
      ],
      "execution_count": 0,
      "outputs": []
    },
    {
      "cell_type": "code",
      "metadata": {
        "id": "-cR5wJyrlj6F",
        "colab_type": "code",
        "colab": {
          "base_uri": "https://localhost:8080/",
          "height": 589
        },
        "outputId": "efa5db3b-95d4-4b4a-eef5-daf0baebd055"
      },
      "source": [
        "model_rnn_surprise.compile('adam','binary_crossentropy',metrics=['accuracy'])\n",
        "es = EarlyStopping(monitor='val_loss',mode='min' ,patience=5, min_delta=0.0001,verbose=1)\n",
        "mcp = ModelCheckpoint(\"early_fusion_surprise.h5\",monitor='val_loss',verbose=1)\n",
        "history_rnn_surprise = model_rnn_surprise.fit(concat_train,Train_labels_surprise,batch_size=64,epochs=20,validation_split=0.1,callbacks=[es, mcp])\n",
        "print(\"Evaluating the model=====================================================\")\n",
        "print(model_rnn_surprise.evaluate(concat_test,Test_labels_surprise))\n",
        "print(\"Saving the model=========================================================\")\n",
        "saved_rnn_surprise = load_model('early_fusion_surprise.h5')\n",
        "print(\"Evaluating saved model===================================================\")\n",
        "saved_rnn_surprise.evaluate(concat_test,Test_labels_surprise)"
      ],
      "execution_count": 44,
      "outputs": [
        {
          "output_type": "stream",
          "text": [
            "Train on 13761 samples, validate on 1529 samples\n",
            "Epoch 1/20\n",
            "13761/13761 [==============================] - 83s 6ms/step - loss: 0.3353 - acc: 0.8948 - val_loss: 0.2978 - val_acc: 0.9091\n",
            "\n",
            "Epoch 00001: saving model to early_fusion_surprise.h5\n",
            "Epoch 2/20\n",
            "13761/13761 [==============================] - 72s 5ms/step - loss: 0.3254 - acc: 0.8966 - val_loss: 0.2991 - val_acc: 0.9091\n",
            "\n",
            "Epoch 00002: saving model to early_fusion_surprise.h5\n",
            "Epoch 3/20\n",
            "13761/13761 [==============================] - 72s 5ms/step - loss: 0.3166 - acc: 0.8971 - val_loss: 0.3197 - val_acc: 0.9091\n",
            "\n",
            "Epoch 00003: saving model to early_fusion_surprise.h5\n",
            "Epoch 4/20\n",
            "13761/13761 [==============================] - 72s 5ms/step - loss: 0.2996 - acc: 0.9007 - val_loss: 0.3134 - val_acc: 0.9071\n",
            "\n",
            "Epoch 00004: saving model to early_fusion_surprise.h5\n",
            "Epoch 5/20\n",
            "13761/13761 [==============================] - 72s 5ms/step - loss: 0.2744 - acc: 0.9070 - val_loss: 0.4410 - val_acc: 0.8973\n",
            "\n",
            "Epoch 00005: saving model to early_fusion_surprise.h5\n",
            "Epoch 6/20\n",
            "13761/13761 [==============================] - 72s 5ms/step - loss: 0.2503 - acc: 0.9150 - val_loss: 0.3666 - val_acc: 0.9065\n",
            "\n",
            "Epoch 00006: saving model to early_fusion_surprise.h5\n",
            "Epoch 00006: early stopping\n",
            "Evaluating the model=====================================================\n",
            "4832/4832 [==============================] - 20s 4ms/step\n",
            "[0.38686924131698164, 0.8952814569536424]\n",
            "Saving the model=========================================================\n",
            "Evaluating saved model===================================================\n",
            "4832/4832 [==============================] - 24s 5ms/step\n"
          ],
          "name": "stdout"
        },
        {
          "output_type": "execute_result",
          "data": {
            "text/plain": [
              "[0.38686924131698164, 0.8952814569536424]"
            ]
          },
          "metadata": {
            "tags": []
          },
          "execution_count": 44
        }
      ]
    },
    {
      "cell_type": "code",
      "metadata": {
        "id": "JSfrixMzoMDx",
        "colab_type": "code",
        "colab": {}
      },
      "source": [
        "files.download('early_fusion_surprise.h5')"
      ],
      "execution_count": 0,
      "outputs": []
    },
    {
      "cell_type": "code",
      "metadata": {
        "id": "4QRfx_JwoPBQ",
        "colab_type": "code",
        "colab": {}
      },
      "source": [
        ""
      ],
      "execution_count": 0,
      "outputs": []
    }
  ]
}
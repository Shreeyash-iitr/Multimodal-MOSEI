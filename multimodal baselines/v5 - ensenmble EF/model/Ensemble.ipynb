{
 "cells": [
  {
   "cell_type": "code",
   "execution_count": 0,
   "metadata": {
    "colab": {},
    "colab_type": "code",
    "id": "HG4W4IwjfkBD"
   },
   "outputs": [],
   "source": [
    "!git clone \"https://github.com/convman/Multimodal-MOSEI.git\"\n"
   ]
  },
  {
   "cell_type": "code",
   "execution_count": 2,
   "metadata": {
    "colab": {
     "base_uri": "https://localhost:8080/",
     "height": 35
    },
    "colab_type": "code",
    "id": "9i9TtCoFfq16",
    "outputId": "77a12822-f406-4b98-cea1-6e6d83324657"
   },
   "outputs": [
    {
     "name": "stdout",
     "output_type": "stream",
     "text": [
      "/content/Multimodal-MOSEI\n"
     ]
    }
   ],
   "source": [
    "cd Multimodal-MOSEI/"
   ]
  },
  {
   "cell_type": "code",
   "execution_count": 0,
   "metadata": {
    "colab": {},
    "colab_type": "code",
    "id": "MbjU8U7qfsOO"
   },
   "outputs": [],
   "source": [
    "!chmod +x data/dataset_download.sh\n",
    "!./data/dataset_download.sh"
   ]
  },
  {
   "cell_type": "code",
   "execution_count": 4,
   "metadata": {
    "colab": {
     "base_uri": "https://localhost:8080/",
     "height": 139
    },
    "colab_type": "code",
    "id": "PrtnCAu7ftuC",
    "outputId": "29c6586a-2f21-4039-b04d-41ca112dc9eb"
   },
   "outputs": [
    {
     "name": "stdout",
     "output_type": "stream",
     "text": [
      "['d1']\n",
      "['d1']\n",
      "['d1']\n",
      "['d1']\n",
      "['d1']\n",
      "['d1']\n"
     ]
    },
    {
     "data": {
      "text/plain": [
       "(4832, 20, 300)"
      ]
     },
     "execution_count": 4,
     "metadata": {
      "tags": []
     },
     "output_type": "execute_result"
    }
   ],
   "source": [
    "import pandas as pd\n",
    "import numpy as np\n",
    "import h5py\n",
    "\n",
    "Test_labels_fear = pd.read_csv(\"mosi2uni_Test_labels_fear.csv\",header=None)\n",
    "Train_labels_fear = pd.read_csv(\"mosi2uni_Train_labels_fear.csv\",header=None)\n",
    "\n",
    "video_train = h5py.File(\"video_train.h5\",\"r\")\n",
    "print(list(video_train.keys()))\n",
    "video_train = np.array(video_train.get('d1'))\n",
    "\n",
    "video_test = h5py.File(\"video_test.h5\",\"r\")\n",
    "print(list(video_test.keys()))\n",
    "video_test = np.array(video_test.get('d1'))\n",
    "\n",
    "audio_train = h5py.File(\"audio_train.h5\",\"r\")\n",
    "print(list(audio_train.keys()))\n",
    "audio_train = np.array(audio_train.get('d1'))\n",
    "\n",
    "audio_test = h5py.File(\"audio_test.h5\",\"r\")\n",
    "print(list(audio_test.keys()))\n",
    "audio_test = np.array(audio_test.get('d1'))\n",
    "\n",
    "text_train_emb = h5py.File(\"text_train_emb.h5\",\"r\")\n",
    "print(list(text_train_emb.keys()))\n",
    "text_train_emb = np.array(text_train_emb.get('d1'))\n",
    "\n",
    "text_test_emb = h5py.File(\"text_test_emb.h5\",\"r\")\n",
    "print(list(text_test_emb.keys()))\n",
    "text_test_emb = np.array(text_test_emb.get('d1'))\n",
    "text_test_emb.shape\n"
   ]
  },
  {
   "cell_type": "code",
   "execution_count": 5,
   "metadata": {
    "colab": {
     "base_uri": "https://localhost:8080/",
     "height": 35
    },
    "colab_type": "code",
    "id": "WEIx3e-JfzxG",
    "outputId": "d1c2ec07-cdeb-419f-bcea-0de5bf0a1c90"
   },
   "outputs": [
    {
     "name": "stderr",
     "output_type": "stream",
     "text": [
      "Using TensorFlow backend.\n"
     ]
    }
   ],
   "source": [
    "\n",
    "from keras.models import load_model\n",
    "import keras\n",
    "import matplotlib.pyplot as plt\n",
    "import seaborn as sn\n",
    "import pandas as pd\n",
    "import tensorflow as tf\n",
    "from time import time\n",
    "from keras import layers\n",
    "from google.colab import files  \n",
    "from keras.models import load_model\n",
    "from keras.models import Model,Sequential,Model\n",
    "from keras.layers import *\n",
    "from keras.callbacks import TensorBoard\n",
    "from sklearn.model_selection import train_test_split\n",
    "from sklearn.metrics import confusion_matrix\n",
    "from sklearn.utils.multiclass import unique_labels\n",
    "from keras import callbacks\n",
    "from keras.callbacks import *\n",
    "%matplotlib inline  "
   ]
  },
  {
   "cell_type": "code",
   "execution_count": 6,
   "metadata": {
    "colab": {
     "base_uri": "https://localhost:8080/",
     "height": 367
    },
    "colab_type": "code",
    "id": "k9RrF4j7f2PZ",
    "outputId": "6e6c5e35-2aef-4afb-994d-c5c416106b0d"
   },
   "outputs": [
    {
     "name": "stderr",
     "output_type": "stream",
     "text": [
      "WARNING: Logging before flag parsing goes to stderr.\n",
      "W0703 11:07:02.901034 140246129813376 deprecation_wrapper.py:119] From /usr/local/lib/python3.6/dist-packages/keras/backend/tensorflow_backend.py:517: The name tf.placeholder is deprecated. Please use tf.compat.v1.placeholder instead.\n",
      "\n",
      "W0703 11:07:02.947749 140246129813376 deprecation_wrapper.py:119] From /usr/local/lib/python3.6/dist-packages/keras/backend/tensorflow_backend.py:74: The name tf.get_default_graph is deprecated. Please use tf.compat.v1.get_default_graph instead.\n",
      "\n",
      "W0703 11:07:02.952060 140246129813376 deprecation_wrapper.py:119] From /usr/local/lib/python3.6/dist-packages/keras/backend/tensorflow_backend.py:4138: The name tf.random_uniform is deprecated. Please use tf.random.uniform instead.\n",
      "\n",
      "W0703 11:07:05.196143 140246129813376 deprecation_wrapper.py:119] From /usr/local/lib/python3.6/dist-packages/keras/backend/tensorflow_backend.py:174: The name tf.get_default_session is deprecated. Please use tf.compat.v1.get_default_session instead.\n",
      "\n",
      "W0703 11:07:05.197472 140246129813376 deprecation_wrapper.py:119] From /usr/local/lib/python3.6/dist-packages/keras/backend/tensorflow_backend.py:181: The name tf.ConfigProto is deprecated. Please use tf.compat.v1.ConfigProto instead.\n",
      "\n",
      "W0703 11:07:08.129261 140246129813376 deprecation_wrapper.py:119] From /usr/local/lib/python3.6/dist-packages/keras/optimizers.py:790: The name tf.train.Optimizer is deprecated. Please use tf.compat.v1.train.Optimizer instead.\n",
      "\n",
      "W0703 11:07:08.145540 140246129813376 deprecation.py:323] From /usr/local/lib/python3.6/dist-packages/tensorflow/python/ops/nn_impl.py:180: add_dispatch_support.<locals>.wrapper (from tensorflow.python.ops.array_ops) is deprecated and will be removed in a future version.\n",
      "Instructions for updating:\n",
      "Use tf.where in 2.0, which has the same broadcast rule as np.where\n",
      "W0703 11:07:47.498565 140246129813376 deprecation.py:506] From /usr/local/lib/python3.6/dist-packages/keras/backend/tensorflow_backend.py:3445: calling dropout (from tensorflow.python.ops.nn_ops) with keep_prob is deprecated and will be removed in a future version.\n",
      "Instructions for updating:\n",
      "Please use `rate` instead of `keep_prob`. Rate should be set to `rate = 1 - keep_prob`.\n"
     ]
    }
   ],
   "source": [
    "model_audio_fear = load_model(\"unimodal baselines/weights/audio/weights_rnn_fear.h5\")\n",
    "model_video_fear = load_model(\"unimodal baselines/weights/video/weights_rnn_fear.h5\")\n",
    "model_text_fear = load_model(\"unimodal baselines/weights/text/weights_rnn_fear.h5\")\n",
    "early_fusion_fear = load_model(\"multimodal baselines/v2 - early fusion/weights/early_fusion_fear.h5\")\n"
   ]
  },
  {
   "cell_type": "code",
   "execution_count": 0,
   "metadata": {
    "colab": {},
    "colab_type": "code",
    "id": "gSfSYv5Jf4Az"
   },
   "outputs": [],
   "source": [
    "\n",
    "concat_test = np.concatenate((video_test,audio_test),axis=-1)\n",
    "concat_test = np.concatenate((concat_test, text_test_emb),axis=-1)\n",
    "concat_train = np.concatenate((video_train,audio_train),axis=-1)\n",
    "concat_train = np.concatenate((concat_train, text_train_emb),axis=-1)\n"
   ]
  },
  {
   "cell_type": "code",
   "execution_count": 0,
   "metadata": {
    "colab": {},
    "colab_type": "code",
    "id": "DN3QGdIBf5Pd"
   },
   "outputs": [],
   "source": [
    "\n",
    "for layer in model_audio_fear.layers[:-1]:   \n",
    "    layer.trainable = False\n",
    "for layer in model_text_fear.layers[:-1]:   \n",
    "    layer.trainable = False\n",
    "for layer in model_video_fear.layers[:-1]:   \n",
    "    layer.trainable = False\n",
    "for layer in early_fusion_fear.layers[:-1]:   \n",
    "    layer.trainable = False\n"
   ]
  },
  {
   "cell_type": "code",
   "execution_count": 0,
   "metadata": {
    "colab": {},
    "colab_type": "code",
    "id": "VRnFKnpBirbQ"
   },
   "outputs": [],
   "source": [
    "m_ef = Sequential()\n",
    "i=0\n",
    "for layer in early_fusion_fear.layers[:]:\n",
    "  layer.name = str(i)\n",
    "  i=i+1\n",
    "  m_ef.add(layer)"
   ]
  },
  {
   "cell_type": "code",
   "execution_count": 14,
   "metadata": {
    "colab": {
     "base_uri": "https://localhost:8080/",
     "height": 537
    },
    "colab_type": "code",
    "id": "88gHocLNf6cu",
    "outputId": "736da617-2a69-403c-ce53-7eb5809424bd"
   },
   "outputs": [
    {
     "name": "stdout",
     "output_type": "stream",
     "text": [
      "__________________________________________________________________________________________________\n",
      "Layer (type)                    Output Shape         Param #     Connected to                     \n",
      "==================================================================================================\n",
      "input_13 (InputLayer)           (None, 20, 74)       0                                            \n",
      "__________________________________________________________________________________________________\n",
      "input_14 (InputLayer)           (None, 20, 300)      0                                            \n",
      "__________________________________________________________________________________________________\n",
      "input_15 (InputLayer)           (None, 20, 35)       0                                            \n",
      "__________________________________________________________________________________________________\n",
      "input_16 (InputLayer)           (None, 20, 409)      0                                            \n",
      "__________________________________________________________________________________________________\n",
      "model_3 (Model)                 (None, 1)            1298273     input_13[0][0]                   \n",
      "__________________________________________________________________________________________________\n",
      "model_13 (Model)                (None, 1)            1529697     input_14[0][0]                   \n",
      "__________________________________________________________________________________________________\n",
      "model_9 (Model)                 (None, 1)            1258337     input_15[0][0]                   \n",
      "__________________________________________________________________________________________________\n",
      "sequential_1 (Sequential)       (None, 1)            1684417     input_16[0][0]                   \n",
      "__________________________________________________________________________________________________\n",
      "concatenate_4 (Concatenate)     (None, 4)            0           model_3[4][0]                    \n",
      "                                                                 model_13[4][0]                   \n",
      "                                                                 model_9[4][0]                    \n",
      "                                                                 sequential_1[1][0]               \n",
      "__________________________________________________________________________________________________\n",
      "dense_4 (Dense)                 (None, 1)            5           concatenate_4[0][0]              \n",
      "==================================================================================================\n",
      "Total params: 5,770,729\n",
      "Trainable params: 169\n",
      "Non-trainable params: 5,770,560\n",
      "__________________________________________________________________________________________________\n"
     ]
    }
   ],
   "source": [
    "i_a = Input(shape=(20,74))\n",
    "i_t = Input(shape=(20,300))\n",
    "i_v = Input(shape=(20,35))\n",
    "i_ef = Input(shape=(20,409))\n",
    "y = concatenate([model_audio_fear(i_a),model_text_fear(i_t),model_video_fear(i_v),m_ef(i_ef)])\n",
    "y = Dense(1,activation='sigmoid')(y)\n",
    "model = Model([i_a,i_t,i_v,i_ef],y)\n",
    "model.summary()\n"
   ]
  },
  {
   "cell_type": "code",
   "execution_count": 15,
   "metadata": {
    "colab": {
     "base_uri": "https://localhost:8080/",
     "height": 329
    },
    "colab_type": "code",
    "id": "PYsB-zUJf8aw",
    "outputId": "d98875f1-748a-46b8-9bfb-d15192b180c4"
   },
   "outputs": [
    {
     "name": "stdout",
     "output_type": "stream",
     "text": [
      "Train on 13761 samples, validate on 1529 samples\n",
      "Epoch 1/20\n",
      "13761/13761 [==============================] - 70s 5ms/step - loss: 0.6711 - acc: 0.6132 - val_loss: 0.6033 - val_acc: 0.8875\n",
      "Epoch 2/20\n",
      "13761/13761 [==============================] - 58s 4ms/step - loss: 0.5005 - acc: 0.9345 - val_loss: 0.4776 - val_acc: 0.9117\n",
      "Epoch 3/20\n",
      "13761/13761 [==============================] - 58s 4ms/step - loss: 0.4148 - acc: 0.9237 - val_loss: 0.4240 - val_acc: 0.9111\n",
      "Epoch 4/20\n",
      "13761/13761 [==============================] - 58s 4ms/step - loss: 0.3650 - acc: 0.9214 - val_loss: 0.3893 - val_acc: 0.9111\n",
      "Epoch 5/20\n",
      "13761/13761 [==============================] - 60s 4ms/step - loss: 0.3414 - acc: 0.9208 - val_loss: 0.3836 - val_acc: 0.9111\n",
      "Epoch 6/20\n",
      "13761/13761 [==============================] - 60s 4ms/step - loss: 0.3345 - acc: 0.9209 - val_loss: 0.3781 - val_acc: 0.9111\n",
      "Epoch 7/20\n",
      "13761/13761 [==============================] - 59s 4ms/step - loss: 0.3303 - acc: 0.9206 - val_loss: 0.3770 - val_acc: 0.9111\n",
      "Epoch 00007: early stopping\n",
      "4832/4832 [==============================] - 74s 15ms/step\n",
      "[0.3501247686660842, 0.9312913907284768]\n"
     ]
    }
   ],
   "source": [
    "model.compile('adam','binary_crossentropy',metrics=['accuracy'],)\n",
    "es = EarlyStopping(monitor='val_acc',mode='max' ,patience=5, min_delta=0.0001,verbose=1)\n",
    "reduce_lr = ReduceLROnPlateau(monitor='val_acc', factor=0.2,patience=2,min_lr=0.00001)\n",
    "model.fit([audio_train,text_train_emb,video_train,concat_train],Train_labels_fear,128,epochs=20,validation_split=0.1,callbacks=[es,reduce_lr])\n",
    "print(model.evaluate([audio_test,text_test_emb,video_test,concat_test],Test_labels_fear))\n"
   ]
  },
  {
   "cell_type": "code",
   "execution_count": 0,
   "metadata": {
    "colab": {},
    "colab_type": "code",
    "id": "Qofk5mt6hx9M"
   },
   "outputs": [],
   "source": [
    "\n",
    "model.save(\"ensamble_fear.h5\")\n",
    "files.download(\"ensamble_fear.h5\")"
   ]
  },
  {
   "cell_type": "code",
   "execution_count": 0,
   "metadata": {
    "colab": {},
    "colab_type": "code",
    "id": "8q1q4bwwi0q6"
   },
   "outputs": [],
   "source": [
    "Test_labels_angry = pd.read_csv(\"mosi2uni_Test_labels_angry.csv\",header=None)\n",
    "Train_labels_angry = pd.read_csv(\"mosi2uni_Train_labels_angry.csv\",header=None)"
   ]
  },
  {
   "cell_type": "code",
   "execution_count": 0,
   "metadata": {
    "colab": {},
    "colab_type": "code",
    "id": "pULAfg_ZmU4u"
   },
   "outputs": [],
   "source": [
    "model_audio_angry = load_model(\"unimodal baselines/weights/audio/weights_rnn_angry.h5\")\n",
    "model_video_angry = load_model(\"unimodal baselines/weights/video/weights_rnn_angry.h5\")\n",
    "model_text_angry = load_model(\"unimodal baselines/weights/text/weights_rnn_angry.h5\")\n",
    "early_fusion_angry = load_model(\"multimodal baselines/v2 - early fusion/weights/early_fusion_angry.h5\")\n"
   ]
  },
  {
   "cell_type": "code",
   "execution_count": 0,
   "metadata": {
    "colab": {},
    "colab_type": "code",
    "id": "gQJd5c4rmXUk"
   },
   "outputs": [],
   "source": [
    "concat_test = np.concatenate((video_test,audio_test),axis=-1)\n",
    "concat_test = np.concatenate((concat_test, text_test_emb),axis=-1)\n",
    "concat_train = np.concatenate((video_train,audio_train),axis=-1)\n",
    "concat_train = np.concatenate((concat_train, text_train_emb),axis=-1)"
   ]
  },
  {
   "cell_type": "code",
   "execution_count": 0,
   "metadata": {
    "colab": {},
    "colab_type": "code",
    "id": "V6hs2O0KmZl5"
   },
   "outputs": [],
   "source": [
    "\n",
    "for layer in model_audio_angry.layers[:-1]:   \n",
    "    layer.trainable = False\n",
    "for layer in model_text_angry.layers[:-1]:   \n",
    "    layer.trainable = False\n",
    "for layer in model_video_angry.layers[:-1]:   \n",
    "    layer.trainable = False\n",
    "for layer in early_fusion_angry.layers[:-1]:   \n",
    "    layer.trainable = False"
   ]
  },
  {
   "cell_type": "code",
   "execution_count": 0,
   "metadata": {
    "colab": {},
    "colab_type": "code",
    "id": "dswzxDsama7P"
   },
   "outputs": [],
   "source": [
    "\n",
    "m_ef = Sequential()\n",
    "i=0\n",
    "for layer in early_fusion_angry.layers[:]:\n",
    "    layer.name = str(i)\n",
    "    i=i+1\n",
    "    m_ef.add(layer)"
   ]
  },
  {
   "cell_type": "code",
   "execution_count": 22,
   "metadata": {
    "colab": {
     "base_uri": "https://localhost:8080/",
     "height": 537
    },
    "colab_type": "code",
    "id": "Uq1YB7Tvmccz",
    "outputId": "4d09169e-637d-4c3a-c270-8741e0d89e33"
   },
   "outputs": [
    {
     "name": "stdout",
     "output_type": "stream",
     "text": [
      "__________________________________________________________________________________________________\n",
      "Layer (type)                    Output Shape         Param #     Connected to                     \n",
      "==================================================================================================\n",
      "input_17 (InputLayer)           (None, 20, 74)       0                                            \n",
      "__________________________________________________________________________________________________\n",
      "input_18 (InputLayer)           (None, 20, 300)      0                                            \n",
      "__________________________________________________________________________________________________\n",
      "input_19 (InputLayer)           (None, 20, 35)       0                                            \n",
      "__________________________________________________________________________________________________\n",
      "input_20 (InputLayer)           (None, 20, 409)      0                                            \n",
      "__________________________________________________________________________________________________\n",
      "model_2 (Model)                 (None, 1)            1298273     input_17[0][0]                   \n",
      "__________________________________________________________________________________________________\n",
      "model_12 (Model)                (None, 1)            1529697     input_18[0][0]                   \n",
      "__________________________________________________________________________________________________\n",
      "model_8 (Model)                 (None, 1)            1258337     input_19[0][0]                   \n",
      "__________________________________________________________________________________________________\n",
      "sequential_2 (Sequential)       (None, 1)            1684417     input_20[0][0]                   \n",
      "__________________________________________________________________________________________________\n",
      "concatenate_5 (Concatenate)     (None, 4)            0           model_2[1][0]                    \n",
      "                                                                 model_12[1][0]                   \n",
      "                                                                 model_8[1][0]                    \n",
      "                                                                 sequential_2[1][0]               \n",
      "__________________________________________________________________________________________________\n",
      "dense_5 (Dense)                 (None, 1)            5           concatenate_5[0][0]              \n",
      "==================================================================================================\n",
      "Total params: 5,770,729\n",
      "Trainable params: 169\n",
      "Non-trainable params: 5,770,560\n",
      "__________________________________________________________________________________________________\n"
     ]
    }
   ],
   "source": [
    "\n",
    "i_a = Input(shape=(20,74))\n",
    "i_t = Input(shape=(20,300))\n",
    "i_v = Input(shape=(20,35))\n",
    "i_ef = Input(shape=(20,409))\n",
    "y = concatenate([model_audio_angry(i_a),model_text_angry(i_t),model_video_angry(i_v),m_ef(i_ef)])\n",
    "y = Dense(1,activation='sigmoid')(y)\n",
    "model = Model([i_a,i_t,i_v,i_ef],y)\n",
    "model.summary()"
   ]
  },
  {
   "cell_type": "code",
   "execution_count": 23,
   "metadata": {
    "colab": {
     "base_uri": "https://localhost:8080/",
     "height": 364
    },
    "colab_type": "code",
    "id": "eDfao7nQmdrL",
    "outputId": "d783fb4e-89ef-4db8-f10c-bb8b0a5eecd1"
   },
   "outputs": [
    {
     "name": "stdout",
     "output_type": "stream",
     "text": [
      "Train on 13761 samples, validate on 1529 samples\n",
      "Epoch 1/20\n",
      "13761/13761 [==============================] - 77s 6ms/step - loss: 0.6269 - acc: 0.7551 - val_loss: 0.6127 - val_acc: 0.7646\n",
      "Epoch 2/20\n",
      "13761/13761 [==============================] - 59s 4ms/step - loss: 0.5313 - acc: 0.8701 - val_loss: 0.5386 - val_acc: 0.7999\n",
      "Epoch 3/20\n",
      "13761/13761 [==============================] - 59s 4ms/step - loss: 0.4785 - acc: 0.8479 - val_loss: 0.5033 - val_acc: 0.8110\n",
      "Epoch 4/20\n",
      "13761/13761 [==============================] - 59s 4ms/step - loss: 0.4492 - acc: 0.8373 - val_loss: 0.4873 - val_acc: 0.8090\n",
      "Epoch 5/20\n",
      "13761/13761 [==============================] - 59s 4ms/step - loss: 0.4302 - acc: 0.8365 - val_loss: 0.4798 - val_acc: 0.8090\n",
      "Epoch 6/20\n",
      "13761/13761 [==============================] - 60s 4ms/step - loss: 0.4209 - acc: 0.8443 - val_loss: 0.4789 - val_acc: 0.8071\n",
      "Epoch 7/20\n",
      "13761/13761 [==============================] - 60s 4ms/step - loss: 0.4180 - acc: 0.8459 - val_loss: 0.4779 - val_acc: 0.8064\n",
      "Epoch 8/20\n",
      "13761/13761 [==============================] - 60s 4ms/step - loss: 0.4163 - acc: 0.8465 - val_loss: 0.4777 - val_acc: 0.8064\n",
      "Epoch 00008: early stopping\n",
      "4832/4832 [==============================] - 74s 15ms/step\n",
      "[0.4959938512337918, 0.7918046357615894]\n"
     ]
    }
   ],
   "source": [
    "model.compile('adam','binary_crossentropy',metrics=['accuracy'],)\n",
    "es = EarlyStopping(monitor='val_acc',mode='max' ,patience=5, min_delta=0.0001,verbose=1)\n",
    "reduce_lr = ReduceLROnPlateau(monitor='val_acc', factor=0.2,patience=2,min_lr=0.00001)\n",
    "model.fit([audio_train,text_train_emb,video_train,concat_train],Train_labels_angry,128,epochs=20,validation_split=0.1,callbacks=[es,reduce_lr])\n",
    "print(model.evaluate([audio_test,text_test_emb,video_test,concat_test],Test_labels_angry))\n"
   ]
  },
  {
   "cell_type": "code",
   "execution_count": 0,
   "metadata": {
    "colab": {},
    "colab_type": "code",
    "id": "MtljTZq_mfgq"
   },
   "outputs": [],
   "source": [
    "model.save(\"ensamble_angry.h5\")\n",
    "files.download(\"ensamble_angry.h5\")"
   ]
  },
  {
   "cell_type": "code",
   "execution_count": 0,
   "metadata": {
    "colab": {},
    "colab_type": "code",
    "id": "5UC-jwRPmg4t"
   },
   "outputs": [],
   "source": [
    "\n",
    "Test_labels_disgust = pd.read_csv(\"mosi2uni_Test_labels_disgust.csv\",header=None)\n",
    "Train_labels_disgust = pd.read_csv(\"mosi2uni_Train_labels_disgust.csv\",header=None)\n"
   ]
  },
  {
   "cell_type": "code",
   "execution_count": 0,
   "metadata": {
    "colab": {},
    "colab_type": "code",
    "id": "uEUznSdIprIf"
   },
   "outputs": [],
   "source": [
    "model_audio_disgust = load_model(\"unimodal baselines/weights/audio/weights_rnn_disgust.h5\")\n",
    "model_video_disgust = load_model(\"unimodal baselines/weights/video/weights_rnn_disgust.h5\")\n",
    "model_text_disgust = load_model(\"unimodal baselines/weights/text/weights_rnn_disgust.h5\")\n",
    "early_fusion_disgust = load_model(\"multimodal baselines/v2 - early fusion/weights/early_fusion_disgust.h5\")\n"
   ]
  },
  {
   "cell_type": "code",
   "execution_count": 0,
   "metadata": {
    "colab": {},
    "colab_type": "code",
    "id": "_4iBme8pptEl"
   },
   "outputs": [],
   "source": [
    "concat_test = np.concatenate((video_test,audio_test),axis=-1)\n",
    "concat_test = np.concatenate((concat_test, text_test_emb),axis=-1)\n",
    "concat_train = np.concatenate((video_train,audio_train),axis=-1)\n",
    "concat_train = np.concatenate((concat_train, text_train_emb),axis=-1)\n"
   ]
  },
  {
   "cell_type": "code",
   "execution_count": 0,
   "metadata": {
    "colab": {},
    "colab_type": "code",
    "id": "VsWrQx1rputl"
   },
   "outputs": [],
   "source": [
    "for layer in model_audio_disgust.layers[:-1]:   \n",
    "    layer.trainable = False\n",
    "for layer in model_text_disgust.layers[:-1]:   \n",
    "    layer.trainable = False\n",
    "for layer in model_video_disgust.layers[:-1]:   \n",
    "    layer.trainable = False\n",
    "for layer in early_fusion_disgust.layers[:-1]:   \n",
    "    layer.trainable = False\n"
   ]
  },
  {
   "cell_type": "code",
   "execution_count": 0,
   "metadata": {
    "colab": {},
    "colab_type": "code",
    "id": "FAF5WIJPpwV_"
   },
   "outputs": [],
   "source": [
    "m_ef = Sequential()\n",
    "i=0\n",
    "for layer in early_fusion_disgust.layers[:]:\n",
    "    layer.name = str(i)\n",
    "    i=i+1\n",
    "    m_ef.add(layer)"
   ]
  },
  {
   "cell_type": "code",
   "execution_count": 30,
   "metadata": {
    "colab": {
     "base_uri": "https://localhost:8080/",
     "height": 537
    },
    "colab_type": "code",
    "id": "Ojaf86KIpyFm",
    "outputId": "05c56674-dcd7-4721-97d0-bbb954f68446"
   },
   "outputs": [
    {
     "name": "stdout",
     "output_type": "stream",
     "text": [
      "__________________________________________________________________________________________________\n",
      "Layer (type)                    Output Shape         Param #     Connected to                     \n",
      "==================================================================================================\n",
      "input_21 (InputLayer)           (None, 20, 74)       0                                            \n",
      "__________________________________________________________________________________________________\n",
      "input_22 (InputLayer)           (None, 20, 300)      0                                            \n",
      "__________________________________________________________________________________________________\n",
      "input_23 (InputLayer)           (None, 20, 35)       0                                            \n",
      "__________________________________________________________________________________________________\n",
      "input_24 (InputLayer)           (None, 20, 409)      0                                            \n",
      "__________________________________________________________________________________________________\n",
      "model_5 (Model)                 (None, 1)            1298273     input_21[0][0]                   \n",
      "__________________________________________________________________________________________________\n",
      "model_15 (Model)                (None, 1)            1529697     input_22[0][0]                   \n",
      "__________________________________________________________________________________________________\n",
      "model_11 (Model)                (None, 1)            1258337     input_23[0][0]                   \n",
      "__________________________________________________________________________________________________\n",
      "sequential_3 (Sequential)       (None, 1)            1684417     input_24[0][0]                   \n",
      "__________________________________________________________________________________________________\n",
      "concatenate_6 (Concatenate)     (None, 4)            0           model_5[1][0]                    \n",
      "                                                                 model_15[1][0]                   \n",
      "                                                                 model_11[1][0]                   \n",
      "                                                                 sequential_3[1][0]               \n",
      "__________________________________________________________________________________________________\n",
      "dense_6 (Dense)                 (None, 1)            5           concatenate_6[0][0]              \n",
      "==================================================================================================\n",
      "Total params: 5,770,729\n",
      "Trainable params: 169\n",
      "Non-trainable params: 5,770,560\n",
      "__________________________________________________________________________________________________\n"
     ]
    }
   ],
   "source": [
    "i_a = Input(shape=(20,74))\n",
    "i_t = Input(shape=(20,300))\n",
    "i_v = Input(shape=(20,35))\n",
    "i_ef = Input(shape=(20,409))\n",
    "y = concatenate([model_audio_disgust(i_a),model_text_disgust(i_t),model_video_disgust(i_v),m_ef(i_ef)])\n",
    "y = Dense(1,activation='sigmoid')(y)\n",
    "model = Model([i_a,i_t,i_v,i_ef],y)\n",
    "model.summary()"
   ]
  },
  {
   "cell_type": "code",
   "execution_count": 31,
   "metadata": {
    "colab": {
     "base_uri": "https://localhost:8080/",
     "height": 295
    },
    "colab_type": "code",
    "id": "8p2oj-53p0SF",
    "outputId": "2f5a79b5-f5f8-4316-d4e1-3bf2cc3bada7"
   },
   "outputs": [
    {
     "name": "stdout",
     "output_type": "stream",
     "text": [
      "Train on 13761 samples, validate on 1529 samples\n",
      "Epoch 1/20\n",
      "13761/13761 [==============================] - 84s 6ms/step - loss: 0.6952 - acc: 0.7849 - val_loss: 0.5684 - val_acc: 0.8489\n",
      "Epoch 2/20\n",
      "13761/13761 [==============================] - 60s 4ms/step - loss: 0.5487 - acc: 0.8191 - val_loss: 0.4340 - val_acc: 0.8489\n",
      "Epoch 3/20\n",
      "13761/13761 [==============================] - 59s 4ms/step - loss: 0.4215 - acc: 0.8191 - val_loss: 0.3989 - val_acc: 0.8489\n",
      "Epoch 4/20\n",
      "13761/13761 [==============================] - 60s 4ms/step - loss: 0.3888 - acc: 0.8191 - val_loss: 0.3965 - val_acc: 0.8489\n",
      "Epoch 5/20\n",
      "13761/13761 [==============================] - 59s 4ms/step - loss: 0.3815 - acc: 0.8191 - val_loss: 0.3946 - val_acc: 0.8489\n",
      "Epoch 6/20\n",
      "13761/13761 [==============================] - 59s 4ms/step - loss: 0.3773 - acc: 0.8191 - val_loss: 0.3942 - val_acc: 0.8489\n",
      "Epoch 00006: early stopping\n",
      "4832/4832 [==============================] - 73s 15ms/step\n",
      "[0.45059645363431894, 0.8091887417218543]\n"
     ]
    }
   ],
   "source": [
    "model.compile('adam','binary_crossentropy',metrics=['accuracy'],)\n",
    "es = EarlyStopping(monitor='val_acc',mode='max' ,patience=5, min_delta=0.0001,verbose=1)\n",
    "reduce_lr = ReduceLROnPlateau(monitor='val_acc', factor=0.2,patience=2,min_lr=0.00001)\n",
    "model.fit([audio_train,text_train_emb,video_train,concat_train],Train_labels_disgust,128,epochs=20,validation_split=0.1,callbacks=[es,reduce_lr])\n",
    "print(model.evaluate([audio_test,text_test_emb,video_test,concat_test],Test_labels_disgust))"
   ]
  },
  {
   "cell_type": "code",
   "execution_count": 0,
   "metadata": {
    "colab": {},
    "colab_type": "code",
    "id": "8WyDGhFxp2bM"
   },
   "outputs": [],
   "source": [
    "model.save(\"ensamble_disgust.h5\")\n",
    "files.download(\"ensamble_disgust.h5\")"
   ]
  },
  {
   "cell_type": "code",
   "execution_count": 0,
   "metadata": {
    "colab": {},
    "colab_type": "code",
    "id": "Wu1FmaxOp38-"
   },
   "outputs": [],
   "source": [
    "Test_labels_surprise = pd.read_csv(\"mosi2uni_Test_labels_surprise.csv\",header=None)\n",
    "Train_labels_surprise = pd.read_csv(\"mosi2uni_Train_labels_surprise.csv\",header=None)"
   ]
  },
  {
   "cell_type": "code",
   "execution_count": 0,
   "metadata": {
    "colab": {},
    "colab_type": "code",
    "id": "q6G2c_Xrs4Hs"
   },
   "outputs": [],
   "source": [
    "model_audio_surprise = load_model(\"unimodal baselines/weights/audio/weights_rnn_surprise.h5\")\n",
    "model_video_surprise = load_model(\"unimodal baselines/weights/video/weights_rnn_surprise.h5\")\n",
    "model_text_surprise = load_model(\"unimodal baselines/weights/text/weights_rnn_surprise.h5\")\n",
    "early_fusion_surprise = load_model(\"multimodal baselines/v2 - early fusion/weights/early_fusion_surprise.h5\")\n"
   ]
  },
  {
   "cell_type": "code",
   "execution_count": 0,
   "metadata": {
    "colab": {},
    "colab_type": "code",
    "id": "5Z4ndOcas6Uw"
   },
   "outputs": [],
   "source": [
    "\n",
    "concat_test = np.concatenate((video_test,audio_test),axis=-1)\n",
    "concat_test = np.concatenate((concat_test, text_test_emb),axis=-1)\n",
    "concat_train = np.concatenate((video_train,audio_train),axis=-1)\n",
    "concat_train = np.concatenate((concat_train, text_train_emb),axis=-1)\n"
   ]
  },
  {
   "cell_type": "code",
   "execution_count": 0,
   "metadata": {
    "colab": {},
    "colab_type": "code",
    "id": "2hIC1_ess7lz"
   },
   "outputs": [],
   "source": [
    "\n",
    "\n",
    "for layer in model_audio_surprise.layers[:-1]:   \n",
    "    layer.trainable = False\n",
    "for layer in model_text_surprise.layers[:-1]:   \n",
    "    layer.trainable = False\n",
    "for layer in model_video_surprise.layers[:-1]:   \n",
    "    layer.trainable = False\n",
    "for layer in early_fusion_surprise.layers[:-1]:   \n",
    "    layer.trainable = False\n",
    "\n",
    "\n",
    "m_ef = Sequential()\n",
    "i=0\n",
    "for layer in early_fusion_surprise.layers[:]:\n",
    "    layer.name = str(i)\n",
    "    i=i+1\n",
    "    m_ef.add(layer)\n"
   ]
  },
  {
   "cell_type": "code",
   "execution_count": 37,
   "metadata": {
    "colab": {
     "base_uri": "https://localhost:8080/",
     "height": 537
    },
    "colab_type": "code",
    "id": "cHWPnNKjs9ON",
    "outputId": "b978053a-9329-49fb-fd13-c93cd5ea0698"
   },
   "outputs": [
    {
     "name": "stdout",
     "output_type": "stream",
     "text": [
      "__________________________________________________________________________________________________\n",
      "Layer (type)                    Output Shape         Param #     Connected to                     \n",
      "==================================================================================================\n",
      "input_25 (InputLayer)           (None, 20, 74)       0                                            \n",
      "__________________________________________________________________________________________________\n",
      "input_26 (InputLayer)           (None, 20, 300)      0                                            \n",
      "__________________________________________________________________________________________________\n",
      "input_27 (InputLayer)           (None, 20, 35)       0                                            \n",
      "__________________________________________________________________________________________________\n",
      "input_28 (InputLayer)           (None, 20, 409)      0                                            \n",
      "__________________________________________________________________________________________________\n",
      "model_4 (Model)                 (None, 1)            1298273     input_25[0][0]                   \n",
      "__________________________________________________________________________________________________\n",
      "model_14 (Model)                (None, 1)            1529697     input_26[0][0]                   \n",
      "__________________________________________________________________________________________________\n",
      "model_10 (Model)                (None, 1)            1258337     input_27[0][0]                   \n",
      "__________________________________________________________________________________________________\n",
      "sequential_4 (Sequential)       (None, 1)            1684417     input_28[0][0]                   \n",
      "__________________________________________________________________________________________________\n",
      "concatenate_7 (Concatenate)     (None, 4)            0           model_4[1][0]                    \n",
      "                                                                 model_14[1][0]                   \n",
      "                                                                 model_10[1][0]                   \n",
      "                                                                 sequential_4[1][0]               \n",
      "__________________________________________________________________________________________________\n",
      "dense_7 (Dense)                 (None, 1)            5           concatenate_7[0][0]              \n",
      "==================================================================================================\n",
      "Total params: 5,770,729\n",
      "Trainable params: 169\n",
      "Non-trainable params: 5,770,560\n",
      "__________________________________________________________________________________________________\n"
     ]
    }
   ],
   "source": [
    "\n",
    "i_a = Input(shape=(20,74))\n",
    "i_t = Input(shape=(20,300))\n",
    "i_v = Input(shape=(20,35))\n",
    "i_ef = Input(shape=(20,409))\n",
    "y = concatenate([model_audio_surprise(i_a),model_text_surprise(i_t),model_video_surprise(i_v),m_ef(i_ef)])\n",
    "y = Dense(1,activation='sigmoid')(y)\n",
    "model = Model([i_a,i_t,i_v,i_ef],y)\n",
    "model.summary()\n"
   ]
  },
  {
   "cell_type": "code",
   "execution_count": 38,
   "metadata": {
    "colab": {
     "base_uri": "https://localhost:8080/",
     "height": 295
    },
    "colab_type": "code",
    "id": "XAL7c_-Us--1",
    "outputId": "0fd3eaac-26d4-45c1-ac42-da33320441d0"
   },
   "outputs": [
    {
     "name": "stdout",
     "output_type": "stream",
     "text": [
      "Train on 13761 samples, validate on 1529 samples\n",
      "Epoch 1/20\n",
      "13761/13761 [==============================] - 90s 7ms/step - loss: 0.6663 - acc: 0.8929 - val_loss: 0.5900 - val_acc: 0.9091\n",
      "Epoch 2/20\n",
      "13761/13761 [==============================] - 61s 4ms/step - loss: 0.5224 - acc: 0.8966 - val_loss: 0.4207 - val_acc: 0.9091\n",
      "Epoch 3/20\n",
      "13761/13761 [==============================] - 62s 4ms/step - loss: 0.3638 - acc: 0.8966 - val_loss: 0.3355 - val_acc: 0.9091\n",
      "Epoch 4/20\n",
      "13761/13761 [==============================] - 62s 4ms/step - loss: 0.3134 - acc: 0.8966 - val_loss: 0.3284 - val_acc: 0.9091\n",
      "Epoch 5/20\n",
      "13761/13761 [==============================] - 62s 4ms/step - loss: 0.3035 - acc: 0.8966 - val_loss: 0.3228 - val_acc: 0.9091\n",
      "Epoch 6/20\n",
      "13761/13761 [==============================] - 62s 4ms/step - loss: 0.2984 - acc: 0.8966 - val_loss: 0.3218 - val_acc: 0.9091\n",
      "Epoch 00006: early stopping\n",
      "4832/4832 [==============================] - 76s 16ms/step\n",
      "[0.33622099814430767, 0.9008692052980133]\n"
     ]
    }
   ],
   "source": [
    "model.compile('adam','binary_crossentropy',metrics=['accuracy'],)\n",
    "es = EarlyStopping(monitor='val_acc',mode='max' ,patience=5, min_delta=0.0001,verbose=1)\n",
    "reduce_lr = ReduceLROnPlateau(monitor='val_acc', factor=0.2,patience=2,min_lr=0.00001)\n",
    "model.fit([audio_train,text_train_emb,video_train,concat_train],Train_labels_surprise,128,epochs=20,validation_split=0.1,callbacks=[es,reduce_lr])\n",
    "print(model.evaluate([audio_test,text_test_emb,video_test,concat_test],Test_labels_surprise))"
   ]
  },
  {
   "cell_type": "code",
   "execution_count": 0,
   "metadata": {
    "colab": {},
    "colab_type": "code",
    "id": "WfFnF_dRtA8B"
   },
   "outputs": [],
   "source": [
    "model.save(\"ensamble_surprise.h5\")\n",
    "files.download(\"ensamble_surprise.h5\")"
   ]
  },
  {
   "cell_type": "code",
   "execution_count": 0,
   "metadata": {
    "colab": {},
    "colab_type": "code",
    "id": "jDMXjoxCtCae"
   },
   "outputs": [],
   "source": []
  }
 ],
 "metadata": {
  "accelerator": "GPU",
  "colab": {
   "name": "Ensemble.ipynb",
   "provenance": [],
   "version": "0.3.2"
  },
  "kernelspec": {
   "display_name": "Python 3",
   "language": "python",
   "name": "python3"
  },
  "language_info": {
   "codemirror_mode": {
    "name": "ipython",
    "version": 3
   },
   "file_extension": ".py",
   "mimetype": "text/x-python",
   "name": "python",
   "nbconvert_exporter": "python",
   "pygments_lexer": "ipython3",
   "version": "3.6.8"
  }
 },
 "nbformat": 4,
 "nbformat_minor": 1
}

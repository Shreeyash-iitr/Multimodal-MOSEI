{
  "nbformat": 4,
  "nbformat_minor": 0,
  "metadata": {
    "colab": {
      "name": "DeepFusion.ipynb",
      "version": "0.3.2",
      "provenance": []
    },
    "kernelspec": {
      "name": "python3",
      "display_name": "Python 3"
    },
    "accelerator": "GPU"
  },
  "cells": [
    {
      "cell_type": "code",
      "metadata": {
        "id": "HFWVkaCIJEo4",
        "colab_type": "code",
        "colab": {}
      },
      "source": [
        "!git clone \"https://github.com/convman/Multimodal-MOSEI.git\""
      ],
      "execution_count": 0,
      "outputs": []
    },
    {
      "cell_type": "code",
      "metadata": {
        "id": "xwQDLdfJJytA",
        "colab_type": "code",
        "colab": {
          "base_uri": "https://localhost:8080/",
          "height": 35
        },
        "outputId": "4a28ded5-f4fe-432f-80ba-4ff3c0d495c4"
      },
      "source": [
        "cd Multimodal-MOSEI/"
      ],
      "execution_count": 2,
      "outputs": [
        {
          "output_type": "stream",
          "text": [
            "/content/Multimodal-MOSEI\n"
          ],
          "name": "stdout"
        }
      ]
    },
    {
      "cell_type": "code",
      "metadata": {
        "id": "sQfisj2PJ49C",
        "colab_type": "code",
        "colab": {}
      },
      "source": [
        "!wget \"http://immortal.multicomp.cs.cmu.edu/raw_datasets/old_processed_data/cmu-mosei/labels/mosi2uni_Test_labels_surprise.csv\"\n",
        "!wget \"http://immortal.multicomp.cs.cmu.edu/raw_datasets/old_processed_data/cmu-mosei/labels/mosi2uni_Train_labels_surprise.csv\"\n"
      ],
      "execution_count": 0,
      "outputs": []
    },
    {
      "cell_type": "code",
      "metadata": {
        "id": "evAO5UEiJ-dW",
        "colab_type": "code",
        "colab": {}
      },
      "source": [
        "import pandas as pd\n",
        "import numpy as np\n",
        "import h5py\n",
        "Test_labels_surprise = pd.read_csv(\"mosi2uni_Test_labels_surprise.csv\",header=None)\n",
        "Train_labels_surprise = pd.read_csv(\"mosi2uni_Train_labels_surprise.csv\",header=None)"
      ],
      "execution_count": 0,
      "outputs": []
    },
    {
      "cell_type": "code",
      "metadata": {
        "id": "-HnjrzeBKECG",
        "colab_type": "code",
        "colab": {}
      },
      "source": [
        "!wget \"http://immortal.multicomp.cs.cmu.edu/raw_datasets/old_processed_data/cmu-mosei/data/audio_test.h5\"\n",
        "!wget \"http://immortal.multicomp.cs.cmu.edu/raw_datasets/old_processed_data/cmu-mosei/data/audio_train.h5\"\n",
        "!wget \"http://immortal.multicomp.cs.cmu.edu/raw_datasets/old_processed_data/cmu-mosei/data/text_test_emb.h5\"\n",
        "!wget \"http://immortal.multicomp.cs.cmu.edu/raw_datasets/old_processed_data/cmu-mosei/data/text_train_emb.h5\"\n",
        "!wget \"http://immortal.multicomp.cs.cmu.edu/raw_datasets/old_processed_data/cmu-mosei/data/video_test.h5\"\n",
        "!wget \"http://immortal.multicomp.cs.cmu.edu/raw_datasets/old_processed_data/cmu-mosei/data/video_train.h5\""
      ],
      "execution_count": 0,
      "outputs": []
    },
    {
      "cell_type": "code",
      "metadata": {
        "id": "Ahc6J8u1KHI4",
        "colab_type": "code",
        "colab": {
          "base_uri": "https://localhost:8080/",
          "height": 139
        },
        "outputId": "a957955a-3729-419f-c91c-24dfc9dae6cc"
      },
      "source": [
        "video_train = h5py.File(\"video_train.h5\",\"r\")\n",
        "print(list(video_train.keys()))\n",
        "video_train = np.array(video_train.get('d1'))\n",
        "video_train.shape\n",
        "\n",
        "video_test = h5py.File(\"video_test.h5\",\"r\")\n",
        "print(list(video_test.keys()))\n",
        "video_test = np.array(video_test.get('d1'))\n",
        "video_test.shape\n",
        "\n",
        "audio_train = h5py.File(\"audio_train.h5\",\"r\")\n",
        "print(list(audio_train.keys()))\n",
        "audio_train = np.array(audio_train.get('d1'))\n",
        "audio_train.shape\n",
        "\n",
        "audio_test = h5py.File(\"audio_test.h5\",\"r\")\n",
        "print(list(audio_test.keys()))\n",
        "audio_test = np.array(audio_test.get('d1'))\n",
        "audio_test.shape\n",
        "\n",
        "text_train_emb = h5py.File(\"text_train_emb.h5\",\"r\")\n",
        "print(list(text_train_emb.keys()))\n",
        "text_train_emb = np.array(text_train_emb.get('d1'))\n",
        "text_train_emb.shape\n",
        "\n",
        "text_test_emb = h5py.File(\"text_test_emb.h5\",\"r\")\n",
        "print(list(text_test_emb.keys()))\n",
        "text_test_emb = np.array(text_test_emb.get('d1'))\n",
        "text_test_emb.shape\n"
      ],
      "execution_count": 6,
      "outputs": [
        {
          "output_type": "stream",
          "text": [
            "['d1']\n",
            "['d1']\n",
            "['d1']\n",
            "['d1']\n",
            "['d1']\n",
            "['d1']\n"
          ],
          "name": "stdout"
        },
        {
          "output_type": "execute_result",
          "data": {
            "text/plain": [
              "(4832, 20, 300)"
            ]
          },
          "metadata": {
            "tags": []
          },
          "execution_count": 6
        }
      ]
    },
    {
      "cell_type": "code",
      "metadata": {
        "id": "AyQtI4xuKLpM",
        "colab_type": "code",
        "colab": {}
      },
      "source": [
        "from keras.models import load_model\n",
        "import keras\n",
        "from google.colab import files\t\n",
        "from keras.models import load_model\n",
        "from keras.models import Model,Sequential,Model\n",
        "from keras.layers import LSTM,Dense,Input,concatenate\n",
        "from keras import callbacks\n",
        "from keras.layers import *\n",
        "from keras.callbacks import EarlyStopping, ModelCheckpoint\n",
        "\n",
        "model_audio_surprise = load_model(\"unimodal baselines/weights/audio/weights_rnn_surprise.h5\")\n",
        "model_video_surprise = load_model(\"unimodal baselines/weights/video/weights_rnn_surprise.h5\")\n",
        "model_text_surprise = load_model(\"unimodal baselines/weights/text/weights_rnn_surprise.h5\")\n"
      ],
      "execution_count": 0,
      "outputs": []
    },
    {
      "cell_type": "code",
      "metadata": {
        "id": "XYlq6YhQKUxx",
        "colab_type": "code",
        "colab": {}
      },
      "source": [
        "i1 = Input(shape=(20,35),name='i1')\n",
        "i2 = Input(shape=(20,74),name='i2')\n",
        "i3 = Input(shape=(20,300),name='i3')\n",
        "\n",
        "o1 = model_video_surprise(i1)\n",
        "o2 = model_audio_surprise(i2)\n",
        "o3 = model_text_surprise(i3)"
      ],
      "execution_count": 0,
      "outputs": []
    },
    {
      "cell_type": "code",
      "metadata": {
        "id": "I2GaZt4bLZyN",
        "colab_type": "code",
        "colab": {}
      },
      "source": [
        "def deep_fuse(out):\n",
        "  o1 = out[0]     # o1.shape = (None,32)\n",
        "  o2 = out[1]     # o2.shape = (None,32)\n",
        "  o3 = out[2]     # o3.shape = (None,32)\n",
        "\n",
        "  x = 1.-o1\n",
        "  y = 1.-o2\n",
        "  z = 1.-o3\n",
        "\n",
        "  return concatenate([o1,o2,o3,x,y,z])\n"
      ],
      "execution_count": 0,
      "outputs": []
    },
    {
      "cell_type": "code",
      "metadata": {
        "id": "pNBO3s7XLbfO",
        "colab_type": "code",
        "colab": {}
      },
      "source": [
        "merged = Lambda(deep_fuse)([o1,o2,o3])\n",
        "y = Dense(32,activation='relu')(merged)\n",
        "y = Dropout(rate=0.15)(y)\n",
        "y = Dense(32,activation='relu')(y)\n",
        "y = Dense(1,activation='sigmoid')(y)"
      ],
      "execution_count": 0,
      "outputs": []
    },
    {
      "cell_type": "code",
      "metadata": {
        "id": "AgA79kMGMndD",
        "colab_type": "code",
        "colab": {
          "base_uri": "https://localhost:8080/",
          "height": 555
        },
        "outputId": "330a8efb-f90a-4a6b-a4e8-30f49ae1c482"
      },
      "source": [
        "model = Model(inputs=[i1,i2,i3],outputs=y)\n",
        "model.compile('adam','binary_crossentropy',metrics=['accuracy'])\n",
        "model.summary()"
      ],
      "execution_count": 16,
      "outputs": [
        {
          "output_type": "stream",
          "text": [
            "__________________________________________________________________________________________________\n",
            "Layer (type)                    Output Shape         Param #     Connected to                     \n",
            "==================================================================================================\n",
            "i1 (InputLayer)                 (None, 20, 35)       0                                            \n",
            "__________________________________________________________________________________________________\n",
            "i2 (InputLayer)                 (None, 20, 74)       0                                            \n",
            "__________________________________________________________________________________________________\n",
            "i3 (InputLayer)                 (None, 20, 300)      0                                            \n",
            "__________________________________________________________________________________________________\n",
            "model_10 (Model)                (None, 1)            1258337     i1[0][0]                         \n",
            "__________________________________________________________________________________________________\n",
            "model_4 (Model)                 (None, 1)            1298273     i2[0][0]                         \n",
            "__________________________________________________________________________________________________\n",
            "model_14 (Model)                (None, 1)            1529697     i3[0][0]                         \n",
            "__________________________________________________________________________________________________\n",
            "lambda_2 (Lambda)               (None, 6)            0           model_10[1][0]                   \n",
            "                                                                 model_4[1][0]                    \n",
            "                                                                 model_14[1][0]                   \n",
            "__________________________________________________________________________________________________\n",
            "dense_4 (Dense)                 (None, 32)           224         lambda_2[0][0]                   \n",
            "__________________________________________________________________________________________________\n",
            "dropout_2 (Dropout)             (None, 32)           0           dense_4[0][0]                    \n",
            "__________________________________________________________________________________________________\n",
            "dense_5 (Dense)                 (None, 32)           1056        dropout_2[0][0]                  \n",
            "__________________________________________________________________________________________________\n",
            "dense_6 (Dense)                 (None, 1)            33          dense_5[0][0]                    \n",
            "==================================================================================================\n",
            "Total params: 4,087,620\n",
            "Trainable params: 4,087,620\n",
            "Non-trainable params: 0\n",
            "__________________________________________________________________________________________________\n"
          ],
          "name": "stdout"
        }
      ]
    },
    {
      "cell_type": "code",
      "metadata": {
        "id": "M0w47JEMMpeR",
        "colab_type": "code",
        "colab": {
          "base_uri": "https://localhost:8080/",
          "height": 503
        },
        "outputId": "12b0b0ae-f6ae-45ff-b921-c6c87b8d70f8"
      },
      "source": [
        "es = EarlyStopping(monitor='val_loss',mode='min' ,patience=5, min_delta=0.0001,verbose=1)\n",
        "mcp = ModelCheckpoint(\"deepfuison_surprise.h5\",monitor='val_loss',verbose=1)\n",
        "model.fit({'i1':video_train,'i2':audio_train,'i3':text_train_emb},Train_labels_surprise,128,20,validation_split=0.1,callbacks=[es, mcp])\n",
        "model.evaluate({'i1':video_test,'i2':audio_test,'i3':text_test_emb},Test_labels_surprise)"
      ],
      "execution_count": 17,
      "outputs": [
        {
          "output_type": "stream",
          "text": [
            "Train on 13761 samples, validate on 1529 samples\n",
            "Epoch 1/20\n",
            "13761/13761 [==============================] - 116s 8ms/step - loss: 0.3377 - acc: 0.8825 - val_loss: 0.3399 - val_acc: 0.8836\n",
            "\n",
            "Epoch 00001: saving model to deepfuison_surprise.h5\n",
            "Epoch 2/20\n",
            "13761/13761 [==============================] - 87s 6ms/step - loss: 0.1056 - acc: 0.9681 - val_loss: 0.4524 - val_acc: 0.8620\n",
            "\n",
            "Epoch 00002: saving model to deepfuison_surprise.h5\n",
            "Epoch 3/20\n",
            "13761/13761 [==============================] - 118s 9ms/step - loss: 0.0607 - acc: 0.9829 - val_loss: 0.4889 - val_acc: 0.8869\n",
            "\n",
            "Epoch 00003: saving model to deepfuison_surprise.h5\n",
            "Epoch 4/20\n",
            "13761/13761 [==============================] - 126s 9ms/step - loss: 0.0414 - acc: 0.9882 - val_loss: 0.5716 - val_acc: 0.8770\n",
            "\n",
            "Epoch 00004: saving model to deepfuison_surprise.h5\n",
            "Epoch 5/20\n",
            "13761/13761 [==============================] - 121s 9ms/step - loss: 0.0380 - acc: 0.9885 - val_loss: 0.5618 - val_acc: 0.8679\n",
            "\n",
            "Epoch 00005: saving model to deepfuison_surprise.h5\n",
            "Epoch 6/20\n",
            "13761/13761 [==============================] - 145s 11ms/step - loss: 0.0306 - acc: 0.9911 - val_loss: 0.6151 - val_acc: 0.8908\n",
            "\n",
            "Epoch 00006: saving model to deepfuison_surprise.h5\n",
            "Epoch 00006: early stopping\n",
            "4832/4832 [==============================] - 66s 14ms/step\n"
          ],
          "name": "stdout"
        },
        {
          "output_type": "execute_result",
          "data": {
            "text/plain": [
              "[0.7027797106574813, 0.8797599337748344]"
            ]
          },
          "metadata": {
            "tags": []
          },
          "execution_count": 17
        }
      ]
    },
    {
      "cell_type": "code",
      "metadata": {
        "id": "TUR12o7cNtEp",
        "colab_type": "code",
        "colab": {}
      },
      "source": [
        "files.download(\"deepfuison_surprise.h5\")"
      ],
      "execution_count": 0,
      "outputs": []
    },
    {
      "cell_type": "code",
      "metadata": {
        "id": "NCqtGYGXVKkJ",
        "colab_type": "code",
        "colab": {}
      },
      "source": [
        ""
      ],
      "execution_count": 0,
      "outputs": []
    }
  ]
}